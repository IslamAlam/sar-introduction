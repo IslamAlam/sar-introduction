{
 "cells": [
  {
   "cell_type": "markdown",
   "id": "a1472270",
   "metadata": {},
   "source": [
    "# The PolInSAR Course - February, 2023\n",
    "# SAR Tomography (TomoSAR)\n",
    "# Part 2 : TomoSAR reflectivity reconstruction\n",
    "\n",
    "* P-band real TomoSAR data set: Mondah site, AfriSAR campaign\n",
    "    * 11 images, flown vertical non-uniform displacements: (0, 80, 60, 40, 20, 10, -20, -40, -60, -80, -30)\n",
    "    * corresponding LVIS ground topography and top canopy height provided\n",
    "    * slc (hh, hv, vv), kz, flat-earth, and X-band dem are provided\n",
    "* Path: '/projects/data/05-tomosar/'\n",
    "\n",
    "Objective:\n",
    "- Reconstruct (and compare) the 3D reflectivity distribution by using the Fourier and Capon algorithms.\n",
    "- Display profiles in the azimuth-height plane, and for multiple range-azimuth planes at different heights.\n",
    "- Replicate the results for different displacement configurations.\n"
   ]
  },
  {
   "cell_type": "code",
   "execution_count": null,
   "id": "ed337fe7",
   "metadata": {},
   "outputs": [],
   "source": [
    "import sys\n",
    "sys.path.append('/projects/src/')\n",
    "\n",
    "import warnings\n",
    "warnings.filterwarnings(\"ignore\")\n",
    "\n",
    "import numpy as np\n",
    "import matplotlib.pyplot as plt\n",
    "from scipy.ndimage import filters\n",
    "from ste_io import *\n",
    "from tqdm import tqdm\n",
    "\n",
    "%matplotlib widget"
   ]
  },
  {
   "cell_type": "code",
   "execution_count": null,
   "id": "ceae7073",
   "metadata": {},
   "outputs": [],
   "source": [
    "# --- inputs \n",
    "\n",
    "# path to data\n",
    "path2data = '/projects/data/05-tomosar/'\n",
    "\n",
    "# number of tracks\n",
    "tracks = 11\n",
    "\n",
    "# Output range resolution, in meters\n",
    "resrg = 20.\n",
    "resaz = 20.\n",
    "\n",
    "# pixel spacing, m\n",
    "spacrg = 0.81009310\n",
    "spacaz = 1.1988876\n"
   ]
  },
  {
   "cell_type": "code",
   "execution_count": null,
   "id": "abd904b6",
   "metadata": {},
   "outputs": [],
   "source": [
    "# --- Calculate number of looks\n",
    "\n",
    "looksr = int( resrg / spacrg )\n",
    "if looksr % 2 == 0 : looksr = looksr +1\n",
    "looksa = int( resaz / spacaz )\n",
    "if looksa % 2 == 0 : looksa = looksa +1"
   ]
  },
  {
   "cell_type": "markdown",
   "id": "d7c6f633",
   "metadata": {},
   "source": [
    "**Step 1: load data and kz, and compensate flat-earth phase**"
   ]
  },
  {
   "cell_type": "code",
   "execution_count": null,
   "id": "ceb39aaf",
   "metadata": {},
   "outputs": [],
   "source": [
    "# --- load images, compensate flat-earth, and load kz\n",
    "\n",
    "# --- load dtm \n",
    "dtm = rrat(path2data + 'lidar_dtm.rat')\n",
    "\n",
    "# --- load chm\n",
    "chm = rrat(path2data + 'lidar_chm.rat')\n",
    "\n",
    "# get dimensions\n",
    "dim = dtm.shape\n",
    "\n",
    "# initialize slc and kz cube\n",
    "slc = np.zeros((dim[0], dim[1], tracks), 'complex64')\n",
    "kz  = np.zeros((dim[0], dim[1], tracks), 'float32')\n",
    "\n",
    "# read and prepare data\n",
    "# ...\n"
   ]
  },
  {
   "cell_type": "markdown",
   "id": "fecb5738",
   "metadata": {},
   "source": [
    "**Step 2: display lidar ground topography and top canopy height, and slc**"
   ]
  },
  {
   "cell_type": "code",
   "execution_count": null,
   "id": "ed371e2e",
   "metadata": {},
   "outputs": [],
   "source": [
    "# --- display\n",
    "\n",
    "plt.figure( figsize = (9, 10))\n",
    "\n",
    "plt.subplot(1, 3, 1)\n",
    "plt.imshow(dtm, vmin = 0, vmax = 30, cmap = 'jet', aspect = 'auto')\n",
    "plt.title('Lidar DTM')\n",
    "plt.colorbar(orientation = 'horizontal', pad = 0.05)\n",
    "\n",
    "plt.subplot(1, 3, 2)\n",
    "plt.imshow(chm, vmin = 0, vmax = 50, cmap = 'jet', aspect = 'auto')\n",
    "plt.title('Lidar CHM')\n",
    "plt.colorbar(orientation = 'horizontal', pad = 0.05)\n",
    "\n",
    "slcamp = np.sqrt( filters.uniform_filter(np.abs(slc_hh[:, :, 0])**2, [looksa, looksr]) )\n",
    "\n",
    "plt.subplot(1, 3, 3)\n",
    "plt.imshow(slcamp, vmin = 0, vmax = 2.5*np.mean(slcamp), cmap = 'gray', aspect = 'auto')\n",
    "plt.title('SLC amplitude')\n",
    "plt.colorbar(orientation = 'horizontal', pad = 0.05)\n"
   ]
  },
  {
   "cell_type": "code",
   "execution_count": null,
   "id": "349d36e5",
   "metadata": {},
   "outputs": [],
   "source": [
    "# --- analyse distribution of kz - just average along azimuth\n"
   ]
  },
  {
   "cell_type": "markdown",
   "id": "f409480d",
   "metadata": {},
   "source": [
    "**Step 3: calculate Fourier and Capon TomoSAR profiles for every rg-az coordinate (after down-sampling) in HH**"
   ]
  },
  {
   "cell_type": "code",
   "execution_count": null,
   "id": "97f8cbd3",
   "metadata": {},
   "outputs": [],
   "source": [
    "# --- downsample range and azimuth \n",
    "\n",
    "rgax = np.linspace(0, dim[1]-1, int(dim[1]/looksr) )\n",
    "azax = np.linspace(0, dim[0]-1, int(dim[0]/looksa) )\n",
    "rgax = rgax.astype(int)\n",
    "azax = azax.astype(int)\n",
    "\n",
    "# --- make meshgrids\n",
    "\n",
    "rgm = np.outer(np.ones(azax.size, 'float32'), rgax)\n",
    "azm = np.outer(azax, np.ones(rgax.size, 'float32'))\n",
    "rgm = np.reshape(rgm.astype(int), rgm.size)\n",
    "azm = np.reshape(azm.astype(int), azm.size)\n",
    "\n",
    "# --- make zaxis \n",
    "\n",
    "zaxis = np.linspace(-20, 100, 101)\n",
    "\n",
    "# --- initialize cubes\n",
    "\n",
    "cubeB = np.zeros((azax.size, rgax.size, zaxis.size), 'float32')\n",
    "cubeC = np.zeros((azax.size, rgax.size, zaxis.size), 'float32')\n",
    "\n",
    "# --- now start to process ...\n",
    "# for nn in tqdm( range(rgm.size) ) :\n",
    "# ...\n",
    "    "
   ]
  },
  {
   "cell_type": "markdown",
   "id": "adf5e059",
   "metadata": {},
   "source": [
    "**Step 4: compare profiles in representative transects at a fixed range coordinate**"
   ]
  },
  {
   "cell_type": "code",
   "execution_count": null,
   "id": "df8b78ee",
   "metadata": {},
   "outputs": [],
   "source": [
    "# --- downsample dtm and chm\n",
    "dtm1 = dtm[azax, :]-4\n",
    "dtm1 = dtm1[:, rgax]\n",
    "chm1 = chm[azax, :]\n",
    "chm1 = chm1[:, rgax]\n",
    "\n",
    "# --- plot a profile for a fixed range & superimpose dtm and chm\n",
    "\n",
    "fixrg = 500\n",
    "\n",
    "# prepare beamforming profile\n",
    "profF = np.transpose( np.squeeze(cubeF[:, int(fixrg/looksr), :]) )\n",
    "\n",
    "# prepare capon profile\n",
    "profC = np.transpose( np.squeeze(cubeC[:, int(fixrg/looksr), :]) )\n",
    "\n",
    "# display\n",
    "ii = np.where(chm1[:, int(fixrg/looksr)] > -30)\n",
    "ii = ii[0]\n",
    "\n",
    "plt.figure(figsize = (12,6))\n",
    "plt.subplot(2, 1, 1)\n",
    "plt.imshow(np.flipud(profF), vmin = 0, vmax = 5*np.mean(profF), aspect = 'auto', cmap = 'jet', \\\n",
    "           extent = [0, profF.shape[1], np.min(zaxis), np.max(zaxis)])\n",
    "plt.title('Fourier')\n",
    "plt.ylabel('Height (m)')\n",
    "plt.xlabel('Azimuth pixel')\n",
    "plt.plot(ii, dtm1[ii, int(fixrg/looksr)], '.', color = 'w')\n",
    "plt.plot(ii, dtm1[ii, int(fixrg/looksr)] + chm1[ii, int(fixrg/looksr)], '.', color = 'w')\n",
    "plt.axis([0, profF.shape[1], np.min(zaxis), np.max(zaxis)])\n",
    "\n",
    "plt.subplot(2, 1, 2)\n",
    "plt.imshow(np.flipud(profC), vmin = 0, vmax = 5*np.mean(profC), aspect = 'auto', cmap = 'jet', \\\n",
    "           extent = [0, profC.shape[1], np.min(zaxis), np.max(zaxis)]) \n",
    "plt.title('Capon')\n",
    "plt.ylabel('Height (m)')\n",
    "plt.xlabel('Azimuth pixel')\n",
    "plt.plot(ii, dtm1[ii, int(fixrg/looksr)], '.', color = 'w')\n",
    "plt.plot(ii, dtm1[ii, int(fixrg/looksr)] + chm1[ii, int(fixrg/looksr)], '.', color = 'w')\n",
    "plt.axis([0, profC.shape[1], np.min(zaxis), np.max(zaxis)])"
   ]
  },
  {
   "cell_type": "markdown",
   "id": "009ed121",
   "metadata": {},
   "source": [
    "**Step 5: plot reconstructed reflectivities in rg-az at different heights**"
   ]
  },
  {
   "cell_type": "code",
   "execution_count": null,
   "id": "c0f58118",
   "metadata": {},
   "outputs": [],
   "source": [
    "# --- find the heights above the ground\n",
    "\n",
    "zaxis_0 = [0, 10, 20, 30, 80]\n",
    "\n",
    "# initialize down-sampled cubes\n",
    "cubeF_sel = np.zeros((azax.size, rgax.size, len(zaxis_0)), 'float32')\n",
    "cubeC_sel = np.zeros((azax.size, rgax.size, len(zaxis_0)), 'float32')\n",
    "\n",
    "# now pick the right height plane above the ground\n",
    "\n",
    "for mm in tqdm( range(len(zaxis_0)) ) :\n",
    "    \n",
    "    ix = ((dtm1 + zaxis_0[mm] - np.min(zaxis)) / (np.max(zaxis) - np.min(zaxis)) * zaxis.size)\n",
    "    ix = ix.astype(int)\n",
    "    \n",
    "    # now move in rg-az\n",
    "    for aa in range(azax.size) :\n",
    "        for rr in range(rgax.size) :\n",
    "            if ix[aa, rr] >= 0 and ix[aa, rr] < zaxis.size :\n",
    "                cubeF_sel[aa, rr, mm] = cubeF[aa, rr, ix[aa, rr]]\n",
    "                cubeC_sel[aa, rr, mm] = cubeC[aa, rr, ix[aa, rr]]\n",
    "\n",
    "# --- display ...\n",
    "\n",
    "# find max\n",
    "maxmaxF = 0\n",
    "maxmaxC = 0\n",
    "for nn in range(len(zaxis_0)) :\n",
    "    if np.mean(cubeF_sel[:,:,nn]) > maxmaxF : maxmaxF = np.mean(cubeF_sel[:,:,nn])\n",
    "    if np.mean(cubeC_sel[:,:,nn]) > maxmaxC : maxmaxC = np.mean(cubeC_sel[:,:,nn])\n",
    "\n",
    "# now display\n",
    "\n",
    "plt.figure(figsize = (2*(len(zaxis_0) + 1), 10))\n",
    "\n",
    "plt.subplot(2, (len(zaxis_0) + 1), 1)\n",
    "plt.imshow(chm, vmin = 0, vmax = 50, cmap = 'jet', aspect = 'auto')\n",
    "plt.title('Lidar CHM')\n",
    "plt.colorbar(orientation = 'horizontal', pad = 0.05)\n",
    "\n",
    "plt.subplot(2, (len(zaxis_0) + 1), len(zaxis_0) + 1 + 1)\n",
    "plt.imshow(chm, vmin = 0, vmax = 50, cmap = 'jet', aspect = 'auto')\n",
    "plt.title('Lidar CHM')\n",
    "plt.colorbar(orientation = 'horizontal', pad = 0.05)\n",
    "\n",
    "for nn in range(len(zaxis_0)) :\n",
    "    \n",
    "    plt.subplot(2, (len(zaxis_0) + 1), nn+1 + 1)\n",
    "    plt.imshow(cubeF_sel[:,:,nn], vmin = 0, vmax = 1.5*maxmaxF, cmap = 'jet', aspect = 'auto')\n",
    "    plt.title('Fou - ' + str(zaxis_0[nn]) + ' m')\n",
    "    plt.colorbar(orientation = 'horizontal', pad = 0.05)\n",
    "    \n",
    "    plt.subplot(2, (len(zaxis_0) + 1), (len(zaxis_0) + 1) + nn + 1 +1)\n",
    "    plt.imshow(cubeC_sel[:,:,nn], vmin = 0, vmax = 1.7*maxmaxC, cmap = 'jet', aspect = 'auto')\n",
    "    plt.title('Cap - ' + str(zaxis_0[nn]) + ' m')\n",
    "    plt.colorbar(orientation = 'horizontal', pad = 0.05)\n",
    "\n"
   ]
  }
 ],
 "metadata": {
  "kernelspec": {
   "display_name": "Python 3 (ipykernel)",
   "language": "python",
   "name": "python3"
  },
  "language_info": {
   "codemirror_mode": {
    "name": "ipython",
    "version": 3
   },
   "file_extension": ".py",
   "mimetype": "text/x-python",
   "name": "python",
   "nbconvert_exporter": "python",
   "pygments_lexer": "ipython3",
   "version": "3.9.10"
  }
 },
 "nbformat": 4,
 "nbformat_minor": 5
}
