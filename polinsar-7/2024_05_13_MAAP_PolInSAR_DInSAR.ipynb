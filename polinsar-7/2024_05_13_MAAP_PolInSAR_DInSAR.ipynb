{
 "cells": [
  {
   "cell_type": "markdown",
   "metadata": {},
   "source": [
    "# The PolInSAR Course - May 13, 2024\n",
    "# Differential Interferometric SAR (DInSAR) \n",
    "\n",
    "In this section we are working with data acquired by ESA's satellite ENVISAT, which was operative from 2002 until 2012. The data set was acquired before and after the Bam earthquake, which took place in Bam, Iran, on December 26, 2003. The following acquisitions are available:\n",
    "\n",
    "- Primary acquisition acquired on December 3, 2003.\n",
    "- Secondary 1 acquisition acquired on January 7, 2004.\n",
    "- Secondary 2 acquisition acquired on February 11, 2004.\n",
    "\n",
    "Objective: \n",
    "- Calculate DInSAR phase between primary and secondary images to show surface deformation due to the earthquake\n",
    "\n",
    "\n",
    "Data:\n",
    "- Path: 'data/DInSAR/'\n",
    "- SLCs: primary_envisat.npy, secondary1_envisat.npy, secondary2_envisat.npy\n",
    "- Flat-earth Phase: flat_earth1_envisat.npy, flat_earth2_envisat.npy\n",
    "- DEM + flat-earth phase: dem_flat1_envisat.npy, dem_flat2_envisat.npy\n",
    "- DEM: slantdem_envisat.npy\n",
    "- Kz: kz1_envisat.npy, kz2_envisat.npy\n",
    "\n",
    "Notes/Tips: \n",
    "- Each image has been filtered and decimated in both dimensions. After the filtering and decimation, the images have a resolution of 49.0 m and 42 m in ground range and azimuth, respectively.\n",
    "- The secondary images are already coregistered to the primary geometry.\n",
    "- Baseline between primary and secondary 1 acquisition: 520 m\n",
    "- Baseline between primary and secondary 2 acquisition: 0.1 m "
   ]
  },
  {
   "cell_type": "code",
   "execution_count": 1,
   "metadata": {},
   "outputs": [],
   "source": [
    "# --- Download exercise data & import reader function\n",
    "from pysarpro import io, data\n",
    "from pysarpro.io import rrat\n",
    "\n",
    "data_download_subfolder = \"DInSAR\"\n",
    "\n",
    "data.download_all(directory=\"/projects\", pattern=r'^data/DInSAR')\n",
    "\n",
    "\n",
    "# --- Import useful libaries, functions, and modules\n",
    "import sys\n",
    "sys.path.append('/projects/src/')\n",
    "import numpy as np\n",
    "import matplotlib.pyplot as plt\n",
    "from scipy.ndimage import uniform_filter\n",
    "from numpy.fft import fft2, ifft2\n",
    "\n",
    "%matplotlib widget"
   ]
  },
  {
   "cell_type": "code",
   "execution_count": 2,
   "metadata": {},
   "outputs": [],
   "source": [
    "def calculate_covariance(im1, im2, looksr, looksa) : \n",
    "    \n",
    "    corr = uniform_filter(np.real(im1*np.conj(im2)), [looksa,looksr]) + 1j* \\\n",
    "                uniform_filter(np.imag(im1*np.conj(im2)), [looksa,looksr])\n",
    "    \n",
    "    return corr\n",
    "\n",
    "\n",
    "#---Function to smooth phase\n",
    "def smooth(array, box, phase=False):\n",
    "    \"\"\"\n",
    "    Performs a moving average operation with a boxcar window. Can also (correctly) smooth interferometric phases with the phase=True keyword.\n",
    "    \"\"\"\n",
    "    if np.iscomplexobj(array):\n",
    "        return uniform_filter(array.real, box) + 1j * uniform_filter(array.imag, box)\n",
    "    elif phase is True:\n",
    "        return np.angle(smooth(np.exp(1j * array), box))\n",
    "    else:\n",
    "        return uniform_filter(array.real, box) "
   ]
  },
  {
   "cell_type": "markdown",
   "metadata": {},
   "source": [
    "**Load and display data**"
   ]
  },
  {
   "cell_type": "code",
   "execution_count": 1,
   "metadata": {},
   "outputs": [],
   "source": [
    "# Path\n",
    "path = 'data/DInSAR/'\n",
    "\n",
    "# Read primary image\n",
    "\n",
    "# Read secondary images\n",
    "\n",
    "\n",
    "# Multilook window size\n",
    "\n",
    "\n",
    "# Display"
   ]
  },
  {
   "cell_type": "markdown",
   "metadata": {},
   "source": [
    "**Flat Earth Compensation**"
   ]
  },
  {
   "cell_type": "code",
   "execution_count": 2,
   "metadata": {},
   "outputs": [],
   "source": [
    "# Load the flat-earth phase term\n",
    "\n",
    "\n",
    "\n",
    "# Compensate\n"
   ]
  },
  {
   "cell_type": "markdown",
   "metadata": {},
   "source": [
    "**Coherence and Phase Estimation**"
   ]
  },
  {
   "cell_type": "code",
   "execution_count": 3,
   "metadata": {},
   "outputs": [],
   "source": [
    "# Calculate coherence between primary and secondary2 (Baseline 0.1m)\n"
   ]
  },
  {
   "cell_type": "code",
   "execution_count": 4,
   "metadata": {},
   "outputs": [],
   "source": [
    "# Calculate coherence between primary and secondary1 (Baseline 520m)\n"
   ]
  },
  {
   "cell_type": "markdown",
   "metadata": {},
   "source": [
    "**Removal of fringes due to topography**"
   ]
  },
  {
   "cell_type": "code",
   "execution_count": 5,
   "metadata": {},
   "outputs": [],
   "source": [
    "# Load DEM\n"
   ]
  },
  {
   "cell_type": "code",
   "execution_count": null,
   "metadata": {},
   "outputs": [],
   "source": []
  },
  {
   "cell_type": "markdown",
   "metadata": {},
   "source": [
    "**Phase Filtering**"
   ]
  },
  {
   "cell_type": "code",
   "execution_count": null,
   "metadata": {},
   "outputs": [],
   "source": []
  }
 ],
 "metadata": {
  "kernelspec": {
   "display_name": "Python 3 (ipykernel)",
   "language": "python",
   "name": "python3"
  },
  "language_info": {
   "codemirror_mode": {
    "name": "ipython",
    "version": 3
   },
   "file_extension": ".py",
   "mimetype": "text/x-python",
   "name": "python",
   "nbconvert_exporter": "python",
   "pygments_lexer": "ipython3",
   "version": "3.12.1"
  }
 },
 "nbformat": 4,
 "nbformat_minor": 4
}
