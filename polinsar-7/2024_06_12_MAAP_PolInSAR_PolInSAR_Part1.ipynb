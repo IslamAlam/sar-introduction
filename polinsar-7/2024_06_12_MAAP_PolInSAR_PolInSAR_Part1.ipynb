{
 "cells": [
  {
   "cell_type": "markdown",
   "metadata": {},
   "source": [
    "# The PolInSAR Course - June 10, 2024\n",
    "# Polarimetric SAR Interferometry (Pol-InSAR) \n",
    "# Part 1: The Pol-InSAR Coherence Region \n",
    "\n",
    "* DLR's F-SAR acquisition over Traunstein forest (Germany)\n",
    "* Path: '/projects/s3-drive/user-data/polinsar/data/04-polinsar/'\n",
    "* SLCs: \n",
    "    * Acquisition 1 : slc_15tmpsar0302_L { hh, hv, vv, vh } _t01.rat\n",
    "    * Acquisition 2 : slc_coreg_15tmpsar0302_15tmpsar0303_L { hh, hv, vv, vh } _t01.rat\n",
    "* Flat-earth: pha_flat_15tmpsar0302_15tmpsar0303_Lhh_t01.rat\n",
    "* Vertical wavenumber (kz) : kz_2d_demc_15tmpsar0302_15tmpsar0303_t01.rat\n",
    "* Lidar: Lida_r1503.rat\n",
    "\n",
    "Objective:\n",
    "- Calculate the dual-pol Pol-InSAR coherence region parameters, find the 2 extremes, and visualize them together with the phase difference. In addition, visualize the Pol-InSAR coherence region in one or more points.\n",
    "\n",
    "Tips:\n",
    "- work on the azimuth - range block [21500 - 4000, 21500 + 6000] - [2300, 4500] ;\n",
    "- all the needed functions and a few pieces of script have been already implemented."
   ]
  },
  {
   "cell_type": "code",
   "execution_count": null,
   "metadata": {
    "tags": []
   },
   "outputs": [],
   "source": [
    "# --- Download exercise data & import reader function\n",
    "\n",
    "from pysarpro import io, data\n",
    "from pysarpro.io import rrat\n",
    "\n",
    "# data.download_all(directory=\"/projects\", pattern=r'^data/polinsar')\n",
    "\n",
    "# ---"
   ]
  },
  {
   "cell_type": "code",
   "execution_count": null,
   "metadata": {
    "tags": []
   },
   "outputs": [],
   "source": [
    "# import useful libraries, functions, and modules\n",
    "\n",
    "import sys\n",
    "\n",
    "sys.path.append('/projects/src/')\n",
    "\n",
    "import warnings\n",
    "\n",
    "warnings.filterwarnings(\"ignore\")\n",
    "\n",
    "import matplotlib.pyplot as plt\n",
    "import numpy as np\n",
    "from matplotlib.legend import Legend\n",
    "from scipy.ndimage import filters\n",
    "\n",
    "%matplotlib widget"
   ]
  },
  {
   "cell_type": "markdown",
   "metadata": {},
   "source": [
    "**Auxiliary functions**"
   ]
  },
  {
   "cell_type": "markdown",
   "metadata": {},
   "source": [
    "`calculate_covariance`: Calculates the covariance between two images while performing a multi-looking operation."
   ]
  },
  {
   "cell_type": "code",
   "execution_count": null,
   "metadata": {},
   "outputs": [],
   "source": [
    "def calculate_covariance(im1, im2, looksr, looksa) : \n",
    "    \n",
    "    # ... apply definition\n",
    "    corr = filters.uniform_filter(np.real(im1*np.conj(im2)), [looksa,looksr]) + 1j* \\\n",
    "                filters.uniform_filter(np.imag(im1*np.conj(im2)), [looksa,looksr])\n",
    "    \n",
    "    # ... and back to main\n",
    "    return corr"
   ]
  },
  {
   "cell_type": "markdown",
   "metadata": {},
   "source": [
    "`make_pauli`: Generates an RGB Pauli image given the SLCs of the different polarimetric channels."
   ]
  },
  {
   "cell_type": "code",
   "execution_count": null,
   "metadata": {},
   "outputs": [],
   "source": [
    "def make_pauli(slchh, slchv, slcvv, looksr, looksa) :\n",
    "    \n",
    "    # 1. Uses function calculate_covariance\n",
    "    # 2. Convention (rows x columns): inputs are (az x rg), outputs are (rg x az) \n",
    "    #                                 for better plotting as #rg <#az\n",
    "    \n",
    "    # Calculate T11, T22 and T33\n",
    "    T11 = calculate_covariance(slchh + slcvv, slchh + slcvv, looksr, looksa)\n",
    "    T22 = calculate_covariance(slchh - slcvv, slchh - slcvv, looksr, looksa)\n",
    "    T33 = calculate_covariance(2*slchv, 2*slchv, looksr, looksa)\n",
    "    \n",
    "    # make the pauli rgb (+ tranpose, clipping, normalization)\n",
    "    dimaz = T11.shape[0]\n",
    "    dimrg = T11.shape[1]\n",
    "    rgb_pauli = np.zeros((dimrg, dimaz, 3), 'float32')\n",
    "    rgb_pauli[:, :, 0] = np.transpose( np.clip(np.sqrt(np.abs(T22)), 0, 2.5*np.mean(np.sqrt(np.abs(T22)))) )    # red\n",
    "    rgb_pauli[:, :, 1] = np.transpose( np.clip(np.sqrt(np.abs(T33)), 0, 2.5*np.mean(np.sqrt(np.abs(T33)))) )    # green\n",
    "    rgb_pauli[:, :, 2] = np.transpose( np.clip(np.sqrt(np.abs(T11)), 0, 2.5*np.mean(np.sqrt(np.abs(T11)))) )    # blue\n",
    "    rgb_pauli[:, :, 0] = rgb_pauli[:, :, 0] / np.max(rgb_pauli[:, :, 0])     # red\n",
    "    rgb_pauli[:, :, 1] = rgb_pauli[:, :, 1] / np.max(rgb_pauli[:, :, 1])     # green\n",
    "    rgb_pauli[:, :, 2] = rgb_pauli[:, :, 2] / np.max(rgb_pauli[:, :, 2])     # blue\n",
    "    \n",
    "    # ... and back to main\n",
    "    return rgb_pauli"
   ]
  },
  {
   "cell_type": "markdown",
   "metadata": {},
   "source": [
    "`matmul_2`: Mutiplies two matrices given the elements of each matrix separately."
   ]
  },
  {
   "cell_type": "code",
   "execution_count": null,
   "metadata": {},
   "outputs": [],
   "source": [
    "def matmul_2(a11, a12, a21, a22, b11, b12, b21, b22) :\n",
    "    \n",
    "    # Implements the multiplication A.B of two 2 x 2 matrices A and B.\n",
    "    # Inputs are the elements of matrices (row-wise). \n",
    "    # Outputs are the elements of the matrix product (row-wise).\n",
    "    \n",
    "    c11 = a11*b11 + a12*b21\n",
    "    c12 = a11*b12 + a12*b22\n",
    "    c21 = a21*b11 + a22*b21 \n",
    "    c22 = a21*b12 + a22*b22\n",
    "    \n",
    "    # ... and back to main\n",
    "    return c11, c12, c21, c22"
   ]
  },
  {
   "cell_type": "markdown",
   "metadata": {},
   "source": [
    "`sqrt_inverse`: Calculates the square-root inverse of a 2x2 Hermitian matrix. **See Appendix 1.**"
   ]
  },
  {
   "cell_type": "code",
   "execution_count": null,
   "metadata": {},
   "outputs": [],
   "source": [
    "def sqrt_inverse(a11, a12, a22) :\n",
    "\n",
    "    # Given a 2 x 2 Hermitian matrix A, calculates A**(-1/2) using eigendecomposition\n",
    "    # Inputs are the upper-diagonal matrix elements (row-wise) - NumPy arrays.\n",
    "    # Outputs are the elements of the sqrt inverse matrix.\n",
    "    # Uses function matmul_2.\n",
    "    \n",
    "    # Calculate eigenvalues (l1, l2)\n",
    "    sigma = 0.5 * (a11 + a22)\n",
    "    D = a11*a22 - a12*np.conj(a12)\n",
    "    delta = np.sqrt(sigma**2 - D)\n",
    "    l1 = sigma + delta\n",
    "    l2 = sigma - delta\n",
    "    \n",
    "    # Calculate eigenvector matrix elements (eigenvectors are the columns)\n",
    "    norm_ = np.sqrt( a12*np.conj(a12) + ((a11-a22)/2 - delta)**2 )\n",
    "    v11 = -a12 / norm_\n",
    "    v21 = ((a11-a22)/2 - delta) / norm_\n",
    "    v12 = ((a11-a22)/2 - delta) / norm_\n",
    "    v22 = np.conj(a12) / norm_\n",
    "    \n",
    "    del norm_, delta, D, sigma\n",
    "    \n",
    "    # calculate sqrt inverse matrix elements\n",
    "    zz = np.zeros(l1.shape, 'float32')\n",
    "    aux11, aux12, aux21, aux22 = matmul_2(v11, v12, v21, v22, 1/np.sqrt(l1), zz, zz, 1/np.sqrt(l2))\n",
    "    del l1, l2\n",
    "    i11, i12, i21, i22 = matmul_2(aux11, aux12, aux21, aux22, np.conj(v11), np.conj(v21), np.conj(v12), np.conj(v22))\n",
    "    del aux11, aux12, aux21, aux22\n",
    "    \n",
    "    # ... and back to main\n",
    "    return i11, i12, i21, i22"
   ]
  },
  {
   "cell_type": "markdown",
   "metadata": {},
   "source": [
    "`eigenvalvect_2`: Computes the eigenvalues and eigenvectors of a 2x2 matrix analytically. **See Appendix 2.**"
   ]
  },
  {
   "cell_type": "code",
   "execution_count": null,
   "metadata": {},
   "outputs": [],
   "source": [
    "def eigenvalvect_2(a11, a12, a21, a22) :\n",
    "    \n",
    "    # Calculates eigenvalues / eigenvectors of a generic complex-valued 2 x 2 matrix.\n",
    "    # Inputs are the matrix elements (row-wise) - NumPy arrays\n",
    "    # Outputs are the eigenvalues (l1, l2), and the eigenvector (E1, E2) elements - NumPy arrays\n",
    "    #                                       E1 = [e11, e21] , U2 = [e12, e22]\n",
    "    \n",
    "    # eigenvalues \n",
    "    l1 = 0.5 * ((a11+a22) + np.sqrt( (a11-a22)**2 + 4*a12*a21 )) \n",
    "    l2 = 0.5 * ((a11+a22) - np.sqrt( (a11-a22)**2 + 4*a12*a21 ))\n",
    "    \n",
    "    # eigenvector 1\n",
    "    e11 = -a12\n",
    "    e21 = a11 - l1\n",
    "    # normalize eigenvector 1\n",
    "    norm_ = np.sqrt( np.abs(e11)**2 + np.abs(e21)**2 )\n",
    "    e11 = e11 / norm_\n",
    "    e21 = e21 / norm_\n",
    "    # eigenvector 2\n",
    "    e12 = a22 - l2\n",
    "    e22 = -a21\n",
    "    # normalize eigenvector 2\n",
    "    norm_ = np.sqrt( np.abs(e12)**2 + np.abs(e22)**2 )\n",
    "    e12 = e12 / norm_\n",
    "    e22 = e22 / norm_\n",
    "    \n",
    "    del norm_\n",
    "    \n",
    "    # ... and back to main\n",
    "    return l1, l2, e11, e21, e12, e22\n"
   ]
  },
  {
   "cell_type": "markdown",
   "metadata": {},
   "source": [
    "`off_diagonal_2`: Calculates the off-diagonal form of a 2x2 matrix. **See Appendix 3.**"
   ]
  },
  {
   "cell_type": "code",
   "execution_count": null,
   "metadata": {},
   "outputs": [],
   "source": [
    "def off_diagonal_2(a11, a12, a21, a22, e11, e21, e12, e22) :\n",
    "\n",
    "    # Calculates off-diagonal form a 2 x 2 matrix A given its eigenvalues in E\n",
    "    # Inputs are the matrix elements (row-wise) - NumPy arrays\n",
    "    #        and the eigenvector (E1, E2) elements - NumPy arrays\n",
    "    #                                       E1 = [e11, e21] , U2 = [e12, e22]\n",
    "    # Outputs are the off-diagonal elements: o12, o21\n",
    "    \n",
    "    # rotation angle theta\n",
    "    theta = np.angle( np.conj(e11)*e12 + np.conj(e21)*e22  )\n",
    "    \n",
    "    # first column of the off-diagonalizing matrix (normalized)\n",
    "    u11 = np.exp(1j*theta)*e11 + e12\n",
    "    u21 = np.exp(1j*theta)*e21 + e22\n",
    "    norm_ = np.sqrt( np.abs(u11)**2 + np.abs(u21)**2 )\n",
    "    u11 = u11 / norm_\n",
    "    u21 = u21 / norm_\n",
    "    \n",
    "    # second column of the off-diagonalizing matrix (normalized)\n",
    "    u12 = np.exp(1j*theta)*e11 - e12\n",
    "    u22 = np.exp(1j*theta)*e21 - e22\n",
    "    norm_ = np.sqrt( np.abs(u12)**2 + np.abs(u22)**2 )\n",
    "    u12 = u12 / norm_\n",
    "    u22 = u22 / norm_\n",
    "   \n",
    "    del norm_\n",
    "    \n",
    "    # calculate off-diagonal elements\n",
    "    o12 = a11 * ( np.conj(u11)*u12 - np.conj(u21)*u22 ) +\\\n",
    "          a12 * np.conj(u11) * u22 +\\\n",
    "          a21 * np.conj(u21) * u12\n",
    "    o21 = a11 * ( np.conj(u12)*u11 - np.conj(u22)*u21 ) +\\\n",
    "          a12 * np.conj(u12) * u21 +\\\n",
    "          a21 * np.conj(u22) * u11\n",
    "    \n",
    "    # ... and back to main\n",
    "    return o12, o21"
   ]
  },
  {
   "cell_type": "markdown",
   "metadata": {},
   "source": [
    "`plot_coherence_region_P`: Reconstructs the **boundary** of the **Coherence Region**.\n",
    "\n",
    "<div>\n",
    "<img src=\"img/01_boundary_core.png\" width=\"800\"/>\n",
    "</div>"
   ]
  },
  {
   "cell_type": "code",
   "execution_count": null,
   "metadata": {},
   "outputs": [],
   "source": [
    "def plot_coherence_region_P(P11, P12, P21, P22, npoints=128, axes=None, color='r', **kwargs):\n",
    "    \n",
    "    # Pre-whitened coherency matrix\n",
    "    M = np.asarray([[P11, P12], [P21, P22]])\n",
    "    \n",
    "    # Phasors\n",
    "    theta = np.linspace(0, np.pi, npoints)\n",
    "    \n",
    "    # Optimizatin problem as an eigenvalue equation\n",
    "    Wi,Vi = np.linalg.eigh(0.5*(M[None,...]*np.exp(1j*theta)[...,None,None] + np.conj(M.T)[None,...]*np.exp(-1j*theta)[...,None,None]))\n",
    "    \n",
    "    # Axes in polar coordinates\n",
    "    if axes is None: ax = plt.subplot(111, projection='polar')\n",
    "    else: ax = axes\n",
    "    \n",
    "    # Reconstruct the border of the Coherence Region\n",
    "    indices = np.argsort(Wi, axis=-1)\n",
    "    Z = np.einsum('...i,...ij,...j->...', np.conj(Vi[range(npoints),:,indices[:,-1]]), M, Vi[range(npoints),:,indices[:,-1]])\n",
    "    Z2 = np.einsum('...i,...ij,...j->...', np.conj(Vi[range(npoints),:,indices[:,0]]), M, Vi[range(npoints),:,indices[:,0]])\n",
    "    ax.plot(np.angle(Z), np.abs(Z), color, **kwargs)\n",
    "    ax.plot(np.angle(Z2), np.abs(Z2), color, **kwargs)\n",
    "    \n",
    "    # ... and back to main\n",
    "    return ax"
   ]
  },
  {
   "cell_type": "markdown",
   "metadata": {
    "tags": []
   },
   "source": [
    "`get_coh_reg_ellipse_params`: By using previous auxiliary functions, this function obtains the paramters of a **dual-pol Coherence Region**, i.e. an ellipse.\n",
    "\n",
    "<div>\n",
    "<img src=\"img/02_core_geom_5.png\" width=\"825\"/>\n",
    "</div>"
   ]
  },
  {
   "cell_type": "code",
   "execution_count": null,
   "metadata": {},
   "outputs": [],
   "source": [
    "def get_coh_reg_ellipse_params(P11, P12, P21, P22, center):\n",
    "    # --- eigenvectors\n",
    "    l1, l2, e11, e21, e12, e22 = eigenvalvect_2(P11 - center, P12, P21, P22 - center)\n",
    "    del l1, l2\n",
    "    \n",
    "    # --- off-diagonalization\n",
    "    r, s = off_diagonal_2(P11 - center, P12, P21, P22 - center, e11, e21, e12, e22)\n",
    "\n",
    "    # free memory\n",
    "    del e11, e21, e12, e22\n",
    "\n",
    "    # --- finally !! get Coherence Region geometry\n",
    "    # ... major axis\n",
    "    a2 = np.abs(r) + np.abs(s)\n",
    "    # ... minor axis\n",
    "    b2 = np.abs(np.abs(r) - np.abs(s))\n",
    "    # ... rotation angle\n",
    "    phi = 0.5 * (np.angle(r) + np.angle(s))\n",
    "    \n",
    "    # ... and back to main\n",
    "    return a2, b2, phi"
   ]
  },
  {
   "cell_type": "markdown",
   "metadata": {},
   "source": [
    "`optimize_coherence_and_phase`: By using previous auxiliary functions, this function performs a **Polar Decomposition** of a 2x2 matrix. As a result, it provides the **optimized extreme coherences**.\n",
    "\n",
    "<div>\n",
    "<img src=\"img/03_polar_decomp.PNG\" width=\"700\"/>\n",
    "</div>"
   ]
  },
  {
   "cell_type": "code",
   "execution_count": null,
   "metadata": {},
   "outputs": [],
   "source": [
    "def optimize_coherence_and_phase(P11, P12, P21, P22):\n",
    "    \"\"\"\n",
    "    Performs the Polar decomposition of the 2 by 2 matrix P with the given elements\n",
    "    and estimates coherences with min max phase and absolute value.\n",
    "    \n",
    "    The polar decomposition of P is P = U * J.\n",
    "    The max & min coherence is extracted from the eigenvectors of J and the\n",
    "    max & min phase from the eigenvectors of U\n",
    "    \n",
    "    See: https://en.wikipedia.org/wiki/Polar_decomposition\n",
    "    \"\"\"\n",
    "    \n",
    "    # Calculate J^2 = P^(*T) * P\n",
    "    J11, J12, J21, J22 = matmul_2(np.conj(P11), np.conj(P21), np.conj(P12), np.conj(P22), P11, P12, P21, P22)\n",
    "    # Calculate eigenvalues and eigenvectors of J\n",
    "    l1, l2, v11, v21, v12, v22 = eigenvalvect_2(J11, J12, J21, J22)\n",
    "    del l1, l2\n",
    "    \n",
    "    # Calculate V^(*T) * P * V --> gamma max & min from there\n",
    "    aux11, aux12, aux21, aux22 = matmul_2(np.conj(v11), np.conj(v21), np.conj(v12), np.conj(v22), P11, P12, P21, P22)\n",
    "    gamma_max, gamma12, gamma21, gamma_min = matmul_2(aux11, aux12, aux21, aux22, v11, v12, v21, v22)\n",
    "    del aux11, aux12, aux21, aux22, v11, v21, v12, v22\n",
    "    del gamma12, gamma21\n",
    "    \n",
    "    # Compute U = P * J^(-1)\n",
    "    Ji11, Ji1, Ji21, Ji22 = sqrt_inverse(J11, J12, J22)\n",
    "    del J11, J12, J21, J22\n",
    "    U11, U12, U21, U22 = matmul_2(P11, P12, P21, P22, Ji11, Ji1, Ji21, Ji22)\n",
    "    del Ji11, Ji1, Ji21, Ji22\n",
    "    \n",
    "    # Calculate eigenvalues and eigenvectors of U\n",
    "    l1, l2, w11, w21, w12, w22 = eigenvalvect_2(U11, U12, U21, U22)\n",
    "    del l1, l2, U11, U12, U21, U22\n",
    "    \n",
    "    # Calculate W^(*T) * P * W --> gamma phamax & phamin from there\n",
    "    aux11, aux12, aux21, aux22 = matmul_2(np.conj(w11), np.conj(w21), np.conj(w12), np.conj(w22), P11, P12, P21, P22)\n",
    "    gamma_phamax, gamma12, gamma21, gamma_phamin = matmul_2(aux11, aux12, aux21, aux22, w11, w12, w21, w22)\n",
    "    del aux11, aux12, aux21, aux22, w11, w21, w12, w22\n",
    "    del gamma12, gamma21\n",
    "    \n",
    "    # Return optimum coherences\n",
    "    return gamma_phamax, gamma_phamin, gamma_max, gamma_min"
   ]
  },
  {
   "cell_type": "markdown",
   "metadata": {},
   "source": [
    "**Input parameters**"
   ]
  },
  {
   "cell_type": "code",
   "execution_count": null,
   "metadata": {},
   "outputs": [],
   "source": [
    "# --- Inputs\n",
    "\n",
    "# path 2 acquisitions\n",
    "path = '/projects/data/polinsar/'\n",
    "\n",
    "# input pixel spacing, in meters\n",
    "spacrg = 0.59941552\n",
    "spacaz = 0.19507939\n",
    "\n",
    "# output range-azimuth resolution, in meters\n",
    "resrg = 5.\n",
    "resaz = 5.\n",
    "\n",
    "# image block for processing\n",
    "minrg = 2300\n",
    "maxrg = 4500\n",
    "minaz = 21500 - 4000\n",
    "maxaz = 21500 + 6000"
   ]
  },
  {
   "cell_type": "code",
   "execution_count": null,
   "metadata": {},
   "outputs": [],
   "source": [
    "# --- Calculate number of looks\n",
    "\n",
    "looksr = int( resrg / spacrg )\n",
    "if looksr % 2 == 0 : looksr = looksr +1\n",
    "looksa = int( resaz / spacaz )\n",
    "if looksa % 2 == 0 : looksa = looksa +1\n",
    "\n",
    "print(looksa, looksr)"
   ]
  },
  {
   "cell_type": "markdown",
   "metadata": {},
   "source": [
    "**Step 1: Open images, and visualize a Pauli**"
   ]
  },
  {
   "cell_type": "code",
   "execution_count": null,
   "metadata": {},
   "outputs": [],
   "source": [
    "# --- Acquisition 1\n",
    "slchh1 = rrat(path + 'slc_15tmpsar0302_Lhh_t01.rat', block = [minaz, maxaz, minrg, maxrg])\n",
    "slchv1 = rrat(path + 'slc_15tmpsar0302_Lhv_t01.rat', block = [minaz, maxaz, minrg, maxrg])\n",
    "slcvv1 = rrat(path + 'slc_15tmpsar0302_Lvv_t01.rat', block = [minaz, maxaz, minrg, maxrg])\n",
    "\n",
    "# --- Acquisition 2\n",
    "slchh2 = rrat(path + 'slc_coreg_15tmpsar0302_15tmpsar0303_Lhh_t01.rat', block = [minaz, maxaz, minrg, maxrg]) \n",
    "slchv2 = rrat(path + 'slc_coreg_15tmpsar0302_15tmpsar0303_Lhv_t01.rat', block = [minaz, maxaz, minrg, maxrg]) \n",
    "slcvv2 = rrat(path + 'slc_coreg_15tmpsar0302_15tmpsar0303_Lvv_t01.rat', block = [minaz, maxaz, minrg, maxrg]) \n"
   ]
  },
  {
   "cell_type": "code",
   "execution_count": null,
   "metadata": {},
   "outputs": [],
   "source": [
    "# --- Pauli RGB\n",
    "\n",
    "pauli_rgb = make_pauli(slchh1, slchv1, slcvv1, looksr, looksa)\n",
    "\n",
    "# display pauli rgb\n",
    "plt.figure(figsize = (10, 4))\n",
    "plt.imshow(pauli_rgb, aspect = 'auto')\n",
    "plt.tight_layout()\n",
    "\n",
    "# save memory space\n",
    "del pauli_rgb\n",
    "\n"
   ]
  },
  {
   "cell_type": "markdown",
   "metadata": {},
   "source": [
    "**Step 2 : Compensate flat-earth**"
   ]
  },
  {
   "cell_type": "code",
   "execution_count": null,
   "metadata": {},
   "outputs": [],
   "source": [
    "# --- Open flat-earth\n",
    "\n",
    "fe = rrat(path + 'pha_flat_15tmpsar0302_15tmpsar0303_Lhh_t01.rat', block = [minaz, maxaz, minrg, maxrg])\n",
    "\n",
    "# compensate\n",
    "slchh2 = slchh2 * np.exp(1j*fe)\n",
    "slchv2 = slchv2 * np.exp(1j*fe)\n",
    "slcvv2 = slcvv2 * np.exp(1j*fe)\n"
   ]
  },
  {
   "cell_type": "markdown",
   "metadata": {},
   "source": [
    "**Step 3 : Calculate the elements of T1, T2, and Omega matrices**\n",
    "\n",
    "<div>\n",
    "<img src=\"img/04_PolInSAR_matrices.png\" width=\"400\"/>\n",
    "</div>\n"
   ]
  },
  {
   "cell_type": "code",
   "execution_count": null,
   "metadata": {},
   "outputs": [],
   "source": [
    "del fe\n",
    "\n",
    "# --- Form polarization channels\n",
    "\n",
    "# acquisition 1 -> k1\n",
    "pol1_im1 = slchh1 - slcvv1\n",
    "pol2_im1 = 2*slchv1\n",
    "# acquisition 2 -> k2\n",
    "pol1_im2 = slchh2 - slcvv2\n",
    "pol2_im2 = 2*slchv2\n",
    "\n",
    "# free memory\n",
    "del slchh1, slcvv1, slchv1, slchh2, slcvv2, slchv2\n",
    "\n",
    "# --- T1\n",
    "T1_11 = calculate_covariance(pol1_im1, pol1_im1, looksr, looksa)\n",
    "T1_22 = calculate_covariance(pol2_im1, pol2_im1, looksr, looksa)\n",
    "T1_12 = calculate_covariance(pol1_im1, pol2_im1, looksr, looksa)\n",
    "\n",
    "# --- T2\n",
    "T2_11 = calculate_covariance(pol1_im2, pol1_im2, looksr, looksa)\n",
    "T2_22 = calculate_covariance(pol2_im2, pol2_im2, looksr, looksa)\n",
    "T2_12 = calculate_covariance(pol1_im2, pol2_im2, looksr, looksa)\n",
    "\n",
    "# --- Omega\n",
    "Om_11 = calculate_covariance(pol1_im1, pol1_im2, looksr, looksa)\n",
    "Om_12 = calculate_covariance(pol1_im1, pol2_im2, looksr, looksa)\n",
    "Om_21 = calculate_covariance(pol2_im1, pol1_im2, looksr, looksa)\n",
    "Om_22 = calculate_covariance(pol2_im1, pol2_im2, looksr, looksa)\n",
    "\n",
    "# free memory\n",
    "del pol1_im1, pol2_im1, pol1_im2, pol2_im2\n",
    "\n"
   ]
  },
  {
   "cell_type": "markdown",
   "metadata": {},
   "source": [
    "**Step 4 : Pre-whitening (normalization)**\n",
    "\n",
    "<div>\n",
    "<img src=\"img/05_pre-whitening_2.PNG\" width=\"450\"/>\n",
    "</div>"
   ]
  },
  {
   "cell_type": "code",
   "execution_count": null,
   "metadata": {},
   "outputs": [],
   "source": [
    "# --- Pre-whitening\n",
    "\n",
    "# calculate T\n",
    "T11 = 0.5 * ( T1_11 + T2_11 )\n",
    "T12 = 0.5 * ( T1_12 + T2_12 )\n",
    "T22 = 0.5 * ( T1_22 + T2_22 )\n",
    "\n",
    "# calculate the elements of T**(-1/2)\n",
    "iT11, iT12, iT21, iT22 = sqrt_inverse(T11, T12, T22)\n",
    "\n",
    "# free memory\n",
    "del T11, T12, T22\n",
    "\n",
    "# whiten ... two 2 x 2 multiplications ==> Matrix P\n",
    "aux11, aux12, aux21, aux22 = matmul_2(iT11, iT12, iT21, iT22, Om_11, Om_12, Om_21, Om_22)\n",
    "P11, P12, P21, P22 = matmul_2(aux11, aux12, aux21, aux22, iT11, iT12, iT21, iT22)\n",
    "\n",
    "# free memory\n",
    "del aux11, aux12, aux21, aux22\n",
    "del iT11, iT12, iT21, iT22"
   ]
  },
  {
   "cell_type": "markdown",
   "metadata": {},
   "source": [
    "**Step 5: Calculate InSAR coherences at the two channels**"
   ]
  },
  {
   "cell_type": "code",
   "execution_count": null,
   "metadata": {},
   "outputs": [],
   "source": [
    "# --- InSAR single-pol coherences\n",
    "gamma_pol1 = Om_11 / np.sqrt(T1_11 * T2_11)\n",
    "gamma_pol2 = Om_22 / np.sqrt(T1_22 * T2_22)\n",
    "\n",
    "# free memory \n",
    "del T1_11, T1_12, T1_22, T2_11, T2_12, T2_22\n",
    "del Om_11, Om_12, Om_21, Om_22"
   ]
  },
  {
   "cell_type": "markdown",
   "metadata": {},
   "source": [
    "**Step 6: Calculate the geometry of the Coherence Region**\n",
    "\n",
    "<div>\n",
    "<img src=\"img/06_core_geom_3.png\" width=\"800\"/>\n",
    "</div>"
   ]
  },
  {
   "cell_type": "code",
   "execution_count": null,
   "metadata": {},
   "outputs": [],
   "source": [
    "# --- Get the geometry of the Coherence Region\n",
    "\n",
    "# calculate the center of the coherence region\n",
    "center = (P11 + P22) / 2\n",
    "\n",
    "# axis lengths and rotation phi\n",
    "a2, b2, phi = get_coh_reg_ellipse_params(P11, P12, P21, P22, center)\n",
    "\n",
    "# vertices of the ellipse\n",
    "gamma_plus  = center + a2/2 * np.exp(1j*phi)\n",
    "gamma_minus = center - a2/2 * np.exp(1j*phi)\n"
   ]
  },
  {
   "cell_type": "markdown",
   "metadata": {},
   "source": [
    "**Step 7: Calculate the extreme coherences**\n",
    "\n",
    "<div>\n",
    "<img src=\"img/07_polar_decomp_eq.PNG\" width=\"700\"/>\n",
    "</div>"
   ]
  },
  {
   "cell_type": "code",
   "execution_count": null,
   "metadata": {},
   "outputs": [],
   "source": [
    "# --- Optimized coherences in terms of phase and amplitude\n",
    "\n",
    "gamma_phamax, gamma_phamin, gamma_max, gamma_min = optimize_coherence_and_phase(P11, P12, P21, P22)\n"
   ]
  },
  {
   "cell_type": "markdown",
   "metadata": {},
   "source": [
    "**Step 8: Visualize the Coherence Region + computed coherences**"
   ]
  },
  {
   "cell_type": "code",
   "execution_count": null,
   "metadata": {},
   "outputs": [],
   "source": [
    "# --- Plot coherence region for one pixel + calculated coherences\n",
    "\n",
    "px_az = 6000\n",
    "px_rg = 500\n",
    "\n",
    "# extract original coherences in selected pixels\n",
    "px_gpol1 = gamma_pol1[px_az, px_rg]\n",
    "px_gpol2 = gamma_pol2[px_az, px_rg]\n",
    "# extract ellipse vertices\n",
    "px_gplus  = gamma_plus[px_az, px_rg]\n",
    "px_gminus = gamma_minus[px_az, px_rg]\n",
    "# extract min / max coherence abs\n",
    "px_gmax  = gamma_max[px_az, px_rg]\n",
    "px_gmin = gamma_min[px_az, px_rg]\n",
    "# extract min / max coherence phase\n",
    "px_gphamax = gamma_phamax[px_az, px_rg]\n",
    "px_gphamin = gamma_phamin[px_az, px_rg]\n",
    "\n",
    "# plot coherence region\n",
    "plt.figure()\n",
    "ax = plot_coherence_region_P(P11[px_az, px_rg], P12[px_az, px_rg], P21[px_az, px_rg], P22[px_az, px_rg])\n",
    "# plot original coherences\n",
    "ax.scatter(np.angle(px_gpol1), np.abs(px_gpol1), c='b')\n",
    "ax.scatter(np.angle(px_gpol2), np.abs(px_gpol2), c='r')\n",
    "# plot ellipse vertices\n",
    "ax.scatter(np.angle(px_gplus), np.abs(px_gplus), c='k')\n",
    "ax.scatter(np.angle(px_gminus), np.abs(px_gminus), c='k')\n",
    "# plot max / min coherence abs\n",
    "ax.scatter(np.angle(px_gmax), np.abs(px_gmax), c='g')\n",
    "ax.scatter(np.angle(px_gmin), np.abs(px_gmin), c='g')\n",
    "# plot max / min coherence phase\n",
    "ax.scatter(np.angle(px_gphamax), np.abs(px_gphamax), c='m')\n",
    "ax.scatter(np.angle(px_gphamin), np.abs(px_gphamin), c='m')\n",
    "\n",
    "ax.set_rmax(1)\n"
   ]
  },
  {
   "cell_type": "markdown",
   "metadata": {},
   "source": [
    "**Step 9: Plots !**"
   ]
  },
  {
   "cell_type": "code",
   "execution_count": null,
   "metadata": {},
   "outputs": [],
   "source": [
    "# --- Open lidar height\n",
    "\n",
    "H = rrat(path + 'Lida_r1503.rat', block=[minaz, maxaz, minrg, maxrg])\n",
    "\n",
    "# --- Open vertical wavenumber\n",
    "\n",
    "kz = rrat(path + 'kz_2d_demc_15tmpsar0302_15tmpsar0303_t01.rat', block=[minaz, maxaz, minrg, maxrg])\n"
   ]
  },
  {
   "cell_type": "code",
   "execution_count": null,
   "metadata": {},
   "outputs": [],
   "source": [
    "# --- Plot height + phase differences\n",
    "\n",
    "plt.figure( figsize = (9, 10) )\n",
    "\n",
    "plt.subplot(131)\n",
    "plt.imshow(H, vmin = 0, vmax = 50, cmap = 'jet', aspect = 'auto')\n",
    "cb = plt.colorbar(orientation = 'horizontal', pad = 0.03)\n",
    "cb.label = ('[m]')\n",
    "plt.title('Lidar top height')\n",
    "plt.axis('off')\n",
    "\n",
    "plt.subplot(132)\n",
    "plt.imshow(np.abs( np.angle(gamma_pol1*np.conj(gamma_pol2)) ) / kz, vmin = 0, vmax = 15, cmap = 'jet', aspect = 'auto')\n",
    "cb = plt.colorbar(orientation = 'horizontal', pad = 0.03)\n",
    "cb.label = ('[m]')\n",
    "plt.title('Ph.c. height diff. (pol1-pol2)')\n",
    "plt.axis('off')\n",
    "\n",
    "plt.subplot(133)\n",
    "plt.imshow(np.abs( np.angle(gamma_phamax*np.conj(gamma_phamin)) ) / kz, vmin = 0, vmax = 15, cmap = 'jet', aspect = 'auto')\n",
    "cb = plt.colorbar(orientation = 'horizontal', pad = 0.03)\n",
    "cb.label = ('[m]')\n",
    "plt.title('Ph.c. height diff. optimized')\n",
    "plt.axis('off')\n",
    "\n",
    "\n"
   ]
  },
  {
   "cell_type": "code",
   "execution_count": null,
   "metadata": {},
   "outputs": [],
   "source": [
    "# --- Plot height + coherences\n",
    "\n",
    "plt.figure( figsize = (10, 10) )\n",
    "\n",
    "plt.subplot(151)\n",
    "plt.imshow(H, vmin = 0, vmax = 50, cmap = 'jet', aspect = 'auto')\n",
    "cb = plt.colorbar(orientation = 'horizontal', pad = 0.03)\n",
    "cb.label = ('[m]')\n",
    "plt.title('Lidar top height')\n",
    "plt.axis('off')\n",
    "\n",
    "plt.subplot(152)\n",
    "plt.imshow(np.abs(gamma_pol1), vmin = 0, vmax = 1, cmap = 'gray', aspect = 'auto')\n",
    "cb = plt.colorbar(orientation = 'horizontal', pad = 0.03)\n",
    "cb.label = ('[-]')\n",
    "plt.title('|coh pol1|')\n",
    "plt.axis('off')\n",
    "\n",
    "plt.subplot(153)\n",
    "plt.imshow(np.abs(gamma_pol2), vmin = 0, vmax = 1, cmap = 'gray', aspect = 'auto')\n",
    "cb = plt.colorbar(orientation = 'horizontal', pad = 0.03)\n",
    "cb.label = ('[-]')\n",
    "plt.title('|coh pol2|')\n",
    "plt.axis('off')\n",
    "\n",
    "plt.subplot(154)\n",
    "plt.imshow(np.abs(gamma_min), vmin = 0, vmax = 1, cmap = 'gray', aspect = 'auto')\n",
    "cb = plt.colorbar(orientation = 'horizontal', pad = 0.03)\n",
    "cb.label = ('[-]')\n",
    "plt.title('|coh min|')\n",
    "plt.axis('off')\n",
    "\n",
    "plt.subplot(155)\n",
    "plt.imshow(np.abs(gamma_max), vmin = 0, vmax = 1, cmap = 'gray', aspect = 'auto')\n",
    "cb = plt.colorbar(orientation = 'horizontal', pad = 0.03)\n",
    "cb.label = ('[-]')\n",
    "plt.title('|coh max|')\n",
    "plt.axis('off')\n",
    "\n",
    "\n",
    "\n"
   ]
  },
  {
   "cell_type": "code",
   "execution_count": null,
   "metadata": {},
   "outputs": [],
   "source": []
  }
 ],
 "metadata": {
  "kernelspec": {
   "display_name": "Python 3 (ipykernel)",
   "language": "python",
   "name": "python3"
  },
  "language_info": {
   "codemirror_mode": {
    "name": "ipython",
    "version": 3
   },
   "file_extension": ".py",
   "mimetype": "text/x-python",
   "name": "python",
   "nbconvert_exporter": "python",
   "pygments_lexer": "ipython3",
   "version": "3.12.1"
  },
  "vscode": {
   "interpreter": {
    "hash": "6126ebd19cf463698a12f569055d5c875c4a88232798879aeca8320e4297552b"
   }
  }
 },
 "nbformat": 4,
 "nbformat_minor": 4
}
