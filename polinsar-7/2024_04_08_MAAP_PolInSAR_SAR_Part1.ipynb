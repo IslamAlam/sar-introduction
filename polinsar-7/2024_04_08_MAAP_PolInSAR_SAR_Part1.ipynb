{
 "cells": [
  {
   "cell_type": "markdown",
   "metadata": {},
   "source": [
    "# The Pol-InSAR course - April 08, 2024\n",
    "# Synthetic Aperture Radar (SAR) \n",
    "# Part 1: Range Resolution"
   ]
  },
  {
   "cell_type": "code",
   "execution_count": null,
   "metadata": {
    "tags": []
   },
   "outputs": [],
   "source": [
    "# --- Download exercise data & import reader function\n",
    "\n",
    "from pysarpro import io, data\n",
    "from pysarpro.io import rrat\n",
    "\n",
    "data.download_all(directory=\"/projects\", pattern=r'^data/01-sar')\n",
    "\n",
    "# ---"
   ]
  },
  {
   "cell_type": "code",
   "execution_count": null,
   "metadata": {
    "tags": []
   },
   "outputs": [],
   "source": [
    "# --- To get started, we set the ipympl backend, which makes matplotlib plots interactive.\n",
    "# --- We do this using a magic command, starting with %.\n",
    "%matplotlib widget\n",
    "\n",
    "# --- import libraries\n",
    "import sys\n",
    "sys.path.append('/src/')\n",
    "\n",
    "import numpy as np\n",
    "import matplotlib.pyplot as plt\n",
    "from numpy.fft import fft, fftfreq, fftshift, ifft\n",
    "\n",
    "# --- Useful functions\n",
    "\n",
    "def rect(t, T0):\n",
    "    # Implements y = rect(t/T0) = 1 if abs(t/T0) <= 0.5, 0 otherwise \n",
    "    # All input / outputs are Numpy arrays\n",
    "    \n",
    "    N = t.shape[0]\n",
    "    y = np.zeros(N, 'float32') \n",
    "    y[np.abs(t/T0) <= 0.5] = 1\n",
    "    \n",
    "    return y\n",
    "\n",
    "# --- Constants\n",
    "\n",
    "# speed of light\n",
    "c0 = 2.9972190e+08\n"
   ]
  },
  {
   "cell_type": "markdown",
   "metadata": {},
   "source": [
    "## Exercise 1\n",
    "\n",
    "The typical P-band chirp transmitted by the F-SAR system is characterized by the following input parameters:"
   ]
  },
  {
   "cell_type": "code",
   "execution_count": null,
   "metadata": {
    "tags": []
   },
   "outputs": [],
   "source": [
    "# --- Input parameters\n",
    "\n",
    "# chirp duration, s\n",
    "T = 1.0016000e-05\n",
    "# resolution, m\n",
    "deltar = 3"
   ]
  },
  {
   "cell_type": "markdown",
   "metadata": {},
   "source": [
    "In the focusing process, the following parameters are chosen for ther ange axis:"
   ]
  },
  {
   "cell_type": "code",
   "execution_count": null,
   "metadata": {
    "tags": []
   },
   "outputs": [],
   "source": [
    "# number of samples in range\n",
    "Ns = 3772\n",
    "# range sampling, m\n",
    "rs = 1.1988876"
   ]
  },
  {
   "cell_type": "markdown",
   "metadata": {},
   "source": [
    "1. Calculate and plot the chirp signal;\n",
    "2. Generate the impulse response of the matched filter;\n",
    "3. Calculate and plot the output (convolution) of the matched filter with the chirp as input. "
   ]
  },
  {
   "cell_type": "markdown",
   "metadata": {},
   "source": [
    "### Solution"
   ]
  },
  {
   "cell_type": "code",
   "execution_count": null,
   "metadata": {
    "tags": []
   },
   "outputs": [],
   "source": [
    "# calculate time axis\n",
    "range_axis = np.linspace(0, Ns-1, Ns) * rs\n",
    "range_axis = range_axis - np.max(range_axis)/2\n",
    "# convert range to time\n",
    "time = range_axis * 2 / c0\n",
    "\n",
    "# calculate chirp parameter\n",
    "kr = c0 / 2 / deltar / T\n",
    "\n",
    "# generation of chirp\n",
    "s0_t = np.exp(1j * np.pi * kr * time**2) * rect(time, T)\n",
    "\n",
    "# plot chirp signal\n",
    "plt.figure()\n",
    "plt.plot(time, np.real(s0_t))\n",
    "plt.xlabel('Time [s]')\n",
    "plt.ylabel('Real part')\n",
    "plt.title('Chirp signal')\n",
    "plt.grid()\n",
    "\n",
    "# plot chirp signal - as a function of range\n",
    "plt.figure()\n",
    "plt.plot(range_axis, np.abs(s0_t))\n",
    "plt.xlabel('Range [m]')\n",
    "plt.ylabel('Real part')\n",
    "plt.title('Chirp signal')\n",
    "plt.grid()\n",
    "\n"
   ]
  },
  {
   "cell_type": "code",
   "execution_count": null,
   "metadata": {
    "tags": []
   },
   "outputs": [],
   "source": [
    "# generate matched filter\n",
    "h0_t = np.conj(s0_t[::-1])\n",
    "\n",
    "# calculate the matched filter output\n",
    "u0_t = np.convolve(s0_t, h0_t, 'same')\n",
    "\n",
    "# plot matched filter\n",
    "plt.figure()\n",
    "plt.plot(range_axis, np.real(h0_t))\n",
    "plt.xlabel('Range [m]')\n",
    "plt.ylabel('Real part')\n",
    "plt.title('Matched filter')\n",
    "plt.grid()\n",
    "\n",
    "# plot output\n",
    "plt.figure()\n",
    "plt.plot(range_axis, np.real(u0_t))\n",
    "plt.xlabel('Range [m]')\n",
    "plt.ylabel('Real part')\n",
    "plt.title('Output signal')\n",
    "plt.grid()\n",
    "\n"
   ]
  },
  {
   "cell_type": "markdown",
   "metadata": {},
   "source": [
    "## Exercise 2"
   ]
  },
  {
   "cell_type": "markdown",
   "metadata": {},
   "source": [
    "The files */projects/data/01-sar/signal1_rc.npy* and */projects/data/01-sar/signal2_rc.npy* contain the received signals along two range lines originated by the same range chirp and sampled with the same parameters as in Exercise 1.\n",
    "\n",
    "1. Open the files (use np.load);\n",
    "2. Plot the real part of the signals;\n",
    "3. Focus in range by using a matched filter;\n",
    "4. ... how many scatterers do you see in the two cases? and at which range?"
   ]
  },
  {
   "cell_type": "markdown",
   "metadata": {},
   "source": [
    "### Solution"
   ]
  },
  {
   "cell_type": "code",
   "execution_count": null,
   "metadata": {},
   "outputs": [],
   "source": [
    "# open signal 1\n",
    "s1_t = np.load('/projects/data/01-sar/signal1_rc.npy')\n",
    "\n",
    "\n",
    "# ...\n"
   ]
  },
  {
   "cell_type": "code",
   "execution_count": null,
   "metadata": {},
   "outputs": [],
   "source": [
    "# open signal 2\n",
    "\n",
    "# ...\n",
    "\n"
   ]
  },
  {
   "cell_type": "code",
   "execution_count": null,
   "metadata": {},
   "outputs": [],
   "source": [
    "# focus signal 2 with fft\n",
    "\n",
    "\n"
   ]
  },
  {
   "cell_type": "markdown",
   "metadata": {},
   "source": [
    "## Exercise 3"
   ]
  },
  {
   "cell_type": "markdown",
   "metadata": {},
   "source": [
    "We are ready now to focus real F-SAR P-band data !\n",
    "\n",
    "1. Open the raw data image in the file */projects/data/01-sar/raw-img.rat*, and visualize it (only the amplitude).\n",
    "2. Compress it in range using the same chirp as in the Exercise 1, this time using the Fourier transform. What do you see?\n",
    "\n",
    "Tip:\n",
    "Use the provided rat class to open the data - Example: img = rrat(*filename.rat*)"
   ]
  },
  {
   "cell_type": "markdown",
   "metadata": {},
   "source": [
    "### Solution"
   ]
  },
  {
   "cell_type": "code",
   "execution_count": null,
   "metadata": {},
   "outputs": [],
   "source": [
    "img = rrat('/projects/data/01-sar/raw-img.rat')\n"
   ]
  },
  {
   "cell_type": "code",
   "execution_count": null,
   "metadata": {},
   "outputs": [],
   "source": []
  },
  {
   "cell_type": "code",
   "execution_count": null,
   "metadata": {},
   "outputs": [],
   "source": []
  }
 ],
 "metadata": {
  "kernelspec": {
   "display_name": "Python 3 (ipykernel)",
   "language": "python",
   "name": "python3"
  },
  "language_info": {
   "codemirror_mode": {
    "name": "ipython",
    "version": 3
   },
   "file_extension": ".py",
   "mimetype": "text/x-python",
   "name": "python",
   "nbconvert_exporter": "python",
   "pygments_lexer": "ipython3",
   "version": "3.11.6"
  }
 },
 "nbformat": 4,
 "nbformat_minor": 4
}
