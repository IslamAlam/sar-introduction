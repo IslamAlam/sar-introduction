{
 "cells": [
  {
   "cell_type": "markdown",
   "metadata": {},
   "source": [
    "# The PolInSAR Course - June 17, 2024\n",
    "# Polarimetric SAR Interferometry (Pol-InSAR) \n",
    "# Part 2: Pol-InSAR forest height inversion \n",
    "\n",
    "* DLR's F-SAR acquisition over Traunstein forest (Germany)\n",
    "* Path: '/projects/data/04-polinsar/'\n",
    "* SLCs: \n",
    "    * Acquisition 1 : slc_15tmpsar0302_L { hh, hv, vv, vh } _t01.rat\n",
    "    * Acquisition 2 : slc_coreg_15tmpsar0302_15tmpsar0303_L { hh, hv, vv, vh } _t01.rat\n",
    "* Flat-earth: pha_flat_15tmpsar0302_15tmpsar0303_Lhh_t01.rat\n",
    "* Vertical wavenumber (kz) : kz_2d_demc_15tmpsar0302_15tmpsar0303_t01.rat\n",
    "* Lidar: Lida_r1503.rat\n",
    "\n",
    "Objective:\n",
    "- Estimate forest height using the phase extremes of the dual-pol Pol-InSAR coherence region and model inversion.\n",
    "\n",
    "Tips:\n",
    "- work on the azimuth - range block [21500 - 4000, 21500 + 6000] - [2300, 4500] ;\n",
    "- all the needed functions and a few pieces of script have been already implemented."
   ]
  },
  {
   "cell_type": "code",
   "execution_count": null,
   "metadata": {
    "tags": []
   },
   "outputs": [],
   "source": [
    "# --- Download exercise data & import reader function\n",
    "\n",
    "from pysarpro import io, data\n",
    "from pysarpro.io import rrat\n",
    "\n",
    "# data.download_all(directory=\"/projects\", pattern=r'^data/polinsar')\n",
    "\n",
    "# ---"
   ]
  },
  {
   "cell_type": "code",
   "execution_count": null,
   "metadata": {},
   "outputs": [],
   "source": [
    "# import useful libraries, functions, and modules\n",
    "\n",
    "import sys\n",
    "\n",
    "sys.path.append('/projects/src/')\n",
    "\n",
    "import warnings\n",
    "warnings.filterwarnings(\"ignore\")\n",
    "\n",
    "import matplotlib.pyplot as plt\n",
    "import numpy as np\n",
    "from scipy.ndimage import filters\n",
    "\n",
    "from tqdm import tqdm\n",
    "\n",
    "%matplotlib widget"
   ]
  },
  {
   "cell_type": "markdown",
   "metadata": {},
   "source": [
    "**Auxiliary functions**"
   ]
  },
  {
   "cell_type": "markdown",
   "metadata": {},
   "source": [
    "`calculate_covariance`: Calculates the covariance between two images while performing a multi-looking operation."
   ]
  },
  {
   "cell_type": "code",
   "execution_count": null,
   "metadata": {},
   "outputs": [],
   "source": [
    "def calculate_covariance(im1, im2, looksr, looksa) : \n",
    "    \n",
    "    # ... apply definition\n",
    "    corr = filters.uniform_filter(np.real(im1*np.conj(im2)), [looksa,looksr]) + 1j* \\\n",
    "                filters.uniform_filter(np.imag(im1*np.conj(im2)), [looksa,looksr])\n",
    "    \n",
    "    # ... and back to main\n",
    "    return corr"
   ]
  },
  {
   "cell_type": "markdown",
   "metadata": {},
   "source": [
    "`make_pauli`: Generates an RGB Pauli image given the SLCs of the different polarimetric channels."
   ]
  },
  {
   "cell_type": "code",
   "execution_count": null,
   "metadata": {},
   "outputs": [],
   "source": [
    "def make_pauli(slchh, slchv, slcvv, looksr, looksa) :\n",
    "    \n",
    "    # 1. Uses function calculate_covariance\n",
    "    # 2. Convention (rows x columns): inputs are (az x rg), outputs are (rg x az) \n",
    "    #                                 for better plotting as #rg <#az\n",
    "    \n",
    "    # Calculate T11, T22 and T33\n",
    "    T11 = calculate_covariance(slchh + slcvv, slchh + slcvv, looksr, looksa)\n",
    "    T22 = calculate_covariance(slchh - slcvv, slchh - slcvv, looksr, looksa)\n",
    "    T33 = calculate_covariance(2*slchv, 2*slchv, looksr, looksa)\n",
    "    \n",
    "    # make the pauli rgb (+ tranpose, clipping, normalization)\n",
    "    dimaz = T11.shape[0]\n",
    "    dimrg = T11.shape[1]\n",
    "    rgb_pauli = np.zeros((dimrg, dimaz, 3), 'float32')\n",
    "    rgb_pauli[:, :, 0] = np.transpose( np.clip(np.sqrt(np.abs(T22)), 0, 2.5*np.mean(np.sqrt(np.abs(T22)))) )    # red\n",
    "    rgb_pauli[:, :, 1] = np.transpose( np.clip(np.sqrt(np.abs(T33)), 0, 2.5*np.mean(np.sqrt(np.abs(T33)))) )    # green\n",
    "    rgb_pauli[:, :, 2] = np.transpose( np.clip(np.sqrt(np.abs(T11)), 0, 2.5*np.mean(np.sqrt(np.abs(T11)))) )    # blue\n",
    "    rgb_pauli[:, :, 0] = rgb_pauli[:, :, 0] / np.max(rgb_pauli[:, :, 0])     # red\n",
    "    rgb_pauli[:, :, 1] = rgb_pauli[:, :, 1] / np.max(rgb_pauli[:, :, 1])     # green\n",
    "    rgb_pauli[:, :, 2] = rgb_pauli[:, :, 2] / np.max(rgb_pauli[:, :, 2])     # blue\n",
    "    \n",
    "    # ... and back to main\n",
    "    return rgb_pauli"
   ]
  },
  {
   "cell_type": "markdown",
   "metadata": {},
   "source": [
    "`matmul_2`: Mutiplies two matrices given the elements of each matrix separately."
   ]
  },
  {
   "cell_type": "code",
   "execution_count": null,
   "metadata": {},
   "outputs": [],
   "source": [
    "def matmul_2(a11, a12, a21, a22, b11, b12, b21, b22) :\n",
    "    \n",
    "    # Implements the multiplication A.B of two 2 x 2 matrices A and B.\n",
    "    # Inputs are the elements of matrices (row-wise). \n",
    "    # Outputs are the elements of the matrix product (row-wise).\n",
    "    \n",
    "    c11 = a11*b11 + a12*b21\n",
    "    c12 = a11*b12 + a12*b22\n",
    "    c21 = a21*b11 + a22*b21 \n",
    "    c22 = a21*b12 + a22*b22\n",
    "    \n",
    "    # ... and back to main\n",
    "    return c11, c12, c21, c22"
   ]
  },
  {
   "cell_type": "markdown",
   "metadata": {},
   "source": [
    "`sqrt_inverse`: Calculates the square-root inverse of a 2x2 Hermitian matrix. **See Appendix 1.**"
   ]
  },
  {
   "cell_type": "code",
   "execution_count": null,
   "metadata": {},
   "outputs": [],
   "source": [
    "def sqrt_inverse(a11, a12, a22) :\n",
    "\n",
    "    # Given a 2 x 2 Hermitian matrix A, calculates A**(-1/2) using eigendecomposition\n",
    "    # Inputs are the upper-diagonal matrix elements (row-wise) - NumPy arrays.\n",
    "    # Outputs are the elements of the sqrt inverse matrix.\n",
    "    # Uses function matmul_2.\n",
    "    \n",
    "    # Calculate eigenvalues (l1, l2)\n",
    "    sigma = 0.5 * (a11 + a22)\n",
    "    D = a11*a22 - a12*np.conj(a12)\n",
    "    delta = np.sqrt(sigma**2 - D)\n",
    "    l1 = sigma + delta\n",
    "    l2 = sigma - delta\n",
    "    \n",
    "    # Calculate eigenvector matrix elements (eigenvectors are the columns)\n",
    "    norm_ = np.sqrt( a12*np.conj(a12) + ((a11-a22)/2 - delta)**2 )\n",
    "    v11 = -a12 / norm_\n",
    "    v21 = ((a11-a22)/2 - delta) / norm_\n",
    "    v12 = ((a11-a22)/2 - delta) / norm_\n",
    "    v22 = np.conj(a12) / norm_\n",
    "    \n",
    "    del norm_, delta, D, sigma\n",
    "    \n",
    "    # calculate sqrt inverse matrix elements\n",
    "    zz = np.zeros(l1.shape, 'float32')\n",
    "    aux11, aux12, aux21, aux22 = matmul_2(v11, v12, v21, v22, 1/np.sqrt(l1), zz, zz, 1/np.sqrt(l2))\n",
    "    del l1, l2\n",
    "    i11, i12, i21, i22 = matmul_2(aux11, aux12, aux21, aux22, np.conj(v11), np.conj(v21), np.conj(v12), np.conj(v22))\n",
    "    del aux11, aux12, aux21, aux22\n",
    "    \n",
    "    # ... and back to main\n",
    "    return i11, i12, i21, i22"
   ]
  },
  {
   "cell_type": "markdown",
   "metadata": {},
   "source": [
    "`eigenvalvect_2`: Computes the eigenvalues and eigenvectors of a 2x2 matrix analytically. **See Appendix 2.**"
   ]
  },
  {
   "cell_type": "code",
   "execution_count": null,
   "metadata": {},
   "outputs": [],
   "source": [
    "def eigenvalvect_2(a11, a12, a21, a22) :\n",
    "    \n",
    "    # Calculates eigenvalues / eigenvectors of a generic complex-valued 2 x 2 matrix.\n",
    "    # Inputs are the matrix elements (row-wise) - NumPy arrays\n",
    "    # Outputs are the eigenvalues (l1, l2), and the eigenvector (E1, E2) elements - NumPy arrays\n",
    "    #                                       E1 = [e11, e21] , U2 = [e12, e22]\n",
    "    \n",
    "    # eigenvalues \n",
    "    l1 = 0.5 * ((a11+a22) + np.sqrt( (a11-a22)**2 + 4*a12*a21 )) \n",
    "    l2 = 0.5 * ((a11+a22) - np.sqrt( (a11-a22)**2 + 4*a12*a21 ))\n",
    "    \n",
    "    # eigenvector 1\n",
    "    e11 = -a12\n",
    "    e21 = a11 - l1\n",
    "    # normalize eigenvector 1\n",
    "    norm_ = np.sqrt( np.abs(e11)**2 + np.abs(e21)**2 )\n",
    "    e11 = e11 / norm_\n",
    "    e21 = e21 / norm_\n",
    "    # eigenvector 2\n",
    "    e12 = a22 - l2\n",
    "    e22 = -a21\n",
    "    # normalize eigenvector 2\n",
    "    norm_ = np.sqrt( np.abs(e12)**2 + np.abs(e22)**2 )\n",
    "    e12 = e12 / norm_\n",
    "    e22 = e22 / norm_\n",
    "    \n",
    "    del norm_\n",
    "    \n",
    "    # ... and back to main\n",
    "    return l1, l2, e11, e21, e12, e22"
   ]
  },
  {
   "cell_type": "markdown",
   "metadata": {},
   "source": [
    "`plot_coherence_region_P`: Reconstructs the **boundary** of the **Coherence Region**.\n",
    "\n",
    "<div>\n",
    "<img src=\"img/01_boundary_core.png\" width=\"800\"/>\n",
    "</div>"
   ]
  },
  {
   "cell_type": "code",
   "execution_count": null,
   "metadata": {},
   "outputs": [],
   "source": [
    "def plot_coherence_region_P(P11, P12, P21, P22, npoints=128, axes=None, color='r', **kwargs):\n",
    "    \n",
    "    # Pre-whitened coherency matrix\n",
    "    M = np.asarray([[P11, P12], [P21, P22]])\n",
    "    \n",
    "    # Phasors\n",
    "    theta = np.linspace(0, np.pi, npoints)\n",
    "    \n",
    "    # Optimizatin problem as an eigenvalue equation\n",
    "    Wi,Vi = np.linalg.eigh(0.5*(M[None,...]*np.exp(1j*theta)[...,None,None] + np.conj(M.T)[None,...]*np.exp(-1j*theta)[...,None,None]))\n",
    "    \n",
    "    # Axes in polar coordinates\n",
    "    if axes is None: ax = plt.subplot(111, projection='polar')\n",
    "    else: ax = axes\n",
    "    \n",
    "    # Reconstruct the border of the Coherence Region\n",
    "    indices = np.argsort(Wi, axis=-1)\n",
    "    Z = np.einsum('...i,...ij,...j->...', np.conj(Vi[range(npoints),:,indices[:,-1]]), M, Vi[range(npoints),:,indices[:,-1]])\n",
    "    Z2 = np.einsum('...i,...ij,...j->...', np.conj(Vi[range(npoints),:,indices[:,0]]), M, Vi[range(npoints),:,indices[:,0]])\n",
    "    ax.plot(np.angle(Z), np.abs(Z), color, **kwargs)\n",
    "    ax.plot(np.angle(Z2), np.abs(Z2), color, **kwargs)\n",
    "    \n",
    "    # ... and back to main\n",
    "    return ax"
   ]
  },
  {
   "cell_type": "markdown",
   "metadata": {},
   "source": [
    "`optimize_coherence_and_phase`: By using previous auxiliary functions, this function performs a **Polar Decomposition** of a 2x2 matrix. As a result, it provides the **optimized extreme coherences**.\n",
    "\n",
    "<div>\n",
    "<img src=\"img/03_polar_decomp.PNG\" width=\"700\"/>\n",
    "</div>"
   ]
  },
  {
   "cell_type": "code",
   "execution_count": null,
   "metadata": {},
   "outputs": [],
   "source": [
    "def optimize_coherence_and_phase(P11, P12, P21, P22):\n",
    "    \"\"\"\n",
    "    Performs the Polar decomposition of the 2 by 2 matrix P with the given elements\n",
    "    and estimates coherences with min max phase and absolute value.\n",
    "    \n",
    "    The polar decomposition of P is P = U * J.\n",
    "    The max & min coherence is extracted from the eigenvectors of J and the\n",
    "    max & min phase from the eigenvectors of U\n",
    "    \n",
    "    See: https://en.wikipedia.org/wiki/Polar_decomposition\n",
    "    \"\"\"\n",
    "    \n",
    "    # Calculate J^2 = P^(*T) * P\n",
    "    J11, J12, J21, J22 = matmul_2(np.conj(P11), np.conj(P21), np.conj(P12), np.conj(P22), P11, P12, P21, P22)\n",
    "    \n",
    "    # Calculate eigenvalues and eigenvectors of J\n",
    "    l1, l2, v11, v21, v12, v22 = eigenvalvect_2(J11, J12, J21, J22)\n",
    "    del l1, l2\n",
    "    \n",
    "    # Calculate V^(*T) * P * V --> gamma max & min from there\n",
    "    aux11, aux12, aux21, aux22 = matmul_2(np.conj(v11), np.conj(v21), np.conj(v12), np.conj(v22), P11, P12, P21, P22)\n",
    "    gamma_max, gamma12, gamma21, gamma_min = matmul_2(aux11, aux12, aux21, aux22, v11, v12, v21, v22)\n",
    "    del aux11, aux12, aux21, aux22, v11, v21, v12, v22\n",
    "    del gamma12, gamma21\n",
    "    \n",
    "    # Compute U = P * J^(-1)\n",
    "    Ji11, Ji1, Ji21, Ji22 = sqrt_inverse(J11, J12, J22)\n",
    "    del J11, J12, J21, J22\n",
    "    U11, U12, U21, U22 = matmul_2(P11, P12, P21, P22, Ji11, Ji1, Ji21, Ji22)\n",
    "    del Ji11, Ji1, Ji21, Ji22\n",
    "    \n",
    "    # Calculate eigenvalues and eigenvectors of U\n",
    "    l1, l2, w11, w21, w12, w22 = eigenvalvect_2(U11, U12, U21, U22)\n",
    "    del l1, l2, U11, U12, U21, U22\n",
    "    \n",
    "    # Calculate W^(*T) * P * W --> gamma phamax & phamin from there\n",
    "    aux11, aux12, aux21, aux22 = matmul_2(np.conj(w11), np.conj(w21), np.conj(w12), np.conj(w22), P11, P12, P21, P22)\n",
    "    gamma_phamax, gamma12, gamma21, gamma_phamin = matmul_2(aux11, aux12, aux21, aux22, w11, w12, w21, w22)\n",
    "    del aux11, aux12, aux21, aux22, w11, w21, w12, w22\n",
    "    del gamma12, gamma21\n",
    "    \n",
    "    # Return optimum coherences\n",
    "    return gamma_phamax, gamma_phamin, gamma_max, gamma_min"
   ]
  },
  {
   "cell_type": "markdown",
   "metadata": {},
   "source": [
    "**Input parameters**"
   ]
  },
  {
   "cell_type": "code",
   "execution_count": null,
   "metadata": {},
   "outputs": [],
   "source": [
    "# --- Inputs\n",
    "\n",
    "# path 2 acquisitions\n",
    "path = '/projects/data/polinsar/'\n",
    "\n",
    "# input pixel spacing, in meters\n",
    "spacrg = 0.59941552\n",
    "spacaz = 0.19507939\n",
    "\n",
    "# output range resolution, in meters\n",
    "resrg = 5.\n",
    "resaz = 5.\n",
    "\n",
    "# image block for processing\n",
    "minrg = 2300\n",
    "maxrg = 4500\n",
    "minaz = 21500 - 4000\n",
    "maxaz = 21500 + 6000"
   ]
  },
  {
   "cell_type": "code",
   "execution_count": null,
   "metadata": {},
   "outputs": [],
   "source": [
    "# --- Calculate number of looks\n",
    "\n",
    "looksr = int( resrg / spacrg )\n",
    "if looksr % 2 == 0 : looksr = looksr +1\n",
    "looksa = int( resaz / spacaz )\n",
    "if looksa % 2 == 0 : looksa = looksa +1"
   ]
  },
  {
   "cell_type": "markdown",
   "metadata": {},
   "source": [
    "**Step 1: Open images, and visualize a Pauli**"
   ]
  },
  {
   "cell_type": "code",
   "execution_count": null,
   "metadata": {},
   "outputs": [],
   "source": [
    "# --- Acquisition 1\n",
    "slchh1 = rrat(path + 'slc_15tmpsar0302_Lhh_t01.rat', block=[minaz, maxaz, minrg, maxrg])\n",
    "slchv1 = rrat(path + 'slc_15tmpsar0302_Lhv_t01.rat', block=[minaz, maxaz, minrg, maxrg])\n",
    "slcvv1 = rrat(path + 'slc_15tmpsar0302_Lvv_t01.rat', block=[minaz, maxaz, minrg, maxrg])\n",
    "\n",
    "# --- Acquisition 2\n",
    "slchh2 = rrat(path + 'slc_coreg_15tmpsar0302_15tmpsar0303_Lhh_t01.rat', block=[minaz, maxaz, minrg, maxrg])\n",
    "slchv2 = rrat(path + 'slc_coreg_15tmpsar0302_15tmpsar0303_Lhv_t01.rat', block=[minaz, maxaz, minrg, maxrg])\n",
    "slcvv2 = rrat(path + 'slc_coreg_15tmpsar0302_15tmpsar0303_Lvv_t01.rat', block=[minaz, maxaz, minrg, maxrg])"
   ]
  },
  {
   "cell_type": "code",
   "execution_count": null,
   "metadata": {},
   "outputs": [],
   "source": [
    "# --- Pauli RGB\n",
    "pauli_rgb = make_pauli(slchh1, slchv1, slcvv1, looksr, looksa)\n",
    "\n",
    "# display a Pauli\n",
    "plt.figure(figsize=(10,4))\n",
    "plt.imshow(pauli_rgb, aspect='auto')\n",
    "plt.tight_layout()\n",
    "\n",
    "# free memory\n",
    "del pauli_rgb"
   ]
  },
  {
   "cell_type": "markdown",
   "metadata": {},
   "source": [
    "**Step 2 : Compensate flat-earth**"
   ]
  },
  {
   "cell_type": "code",
   "execution_count": null,
   "metadata": {},
   "outputs": [],
   "source": [
    "# --- Open flat-earth\n",
    "fe = rrat(path + 'pha_flat_15tmpsar0302_15tmpsar0303_Lhh_t01.rat', block = [minaz, maxaz, minrg, maxrg])\n",
    "\n",
    "# compensate\n",
    "slchh2 = slchh2 * np.exp(1j*fe)\n",
    "slchv2 = slchv2 * np.exp(1j*fe)\n",
    "slcvv2 = slcvv2 * np.exp(1j*fe)\n",
    "\n",
    "# free memory\n",
    "del fe"
   ]
  },
  {
   "cell_type": "markdown",
   "metadata": {},
   "source": [
    "**Step 3 : Calculate the elements of T1, T2, and Omega matrices**\n",
    "\n",
    "<div>\n",
    "<img src=\"img/04_PolInSAR_matrices.png\" width=\"400\"/>\n",
    "</div>\n"
   ]
  },
  {
   "cell_type": "code",
   "execution_count": null,
   "metadata": {},
   "outputs": [],
   "source": [
    "# --- Form polarization channels\n",
    "# acquistion 1\n",
    "pol1_im1 = slchh1 - slcvv1\n",
    "pol2_im1 = 2*slchv1\n",
    "# acquisition 2\n",
    "pol1_im2 = slchh2 - slcvv2\n",
    "pol2_im2 = 2*slchv2\n",
    "\n",
    "# free memory \n",
    "del slchh1, slchv1, slcvv1, slchh2, slchv2, slcvv2\n",
    "\n",
    "# --- T1\n",
    "T1_11 = calculate_covariance(pol1_im1, pol1_im1, looksr, looksa)\n",
    "T1_12 = calculate_covariance(pol1_im1, pol2_im1, looksr, looksa)\n",
    "T1_22 = calculate_covariance(pol2_im1, pol2_im1, looksr, looksa)\n",
    "\n",
    "# --- T2\n",
    "T2_11 = calculate_covariance(pol1_im2, pol1_im2, looksr, looksa)\n",
    "T2_12 = calculate_covariance(pol1_im2, pol2_im2, looksr, looksa)\n",
    "T2_22 = calculate_covariance(pol2_im2, pol2_im2, looksr, looksa)\n",
    "\n",
    "# --- Omega  \n",
    "Om_11 = calculate_covariance(pol1_im1, pol1_im2, looksr, looksa)\n",
    "Om_12 = calculate_covariance(pol1_im1, pol2_im2, looksr, looksa)\n",
    "Om_21 = calculate_covariance(pol2_im1, pol1_im2, looksr, looksa)\n",
    "Om_22 = calculate_covariance(pol2_im1, pol2_im2, looksr, looksa)\n",
    "\n",
    "# free memory\n",
    "del pol1_im1, pol2_im1, pol1_im2, pol2_im2"
   ]
  },
  {
   "cell_type": "markdown",
   "metadata": {},
   "source": [
    "**Step 4 : Pre-whitening (normalization)**\n",
    "\n",
    "<div>\n",
    "<img src=\"img/05_pre-whitening_2.PNG\" width=\"450\"/>\n",
    "</div>"
   ]
  },
  {
   "cell_type": "code",
   "execution_count": null,
   "metadata": {},
   "outputs": [],
   "source": [
    "# --- Pre-whitening\n",
    "\n",
    "# calculate T\n",
    "T11 = 0.5 * ( T1_11 + T2_11 )\n",
    "T12 = 0.5 * ( T1_12 + T2_12 )\n",
    "T22 = 0.5 * ( T1_22 + T2_22 )\n",
    "\n",
    "# free memory\n",
    "del T1_11, T1_12, T1_22, T2_11, T2_12, T2_22\n",
    "\n",
    "# calculate the elements of T**(-1/2)\n",
    "iT11, iT12, iT21, iT22 = sqrt_inverse(T11, T12, T22)\n",
    "\n",
    "# free memory\n",
    "del T11, T12, T22\n",
    "\n",
    "# whiten ... two 2 x 2 multiplications ==> Matrix P\n",
    "aux11, aux12, aux21, aux22 = matmul_2(iT11, iT12, iT21, iT22, Om_11, Om_12, Om_21, Om_22)\n",
    "P11, P12, P21, P22 = matmul_2(aux11, aux12, aux21, aux22, iT11, iT12, iT21, iT22)\n",
    "\n",
    "# free memory\n",
    "del aux11, aux12, aux21, aux22\n",
    "del iT11, iT12, iT21, iT22"
   ]
  },
  {
   "cell_type": "markdown",
   "metadata": {},
   "source": [
    "**Step 5: Get optimized coherences with minimum/maximum phase**\n",
    "\n",
    "<div>\n",
    "<img src=\"img/03_polar_decomp.PNG\" width=\"700\"/>\n",
    "</div>"
   ]
  },
  {
   "cell_type": "code",
   "execution_count": null,
   "metadata": {},
   "outputs": [],
   "source": [
    "# --- Optimized coherences in terms of phase and amplitude \n",
    "gamma_phamax, gamma_phamin, gamma_max, gamma_min = optimize_coherence_and_phase(P11, P12, P21, P22)\n",
    "\n",
    "# free memory \n",
    "del gamma_max, gamma_min"
   ]
  },
  {
   "cell_type": "markdown",
   "metadata": {},
   "source": [
    "**Step 6: Find the volume-only coherence**"
   ]
  },
  {
   "cell_type": "code",
   "execution_count": null,
   "metadata": {},
   "outputs": [],
   "source": [
    "# --- Open vertical wavenumber\n",
    "kz = rrat(path + 'kz_2d_demc_15tmpsar0302_15tmpsar0303_t01.rat', block=[minaz, maxaz, minrg, maxrg])"
   ]
  },
  {
   "cell_type": "code",
   "execution_count": null,
   "metadata": {},
   "outputs": [],
   "source": [
    "# display kz\n",
    "plt.figure(figsize=(4,9))\n",
    "plt.imshow(kz, cmap='jet', vmin=0, vmax=0.25, aspect='auto')\n",
    "cb = plt.colorbar(orientation='horizontal', pad=0.03)\n",
    "cb.set_label('[rad/m]')\n",
    "plt.title('kz')\n",
    "plt.tight_layout()"
   ]
  },
  {
   "cell_type": "code",
   "execution_count": null,
   "metadata": {},
   "outputs": [],
   "source": [
    "# Test if height(gamma_phamax) > height(gamma_phamin) \n",
    "\n",
    "height_diff = np.angle( gamma_phamax*np.conj(gamma_phamin) ) /kz\n",
    "\n",
    "plt.figure(figsize=(4,9))\n",
    "plt.imshow(height_diff, cmap='jet', vmin=-10, vmax=10, aspect='auto')\n",
    "cb = plt.colorbar(orientation='horizontal', pad=0.03)\n",
    "cb.set_label('[m]')\n",
    "plt.title('Phase center height difference')\n",
    "plt.tight_layout()\n"
   ]
  },
  {
   "cell_type": "code",
   "execution_count": null,
   "metadata": {},
   "outputs": [],
   "source": [
    "# --- Order phase values  \n",
    "\n",
    "ii_az, ii_rg = np.where(height_diff < 0)\n",
    "if ii_az.size >0 :\n",
    "    gamma_phamax[ii_az, ii_rg], gamma_phamin[ii_az, ii_rg] = gamma_phamin[ii_az, ii_rg], gamma_phamax[ii_az, ii_rg]\n",
    "\n",
    "# --- Decide gamma_v ... assuming mu_min = 0  \n",
    "\n",
    "gamma_v = gamma_phamax\n"
   ]
  },
  {
   "cell_type": "code",
   "execution_count": null,
   "metadata": {},
   "outputs": [],
   "source": [
    "# Test (again) if height(gamma_phamax) > height(gamma_phamin)  \n",
    "\n",
    "plt.figure(figsize=(4,9))\n",
    "plt.imshow(np.angle( gamma_phamax*np.conj(gamma_phamin) ) /kz, cmap='jet', vmin=-10, vmax=10, aspect='auto')\n",
    "cb = plt.colorbar(orientation='horizontal', pad=0.03)\n",
    "cb.set_label('[m]')\n",
    "plt.title('Phase center height difference after re-ordering')\n",
    "plt.tight_layout()\n"
   ]
  },
  {
   "cell_type": "markdown",
   "metadata": {},
   "source": [
    "**Step 7: Calculate ground phase**\n",
    "\n",
    "<div>\n",
    "<img src=\"img/08_ground_phase_eq.png\" width=\"600\"/>\n",
    "</div>"
   ]
  },
  {
   "cell_type": "code",
   "execution_count": null,
   "metadata": {},
   "outputs": [],
   "source": [
    "# --- Calculate ground phase\n",
    "v = gamma_phamin - gamma_v\n",
    "x = -np.real( np.conj(v)*gamma_v ) / np.abs(v)**2 + \\\n",
    "            np.sqrt( np.real(np.conj(v)*gamma_v)**2 - (np.abs(gamma_v)**2 - 1)* np.abs(v)**2 ) / np.abs(v)**2\n",
    "gamma_g = gamma_v + v*x \n",
    "phi0  = np.angle(gamma_g)"
   ]
  },
  {
   "cell_type": "code",
   "execution_count": null,
   "metadata": {},
   "outputs": [],
   "source": [
    "# --- display: phase of gamma_v, gamma_phamin, phi0\n",
    "\n",
    "plt.figure(figsize=(9,10))\n",
    "\n",
    "plt.subplot(131) \n",
    "plt.imshow(np.angle(gamma_v), vmin=-np.pi, vmax=np.pi, cmap='jet', aspect='auto')\n",
    "cb = plt.colorbar(orientation='horizontal', pad=0.03)\n",
    "cb.set_label('[rad]')\n",
    "plt.title('Phase gamma_v')\n",
    "plt.axis('off')\n",
    "\n",
    "plt.subplot(132) \n",
    "plt.imshow(np.angle(gamma_phamin), vmin=-np.pi, vmax=np.pi, cmap='jet', aspect='auto')\n",
    "cb = plt.colorbar(orientation='horizontal', pad=0.03)\n",
    "cb.set_label('[rad]')\n",
    "plt.title('Phase gamma_phamin')\n",
    "plt.axis('off')\n",
    "\n",
    "plt.subplot(133) \n",
    "plt.imshow(phi0, vmin=-np.pi, vmax=np.pi, cmap='jet', aspect='auto')\n",
    "cb = plt.colorbar(orientation='horizontal', pad=0.03)\n",
    "cb.set_label('[rad]')\n",
    "plt.title('Ground phase')\n",
    "plt.axis('off')\n",
    "\n",
    "plt.tight_layout()"
   ]
  },
  {
   "cell_type": "markdown",
   "metadata": {},
   "source": [
    "**Step 8: Visualize the Coherence Region for one pixel**"
   ]
  },
  {
   "cell_type": "code",
   "execution_count": null,
   "metadata": {},
   "outputs": [],
   "source": [
    "# --- Plot coherence region for one pixel\n",
    "px_az = 6000\n",
    "px_rg = 500\n",
    "\n",
    "# --- Get the Pi matrix for the selected pixel\n",
    "px_P11 = P11[px_az, px_rg]\n",
    "px_P12 = P12[px_az, px_rg]\n",
    "px_P21 = P21[px_az, px_rg]\n",
    "px_P22 = P22[px_az, px_rg]\n",
    "# --- Get the coherences for the selected pixel\n",
    "px_gv = gamma_v[px_az, px_rg]\n",
    "px_gphamin = gamma_phamin[px_az, px_rg]\n",
    "px_gg = gamma_g[px_az, px_rg]\n",
    "\n",
    "# --- Plot Coherence Region \n",
    "plt.figure()\n",
    "\n",
    "# BEFORE compensating phi0\n",
    "ax = plot_coherence_region_P(px_P11, px_P12, px_P21, px_P22, color='k')\n",
    "ax.scatter(np.angle(px_gv), abs(px_gv), c='g')\n",
    "ax.scatter(np.angle(px_gphamin), abs(px_gphamin), c='r')\n",
    "\n",
    "# calculate Pol-InSAR line parameters \n",
    "slope = np.imag(px_gv - px_gphamin) / np.real(px_gv - px_gphamin)\n",
    "qq = np.imag(px_gv) - slope * np.real(px_gv)\n",
    "# now the line for 2 points\n",
    "xx = np.asarray([-1, 1])\n",
    "yy = slope*xx + qq\n",
    "points = xx + 1j*yy\n",
    "# and now plot\n",
    "ax.plot(np.angle(points), np.abs(points), c = 'k')\n",
    "\n",
    "ax.scatter(np.angle(px_gg), abs(px_gg), c='brown')\n",
    "\n",
    "# --- Compensate phi0 ... \n",
    "px_P11 = P11[px_az, px_rg] * np.conj(px_gg)\n",
    "px_P12 = P12[px_az, px_rg] * np.conj(px_gg)\n",
    "px_P21 = P21[px_az, px_rg] * np.conj(px_gg)\n",
    "px_P22 = P22[px_az, px_rg] * np.conj(px_gg)\n",
    "# ... Over coh \n",
    "px_gv = gamma_v[px_az, px_rg] * np.conj(px_gg)\n",
    "px_gphamin = gamma_phamin[px_az, px_rg] * np.conj(px_gg)\n",
    "px_gg = gamma_g[px_az, px_rg] * np.conj(px_gg)\n",
    "# plot AFTER compensating phi0  <======= TO BE COMPLETED !\n",
    "ax = plot_coherence_region_P(px_P11, px_P12, px_P21, px_P22, color='b')\n",
    "ax.scatter(np.angle(px_gv), abs(px_gv), c='g')\n",
    "ax.scatter(np.angle(px_gphamin), abs(px_gphamin), c='r')\n",
    "ax.plot(np.angle([px_gg, px_gv]), np.abs([px_gg, px_gv]), c='b')\n",
    "\n",
    "# Coherence Region normalized to the Unit Circle: from 0 to 1\n",
    "ax.set_rmax(1)\n"
   ]
  },
  {
   "cell_type": "markdown",
   "metadata": {},
   "source": [
    "**Step 9: Compensate ground phase**"
   ]
  },
  {
   "cell_type": "code",
   "execution_count": null,
   "metadata": {},
   "outputs": [],
   "source": [
    "# --- Volume-only coherence  <======= TO BE COMPLETED !\n"
   ]
  },
  {
   "cell_type": "markdown",
   "metadata": {},
   "source": [
    "**Step 10: Plot look-up table for the chosen pixel**\n",
    "\n",
    "<div>\n",
    "<img src=\"img/09_volume_coherence_model_eq.png\" width=\"600\"/>\n",
    "</div>"
   ]
  },
  {
   "cell_type": "code",
   "execution_count": null,
   "metadata": {},
   "outputs": [],
   "source": [
    "# --- Open incidence angle\n",
    "incang = rrat(path + 'incidence_15tmpsar0302_L_t01.rat', block=[minaz, maxaz, minrg, maxrg])"
   ]
  },
  {
   "cell_type": "code",
   "execution_count": null,
   "metadata": {},
   "outputs": [],
   "source": [
    "# define interval of variation of height and extinction  <======= TO BE COMPLETED !\n",
    "\n",
    "\n",
    "# --- Calculate LUT = Look-up table = all the coherences for every combination of height and extinction <======= TO BE COMPLETED !\n"
   ]
  },
  {
   "cell_type": "markdown",
   "metadata": {},
   "source": [
    "**Step 11: Forest height inversion & validation**"
   ]
  },
  {
   "cell_type": "code",
   "execution_count": null,
   "metadata": {},
   "outputs": [],
   "source": [
    "# --- Estimate forest height  \n",
    "\n",
    "# Get positions in rg and az to process\n",
    "pos_rg = np.arange(0, gamma_v0.shape[1], looksr)\n",
    "pos_az = np.arange(0, gamma_v0.shape[0], looksa)\n",
    "\n",
    "# Make meshgrid\n",
    "rgm, azm = np.meshgrid(pos_rg, pos_az)\n",
    "\n",
    "# Flatten indexes \n",
    "rgm = rgm.flatten()\n",
    "azm = azm.flatten()\n",
    "\n",
    "# --- Define interval of variation of height and extinction <======= TO BE COMPLETED !\n",
    "\n",
    "\n",
    "# Make meshgrid H, s <======= TO BE COMPLETED !\n",
    "\n",
    "\n",
    "# Define output arrays \n",
    "Hest = np.zeros(rgm.shape)\n",
    "sest = np.zeros(rgm.shape)\n",
    "\n",
    "for i in tqdm( range(rgm.size) ):  # <======= TO BE COMPLETED !\n",
    "\n",
    "    \n",
    "# Reshape Hest\n",
    "Hest = np.reshape(Hest, (pos_az.size, pos_rg.size))"
   ]
  },
  {
   "cell_type": "code",
   "execution_count": null,
   "metadata": {},
   "outputs": [],
   "source": [
    "# --- Open lidar height\n",
    "H = rrat(path + 'Lida_r1503.rat', block=[minaz, maxaz, minrg, maxrg])"
   ]
  },
  {
   "cell_type": "code",
   "execution_count": null,
   "metadata": {},
   "outputs": [],
   "source": [
    "# display estimates  \n",
    "\n",
    "Hl_small = H[pos_az,:]\n",
    "Hl_small = Hl_small[:,pos_rg]\n",
    "\n",
    "kz_small = kz[pos_az,:]\n",
    "kz_small = kz_small[:,pos_rg]\n",
    "\n",
    "gamma_v0_s = gamma_v0[pos_az,:]\n",
    "gamma_v0_s = gamma_v0_s[:,pos_rg]\n",
    "\n",
    "# Mask out non relevant estimates  <======= TO BE COMPLETED !\n",
    "\n",
    "# display \n",
    "plt.figure(figsize=(6,10))\n",
    "\n",
    "plt.subplot(1,2,1)\n",
    "plt.imshow(Hest, vmin=0, vmax=50, cmap='jet', aspect='auto')\n",
    "plt.colorbar(orientation='horizontal', pad=0.05)\n",
    "plt.title('PolInSAR height (m)')\n",
    "\n",
    "plt.subplot(1,2,2)\n",
    "plt.imshow(Hl_small, vmin=0, vmax=50, cmap='jet', aspect='auto')\n",
    "plt.colorbar(orientation='horizontal', pad=0.05)\n",
    "plt.title('Lidar height (m)')\n",
    "\n",
    "plt.tight_layout()"
   ]
  },
  {
   "cell_type": "code",
   "execution_count": null,
   "metadata": {},
   "outputs": [],
   "source": [
    "# --- Validation  \n",
    "\n",
    "# 2D histogram Lidar height vs PolInSAR height  <======= TO BE COMPLETED !\n",
    "hist2d = \n",
    "\n",
    "# display\n",
    "plt.figure(figsize=(6,6))\n",
    "plt.imshow(np.transpose(hist2d), cmap='jet', origin='lower', aspect='auto', extent=[0, 50, 0, 50])\n",
    "plt.plot([0, 50], [0, 50], \"w--\")\n",
    "plt.xlabel('Lidar height (m)')\n",
    "plt.ylabel('PolInSAR height (m)')\n",
    "plt.grid()\n",
    "plt.tight_layout()"
   ]
  },
  {
   "cell_type": "code",
   "execution_count": null,
   "metadata": {},
   "outputs": [],
   "source": []
  }
 ],
 "metadata": {
  "kernelspec": {
   "display_name": "Python 3 (ipykernel)",
   "language": "python",
   "name": "python3"
  },
  "language_info": {
   "codemirror_mode": {
    "name": "ipython",
    "version": 3
   },
   "file_extension": ".py",
   "mimetype": "text/x-python",
   "name": "python",
   "nbconvert_exporter": "python",
   "pygments_lexer": "ipython3",
   "version": "3.11.6"
  },
  "vscode": {
   "interpreter": {
    "hash": "b38a86dff5391a3e5e7f3bd14be0cbfbcdb27b49e16014041cdba9d65342e867"
   }
  }
 },
 "nbformat": 4,
 "nbformat_minor": 4
}
