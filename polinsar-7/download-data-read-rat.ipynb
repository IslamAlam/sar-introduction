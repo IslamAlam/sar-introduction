{
 "cells": [
  {
   "cell_type": "code",
   "execution_count": 1,
   "id": "3475b2b7-9b7e-4e7b-b904-291dc5ecf81d",
   "metadata": {
    "tags": []
   },
   "outputs": [],
   "source": [
    "from pysarpro import io, data\n",
    "from pysarpro.io import rrat"
   ]
  },
  {
   "cell_type": "code",
   "execution_count": 2,
   "id": "a49f9be0-9512-4aa7-a124-f9b552cdc09d",
   "metadata": {
    "tags": []
   },
   "outputs": [
    {
     "name": "stderr",
     "output_type": "stream",
     "text": [
      "Downloading file 'data/01-sar/raw-img.rat' from 'https://zenodo.org/records/10797182/files/raw-img.rat' to '/projects'.\n"
     ]
    }
   ],
   "source": [
    "data.download_all(directory=\"/projects\", pattern=r'^data/01-sar')"
   ]
  },
  {
   "cell_type": "code",
   "execution_count": 3,
   "id": "3f9def57-17bb-4c07-9a5e-cbd53437ddc8",
   "metadata": {
    "tags": []
   },
   "outputs": [
    {
     "name": "stderr",
     "output_type": "stream",
     "text": [
      "Downloading file 'data/insar/common_profile.npy' from 'https://zenodo.org/records/10797182/files/common_profile.npy' to '/projects'.\n",
      "Downloading file 'data/insar/flat_earth_Mondah_S_2015_11_11_cut.npy' from 'https://zenodo.org/records/10797182/files/flat_earth_Mondah_S_2015_11_11_cut.npy' to '/projects'.\n",
      "Downloading file 'data/insar/flat_earth_Mondah_S_2015_11_11_cut.rat' from 'https://zenodo.org/records/10797182/files/flat_earth_Mondah_S_2015_11_11_cut.rat' to '/projects'.\n",
      "Downloading file 'data/insar/image1.rat' from 'https://zenodo.org/records/10797182/files/image1.rat' to '/projects'.\n",
      "Downloading file 'data/insar/image2.rat' from 'https://zenodo.org/records/10797182/files/image2.rat' to '/projects'.\n",
      "Downloading file 'data/insar/master_HH_Mondah_S_2015_11_11_cut.npy' from 'https://zenodo.org/records/10797182/files/master_HH_Mondah_S_2015_11_11_cut.npy' to '/projects'.\n",
      "Downloading file 'data/insar/master_HH_Mondah_S_2015_11_11_cut.rat' from 'https://zenodo.org/records/10797182/files/master_HH_Mondah_S_2015_11_11_cut.rat' to '/projects'.\n",
      "Downloading file 'data/insar/RH100_Mondah_S_2015_11_11_cut.npy' from 'https://zenodo.org/records/10797182/files/RH100_Mondah_S_2015_11_11_cut.npy' to '/projects'.\n",
      "Downloading file 'data/insar/RH100_Mondah_S_2015_11_11_cut.rat' from 'https://zenodo.org/records/10797182/files/RH100_Mondah_S_2015_11_11_cut.rat' to '/projects'.\n",
      "Downloading file 'data/insar/slave_HH_Mondah_S_2015_11_11_cut.npy' from 'https://zenodo.org/records/10797182/files/slave_HH_Mondah_S_2015_11_11_cut.npy' to '/projects'.\n",
      "Downloading file 'data/insar/slave_HH_Mondah_S_2015_11_11_cut.rat' from 'https://zenodo.org/records/10797182/files/slave_HH_Mondah_S_2015_11_11_cut.rat' to '/projects'.\n"
     ]
    }
   ],
   "source": [
    "data.download_all(directory=\"/projects\", pattern=r'^data/insar')"
   ]
  },
  {
   "cell_type": "code",
   "execution_count": 4,
   "id": "85eecae1-efa9-4871-8de7-ca08ea611ca2",
   "metadata": {
    "tags": []
   },
   "outputs": [
    {
     "name": "stderr",
     "output_type": "stream",
     "text": [
      "Downloading file 'data/polsar/slc_16afrisr0107_Lhh_tcal_test.rat' from 'https://zenodo.org/records/10797182/files/slc_16afrisr0107_Lhh_tcal_test.rat' to '/projects'.\n",
      "Failed to download 'slc_16afrisr0107_Lhh_tcal_test.rat'. Will attempt the download again 3 more times.\n",
      "Downloading file 'data/polsar/slc_16afrisr0107_Lhh_tcal_test.rat.hdr' from 'https://zenodo.org/records/10797182/files/slc_16afrisr0107_Lhh_tcal_test.rat.hdr' to '/projects'.\n",
      "Failed to download 'slc_16afrisr0107_Lhh_tcal_test.rat.hdr'. Will attempt the download again 3 more times.\n",
      "Downloading file 'data/polsar/slc_16afrisr0107_Lhv_tcal_test.rat' from 'https://zenodo.org/records/10797182/files/slc_16afrisr0107_Lhv_tcal_test.rat' to '/projects'.\n",
      "Downloading file 'data/polsar/slc_16afrisr0107_Lhv_tcal_test.rat.hdr' from 'https://zenodo.org/records/10797182/files/slc_16afrisr0107_Lhv_tcal_test.rat.hdr' to '/projects'.\n",
      "Downloading file 'data/polsar/slc_16afrisr0107_Lvh_tcal_test.rat' from 'https://zenodo.org/records/10797182/files/slc_16afrisr0107_Lvh_tcal_test.rat' to '/projects'.\n",
      "Downloading file 'data/polsar/slc_16afrisr0107_Lvh_tcal_test.rat.hdr' from 'https://zenodo.org/records/10797182/files/slc_16afrisr0107_Lvh_tcal_test.rat.hdr' to '/projects'.\n",
      "Downloading file 'data/polsar/slc_16afrisr0107_Lvv_tcal_test.rat' from 'https://zenodo.org/records/10797182/files/slc_16afrisr0107_Lvv_tcal_test.rat' to '/projects'.\n",
      "Downloading file 'data/polsar/slc_16afrisr0107_Lvv_tcal_test.rat.hdr' from 'https://zenodo.org/records/10797182/files/slc_16afrisr0107_Lvv_tcal_test.rat.hdr' to '/projects'.\n"
     ]
    }
   ],
   "source": [
    "data.download_all(directory=\"/projects\", pattern=r'^data/polsar')"
   ]
  },
  {
   "cell_type": "code",
   "execution_count": 5,
   "id": "2787bb80-7a30-491c-90d4-3f058cfd4317",
   "metadata": {
    "tags": []
   },
   "outputs": [
    {
     "name": "stderr",
     "output_type": "stream",
     "text": [
      "Downloading file 'data/polinsar/gamma_max.rat' from 'https://zenodo.org/records/10797182/files/gamma_max.rat' to '/projects'.\n",
      "Downloading file 'data/polinsar/gamma_min.rat' from 'https://zenodo.org/records/10797182/files/gamma_min.rat' to '/projects'.\n",
      "Downloading file 'data/polinsar/incidence_15tmpsar0302_L_t01.rat' from 'https://zenodo.org/records/10797182/files/incidence_15tmpsar0302_L_t01.rat' to '/projects'.\n",
      "Downloading file 'data/polinsar/kz_2d_demc_15tmpsar0302_15tmpsar0303_t01.rat' from 'https://zenodo.org/records/10797182/files/kz_2d_demc_15tmpsar0302_15tmpsar0303_t01.rat' to '/projects'.\n",
      "Downloading file 'data/polinsar/Lida_r1503.rat' from 'https://zenodo.org/records/10797182/files/Lida_r1503.rat' to '/projects'.\n",
      "Downloading file 'data/polinsar/local_slope_15tmpsar0302_L_t01.rat' from 'https://zenodo.org/records/10797182/files/local_slope_15tmpsar0302_L_t01.rat' to '/projects'.\n",
      "Downloading file 'data/polinsar/pha_flat_15tmpsar0302_15tmpsar0303_Lhh_t01.rat' from 'https://zenodo.org/records/10797182/files/pha_flat_15tmpsar0302_15tmpsar0303_Lhh_t01.rat' to '/projects'.\n",
      "Downloading file 'data/polinsar/pha_max.rat' from 'https://zenodo.org/records/10797182/files/pha_max.rat' to '/projects'.\n",
      "Downloading file 'data/polinsar/pha_min.rat' from 'https://zenodo.org/records/10797182/files/pha_min.rat' to '/projects'.\n",
      "Downloading file 'data/polinsar/slc_15tmpsar0302_Lhh_t01.rat' from 'https://zenodo.org/records/10797182/files/slc_15tmpsar0302_Lhh_t01.rat' to '/projects'.\n",
      "Downloading file 'data/polinsar/slc_15tmpsar0302_Lhv_t01.rat' from 'https://zenodo.org/records/10797182/files/slc_15tmpsar0302_Lhv_t01.rat' to '/projects'.\n",
      "Downloading file 'data/polinsar/slc_15tmpsar0302_Lvh_t01.rat' from 'https://zenodo.org/records/10797182/files/slc_15tmpsar0302_Lvh_t01.rat' to '/projects'.\n",
      "Downloading file 'data/polinsar/slc_15tmpsar0302_Lvv_t01.rat' from 'https://zenodo.org/records/10797182/files/slc_15tmpsar0302_Lvv_t01.rat' to '/projects'.\n",
      "Downloading file 'data/polinsar/slc_coreg_15tmpsar0302_15tmpsar0303_Lhh_t01.rat' from 'https://zenodo.org/records/10797182/files/slc_coreg_15tmpsar0302_15tmpsar0303_Lhh_t01.rat' to '/projects'.\n",
      "Downloading file 'data/polinsar/slc_coreg_15tmpsar0302_15tmpsar0303_Lhv_t01.rat' from 'https://zenodo.org/records/10797182/files/slc_coreg_15tmpsar0302_15tmpsar0303_Lhv_t01.rat' to '/projects'.\n",
      "Downloading file 'data/polinsar/slc_coreg_15tmpsar0302_15tmpsar0303_Lvh_t01.rat' from 'https://zenodo.org/records/10797182/files/slc_coreg_15tmpsar0302_15tmpsar0303_Lvh_t01.rat' to '/projects'.\n",
      "Downloading file 'data/polinsar/slc_coreg_15tmpsar0302_15tmpsar0303_Lvv_t01.rat' from 'https://zenodo.org/records/10797182/files/slc_coreg_15tmpsar0302_15tmpsar0303_Lvv_t01.rat' to '/projects'.\n"
     ]
    }
   ],
   "source": [
    "data.download_all(directory=\"/projects\", pattern=r'^data/polinsar')"
   ]
  },
  {
   "cell_type": "code",
   "execution_count": 2,
   "id": "45d262ac-2e87-4407-8b02-8d4b0738386d",
   "metadata": {
    "tags": []
   },
   "outputs": [
    {
     "name": "stderr",
     "output_type": "stream",
     "text": [
      "Downloading file 'data/tomosar/kz_06.rat' from 'https://zenodo.org/records/10797182/files/kz_06.rat' to '/projects'.\n",
      "Downloading file 'data/tomosar/kz_07.rat' from 'https://zenodo.org/records/10797182/files/kz_07.rat' to '/projects'.\n",
      "Downloading file 'data/tomosar/kz_08.rat' from 'https://zenodo.org/records/10797182/files/kz_08.rat' to '/projects'.\n",
      "Downloading file 'data/tomosar/kz_09.rat' from 'https://zenodo.org/records/10797182/files/kz_09.rat' to '/projects'.\n",
      "Downloading file 'data/tomosar/kz_10.rat' from 'https://zenodo.org/records/10797182/files/kz_10.rat' to '/projects'.\n",
      "Downloading file 'data/tomosar/lidar_chm.rat' from 'https://zenodo.org/records/10797182/files/lidar_chm.rat' to '/projects'.\n",
      "Downloading file 'data/tomosar/lidar_dtm.rat' from 'https://zenodo.org/records/10797182/files/lidar_dtm.rat' to '/projects'.\n",
      "Downloading file 'data/tomosar/pha_dem_00.rat' from 'https://zenodo.org/records/10797182/files/pha_dem_00.rat' to '/projects'.\n",
      "Downloading file 'data/tomosar/pha_dem_01.rat' from 'https://zenodo.org/records/10797182/files/pha_dem_01.rat' to '/projects'.\n",
      "Downloading file 'data/tomosar/pha_dem_02.rat' from 'https://zenodo.org/records/10797182/files/pha_dem_02.rat' to '/projects'.\n",
      "Downloading file 'data/tomosar/pha_dem_03.rat' from 'https://zenodo.org/records/10797182/files/pha_dem_03.rat' to '/projects'.\n",
      "Downloading file 'data/tomosar/pha_dem_04.rat' from 'https://zenodo.org/records/10797182/files/pha_dem_04.rat' to '/projects'.\n",
      "Downloading file 'data/tomosar/pha_dem_05.rat' from 'https://zenodo.org/records/10797182/files/pha_dem_05.rat' to '/projects'.\n",
      "Downloading file 'data/tomosar/pha_dem_06.rat' from 'https://zenodo.org/records/10797182/files/pha_dem_06.rat' to '/projects'.\n",
      "Downloading file 'data/tomosar/pha_dem_07.rat' from 'https://zenodo.org/records/10797182/files/pha_dem_07.rat' to '/projects'.\n",
      "Downloading file 'data/tomosar/pha_dem_08.rat' from 'https://zenodo.org/records/10797182/files/pha_dem_08.rat' to '/projects'.\n",
      "Downloading file 'data/tomosar/pha_dem_09.rat' from 'https://zenodo.org/records/10797182/files/pha_dem_09.rat' to '/projects'.\n",
      "Downloading file 'data/tomosar/pha_dem_10.rat' from 'https://zenodo.org/records/10797182/files/pha_dem_10.rat' to '/projects'.\n",
      "Downloading file 'data/tomosar/pos_scatters_ground.npy' from 'https://zenodo.org/records/10797182/files/pos_scatters_ground.npy' to '/projects'.\n",
      "Failed to download 'pos_scatters_ground.npy'. Will attempt the download again 3 more times.\n",
      "Downloading file 'data/tomosar/pos_scatters_layer1.npy' from 'https://zenodo.org/records/10797182/files/pos_scatters_layer1.npy' to '/projects'.\n",
      "Downloading file 'data/tomosar/slc_00_HH.rat' from 'https://zenodo.org/records/10797182/files/slc_00_HH.rat' to '/projects'.\n",
      "Downloading file 'data/tomosar/slc_00_HV.rat' from 'https://zenodo.org/records/10797182/files/slc_00_HV.rat' to '/projects'.\n",
      "Downloading file 'data/tomosar/slc_00_VV.rat' from 'https://zenodo.org/records/10797182/files/slc_00_VV.rat' to '/projects'.\n",
      "Downloading file 'data/tomosar/slc_01_HH.rat' from 'https://zenodo.org/records/10797182/files/slc_01_HH.rat' to '/projects'.\n",
      "Downloading file 'data/tomosar/slc_01_HV.rat' from 'https://zenodo.org/records/10797182/files/slc_01_HV.rat' to '/projects'.\n",
      "Downloading file 'data/tomosar/slc_01_VV.rat' from 'https://zenodo.org/records/10797182/files/slc_01_VV.rat' to '/projects'.\n",
      "Downloading file 'data/tomosar/slc_02_HH.rat' from 'https://zenodo.org/records/10797182/files/slc_02_HH.rat' to '/projects'.\n",
      "Downloading file 'data/tomosar/slc_02_HV.rat' from 'https://zenodo.org/records/10797182/files/slc_02_HV.rat' to '/projects'.\n",
      "Downloading file 'data/tomosar/slc_02_VV.rat' from 'https://zenodo.org/records/10797182/files/slc_02_VV.rat' to '/projects'.\n",
      "Downloading file 'data/tomosar/slc_03_HH.rat' from 'https://zenodo.org/records/10797182/files/slc_03_HH.rat' to '/projects'.\n",
      "Downloading file 'data/tomosar/slc_03_HV.rat' from 'https://zenodo.org/records/10797182/files/slc_03_HV.rat' to '/projects'.\n",
      "Downloading file 'data/tomosar/slc_03_VV.rat' from 'https://zenodo.org/records/10797182/files/slc_03_VV.rat' to '/projects'.\n",
      "Downloading file 'data/tomosar/slc_04_HH.rat' from 'https://zenodo.org/records/10797182/files/slc_04_HH.rat' to '/projects'.\n",
      "Downloading file 'data/tomosar/slc_04_HV.rat' from 'https://zenodo.org/records/10797182/files/slc_04_HV.rat' to '/projects'.\n",
      "Downloading file 'data/tomosar/slc_04_VV.rat' from 'https://zenodo.org/records/10797182/files/slc_04_VV.rat' to '/projects'.\n",
      "Downloading file 'data/tomosar/slc_05_HH.rat' from 'https://zenodo.org/records/10797182/files/slc_05_HH.rat' to '/projects'.\n",
      "Failed to download 'slc_05_HH.rat'. Will attempt the download again 3 more times.\n",
      "Failed to download 'slc_05_HH.rat'. Will attempt the download again 2 more times.\n",
      "Downloading file 'data/tomosar/slc_05_HV.rat' from 'https://zenodo.org/records/10797182/files/slc_05_HV.rat' to '/projects'.\n",
      "Downloading file 'data/tomosar/slc_05_VV.rat' from 'https://zenodo.org/records/10797182/files/slc_05_VV.rat' to '/projects'.\n",
      "Downloading file 'data/tomosar/slc_06_HH.rat' from 'https://zenodo.org/records/10797182/files/slc_06_HH.rat' to '/projects'.\n",
      "Downloading file 'data/tomosar/slc_06_HV.rat' from 'https://zenodo.org/records/10797182/files/slc_06_HV.rat' to '/projects'.\n",
      "Downloading file 'data/tomosar/slc_06_VV.rat' from 'https://zenodo.org/records/10797182/files/slc_06_VV.rat' to '/projects'.\n",
      "Downloading file 'data/tomosar/slc_07_HH.rat' from 'https://zenodo.org/records/10797182/files/slc_07_HH.rat' to '/projects'.\n",
      "Downloading file 'data/tomosar/slc_07_HV.rat' from 'https://zenodo.org/records/10797182/files/slc_07_HV.rat' to '/projects'.\n",
      "Downloading file 'data/tomosar/slc_07_VV.rat' from 'https://zenodo.org/records/10797182/files/slc_07_VV.rat' to '/projects'.\n",
      "Downloading file 'data/tomosar/slc_08_HH.rat' from 'https://zenodo.org/records/10797182/files/slc_08_HH.rat' to '/projects'.\n",
      "Downloading file 'data/tomosar/slc_08_HV.rat' from 'https://zenodo.org/records/10797182/files/slc_08_HV.rat' to '/projects'.\n",
      "Downloading file 'data/tomosar/slc_08_VV.rat' from 'https://zenodo.org/records/10797182/files/slc_08_VV.rat' to '/projects'.\n",
      "Downloading file 'data/tomosar/slc_09_HH.rat' from 'https://zenodo.org/records/10797182/files/slc_09_HH.rat' to '/projects'.\n",
      "Downloading file 'data/tomosar/slc_09_HV.rat' from 'https://zenodo.org/records/10797182/files/slc_09_HV.rat' to '/projects'.\n",
      "Downloading file 'data/tomosar/slc_09_VV.rat' from 'https://zenodo.org/records/10797182/files/slc_09_VV.rat' to '/projects'.\n",
      "Downloading file 'data/tomosar/slc_10_HH.rat' from 'https://zenodo.org/records/10797182/files/slc_10_HH.rat' to '/projects'.\n",
      "Downloading file 'data/tomosar/slc_10_HV.rat' from 'https://zenodo.org/records/10797182/files/slc_10_HV.rat' to '/projects'.\n",
      "Downloading file 'data/tomosar/slc_10_VV.rat' from 'https://zenodo.org/records/10797182/files/slc_10_VV.rat' to '/projects'.\n"
     ]
    }
   ],
   "source": [
    "data.download_all(directory=\"/projects\", pattern=r'^data/tomosar')"
   ]
  },
  {
   "cell_type": "code",
   "execution_count": 2,
   "id": "32ccca0f-2c6b-4673-ad05-f424f7f96adf",
   "metadata": {},
   "outputs": [
    {
     "data": {
      "text/plain": [
       "(9984, 3772)"
      ]
     },
     "execution_count": 2,
     "metadata": {},
     "output_type": "execute_result"
    }
   ],
   "source": [
    "img = rrat('/projects/data/01-sar/raw-img.rat')\n",
    "img.shape"
   ]
  },
  {
   "cell_type": "code",
   "execution_count": null,
   "id": "135a4f73-5501-4335-8b1d-33b955d9fa42",
   "metadata": {},
   "outputs": [],
   "source": []
  }
 ],
 "metadata": {
  "kernelspec": {
   "display_name": "Python 3 (ipykernel)",
   "language": "python",
   "name": "python3"
  },
  "language_info": {
   "codemirror_mode": {
    "name": "ipython",
    "version": 3
   },
   "file_extension": ".py",
   "mimetype": "text/x-python",
   "name": "python",
   "nbconvert_exporter": "python",
   "pygments_lexer": "ipython3",
   "version": "3.11.6"
  }
 },
 "nbformat": 4,
 "nbformat_minor": 5
}
