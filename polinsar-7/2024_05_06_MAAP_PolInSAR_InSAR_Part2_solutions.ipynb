{
 "cells": [
  {
   "cell_type": "markdown",
   "metadata": {},
   "source": [
    "# The PolInSAR Course - May 6, 2024\n",
    "# SAR Interferometry (InSAR) \n",
    "# Part 2: The InSAR Coherence & Height Inversion\n",
    "\n",
    "* TanDEM-X acquisition over Mondah forest (Gabon)\n",
    "* Path: 'data/insar/'\n",
    "* SLCs: master_HH_Mondah_S_2015_11_11_cut.rat, slave_HH_Mondah_S_2015_11_11_cut.rat\n",
    "* Flat-earth: flat_earth_Mondah_S_2015_11_11_cut.rat\n",
    "* Full-waveform Lidar (LVIS) RH100: RH100_Mondah_S_2015_11_11_cut.rat\n",
    "\n",
    "Objective:\n",
    "- Calculate InSAR coherence with a 20 m resolution, estimate forest height using the provided formulas, and validate the result against lidar\n",
    "\n",
    "Tips:\n",
    "- Compensate system decorrelation 0.97\n",
    "- Invalid points in the RH100 are set to -9999"
   ]
  },
  {
   "cell_type": "markdown",
   "metadata": {},
   "source": [
    "\n"
   ]
  },
  {
   "cell_type": "code",
   "execution_count": 1,
   "metadata": {},
   "outputs": [
    {
     "name": "stderr",
     "output_type": "stream",
     "text": [
      "/projects/src/ste_io.py:69: UserWarning: Failed to import STEtools.visualisation. write_pixmap will not work.\n",
      "  warnings.warn(\"Failed to import STEtools.visualisation. write_pixmap will not work.\")\n"
     ]
    }
   ],
   "source": [
    "# --- Download exercise data & import reader function\n",
    "from pysarpro import io, data\n",
    "from pysarpro.io import rrat\n",
    "\n",
    "data.download_all(directory=\"/projects\", pattern=r'^data/insar')\n",
    "\n",
    "# --- Import useful libraries, functions, and modules\n",
    "import sys\n",
    "sys.path.append('/projects/src/')\n",
    "import numpy as np\n",
    "import matplotlib.pyplot as plt\n",
    "from scipy.ndimage import uniform_filter\n",
    "from numpy.fft import fft2, ifft2\n",
    "\n",
    "%matplotlib widget\n"
   ]
  },
  {
   "cell_type": "code",
   "execution_count": 2,
   "metadata": {},
   "outputs": [],
   "source": [
    "def calculate_covariance(im1, im2, looksr, looksa) : \n",
    "    \n",
    "    corr = uniform_filter(np.real(im1*np.conj(im2)), [looksa,looksr]) + 1j* \\\n",
    "                uniform_filter(np.imag(im1*np.conj(im2)), [looksa,looksr])\n",
    "    \n",
    "    return corr"
   ]
  },
  {
   "cell_type": "markdown",
   "metadata": {},
   "source": [
    "**Input parameters**"
   ]
  },
  {
   "cell_type": "code",
   "execution_count": 3,
   "metadata": {},
   "outputs": [],
   "source": [
    "# path 2 images\n",
    "path = 'data/insar/'\n",
    "\n",
    "# Input TDX pixel spacing, in meters\n",
    "spacrg = 1.36411\n",
    "spacaz = 1.86817\n",
    "\n",
    "# TDX vertical wavenumber, in rad / meters\n",
    "kz = 0.06092195\n",
    "\n",
    "# Output range resolution, in meters\n",
    "resrg = 20.\n",
    "resaz = 20."
   ]
  },
  {
   "cell_type": "markdown",
   "metadata": {},
   "source": [
    "**Step 1: Open images, and visualize**"
   ]
  },
  {
   "cell_type": "code",
   "execution_count": 5,
   "metadata": {},
   "outputs": [
    {
     "data": {
      "application/vnd.jupyter.widget-view+json": {
       "model_id": "68f157e5d07d464ab63f16d37cc89dde",
       "version_major": 2,
       "version_minor": 0
      },
      "text/plain": [
       "Canvas(toolbar=Toolbar(toolitems=[('Home', 'Reset original view', 'home', 'home'), ('Back', 'Back to previous …"
      ]
     },
     "metadata": {},
     "output_type": "display_data"
    },
    {
     "data": {
      "text/plain": [
       "<matplotlib.image.AxesImage at 0x7f47f987d7c0>"
      ]
     },
     "execution_count": 5,
     "metadata": {},
     "output_type": "execute_result"
    }
   ],
   "source": [
    "# --- open images\n",
    "im1 = rrat(path + 'master_HH_Mondah_S_2015_11_11_cut.rat')\n",
    "im2 = rrat(path + 'slave_HH_Mondah_S_2015_11_11_cut.rat')\n",
    "\n",
    "# --- display\n",
    "amp1 = np.sqrt( np.abs( calculate_covariance(im1, im1, 7, 7) ) )\n",
    "plt.figure(figsize = (10, 5))\n",
    "plt.imshow(amp1, vmin = 0, vmax = 2*np.mean(amp1), aspect = 'auto', cmap = 'gray' )\n",
    "plt.title('Amplitude Master')"
   ]
  },
  {
   "cell_type": "markdown",
   "metadata": {},
   "source": [
    "**Step 2 : Compensate flat-earth**"
   ]
  },
  {
   "cell_type": "code",
   "execution_count": 6,
   "metadata": {},
   "outputs": [],
   "source": [
    "# --- open flat-earth phase\n",
    "fe = rrat(path + 'flat_earth_Mondah_S_2015_11_11_cut.rat')\n",
    "\n",
    "# --- compensate\n",
    "im2_fe = im2 * np.exp(1j * fe)\n"
   ]
  },
  {
   "cell_type": "markdown",
   "metadata": {},
   "source": [
    "**Step 3 : Calculate coherence**"
   ]
  },
  {
   "cell_type": "code",
   "execution_count": 12,
   "metadata": {},
   "outputs": [
    {
     "data": {
      "application/vnd.jupyter.widget-view+json": {
       "model_id": "6f33153d844148b4961585fdb1b124b4",
       "version_major": 2,
       "version_minor": 0
      },
      "text/plain": [
       "Canvas(toolbar=Toolbar(toolitems=[('Home', 'Reset original view', 'home', 'home'), ('Back', 'Back to previous …"
      ]
     },
     "metadata": {},
     "output_type": "display_data"
    },
    {
     "data": {
      "text/plain": [
       "<matplotlib.colorbar.Colorbar at 0x7f47f9253370>"
      ]
     },
     "execution_count": 12,
     "metadata": {},
     "output_type": "execute_result"
    }
   ],
   "source": [
    "# --- calculate number of looks\n",
    "looksr = int( resrg / spacrg )\n",
    "if looksr % 2 == 0 : looksr = looksr +1\n",
    "looksa = int( resaz / spacaz )\n",
    "if looksa % 2 == 0 : looksa = looksa +1\n",
    "\n",
    "# --- calculate coherence and display\n",
    "coherence = calculate_covariance(im1, im2_fe, looksr, looksa)\n",
    "amp1 = np.sqrt( np.abs(calculate_covariance(im1, im1, looksr, looksa)) )\n",
    "amp2 = np.sqrt( np.abs(calculate_covariance(im2_fe, im2_fe, looksr, looksa)) )\n",
    "\n",
    "coherence = coherence / amp1 / amp2\n",
    "\n",
    "# --- display \n",
    "plt.figure(figsize = (10, 10))\n",
    "plt.subplot(2, 1, 1)\n",
    "plt.imshow(np.abs(coherence), vmin = 0, vmax = 1, aspect = 'auto', cmap = 'gray' )\n",
    "plt.title('Coherence absolute value')\n",
    "plt.colorbar()\n",
    "plt.subplot(2, 1, 2)\n",
    "plt.imshow(np.angle(coherence), vmin = -np.pi, vmax = np.pi, aspect = 'auto', cmap = 'jet' )\n",
    "plt.title('Coherence phase')\n",
    "plt.colorbar()\n",
    "\n"
   ]
  },
  {
   "cell_type": "markdown",
   "metadata": {},
   "source": [
    "**Step 4 : Invert for forest height (closed-form)**"
   ]
  },
  {
   "cell_type": "code",
   "execution_count": 11,
   "metadata": {},
   "outputs": [],
   "source": [
    "# --- Compensate system decorrelation\n",
    "gammavol = np.abs(coherence) / 0.97\n",
    "gammavol[ gammavol > 1] = 1"
   ]
  },
  {
   "cell_type": "code",
   "execution_count": 13,
   "metadata": {},
   "outputs": [
    {
     "data": {
      "application/vnd.jupyter.widget-view+json": {
       "model_id": "e4b27fd4f445474c8c5c8e84f48c7099",
       "version_major": 2,
       "version_minor": 0
      },
      "text/plain": [
       "Canvas(toolbar=Toolbar(toolitems=[('Home', 'Reset original view', 'home', 'home'), ('Back', 'Back to previous …"
      ]
     },
     "metadata": {},
     "output_type": "display_data"
    },
    {
     "data": {
      "text/plain": [
       "<matplotlib.colorbar.Colorbar at 0x7f47f91aca90>"
      ]
     },
     "execution_count": 13,
     "metadata": {},
     "output_type": "execute_result"
    }
   ],
   "source": [
    "# --- height inversion\n",
    "hv = 2*np.pi / kz * (1 - 2/np.pi*np.arcsin(gammavol**0.8) )\n",
    "\n",
    "# --- display\n",
    "plt.figure(figsize = (10, 10))\n",
    "plt.subplot(2, 1, 1)\n",
    "plt.imshow(hv, vmin = 0, vmax = 60, cmap = 'jet' )\n",
    "plt.title('Inverted forest height')\n",
    "plt.colorbar()"
   ]
  },
  {
   "cell_type": "markdown",
   "metadata": {},
   "source": [
    "**Step 5 : Validation**"
   ]
  },
  {
   "cell_type": "code",
   "execution_count": null,
   "metadata": {},
   "outputs": [],
   "source": [
    "# --- open lidar reference height\n",
    "rh100 = rrat(path + 'RH100_Mondah_S_2015_11_11_cut.rat')\n",
    "\n",
    "# --- display\n",
    "plt.figure(figsize = (10, 10))\n",
    "plt.subplot(2, 1, 1)\n",
    "plt.imshow(hv, vmin = 0, vmax = 60, aspect = 'auto', cmap = 'jet' )\n",
    "plt.title('Inverted forest height')\n",
    "plt.colorbar()\n",
    "plt.subplot(2, 1, 2)\n",
    "plt.imshow(rh100, vmin = 0, vmax = 60, aspect = 'auto', cmap = 'jet' )\n",
    "plt.title('Lidar height RH100')\n",
    "plt.colorbar()"
   ]
  },
  {
   "cell_type": "code",
   "execution_count": null,
   "metadata": {},
   "outputs": [],
   "source": [
    "# --- validation histogram\n",
    "ind = (rh100 != -9999)\n",
    "hv_lim = (5,60)\n",
    "hist2d_hv = np.histogram2d(rh100[ind], hv[ind], bins=120, range=[hv_lim, hv_lim])\n",
    "\n",
    "# --- display histogram\n",
    "plt.figure(figsize=(5,5))\n",
    "plt.imshow( np.flipud(np.transpose(hist2d_hv[0])), cmap='jet', extent=[hv_lim[0], hv_lim[1],hv_lim[0], hv_lim[1]])\n",
    "plt.plot(hv_lim, hv_lim, lw=2, color='w', linestyle='--')\n",
    "plt.xlabel('Lidar height [m]')\n",
    "plt.ylabel('TDX height [m]')\n",
    "plt.grid()"
   ]
  }
 ],
 "metadata": {
  "kernelspec": {
   "display_name": "Python 3",
   "language": "python",
   "name": "python3"
  },
  "language_info": {
   "codemirror_mode": {
    "name": "ipython",
    "version": 3
   },
   "file_extension": ".py",
   "mimetype": "text/x-python",
   "name": "python",
   "nbconvert_exporter": "python",
   "pygments_lexer": "ipython3",
   "version": "3.8.6"
  }
 },
 "nbformat": 4,
 "nbformat_minor": 4
}
