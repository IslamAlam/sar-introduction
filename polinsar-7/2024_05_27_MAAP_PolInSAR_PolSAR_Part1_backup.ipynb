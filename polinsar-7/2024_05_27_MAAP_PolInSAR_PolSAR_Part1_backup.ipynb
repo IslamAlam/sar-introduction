{
 "cells": [
  {
   "cell_type": "markdown",
   "metadata": {},
   "source": [
    "# The PolInSAR Course - May 27, 2024\n",
    "# SAR Polarimetry (PolSAR) \n",
    "# Part 1: The scattering matrix"
   ]
  },
  {
   "cell_type": "markdown",
   "metadata": {},
   "source": [
    "**Input data:**\n",
    "\n",
    "- Acquisition: Nkok (Gabon), DLR's F-SAR, L-band\n",
    "\n",
    "- Path to images: /projects/data/polsar/\n",
    "\n",
    "- SLC (single-look complex) images:\n",
    "    - HH: slc_16afrisr0107_Lhh_tcal_test.rat\n",
    "    - HV: slc_16afrisr0107_Lhv_tcal_test.rat\n",
    "    - VH: slc_16afrisr0107_Lvh_tcal_test.rat\n",
    "    - VV: slc_16afrisr0107_Lvh_tcal_test.rat\n"
   ]
  },
  {
   "cell_type": "code",
   "execution_count": null,
   "metadata": {
    "tags": []
   },
   "outputs": [],
   "source": [
    "# --- Download exercise data & import reader function\n",
    "from pysarpro import io, data\n",
    "from pysarpro.io import rrat\n",
    "\n",
    "data.download_all(directory=\"/projects\", pattern=r'^data/polsar')\n",
    "\n",
    "# --- Import useful libaries, functions, and modules\n",
    "import sys\n",
    "sys.path.append('/projects/src/')\n",
    "import matplotlib.pyplot as plt\n",
    "import numpy as np\n",
    "from scipy.ndimage import uniform_filter\n",
    "%matplotlib widget"
   ]
  },
  {
   "cell_type": "markdown",
   "metadata": {},
   "source": [
    "**Auxiliary functions**"
   ]
  },
  {
   "cell_type": "code",
   "execution_count": null,
   "metadata": {
    "tags": []
   },
   "outputs": [],
   "source": [
    "def HSV_colormap_to_rgb(colormap, h, s, v):\n",
    "    \"\"\"\n",
    "    Makes an HSV-like RGB representation based on the given colormap instead\n",
    "    of 'hsv' colormap.\n",
    "    \n",
    "    See https://en.wikipedia.org/wiki/HSL_and_HSV\n",
    "\n",
    "    Parameters\n",
    "    ----------\n",
    "    colormap : function\n",
    "        Colormap function. Takes the values in 'h' array and returns an RGBA\n",
    "        value for each point. The ones in matplotlib.cm should be compatible\n",
    "    h : ndarray\n",
    "        Hue values. Usually between 0 and 1.0.\n",
    "    s : ndarray\n",
    "        Saturation values. Between 0 and 1.0.\n",
    "    v : ndarray\n",
    "        Value values. Between 0 and 1.0.\n",
    "\n",
    "    Returns\n",
    "    -------\n",
    "    rgb: ndarray\n",
    "        An array with the same shape as input + (3,) representing the RGB.\n",
    "    \"\"\"\n",
    "    # Generate color between given colormap (colormap(h)) and white (ones)\n",
    "    # according to the given saturation\n",
    "    tmp = (1-s)[..., np.newaxis]*np.ones(3) + s[..., np.newaxis] * colormap(h)[...,:3]\n",
    "    # Scale it by value\n",
    "    return v[..., np.newaxis] * tmp"
   ]
  },
  {
   "cell_type": "markdown",
   "metadata": {},
   "source": [
    "## Exercise 1\n",
    "\n",
    "Create, visualize and compare (where are they the same? where are they different?) RGB composite images using: \n",
    "\n",
    "- Lexicographic basis: \n",
    "    * R = HH\n",
    "    * G = HV\n",
    "    * B = VV \n",
    "- Pauli basis: \n",
    "    * R = HH-VV\n",
    "    * G = 2 * HV (or HV + VH)\n",
    "    * B = HH+VV\n",
    "\n",
    "Tips:\n",
    "- include multi-look - to be be performed by averaging intensities (abs^2) on a N x N pixels moving window in range - azimuth,\n",
    "- focus on a azimuth - range block within pixels [2500, 16000] and [0, 2000], respectively.\n"
   ]
  },
  {
   "cell_type": "markdown",
   "metadata": {},
   "source": [
    "**A. Input parameters**"
   ]
  },
  {
   "cell_type": "code",
   "execution_count": null,
   "metadata": {
    "tags": []
   },
   "outputs": [],
   "source": [
    "# path the data\n",
    "path = '/projects/data/polsar/'\n",
    "# number of looks\n",
    "looksa = 5\n",
    "looksr = 5"
   ]
  },
  {
   "cell_type": "markdown",
   "metadata": {},
   "source": [
    "**B. Open images, multi-look and visualize**"
   ]
  },
  {
   "cell_type": "code",
   "execution_count": null,
   "metadata": {
    "tags": []
   },
   "outputs": [],
   "source": [
    "# load SLCs\n",
    "slchh = rrat(path + 'slc_16afrisr0107_Lhh_tcal_test.rat', block = [2500, 16000, 0, 2000])\n",
    "slchv = rrat(path + 'slc_16afrisr0107_Lhv_tcal_test.rat', block = [2500, 16000, 0, 2000])\n",
    "slcvv = rrat(path + 'slc_16afrisr0107_Lvv_tcal_test.rat', block = [2500, 16000, 0, 2000])\n"
   ]
  },
  {
   "cell_type": "code",
   "execution_count": null,
   "metadata": {
    "tags": []
   },
   "outputs": [],
   "source": [
    "# multi-look on HH\n",
    "intensity_hh = (np.abs(slchh))**2\n",
    "amphh = np.sqrt(uniform_filter(intensity_hh, [looksa, looksr]))"
   ]
  },
  {
   "cell_type": "code",
   "execution_count": null,
   "metadata": {
    "tags": []
   },
   "outputs": [],
   "source": [
    "# delete unused variables\n",
    "del intensity_hh"
   ]
  },
  {
   "cell_type": "code",
   "execution_count": null,
   "metadata": {
    "tags": []
   },
   "outputs": [],
   "source": [
    "# plot both images: with and without multilooking\n",
    "\n",
    "plt.figure(figsize =(10,10))\n",
    "\n",
    "ax = plt.subplot(2,1,1)\n",
    "plt.imshow(np.transpose(np.abs(slchh)), vmin = 0, vmax = 3*np.mean(np.abs(slchh)), cmap = 'gray', aspect = 'auto')\n",
    "ax.set_title('Single look HH')\n",
    "plt.tight_layout()\n",
    "\n",
    "ax = plt.subplot(2,1,2)\n",
    "plt.imshow(np.transpose(amphh), vmin = 0, vmax = 3*np.mean(np.abs(slchh)), cmap = 'gray', aspect = 'auto')\n",
    "ax.set_title('Multi look HH')\n",
    "plt.tight_layout()"
   ]
  },
  {
   "cell_type": "markdown",
   "metadata": {},
   "source": [
    "**C. Lexicographic and Pauli basis representation**"
   ]
  },
  {
   "cell_type": "code",
   "execution_count": null,
   "metadata": {
    "tags": []
   },
   "outputs": [],
   "source": [
    "# 1. Representation in the lexicographic basis"
   ]
  },
  {
   "cell_type": "code",
   "execution_count": null,
   "metadata": {
    "tags": []
   },
   "outputs": [],
   "source": [
    "# multi-look each SLC (HH, VV, HV)\n",
    "intensity_vv = (np.abs(slcvv))**2\n",
    "ampvv = np.sqrt(uniform_filter(intensity_vv, [looksa, looksr]))\n",
    "intensity_hv = (np.abs(slchv))**2\n",
    "amphv = np.sqrt(uniform_filter(intensity_hv, [looksa, looksr]))\n",
    "\n",
    "del intensity_vv, intensity_hv"
   ]
  },
  {
   "cell_type": "code",
   "execution_count": null,
   "metadata": {
    "tags": []
   },
   "outputs": [],
   "source": [
    "# define the 3D array for the lexicographic representation\n",
    "dimaz = slchh.shape[0]\n",
    "dimrg = slchh.shape[1]\n",
    "print(dimaz, dimrg)\n",
    "rgb_lex = np.zeros((dimrg, dimaz, 3), 'float32')"
   ]
  },
  {
   "cell_type": "code",
   "execution_count": null,
   "metadata": {
    "tags": []
   },
   "outputs": [],
   "source": [
    "# fill the array, clipping the values between 0 and 2.5xmean(SLC amplitude)\n",
    "rgb_lex[:,:,0] = np.clip(np.transpose(amphh), 0,2.5*np.mean(amphh)) # R : HH amplitude\n",
    "rgb_lex[:,:,1] = np.clip(np.transpose(amphv), 0,2.5*np.mean(amphv)) # G : HV amplitude\n",
    "rgb_lex[:,:,2] = np.clip(np.transpose(ampvv), 0,2.5*np.mean(ampvv)) # B : VV amplitude\n",
    "\n",
    "# normalisation: values between 0 and 1\n",
    "rgb_lex[:,:,0] = rgb_lex[:,:,0] / np.max(rgb_lex[:,:,0])\n",
    "rgb_lex[:,:,1] = rgb_lex[:,:,1] / np.max(rgb_lex[:,:,1])\n",
    "rgb_lex[:,:,2] = rgb_lex[:,:,2] / np.max(rgb_lex[:,:,2])"
   ]
  },
  {
   "cell_type": "code",
   "execution_count": null,
   "metadata": {
    "tags": []
   },
   "outputs": [],
   "source": [
    "# 2. Representation in the Pauli basis"
   ]
  },
  {
   "cell_type": "code",
   "execution_count": null,
   "metadata": {
    "tags": []
   },
   "outputs": [],
   "source": [
    "# define and multi-look each Pauli component\n",
    "pauli1 = (np.abs(slchh + slcvv))**2\n",
    "pauli1 = np.sqrt(uniform_filter(pauli1, [looksa, looksr]))\n",
    "pauli2 = (np.abs(slchh - slcvv))**2\n",
    "pauli2 = np.sqrt(uniform_filter(pauli2, [looksa, looksr]))\n",
    "pauli3 = (np.abs(2*slchv))**2\n",
    "pauli3 = np.sqrt(uniform_filter(pauli3, [looksa, looksr]))"
   ]
  },
  {
   "cell_type": "code",
   "execution_count": null,
   "metadata": {
    "tags": []
   },
   "outputs": [],
   "source": [
    "# define the 3D array for the Pauli representation\n",
    "rgb_pauli = np.zeros((dimrg, dimaz, 3), 'float32')"
   ]
  },
  {
   "cell_type": "code",
   "execution_count": null,
   "metadata": {
    "tags": []
   },
   "outputs": [],
   "source": [
    "# fill the array, clipping the values between 0 and 2.5xmean(amplitude)\n",
    "rgb_pauli[:,:,0] = np.clip(np.transpose(pauli2), 0,2.5*np.mean(pauli2)) # R : HH-VV \n",
    "rgb_pauli[:,:,1] = np.clip(np.transpose(pauli3), 0,2.5*np.mean(pauli3)) # G : HV\n",
    "rgb_pauli[:,:,2] = np.clip(np.transpose(pauli1), 0,2.5*np.mean(pauli1)) # B : HH+VV\n",
    "# normalisation: values between 0 and 1\n",
    "rgb_pauli[:,:,0] = rgb_pauli[:,:,0] / np.max(rgb_pauli[:,:,0])\n",
    "rgb_pauli[:,:,1] = rgb_pauli[:,:,1] / np.max(rgb_pauli[:,:,1])\n",
    "rgb_pauli[:,:,2] = rgb_pauli[:,:,2] / np.max(rgb_pauli[:,:,2])"
   ]
  },
  {
   "cell_type": "code",
   "execution_count": null,
   "metadata": {
    "tags": []
   },
   "outputs": [],
   "source": [
    "# 3. Plot composites in both bases\n",
    "\n",
    "plt.figure(figsize =(10,10))\n",
    "\n",
    "ax = plt.subplot(2,1,1)\n",
    "plt.imshow(rgb_lex, aspect = 'auto')\n",
    "ax.set_title('Lexicographic representation')\n",
    "plt.tight_layout()\n",
    "\n",
    "ax = plt.subplot(2,1,2)\n",
    "plt.imshow(rgb_pauli, aspect = 'auto')\n",
    "ax.set_title('Pauli representation')\n",
    "plt.tight_layout()"
   ]
  },
  {
   "cell_type": "markdown",
   "metadata": {},
   "source": [
    "## Exercise 2"
   ]
  },
  {
   "cell_type": "markdown",
   "metadata": {},
   "source": [
    "Calculate and visualize the alpha angle."
   ]
  },
  {
   "cell_type": "markdown",
   "metadata": {},
   "source": [
    "**A. Compute and visualize Alpha**"
   ]
  },
  {
   "cell_type": "code",
   "execution_count": null,
   "metadata": {
    "tags": []
   },
   "outputs": [],
   "source": [
    "# Compute the alpha angle\n",
    "\n",
    "# -- calculate the length of the Pauli vector\n",
    "pauli_le = np.sqrt(np.abs(pauli1)**2 + np.abs(pauli2)**2 + np.abs(pauli3)**2)\n",
    "\n",
    "# -- calculate the alpha angle\n",
    "alpha = np.arccos(np.abs(pauli1) / pauli_le) # [rad]"
   ]
  },
  {
   "cell_type": "code",
   "execution_count": null,
   "metadata": {
    "tags": []
   },
   "outputs": [],
   "source": [
    "# Plot Pauli and alpha\n",
    "\n",
    "plt.figure(figsize =(10,10))\n",
    "\n",
    "ax = plt.subplot(2,1,1)\n",
    "plt.imshow(rgb_pauli, aspect = 'auto')\n",
    "ax.set_title('Pauli representation')\n",
    "plt.colorbar()\n",
    "plt.tight_layout()\n",
    "\n",
    "ax = plt.subplot(2,1,2)\n",
    "plt.imshow(np.transpose(np.degrees(alpha)), cmap = 'turbo', vmin = 0, vmax = 90 , aspect = 'auto')\n",
    "ax.set_title('Alpha angle [deg]')\n",
    "plt.colorbar()\n",
    "plt.tight_layout()"
   ]
  },
  {
   "cell_type": "markdown",
   "metadata": {},
   "source": [
    "**B. Compute and visualize Alpha and Intensity**"
   ]
  },
  {
   "cell_type": "markdown",
   "metadata": {
    "tags": []
   },
   "source": [
    "We will generate an HSV composite with: \n",
    "- Hue (color): alpha angle\n",
    "- Saturation : constant, set to 1\n",
    "- Value (intensity): total amplitude"
   ]
  },
  {
   "cell_type": "code",
   "execution_count": null,
   "metadata": {
    "tags": []
   },
   "outputs": [],
   "source": [
    "# Normalizing the alpha angle\n",
    "alpha_n = alpha / (np.pi / 2)\n",
    "\n",
    "# Build an array containing ones only\n",
    "saturation = np.ones_like(alpha)\n",
    "\n",
    "# Clip and normalize the value: total amplitude \n",
    "amp = pauli_le\n",
    "amp = np.clip(amp, 0, 2.5*np.mean(amp))\n",
    "amp = amp / np.max(amp)\n",
    "\n",
    "# define a colormap\n",
    "colormap = plt.colormaps.get('turbo')\n",
    "\n",
    "# Transfer to HSV\n",
    "rgb_comp = HSV_colormap_to_rgb(colormap, alpha_n, saturation, amp)"
   ]
  },
  {
   "cell_type": "code",
   "execution_count": null,
   "metadata": {
    "tags": []
   },
   "outputs": [],
   "source": [
    "del saturation, amp"
   ]
  },
  {
   "cell_type": "code",
   "execution_count": null,
   "metadata": {
    "tags": []
   },
   "outputs": [],
   "source": [
    "# Plot Pauli and the new RGB composite\n",
    "\n",
    "plt.figure(figsize =(10,10))\n",
    "\n",
    "ax = plt.subplot(2,1,1)\n",
    "plt.imshow(rgb_pauli, aspect = 'auto')\n",
    "ax.set_title('Pauli representation')\n",
    "plt.tight_layout()\n",
    "\n",
    "ax = plt.subplot(2,1,2)\n",
    "plt.imshow(np.transpose(rgb_comp, axes = (1,0,2)), aspect = 'auto')\n",
    "ax.set_title('HSV composite of Alpha angle [deg] and total power')\n",
    "plt.tight_layout()\n"
   ]
  },
  {
   "cell_type": "code",
   "execution_count": null,
   "metadata": {},
   "outputs": [],
   "source": []
  }
 ],
 "metadata": {
  "kernelspec": {
   "display_name": "Python 3 (ipykernel)",
   "language": "python",
   "name": "python3"
  },
  "language_info": {
   "codemirror_mode": {
    "name": "ipython",
    "version": 3
   },
   "file_extension": ".py",
   "mimetype": "text/x-python",
   "name": "python",
   "nbconvert_exporter": "python",
   "pygments_lexer": "ipython3",
   "version": "3.11.6"
  }
 },
 "nbformat": 4,
 "nbformat_minor": 4
}
