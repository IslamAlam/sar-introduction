{
 "cells": [
  {
   "attachments": {},
   "cell_type": "markdown",
   "metadata": {},
   "source": [
    "# The PolInSAR Course - April 29, 2024\n",
    "# SAR Interferometry (InSAR) \n",
    "# Part 1: The interferometric phase"
   ]
  },
  {
   "attachments": {},
   "cell_type": "markdown",
   "metadata": {},
   "source": [
    "* Etna acquisitions\n",
    "* Path: 'data/insar/'\n",
    "* SLC: image1, image2\n",
    "\n",
    "Objective:\n",
    "- Implement a full (simplified) processing chain from the SLCs to the interferogram\n",
    "\n",
    "Tips:\n",
    "- Use fft2 for coregistration\n",
    "- Other useful functions: np.unravel_index(index, dims), np.roll(array, shift, axes)"
   ]
  },
  {
   "attachments": {},
   "cell_type": "markdown",
   "metadata": {},
   "source": [
    "\n"
   ]
  },
  {
   "cell_type": "code",
   "execution_count": null,
   "metadata": {},
   "outputs": [],
   "source": [
    "# --- Download exercise data & import reader function\n",
    "from pysarpro import io, data\n",
    "from pysarpro.io import rrat\n",
    "\n",
    "data.download_all(directory=\"/projects\", pattern=r'^data/insar')\n",
    "\n",
    "# --- Import useful libraries, functions, and modules\n",
    "import sys\n",
    "sys.path.append('/projects/src/')\n",
    "import numpy as np\n",
    "import matplotlib.pyplot as plt\n",
    "from scipy.ndimage import uniform_filter\n",
    "from numpy.fft import fft2, ifft2\n",
    "\n",
    "%matplotlib widget"
   ]
  },
  {
   "cell_type": "code",
   "execution_count": null,
   "metadata": {},
   "outputs": [],
   "source": [
    "def calculate_covariance(im1, im2, looksr, looksa) : \n",
    "    \n",
    "    corr = uniform_filter(np.real(im1*np.conj(im2)), [looksa,looksr]) + 1j* \\\n",
    "                uniform_filter(np.imag(im1*np.conj(im2)), [looksa,looksr])\n",
    "    \n",
    "    return corr"
   ]
  },
  {
   "attachments": {},
   "cell_type": "markdown",
   "metadata": {},
   "source": [
    "**Step 1 : Load data**"
   ]
  },
  {
   "cell_type": "code",
   "execution_count": null,
   "metadata": {},
   "outputs": [],
   "source": [
    "# --- input path & images\n",
    "path = 'data/insar/'\n",
    "im1name = 'image1.rat'\n",
    "im2name = 'image2.rat'\n",
    "\n",
    "# --- multilook window size\n",
    "looksa = 5\n",
    "looksr = 5\n",
    "\n",
    "# --- load data ...\n",
    "im1 = rrat(path + im1name)\n",
    "im2 = rrat(path + im2name)\n",
    "\n",
    "# --- calculate amplitudes\n",
    "amp1 = np.sqrt( np.abs(calculate_covariance(im1, im1, looksr, looksa)) )\n",
    "amp2 = np.sqrt( np.abs(calculate_covariance(im2, im2, looksr, looksa)) )\n",
    "\n",
    "# --- display im1\n",
    "plt.figure( figsize = (10, 8) )\n",
    "plt.subplot(2, 1, 1)\n",
    "plt.imshow(np.transpose(amp1), vmin = 0, vmax = 2.5*np.mean(amp1), aspect = 'auto', cmap = 'gray')\n",
    "plt.title('Image 1, amplitude')\n",
    "plt.subplot(2, 1, 2)\n",
    "plt.imshow(np.transpose(np.angle(im1)), vmin = -np.pi, vmax = np.pi, aspect = 'auto', cmap = 'jet', interpolation = 'nearest')\n",
    "plt.title('Image 1, phase')\n",
    "\n",
    "# --- display im2\n",
    "plt.figure( figsize = (10, 8) )\n",
    "plt.subplot(2, 1, 1)\n",
    "plt.imshow(np.transpose(amp2), vmin = 0, vmax = 2.5*np.mean(amp2), aspect = 'auto', cmap = 'gray')\n",
    "plt.title('Image 2, amplitude')\n",
    "plt.subplot(2, 1, 2)\n",
    "plt.imshow(np.transpose(np.angle(im2)), vmin = -np.pi, vmax = np.pi, aspect = 'auto', cmap = 'jet', interpolation = 'nearest')\n",
    "plt.title('Image 2, phase')\n"
   ]
  },
  {
   "attachments": {},
   "cell_type": "markdown",
   "metadata": {},
   "source": [
    "**Step 2 : Calculate interferogram**"
   ]
  },
  {
   "cell_type": "code",
   "execution_count": null,
   "metadata": {},
   "outputs": [],
   "source": [
    "interferogram = calculate_covariance(im1, im2, looksr, looksa)\n",
    "\n",
    "# display interferogram\n",
    "plt.figure( figsize = (10, 8) )\n",
    "plt.subplot(2, 1, 1)\n",
    "plt.imshow(np.transpose(np.abs(interferogram)), vmin = 0, vmax = 2.5*np.mean(np.abs(interferogram)), aspect = 'auto', cmap = 'gray')\n",
    "plt.title('Interferogram, absolute value')\n",
    "plt.subplot(2, 1, 2)\n",
    "plt.imshow(np.transpose(np.angle(interferogram)), vmin = -np.pi, vmax = np.pi, aspect = 'auto', cmap = 'jet', interpolation = 'nearest')\n",
    "plt.title('Interferogram, phase')"
   ]
  },
  {
   "attachments": {},
   "cell_type": "markdown",
   "metadata": {},
   "source": [
    "**Step 3 : Coregistration**"
   ]
  },
  {
   "cell_type": "code",
   "execution_count": null,
   "metadata": {},
   "outputs": [],
   "source": [
    "# --- calculate correlation\n",
    "ff1 = np.conj( fft2(np.abs(im1)) )\n",
    "ff2 = fft2(np.abs(im2))\n",
    "correlation = np.abs( ifft2( ff1 * ff2 ) )\n",
    "\n",
    "# --- display correlation\n",
    "plt.figure( figsize = (10, 4) )\n",
    "plt.imshow(np.transpose(correlation), aspect = 'auto', cmap = 'jet')\n",
    "plt.title('Correlation')\n",
    "\n",
    "# --- estimate the shift as the position of the maximum\n",
    "shift = np.unravel_index( np.argmax(correlation), correlation.shape)\n",
    "print(shift)\n",
    "\n",
    "# --- shift compensation\n",
    "im2_co = np.roll(im2, (-shift[0], -shift[1]), axis = [0, 1])\n",
    "\n",
    "# --- calculate interferogram\n",
    "interferogram_co = calculate_covariance(im1, im2_co, looksr, looksa)\n",
    "\n",
    "# --- display\n",
    "plt.figure( figsize = (10, 8) )\n",
    "plt.subplot(2, 1, 1)\n",
    "plt.imshow(np.transpose(np.abs(interferogram_co)), vmin = 0, vmax = 2.5*np.mean(np.abs(interferogram_co)), aspect = 'auto', cmap = 'gray')\n",
    "plt.title('Interferogram, absolute value')\n",
    "plt.subplot(2, 1, 2)\n",
    "plt.imshow(np.transpose(np.angle(interferogram_co)), vmin = -np.pi, vmax = np.pi, aspect = 'auto', cmap = 'jet', interpolation = 'nearest')\n",
    "plt.title('Interferogram, phase')"
   ]
  },
  {
   "attachments": {},
   "cell_type": "markdown",
   "metadata": {},
   "source": [
    "**Step 4 : Calculation & compensation of flat-earth phase**"
   ]
  },
  {
   "cell_type": "code",
   "execution_count": null,
   "metadata": {},
   "outputs": [],
   "source": []
  },
  {
   "attachments": {},
   "cell_type": "markdown",
   "metadata": {},
   "source": [
    "**Step 5 : Calculate Coherence**"
   ]
  },
  {
   "cell_type": "code",
   "execution_count": null,
   "metadata": {},
   "outputs": [],
   "source": []
  }
 ],
 "metadata": {
  "kernelspec": {
   "display_name": "Python 3 (ipykernel)",
   "language": "python",
   "name": "python3"
  },
  "language_info": {
   "codemirror_mode": {
    "name": "ipython",
    "version": 3
   },
   "file_extension": ".py",
   "mimetype": "text/x-python",
   "name": "python",
   "nbconvert_exporter": "python",
   "pygments_lexer": "ipython3",
   "version": "3.9.10"
  }
 },
 "nbformat": 4,
 "nbformat_minor": 4
}
