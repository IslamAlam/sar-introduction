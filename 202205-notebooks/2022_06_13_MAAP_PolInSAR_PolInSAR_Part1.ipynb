{
 "cells": [
  {
   "cell_type": "markdown",
   "metadata": {},
   "source": [
    "# The PolInSAR Course - June 13, 2022 \n",
    "# Polarimetric SAR Interferometry (Pol-InSAR) \n",
    "# Part 1: The Pol-InSAR Coherence Region \n",
    "\n",
    "* DLR's F-SAR acquisition over Traunstein forest (Germany)\n",
    "* Path: '/projects/s3-drive/user-data/polinsar/data/04-polinsar/'\n",
    "* SLCs: \n",
    "    * Acquisition 1 : slc_15tmpsar0302_L { hh, hv, vv, vh } _t01.rat\n",
    "    * Acquisition 2 : slc_coreg_15tmpsar0302_15tmpsar0303_L { hh, hv, vv, vh } _t01.rat\n",
    "* Flat-earth: pha_flat_15tmpsar0302_15tmpsar0303_Lhh_t01.rat\n",
    "* Vertical wavenumber (kz) : kz_2d_demc_15tmpsar0302_15tmpsar0303_t01.rat\n",
    "* Lidar: Lida_r1503.rat\n",
    "\n",
    "Objective:\n",
    "- Calculate the dual-pol Pol-InSAR coherence region parameters, find the 2 extremes, and visualize them together with the phase difference. In addition, visualize the Pol-InSAR coherence region in one or more points.\n",
    "\n",
    "Tips:\n",
    "- work on the azimuth - range block [21500 - 4000, 21500 + 6000] - [2300, 4500] ;\n",
    "- all the needed functions and a few pieces of script have been already implemented."
   ]
  },
  {
   "cell_type": "code",
   "execution_count": null,
   "metadata": {},
   "outputs": [],
   "source": [
    "# import useful libraries, functions, and modules\n",
    "\n",
    "import sys\n",
    "sys.path.append('/projects/src/')\n",
    "\n",
    "import warnings\n",
    "warnings.filterwarnings(\"ignore\")\n",
    "\n",
    "import numpy as np\n",
    "import matplotlib.pyplot as plt\n",
    "from scipy.ndimage import filters\n",
    "from ste_io import *\n",
    "from matplotlib.legend import Legend\n",
    "\n",
    "%matplotlib widget\n",
    "\n",
    "\n"
   ]
  },
  {
   "cell_type": "code",
   "execution_count": null,
   "metadata": {},
   "outputs": [],
   "source": [
    "def calculate_covariance(im1, im2, looksr, looksa) : \n",
    "    \n",
    "    # ... apply definition\n",
    "    corr = filters.uniform_filter(np.real(im1*np.conj(im2)), [looksa,looksr]) + 1j* \\\n",
    "                filters.uniform_filter(np.imag(im1*np.conj(im2)), [looksa,looksr])\n",
    "    \n",
    "    # ... and back to main\n",
    "    return corr"
   ]
  },
  {
   "cell_type": "code",
   "execution_count": null,
   "metadata": {},
   "outputs": [],
   "source": [
    "def make_pauli(slchh, slchv, slcvv, looksr, looksa) :\n",
    "    \n",
    "    # 1. Uses function calculate_covariance\n",
    "    # 2. Convention (rows x columns): inputs are (az x rg), outputs are (rg x az) \n",
    "    #                                 for better plotting as #rg <#az\n",
    "    \n",
    "    # Calculate T11, T22 and T33\n",
    "    T11 = calculate_covariance(slchh + slcvv, slchh + slcvv, looksr, looksa)\n",
    "    T22 = calculate_covariance(slchh - slcvv, slchh - slcvv, looksr, looksa)\n",
    "    T33 = calculate_covariance(2*slchv, 2*slchv, looksr, looksa)\n",
    "    \n",
    "    # make the pauli rgb (+ tranpose, clipping, normalization)\n",
    "    dimaz = T11.shape[0]\n",
    "    dimrg = T11.shape[1]\n",
    "    rgb_pauli = np.zeros((dimrg, dimaz, 3), 'float32')\n",
    "    rgb_pauli[:, :, 0] = np.transpose( np.clip(np.sqrt(np.abs(T22)), 0, 2.5*np.mean(np.sqrt(np.abs(T22)))) )    # red\n",
    "    rgb_pauli[:, :, 1] = np.transpose( np.clip(np.sqrt(np.abs(T33)), 0, 2.5*np.mean(np.sqrt(np.abs(T33)))) )    # green\n",
    "    rgb_pauli[:, :, 2] = np.transpose( np.clip(np.sqrt(np.abs(T11)), 0, 2.5*np.mean(np.sqrt(np.abs(T11)))) )    # blue\n",
    "    rgb_pauli[:, :, 0] = rgb_pauli[:, :, 0] / np.max(rgb_pauli[:, :, 0])     # red\n",
    "    rgb_pauli[:, :, 1] = rgb_pauli[:, :, 1] / np.max(rgb_pauli[:, :, 1])     # green\n",
    "    rgb_pauli[:, :, 2] = rgb_pauli[:, :, 2] / np.max(rgb_pauli[:, :, 2])     # blue\n",
    "    \n",
    "    # ... and back to main\n",
    "    return rgb_pauli"
   ]
  },
  {
   "cell_type": "code",
   "execution_count": null,
   "metadata": {},
   "outputs": [],
   "source": [
    "def matmul_2(a11, a12, a21, a22, b11, b12, b21, b22) :\n",
    "    \n",
    "    # Implements the multiplication A.B of two 2 x 2 matrices A and B.\n",
    "    # Inputs are the elements of matrices (row-wise). \n",
    "    # Outputs are the elements of the matrix product (row-wise).\n",
    "    \n",
    "    c11 = a11*b11 + a12*b21\n",
    "    c12 = a11*b12 + a12*b22\n",
    "    c21 = a21*b11 + a22*b21 \n",
    "    c22 = a21*b12 + a22*b22\n",
    "    \n",
    "    # ... and back to main\n",
    "    return c11, c12, c21, c22"
   ]
  },
  {
   "cell_type": "code",
   "execution_count": null,
   "metadata": {},
   "outputs": [],
   "source": [
    "def eigenvalvect_2(a11, a12, a21, a22) :\n",
    "    \n",
    "    # Calculates eigenvalues / eigenvectors of a generic complex-valued 2 x 2 matrix.\n",
    "    # Inputs are the matrix elements (row-wise) - NumPy arrays\n",
    "    # Outputs are the eigenvalues (l1, l2), and the eigenvector (E1, E2) elements - NumPy arrays\n",
    "    #                                       E1 = [e11, e21] , U2 = [e12, e22]\n",
    "    \n",
    "    # eigenvalues \n",
    "    l1 = 0.5 * ((a11+a22) + np.sqrt( (a11-a22)**2 + 4*a12*a21 )) \n",
    "    l2 = 0.5 * ((a11+a22) - np.sqrt( (a11-a22)**2 + 4*a12*a21 ))\n",
    "    \n",
    "    # eigenvector 1\n",
    "    e11 = -a12\n",
    "    e21 = a11 - l1\n",
    "    # normalize eigenvector 1\n",
    "    norm_ = np.sqrt( np.abs(e11)**2 + np.abs(e21)**2 )\n",
    "    e11 = e11 / norm_\n",
    "    e21 = e21 / norm_\n",
    "    # eigenvector 2\n",
    "    e12 = a22 - l2\n",
    "    e22 = -a21\n",
    "    # normalize eigenvector 2\n",
    "    norm_ = np.sqrt( np.abs(e12)**2 + np.abs(e22)**2 )\n",
    "    e12 = e12 / norm_\n",
    "    e22 = e22 / norm_\n",
    "    \n",
    "    del norm_\n",
    "    \n",
    "    # ... and back to main\n",
    "    return l1, l2, e11, e21, e12, e22"
   ]
  },
  {
   "cell_type": "code",
   "execution_count": null,
   "metadata": {},
   "outputs": [],
   "source": [
    "def off_diagonal_2(a11, a12, a21, a22, e11, e21, e12, e22) :\n",
    "\n",
    "    # Calculates off-diagonal form a 2 x 2 matrix A given its eigenvalues in E\n",
    "    # Inputs are the matrix elements (row-wise) - NumPy arrays\n",
    "    #        and the eigenvector (E1, E2) elements - NumPy arrays\n",
    "    #                                       E1 = [e11, e21] , U2 = [e12, e22]\n",
    "    # Outputs are the off-diagonal elements: o12, o21\n",
    "    \n",
    "    # rotation angle theta\n",
    "    theta = np.angle( np.conj(e11)*e12 + np.conj(e21)*e22  )\n",
    "    \n",
    "    # first column of the off-diagonalizing matrix (normalized)\n",
    "    u11 = np.exp(1j*theta)*e11 + e12\n",
    "    u21 = np.exp(1j*theta)*e21 + e22\n",
    "    norm_ = np.sqrt( np.abs(u11)**2 + np.abs(u21)**2 )\n",
    "    u11 = u11 / norm_\n",
    "    u21 = u21 / norm_\n",
    "    \n",
    "    # second column of the off-diagonalizing matrix (normalized)\n",
    "    u12 = np.exp(1j*theta)*e11 - e12\n",
    "    u22 = np.exp(1j*theta)*e21 - e22\n",
    "    norm_ = np.sqrt( np.abs(u12)**2 + np.abs(u22)**2 )\n",
    "    u12 = u12 / norm_\n",
    "    u22 = u22 / norm_\n",
    "   \n",
    "    del norm_\n",
    "    \n",
    "    # calculate off-diagonal elements\n",
    "    o12 = a11 * ( np.conj(u11)*u12 - np.conj(u21)*u22 ) +\\\n",
    "          a12 * np.conj(u11) * u22 +\\\n",
    "          a21 * np.conj(u21) * u12\n",
    "    o21 = a11 * ( np.conj(u12)*u11 - np.conj(u22)*u21 ) +\\\n",
    "          a12 * np.conj(u12) * u21 +\\\n",
    "          a21 * np.conj(u22) * u11\n",
    "    \n",
    "    # ... and back to main\n",
    "    return o12, o21"
   ]
  },
  {
   "cell_type": "code",
   "execution_count": null,
   "metadata": {},
   "outputs": [],
   "source": [
    "def sqrt_inverse(a11, a12, a22) :\n",
    "\n",
    "    # Given a 2 x 2 Hermitian matrix A, calculates A**(-1/2) using eigendecomposition\n",
    "    # Inputs are the upper-diagonal matrix elements (row-wise) - NumPy arrays.\n",
    "    # Outputs are the elements of the sqrt inverse matrix.\n",
    "    # Uses function matmul_2.\n",
    "    \n",
    "    # Calculate eigenvalues (l1, l2)\n",
    "    sigma = 0.5 * (a11 + a22)\n",
    "    D = a11*a22 - a12*np.conj(a12)\n",
    "    delta = np.sqrt(sigma**2 - D)\n",
    "    l1 = sigma + delta\n",
    "    l2 = sigma - delta\n",
    "    \n",
    "    # Calculate eigenvector matrix elements (eigenvectors are the columns)\n",
    "    norm_ = np.sqrt( a12*np.conj(a12) + ((a11-a22)/2 - delta)**2 )\n",
    "    v11 = -a12 / norm_\n",
    "    v21 = ((a11-a22)/2 - delta) / norm_\n",
    "    v12 = ((a11-a22)/2 - delta) / norm_\n",
    "    v22 = np.conj(a12) / norm_\n",
    "    \n",
    "    del norm_, delta, D, sigma\n",
    "    \n",
    "    # calculate sqrt inverse matrix elements\n",
    "    zz = np.zeros(l1.shape, 'float32')\n",
    "    aux11, aux12, aux21, aux22 = matmul_2(v11, v12, v21, v22, 1/np.sqrt(l1), zz, zz, 1/np.sqrt(l2))\n",
    "    del l1, l2\n",
    "    i11, i12, i21, i22 = matmul_2(aux11, aux12, aux21, aux22, np.conj(v11), np.conj(v21), np.conj(v12), np.conj(v22))\n",
    "    del aux11, aux12, aux21, aux22\n",
    "    \n",
    "    # ... and back to main\n",
    "    return i11, i12, i21, i22  "
   ]
  },
  {
   "cell_type": "code",
   "execution_count": null,
   "metadata": {},
   "outputs": [],
   "source": [
    "def get_coh_reg_ellipse_params(P11, P12, P21, P22, center):\n",
    "    \"\"\"\n",
    "    Gets the coherence region ellipse parameters from the given P matrix.\n",
    "    \n",
    "    Returns major axis, minor axis and angle phi\n",
    "    \"\"\"\n",
    "    # --- eigenvectors of centered P\n",
    "    l1, l2, e11, e21, e12, e22 = eigenvalvect_2(P11 - center, P12, P21, P22 - center)\n",
    "    del l1, l2\n",
    "    \n",
    "    # --- off-diagonalization\n",
    "    r, s = off_diagonal_2(P11 - center, P12, P21, P22 - center, e11, e21, e12, e22)\n",
    "\n",
    "    # free memory\n",
    "    del e11, e21, e12, e22\n",
    "\n",
    "    # --- get coherence region geometry\n",
    "    # ... major axis\n",
    "    a2 = np.abs(r) + np.abs(s)\n",
    "    # ... minor axis\n",
    "    b2 = np.abs(np.abs(r) - np.abs(s))\n",
    "    # ... rotation angle\n",
    "    phi = 0.5 * (np.angle(r) + np.angle(s))\n",
    "    return a2, b2, phi"
   ]
  },
  {
   "cell_type": "code",
   "execution_count": null,
   "metadata": {},
   "outputs": [],
   "source": [
    "def optimize_coherence_and_phase(P11, P12, P21, P22):\n",
    "    \"\"\"\n",
    "    Performs the Polar decomposition of the 2 by 2 matrix P with the given elements\n",
    "    and estimates coherences with min max phase and absolute value.\n",
    "    \n",
    "    The polar decomposition of P is P = U * J.\n",
    "    The max & min coherence is extracted from the eigenvectors of J and the\n",
    "    max & min phase from the eigenvectors of U\n",
    "    \n",
    "    See: https://en.wikipedia.org/wiki/Polar_decomposition\n",
    "    \"\"\"\n",
    "    \n",
    "    # Calculate J^2 = P^(*T) * P\n",
    "    J11, J12, J21, J22 = matmul_2(np.conj(P11), np.conj(P21), np.conj(P12), np.conj(P22), P11, P12, P21, P22)\n",
    "    # Calculate eigenvalues and eigenvectors of J\n",
    "    l1, l2, v11, v21, v12, v22 = eigenvalvect_2(J11, J12, J21, J22)\n",
    "    del l1, l2\n",
    "    \n",
    "    # Calculate V^(*T) * P * V --> gamma max & min from there\n",
    "    aux11, aux12, aux21, aux22 = matmul_2(np.conj(v11), np.conj(v21), np.conj(v12), np.conj(v22), P11, P12, P21, P22)\n",
    "    gamma_max, gamma12, gamma21, gamma_min = matmul_2(aux11, aux12, aux21, aux22, v11, v12, v21, v22)\n",
    "    del aux11, aux12, aux21, aux22, v11, v21, v12, v22\n",
    "    del gamma12, gamma21\n",
    "    \n",
    "    # Compute U = P * J^(-1)\n",
    "    Ji11, Ji1, Ji21, Ji22 = sqrt_inverse(J11, J12, J22)\n",
    "    del J11, J12, J21, J22\n",
    "    U11, U12, U21, U22 = matmul_2(P11, P12, P21, P22, Ji11, Ji1, Ji21, Ji22)\n",
    "    del Ji11, Ji1, Ji21, Ji22\n",
    "    \n",
    "    # Calculate eigenvalues and eigenvectors of U\n",
    "    l1, l2, w11, w21, w12, w22 = eigenvalvect_2(U11, U12, U21, U22)\n",
    "    del l1, l2, U11, U12, U21, U22\n",
    "    \n",
    "    # Calculate W^(*T) * P * W --> gamma phamax & phamin from there\n",
    "    aux11, aux12, aux21, aux22 = matmul_2(np.conj(w11), np.conj(w21), np.conj(w12), np.conj(w22), P11, P12, P21, P22)\n",
    "    gamma_phamax, gamma12, gamma21, gamma_phamin = matmul_2(aux11, aux12, aux21, aux22, w11, w12, w21, w22)\n",
    "    del aux11, aux12, aux21, aux22, w11, w21, w12, w22\n",
    "    del gamma12, gamma21\n",
    "    \n",
    "    # Return optimum coherences\n",
    "    return gamma_phamax, gamma_phamin, gamma_max, gamma_min\n"
   ]
  },
  {
   "cell_type": "code",
   "execution_count": null,
   "metadata": {},
   "outputs": [],
   "source": [
    "\n",
    "def plot_coherence_region_P(P11, P12, P21, P22, npoints=128, axes=None, color='r', **kwargs):\n",
    "    # Plots the coherence region of the pre-whitened matrix P\n",
    "    M = np.asarray([[P11, P12], [P21, P22]])\n",
    "    theta = np.linspace(0, np.pi, npoints)\n",
    "    Wi,Vi = np.linalg.eigh(0.5*(M[None,...]*np.exp(1j*theta)[...,None,None] + np.conj(M.T)[None,...]*np.exp(-1j*theta)[...,None,None]))\n",
    "\n",
    "    if axes is None:\n",
    "        ax = plt.subplot(111, projection='polar')\n",
    "    else:\n",
    "        ax = axes\n",
    "    indices = np.argsort(Wi, axis=-1)\n",
    "    Z = np.einsum('...i,...ij,...j->...', np.conj(Vi[range(npoints),:,indices[:,-1]]), M, Vi[range(npoints),:,indices[:,-1]])\n",
    "    Z2 = np.einsum('...i,...ij,...j->...', np.conj(Vi[range(npoints),:,indices[:,0]]), M, Vi[range(npoints),:,indices[:,0]])\n",
    "    ax.plot(np.angle(Z), np.abs(Z), color, **kwargs)\n",
    "    ax.plot(np.angle(Z2), np.abs(Z2), color, **kwargs)\n",
    "    return ax"
   ]
  },
  {
   "cell_type": "markdown",
   "metadata": {},
   "source": [
    "**Input parameters**"
   ]
  },
  {
   "cell_type": "code",
   "execution_count": null,
   "metadata": {},
   "outputs": [],
   "source": [
    "# --- Inputs\n",
    "\n",
    "# path 2 acquisitions\n",
    "path = '/projects/s3-drive/user-data/polinsar/data/04-polinsar/'\n",
    "\n",
    "# Input pixel spacing, in meters\n",
    "spacrg = 0.59941552\n",
    "spacaz = 0.19507939\n",
    "\n",
    "# Output range resolution, in meters\n",
    "resrg = 5.\n",
    "resaz = 5.\n",
    "\n",
    "# Image block for processing\n",
    "minrg = 2300\n",
    "maxrg = 4500\n",
    "minaz = 21500 - 4000\n",
    "maxaz = 21500 + 6000"
   ]
  },
  {
   "cell_type": "code",
   "execution_count": null,
   "metadata": {},
   "outputs": [],
   "source": [
    "# --- Calculate number of looks\n",
    "\n",
    "looksr = int( resrg / spacrg )\n",
    "if looksr % 2 == 0 : looksr = looksr +1\n",
    "looksa = int( resaz / spacaz )\n",
    "if looksa % 2 == 0 : looksa = looksa +1\n",
    "\n",
    "print(looksa, looksr)\n"
   ]
  },
  {
   "cell_type": "markdown",
   "metadata": {},
   "source": [
    "**Step 1: Open images, and visualize a Pauli**"
   ]
  },
  {
   "cell_type": "code",
   "execution_count": null,
   "metadata": {},
   "outputs": [],
   "source": [
    "# --- acquisition 1\n",
    "\n",
    "# --- acquisition 2\n",
    "\n"
   ]
  },
  {
   "cell_type": "code",
   "execution_count": null,
   "metadata": {},
   "outputs": [],
   "source": [
    "# display pauli\n"
   ]
  },
  {
   "cell_type": "markdown",
   "metadata": {},
   "source": [
    "**Step 2 : Compensate flat-earth**"
   ]
  },
  {
   "cell_type": "code",
   "execution_count": null,
   "metadata": {},
   "outputs": [],
   "source": [
    "# --- Open flat-earth\n",
    "fe = rrat(path + 'pha_flat_15tmpsar0302_15tmpsar0303_Lhh_t01.rat', block = [minaz, maxaz, minrg, maxrg])\n",
    "\n",
    "# --- compensate\n"
   ]
  },
  {
   "cell_type": "markdown",
   "metadata": {},
   "source": [
    "**Step 3 : Calculate the elements of T1, T2, and Omega matrices**"
   ]
  },
  {
   "cell_type": "code",
   "execution_count": null,
   "metadata": {},
   "outputs": [],
   "source": [
    "# --- Form polarization channels\n",
    "\n",
    "# --- T1\n",
    "\n",
    "# --- T2\n",
    "\n",
    "# --- Omega\n",
    "\n"
   ]
  },
  {
   "cell_type": "markdown",
   "metadata": {},
   "source": [
    "**Step 4 : Pre-whitening and centering**"
   ]
  },
  {
   "cell_type": "code",
   "execution_count": null,
   "metadata": {},
   "outputs": [],
   "source": [
    "# --- Pre-whitening\n",
    "\n",
    "# calculate T\n",
    "T11 = 0.5 * ( T1_11 + T2_11 )\n",
    "T12 = 0.5 * ( T1_12 + T2_12 )\n",
    "T22 = 0.5 * ( T1_22 + T2_22 )\n",
    "\n",
    "# free memory\n",
    "del T1_11, T1_12, T1_22, T2_11, T2_12, T2_22\n",
    "\n",
    "# calculate the elements of T**(-1/2)\n",
    "iT11, iT12, iT21, iT22 = sqrt_inverse(T11, T12, T22)\n",
    "\n",
    "# free memory\n",
    "del T11, T12, T22\n",
    "\n",
    "# whiten ... two 2 x 2 multiplications ==> Matrix P\n",
    "aux11, aux12, aux21, aux22 = matmul_2(iT11, iT12, iT21, iT22, Om_11, Om_12, Om_21, Om_22)\n",
    "del Om_11, Om_12, Om_21, Om_22\n",
    "P11, P12, P21, P22 = matmul_2(aux11, aux12, aux21, aux22, iT11, iT12, iT21, iT22)\n",
    "del aux11, aux12, aux21, aux22\n",
    "del iT11, iT12, iT21, iT22\n",
    "\n",
    "# Get the center of the coherence region\n",
    "center = 0.5 * (P11 + P22)\n"
   ]
  },
  {
   "cell_type": "code",
   "execution_count": null,
   "metadata": {},
   "outputs": [],
   "source": [
    "# Plot coherence region for one pixel\n"
   ]
  },
  {
   "attachments": {
    "71fac23f-2991-48c0-89dd-faf0f9a7ae5a.png": {
     "image/png": "[encoded data removed]"
    }
   },
   "cell_type": "markdown",
   "metadata": {},
   "source": [
    "**Step 5 : Calculate geometry of the coherence region**\n",
    "\n",
    "Remember the ellipse geometry:\n",
    "<div>\n",
    "<img src=\"attachment:71fac23f-2991-48c0-89dd-faf0f9a7ae5a.png\" width=\"400\"/>\n",
    "</div>\n"
   ]
  },
  {
   "cell_type": "code",
   "execution_count": null,
   "metadata": {},
   "outputs": [],
   "source": [
    "# --- Get ellipse geometry\n"
   ]
  },
  {
   "cell_type": "markdown",
   "metadata": {},
   "source": [
    "**Step 6 : Calculate extreme coherences**"
   ]
  },
  {
   "cell_type": "code",
   "execution_count": null,
   "metadata": {},
   "outputs": [],
   "source": [
    "# --- get ellipse extreme coherences\n"
   ]
  },
  {
   "cell_type": "code",
   "execution_count": null,
   "metadata": {},
   "outputs": [],
   "source": [
    "# --- Coherence optimization to get max & min phase and absolute value\n"
   ]
  },
  {
   "cell_type": "code",
   "execution_count": null,
   "metadata": {},
   "outputs": [],
   "source": [
    "# Plot coherence region for one pixel + calculated coherences\n"
   ]
  },
  {
   "cell_type": "markdown",
   "metadata": {},
   "source": [
    "**Step 7 : Plots !**"
   ]
  },
  {
   "cell_type": "code",
   "execution_count": null,
   "metadata": {},
   "outputs": [],
   "source": [
    "# --- open lidar height\n",
    "\n",
    "H = rrat(path + 'Lida_r1503.rat', block = [minaz, maxaz, minrg, maxrg])"
   ]
  },
  {
   "cell_type": "code",
   "execution_count": null,
   "metadata": {},
   "outputs": [],
   "source": [
    "# --- Plot phase differences\n",
    "kz = rrat(path + 'kz_2d_demc_15tmpsar0302_15tmpsar0303_t01.rat', block = [minaz, maxaz, minrg, maxrg])\n"
   ]
  },
  {
   "cell_type": "code",
   "execution_count": null,
   "metadata": {},
   "outputs": [],
   "source": [
    "# --- Plot height + coherences\n",
    "\n"
   ]
  },
  {
   "cell_type": "code",
   "execution_count": null,
   "metadata": {},
   "outputs": [],
   "source": []
  },
  {
   "cell_type": "code",
   "execution_count": null,
   "metadata": {},
   "outputs": [],
   "source": []
  },
  {
   "cell_type": "code",
   "execution_count": null,
   "metadata": {},
   "outputs": [],
   "source": []
  }
 ],
 "metadata": {
  "kernelspec": {
   "display_name": "Python 3 (ipykernel)",
   "language": "python",
   "name": "python3"
  },
  "language_info": {
   "codemirror_mode": {
    "name": "ipython",
    "version": 3
   },
   "file_extension": ".py",
   "mimetype": "text/x-python",
   "name": "python",
   "nbconvert_exporter": "python",
   "pygments_lexer": "ipython3",
   "version": "3.9.10"
  }
 },
 "nbformat": 4,
 "nbformat_minor": 4
}
