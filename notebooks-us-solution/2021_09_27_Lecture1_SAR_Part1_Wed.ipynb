{
 "cells": [
  {
   "cell_type": "markdown",
   "metadata": {},
   "source": [
    "# Lecture 1 - September 27, 2021 \n",
    "# Synthetic Aperture Radar (SAR) \n",
    "# Part 1: Range Resolution"
   ]
  },
  {
   "cell_type": "code",
   "execution_count": 1,
   "metadata": {},
   "outputs": [
    {
     "name": "stderr",
     "output_type": "stream",
     "text": [
      "/projects/src/ste_io.py:69: UserWarning: Failed to import STEtools.visualisation. write_pixmap will not work.\n",
      "  warnings.warn(\"Failed to import STEtools.visualisation. write_pixmap will not work.\")\n"
     ]
    }
   ],
   "source": [
    "# --- To get started, we set the ipympl backend, which makes matplotlib plots interactive.\n",
    "# --- We do this using a magic command, starting with %.\n",
    "%matplotlib widget\n",
    "\n",
    "# --- import libraries\n",
    "import sys\n",
    "sys.path.append('/projects/src/')\n",
    "\n",
    "import numpy as np\n",
    "import matplotlib.pyplot as plt\n",
    "from numpy.fft import fft, fftfreq, fftshift, ifft\n",
    "\n",
    "# --- import rat class\n",
    "from ste_io import *\n",
    "\n",
    "# --- Useful functions\n",
    "\n",
    "def rect(t, T0):\n",
    "    # Implements y = rect(t/T0) = 1 if abs(t/T0) <= 0.5, 0 otherwise \n",
    "    # All input / outputs are Numpy arrays\n",
    "    \n",
    "    N = t.shape[0]\n",
    "    y = np.zeros(N, 'float32') \n",
    "    y[np.abs(t/T0) <= 0.5] = 1\n",
    "    \n",
    "    return y\n",
    "\n",
    "# --- Constants\n",
    "\n",
    "# speed of light\n",
    "c0 = 2.9972190e+08\n"
   ]
  },
  {
   "cell_type": "markdown",
   "metadata": {},
   "source": [
    "## Exercise 1\n",
    "\n",
    "The typical P-band chirp transmitted by the F-SAR system is characterized by the following input parameters:"
   ]
  },
  {
   "cell_type": "code",
   "execution_count": 2,
   "metadata": {},
   "outputs": [],
   "source": [
    "# --- Input parameters\n",
    "\n",
    "# chirp duration, s\n",
    "T = 1.0016000e-05\n",
    "# chirp bandwidth, Hz\n",
    "Wr = 50.0e6"
   ]
  },
  {
   "cell_type": "markdown",
   "metadata": {},
   "source": [
    "In the focusing process, the following parameters are chosen for ther ange axis:"
   ]
  },
  {
   "cell_type": "code",
   "execution_count": 3,
   "metadata": {},
   "outputs": [],
   "source": [
    "# number of samples in range\n",
    "Ns = 3772\n",
    "# range sampling, m\n",
    "rs = 1.1988876"
   ]
  },
  {
   "cell_type": "markdown",
   "metadata": {},
   "source": [
    "1. Calculate and plot the chirp signal;\n",
    "2. Generate the impulse responde of the matched filter;\n",
    "3. Calculate and plot the output (convolution) of the matched filter with the chirp as input. "
   ]
  },
  {
   "cell_type": "markdown",
   "metadata": {},
   "source": [
    "### Solution"
   ]
  },
  {
   "cell_type": "code",
   "execution_count": 5,
   "metadata": {},
   "outputs": [
    {
     "data": {
      "application/vnd.jupyter.widget-view+json": {
       "model_id": "968c0ce2607d42cfa5a13031679465b3",
       "version_major": 2,
       "version_minor": 0
      },
      "text/plain": [
       "Canvas(toolbar=Toolbar(toolitems=[('Home', 'Reset original view', 'home', 'home'), ('Back', 'Back to previous …"
      ]
     },
     "metadata": {},
     "output_type": "display_data"
    },
    {
     "data": {
      "application/vnd.jupyter.widget-view+json": {
       "model_id": "29fe725771604cdd85c7b19a6c8a5c59",
       "version_major": 2,
       "version_minor": 0
      },
      "text/plain": [
       "Canvas(toolbar=Toolbar(toolitems=[('Home', 'Reset original view', 'home', 'home'), ('Back', 'Back to previous …"
      ]
     },
     "metadata": {},
     "output_type": "display_data"
    },
    {
     "data": {
      "application/vnd.jupyter.widget-view+json": {
       "model_id": "ba5d1a907bee4964b9b03bbd3f163ca4",
       "version_major": 2,
       "version_minor": 0
      },
      "text/plain": [
       "Canvas(toolbar=Toolbar(toolitems=[('Home', 'Reset original view', 'home', 'home'), ('Back', 'Back to previous …"
      ]
     },
     "metadata": {},
     "output_type": "display_data"
    }
   ],
   "source": [
    "# create time axis\n",
    "range_axis = np.linspace(0, Ns-1, Ns) * rs\n",
    "range_axis = range_axis - np.max(range_axis)/2\n",
    "# from range to time\n",
    "time = range_axis * 2/c0\n",
    "\n",
    "# generation of chirp\n",
    "kr = Wr / T\n",
    "s0_t = np.exp(1j * np.pi * kr * time**2) * rect(time, T)\n",
    "\n",
    "# plot chirp\n",
    "plt.figure()\n",
    "plt.plot(time, np.real(s0_t))\n",
    "plt.xlabel('Time (s)')\n",
    "plt.ylabel('Real part')\n",
    "plt.title('Chirp')\n",
    "plt.grid()\n",
    "\n",
    "# generation of matched filter\n",
    "h0_t = np.conj(s0_t[::-1])\n",
    "\n",
    "# calculate the output\n",
    "u0_t = np.convolve(s0_t, h0_t, 'same')\n",
    "\n",
    "# plot output\n",
    "plt.figure()\n",
    "plt.plot(time, np.real(u0_t))\n",
    "plt.xlabel('Time (s)')\n",
    "plt.ylabel('Real part')\n",
    "plt.title('Output of matched filter')\n",
    "plt.grid()\n",
    "\n",
    "# plot output ... as a function of range\n",
    "plt.figure()\n",
    "plt.plot(range_axis, np.real(u0_t))\n",
    "plt.xlabel('Range (m)')\n",
    "plt.ylabel('Real part')\n",
    "plt.title('Output of matched filter')\n",
    "plt.grid()\n",
    "\n"
   ]
  },
  {
   "cell_type": "code",
   "execution_count": 7,
   "metadata": {},
   "outputs": [
    {
     "name": "stdout",
     "output_type": "stream",
     "text": [
      "2.997219 m vs 1501.0072752\n"
     ]
    }
   ],
   "source": [
    "print(str(c0/2/Wr) + ' m vs ' + str(c0*T/2))"
   ]
  },
  {
   "cell_type": "markdown",
   "metadata": {},
   "source": [
    "## Exercise 2"
   ]
  },
  {
   "cell_type": "markdown",
   "metadata": {},
   "source": [
    "The files */projects/data/01-sar/signal1_rc.npy* and */projects/data/01-sar/signal2_rc.npy* contain the received signals along two range lines originated by the same range chirp and sampled with the same parameters as in Exercise 1.\n",
    "\n",
    "1. Open the files (use np.load);\n",
    "2. Plot the real part of the signals;\n",
    "3. Focus in range by using a matched filter;\n",
    "4. ... how many scatterers do you see in the two cases? and at which range?"
   ]
  },
  {
   "cell_type": "markdown",
   "metadata": {},
   "source": [
    "### Solution"
   ]
  },
  {
   "cell_type": "code",
   "execution_count": 9,
   "metadata": {},
   "outputs": [
    {
     "data": {
      "application/vnd.jupyter.widget-view+json": {
       "model_id": "f014c98b145a48b7b5eae2858275efd5",
       "version_major": 2,
       "version_minor": 0
      },
      "text/plain": [
       "Canvas(toolbar=Toolbar(toolitems=[('Home', 'Reset original view', 'home', 'home'), ('Back', 'Back to previous …"
      ]
     },
     "metadata": {},
     "output_type": "display_data"
    },
    {
     "data": {
      "application/vnd.jupyter.widget-view+json": {
       "model_id": "2bd501b818134518a9279beb66f1765a",
       "version_major": 2,
       "version_minor": 0
      },
      "text/plain": [
       "Canvas(toolbar=Toolbar(toolitems=[('Home', 'Reset original view', 'home', 'home'), ('Back', 'Back to previous …"
      ]
     },
     "metadata": {},
     "output_type": "display_data"
    }
   ],
   "source": [
    "# open signal 1\n",
    "s1_t = np.load('/projects/data/01-sar/signal1_rc.npy')\n",
    "\n",
    "# calculate the output\n",
    "u1_t = np.convolve(s1_t, h0_t, 'same')\n",
    "\n",
    "# plot signal 1... as a function of range\n",
    "plt.figure()\n",
    "plt.plot(range_axis, np.real(s1_t))\n",
    "plt.xlabel('Range (m)')\n",
    "plt.ylabel('Real part')\n",
    "plt.title('Signal 1')\n",
    "plt.grid()\n",
    "\n",
    "# plot output 1... as a function of range\n",
    "plt.figure()\n",
    "plt.plot(range_axis, np.real(u1_t))\n",
    "plt.xlabel('Range (m)')\n",
    "plt.ylabel('Real part')\n",
    "plt.title('Signal 1')\n",
    "plt.grid()\n",
    "\n"
   ]
  },
  {
   "cell_type": "code",
   "execution_count": 11,
   "metadata": {},
   "outputs": [
    {
     "data": {
      "application/vnd.jupyter.widget-view+json": {
       "model_id": "668f571cb4c6457eb42f578952fff861",
       "version_major": 2,
       "version_minor": 0
      },
      "text/plain": [
       "Canvas(toolbar=Toolbar(toolitems=[('Home', 'Reset original view', 'home', 'home'), ('Back', 'Back to previous …"
      ]
     },
     "metadata": {},
     "output_type": "display_data"
    },
    {
     "data": {
      "application/vnd.jupyter.widget-view+json": {
       "model_id": "f5603045734b4a9cac79cc4419b6c1a5",
       "version_major": 2,
       "version_minor": 0
      },
      "text/plain": [
       "Canvas(toolbar=Toolbar(toolitems=[('Home', 'Reset original view', 'home', 'home'), ('Back', 'Back to previous …"
      ]
     },
     "metadata": {},
     "output_type": "display_data"
    }
   ],
   "source": [
    "# open signal 2\n",
    "s2_t = np.load('/projects/data/01-sar/signal2_rc.npy')\n",
    "\n",
    "# calculate the output\n",
    "u2_t = np.convolve(s2_t, h0_t, 'same')\n",
    "\n",
    "# plot signal 2... as a function of range\n",
    "plt.figure()\n",
    "plt.plot(range_axis, np.real(s2_t))\n",
    "plt.xlabel('Range (m)')\n",
    "plt.ylabel('Real part')\n",
    "plt.title('Signal 2')\n",
    "plt.grid()\n",
    "\n",
    "# plot output 2... as a function of range\n",
    "plt.figure()\n",
    "plt.plot(range_axis, np.real(u2_t))\n",
    "plt.xlabel('Range (m)')\n",
    "plt.ylabel('Real part')\n",
    "plt.title('Signal 2')\n",
    "plt.grid()"
   ]
  },
  {
   "cell_type": "code",
   "execution_count": 13,
   "metadata": {},
   "outputs": [
    {
     "data": {
      "application/vnd.jupyter.widget-view+json": {
       "model_id": "64413cb052e746c59b993f2fba348df4",
       "version_major": 2,
       "version_minor": 0
      },
      "text/plain": [
       "Canvas(toolbar=Toolbar(toolitems=[('Home', 'Reset original view', 'home', 'home'), ('Back', 'Back to previous …"
      ]
     },
     "metadata": {},
     "output_type": "display_data"
    }
   ],
   "source": [
    "# focus signal 2 with fft\n",
    "u2_fft = fft(s2_t) * fft(h0_t)\n",
    "u2_fft_t = fftshift( ifft(u2_fft) )\n",
    "\n",
    "# plot output 2... as a function of range\n",
    "plt.figure()\n",
    "plt.plot(range_axis, np.real(u2_fft_t))\n",
    "plt.xlabel('Range (m)')\n",
    "plt.ylabel('Real part')\n",
    "plt.title('Signal 2')\n",
    "plt.grid()"
   ]
  },
  {
   "cell_type": "markdown",
   "metadata": {},
   "source": [
    "## Exercise 3"
   ]
  },
  {
   "cell_type": "markdown",
   "metadata": {},
   "source": [
    "We are ready now to focus real F-SAR P-band data !\n",
    "\n",
    "1. Open the raw data image in the file */projects/data/01-sar/raw-img.rat*, and visualize it (only the amplitude).\n",
    "2. Compress it in range using the same chirp as in the Exercise 1, this time using the Fourier transform. What do you see?\n",
    "\n",
    "Tip:\n",
    "Use the provided rat class to open the data - Example: img = rrat(*filename.rat*)"
   ]
  },
  {
   "cell_type": "markdown",
   "metadata": {},
   "source": [
    "### Solution"
   ]
  },
  {
   "cell_type": "code",
   "execution_count": 14,
   "metadata": {},
   "outputs": [
    {
     "data": {
      "text/plain": [
       "(9984, 3772)"
      ]
     },
     "execution_count": 14,
     "metadata": {},
     "output_type": "execute_result"
    }
   ],
   "source": [
    "img = rrat('/projects/data/01-sar/raw-img.rat')\n",
    "img.shape"
   ]
  },
  {
   "cell_type": "code",
   "execution_count": 15,
   "metadata": {},
   "outputs": [
    {
     "data": {
      "application/vnd.jupyter.widget-view+json": {
       "model_id": "a0302ea42f60410a80399a53e1d4dca1",
       "version_major": 2,
       "version_minor": 0
      },
      "text/plain": [
       "Canvas(toolbar=Toolbar(toolitems=[('Home', 'Reset original view', 'home', 'home'), ('Back', 'Back to previous …"
      ]
     },
     "metadata": {},
     "output_type": "display_data"
    },
    {
     "data": {
      "text/plain": [
       "Text(0.5, 1.0, 'Raw data')"
      ]
     },
     "execution_count": 15,
     "metadata": {},
     "output_type": "execute_result"
    }
   ],
   "source": [
    "plt.figure()\n",
    "plt.imshow(np.flipud(abs(img)), vmin = 0, vmax = 2*np.mean(abs(img)), cmap = 'gray', interpolation = 'nearest')\n",
    "plt.xlabel('Range (pixels)')\n",
    "plt.ylabel('Azimuth (pixels)')\n",
    "plt.title('Raw data')"
   ]
  },
  {
   "cell_type": "code",
   "execution_count": 17,
   "metadata": {},
   "outputs": [
    {
     "data": {
      "application/vnd.jupyter.widget-view+json": {
       "model_id": "6ac97391256f4c13a79993e60d0938a6",
       "version_major": 2,
       "version_minor": 0
      },
      "text/plain": [
       "Canvas(toolbar=Toolbar(toolitems=[('Home', 'Reset original view', 'home', 'home'), ('Back', 'Back to previous …"
      ]
     },
     "metadata": {},
     "output_type": "display_data"
    },
    {
     "data": {
      "text/plain": [
       "Text(0.5, 1.0, 'After range focusing')"
      ]
     },
     "execution_count": 17,
     "metadata": {},
     "output_type": "execute_result"
    }
   ],
   "source": [
    "img_r = np.zeros(img.shape, 'complex64')\n",
    "\n",
    "for nn in range(img.shape[0]) :\n",
    "    \n",
    "    u_fft = fft(img[nn, :]) * fft(h0_t)\n",
    "    img_r[nn, :] = fftshift( ifft(u_fft) )\n",
    "    \n",
    "plt.figure()\n",
    "plt.imshow(np.flipud(abs(img_r)), vmin = 0, vmax = 2*np.mean(abs(img_r)), cmap = 'gray', interpolation = 'nearest')\n",
    "plt.xlabel('Range (pixels)')\n",
    "plt.ylabel('Azimuth (pixels)')\n",
    "plt.title('After range focusing')\n",
    "    "
   ]
  },
  {
   "cell_type": "code",
   "execution_count": null,
   "metadata": {},
   "outputs": [],
   "source": []
  }
 ],
 "metadata": {
  "kernelspec": {
   "display_name": "Python 3",
   "language": "python",
   "name": "python3"
  },
  "language_info": {
   "codemirror_mode": {
    "name": "ipython",
    "version": 3
   },
   "file_extension": ".py",
   "mimetype": "text/x-python",
   "name": "python",
   "nbconvert_exporter": "python",
   "pygments_lexer": "ipython3",
   "version": "3.8.6"
  }
 },
 "nbformat": 4,
 "nbformat_minor": 4
}
