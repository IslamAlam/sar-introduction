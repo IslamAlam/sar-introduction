{
 "cells": [
  {
   "cell_type": "markdown",
   "metadata": {},
   "source": [
    "# The PolInSAR course - October 4, 2021 \n",
    "# Synthetic Aperture Radar (SAR) \n",
    "# Part 2: Azimuth Resolution"
   ]
  },
  {
   "cell_type": "code",
   "execution_count": 1,
   "metadata": {},
   "outputs": [
    {
     "name": "stderr",
     "output_type": "stream",
     "text": [
      "/projects/src/ste_io.py:69: UserWarning: Failed to import STEtools.visualisation. write_pixmap will not work.\n",
      "  warnings.warn(\"Failed to import STEtools.visualisation. write_pixmap will not work.\")\n"
     ]
    }
   ],
   "source": [
    "# --- To get started, we set the ipympl backend, which makes matplotlib plots interactive.\n",
    "# --- We do this using a magic command, starting with %.\n",
    "%matplotlib widget\n",
    "\n",
    "# --- import libraries\n",
    "import sys\n",
    "sys.path.append('/projects/src/')\n",
    "\n",
    "import numpy as np\n",
    "import matplotlib.pyplot as plt\n",
    "from numpy.fft import fft, fftfreq, fftshift, ifft\n",
    "\n",
    "# --- import rat class\n",
    "from ste_io import *\n",
    "\n",
    "# --- Useful functions\n",
    "\n",
    "def rect(t, T0):\n",
    "    # Implements y = rect(t/T0) = 1 if abs(t/T0) <= 0.5, 0 otherwise \n",
    "    # All input / outputs are Numpy arrays\n",
    "    \n",
    "    N = t.shape[0]\n",
    "    y = np.zeros(N, 'float32') \n",
    "    y[np.abs(t/T0) <= 0.5] = 1\n",
    "    \n",
    "    return y\n",
    "\n",
    "# --- Constants\n",
    "\n",
    "# speed of light\n",
    "c0 = 2.9972190e+08\n"
   ]
  },
  {
   "cell_type": "markdown",
   "metadata": {},
   "source": [
    "## Exercise 1\n",
    "\n",
    "A typical P-band acquisition of DLR's F-SAR system is characterized by the following parameters:"
   ]
  },
  {
   "cell_type": "code",
   "execution_count": 3,
   "metadata": {},
   "outputs": [],
   "source": [
    "# --- Input parameters \n",
    "\n",
    "# SAR wavelength meters\n",
    "lambda0 = 0.68901587\n",
    "# platform velocity, meters/second\n",
    "vp    = 102.89772    \n",
    "# range at closest point\n",
    "R0    = 6445.2197      \n",
    "# pixel spacing in meters\n",
    "azsp  = 0.90879266    \n",
    "# number of pixels \n",
    "Nsaz  = 9984"
   ]
  },
  {
   "cell_type": "markdown",
   "metadata": {},
   "source": [
    "The (unfocused) azimuth signal in */projects/data/01-sar/signal1_ac.npy* refers to 1 point-like scatterer. \n",
    "Which is the correct value for the azimuth resolution among 0.5 m, 1.5 m, 5 m ?"
   ]
  },
  {
   "cell_type": "markdown",
   "metadata": {},
   "source": [
    "### Solution"
   ]
  },
  {
   "cell_type": "code",
   "execution_count": 11,
   "metadata": {},
   "outputs": [
    {
     "data": {
      "application/vnd.jupyter.widget-view+json": {
       "model_id": "1710423fefc947b29759982ff01bb963",
       "version_major": 2,
       "version_minor": 0
      },
      "text/plain": [
       "Canvas(toolbar=Toolbar(toolitems=[('Home', 'Reset original view', 'home', 'home'), ('Back', 'Back to previous …"
      ]
     },
     "metadata": {},
     "output_type": "display_data"
    },
    {
     "data": {
      "application/vnd.jupyter.widget-view+json": {
       "model_id": "0d1cf7ab60e744d0bf1295ebd84e628d",
       "version_major": 2,
       "version_minor": 0
      },
      "text/plain": [
       "Canvas(toolbar=Toolbar(toolitems=[('Home', 'Reset original view', 'home', 'home'), ('Back', 'Back to previous …"
      ]
     },
     "metadata": {},
     "output_type": "display_data"
    },
    {
     "data": {
      "application/vnd.jupyter.widget-view+json": {
       "model_id": "52609eec19294e6cb9c8006e11c15b1f",
       "version_major": 2,
       "version_minor": 0
      },
      "text/plain": [
       "Canvas(toolbar=Toolbar(toolitems=[('Home', 'Reset original view', 'home', 'home'), ('Back', 'Back to previous …"
      ]
     },
     "metadata": {},
     "output_type": "display_data"
    }
   ],
   "source": [
    "# --- calculate time axis\n",
    "time_a = np.linspace(0, Nsaz-1, Nsaz) * azsp / vp\n",
    "time_a = time_a - np.max(time_a) / 2\n",
    "\n",
    "# --- Calculate Tsa (illumination time)\n",
    "# azimuth resolution\n",
    "delta_sa = 1.5\n",
    "# real antenna aperture\n",
    "da = 2 * delta_sa\n",
    "# angular aperture\n",
    "theta = lambda0 / da\n",
    "# synthetic aperture\n",
    "Lsa = theta * R0\n",
    "# illumination time\n",
    "Tsa = Lsa / vp\n",
    "\n",
    "# --- Calculate azimuth chirp rate\n",
    "ka = 2 * vp**2 / lambda0 / R0\n",
    "\n",
    "# --- chirp signal\n",
    "s0_t = np.exp(1j * np.pi * ka * time_a**2) * rect(time_a, Tsa)\n",
    "\n",
    "# --- matched filter\n",
    "h0_t = np.conj(s0_t[::-1])\n",
    "# plot matched filter response\n",
    "plt.figure()\n",
    "plt.plot(time_a*vp, np.real(h0_t))\n",
    "#plt.xlabel('Time (s)')\n",
    "plt.xlabel('Azimuth distance (m)')\n",
    "plt.ylabel('Real part')\n",
    "plt.title('Matched filter response')\n",
    "plt.grid()\n",
    "\n",
    "# --- focus input data 1\n",
    "s1_t = np.load('/projects/data/01-sar/signal1_ac.npy')\n",
    "u1_t = np.convolve(s1_t, h0_t, 'same')\n",
    "\n",
    "# plot input signal\n",
    "plt.figure()\n",
    "plt.plot(time_a*vp, np.real(s1_t))\n",
    "plt.xlabel('Azimuth distance (m)')\n",
    "plt.ylabel('Real part')\n",
    "plt.title('Input signal 1')\n",
    "plt.grid()\n",
    "\n",
    "# plot input signal\n",
    "plt.figure()\n",
    "plt.plot(time_a*vp, np.real(u1_t))\n",
    "plt.xlabel('Azimuth distance (m)')\n",
    "plt.ylabel('Real part')\n",
    "plt.title('Output signal 1')\n",
    "plt.grid()\n"
   ]
  },
  {
   "cell_type": "markdown",
   "metadata": {},
   "source": [
    "## Exercise 2"
   ]
  },
  {
   "cell_type": "markdown",
   "metadata": {},
   "source": [
    "Now load the azimuth signal in */projects/data/01-sar/signal2_ac.npy*, and focus it with the azimuth chirp calculated with the resolution determined in Exercise 1. How many scatterer do you see, and where?"
   ]
  },
  {
   "cell_type": "markdown",
   "metadata": {},
   "source": [
    "### Solution"
   ]
  },
  {
   "cell_type": "code",
   "execution_count": 14,
   "metadata": {},
   "outputs": [
    {
     "name": "stderr",
     "output_type": "stream",
     "text": [
      "<ipython-input-14-d255368290bb>:5: RuntimeWarning: More than 20 figures have been opened. Figures created through the pyplot interface (`matplotlib.pyplot.figure`) are retained until explicitly closed and may consume too much memory. (To control this warning, see the rcParam `figure.max_open_warning`).\n",
      "  plt.figure()\n"
     ]
    },
    {
     "data": {
      "application/vnd.jupyter.widget-view+json": {
       "model_id": "1dc0ad03b5894005b2027831dab66c09",
       "version_major": 2,
       "version_minor": 0
      },
      "text/plain": [
       "Canvas(toolbar=Toolbar(toolitems=[('Home', 'Reset original view', 'home', 'home'), ('Back', 'Back to previous …"
      ]
     },
     "metadata": {},
     "output_type": "display_data"
    },
    {
     "data": {
      "application/vnd.jupyter.widget-view+json": {
       "model_id": "04c914201023450885ab01279fa2aa81",
       "version_major": 2,
       "version_minor": 0
      },
      "text/plain": [
       "Canvas(toolbar=Toolbar(toolitems=[('Home', 'Reset original view', 'home', 'home'), ('Back', 'Back to previous …"
      ]
     },
     "metadata": {},
     "output_type": "display_data"
    }
   ],
   "source": [
    "# --- open signal 2\n",
    "s2_t = np.load('/projects/data/01-sar/signal2_ac.npy')\n",
    "\n",
    "# plot input signal\n",
    "plt.figure()\n",
    "plt.plot(time_a*vp, np.real(s2_t))\n",
    "plt.xlabel('Azimuth distance (m)')\n",
    "plt.ylabel('Real part')\n",
    "plt.title('Input signal 2')\n",
    "plt.grid()\n",
    "\n",
    "# focusing\n",
    "u2_t = np.convolve(s2_t, h0_t, 'same')\n",
    "\n",
    "# plot output signal\n",
    "plt.figure()\n",
    "plt.plot(time_a*vp, np.real(u2_t))\n",
    "plt.xlabel('Azimuth distance (m)')\n",
    "plt.ylabel('Real part')\n",
    "plt.title('Output signal 2')\n",
    "plt.grid()\n"
   ]
  },
  {
   "cell_type": "markdown",
   "metadata": {},
   "source": [
    "## Exercise 3"
   ]
  },
  {
   "cell_type": "markdown",
   "metadata": {},
   "source": [
    "We are now ready now to focus in both rangea nd azimuth the real F-SAR P-band data already used last week !\n",
    "\n",
    "1. Open the raw data image in the file */projects/data/01-sar/raw-img.rat*, and visualize it (only the amplitude).\n",
    "2. Compress it in range using the chirp parameters provided below using the FFT. What do you see?\n",
    "3. After range focusing, compress the result in azimuth, again using the FFT. What happens if the azimuth chirp is adapted in near range? what happens if the chirp is adapted in far range?\n",
    "\n",
    "Tip:\n",
    "Use the provided rat class to open the data - Example: img = rrat(*filename.rat*)"
   ]
  },
  {
   "cell_type": "code",
   "execution_count": 15,
   "metadata": {},
   "outputs": [],
   "source": [
    "\n",
    "# --- Inputs\n",
    "\n",
    "# SAR wavelength\n",
    "lambda0 = 0.68901587\n",
    "\n",
    "# --- parameters for range focusing\n",
    "\n",
    "# range chirp duration, s\n",
    "T   = 1.0016000e-05\n",
    "# chirp bandwidth, Hz\n",
    "Wr  = 50.0e6\n",
    "# range sampling, m\n",
    "rsp = 1.1988876\n",
    "# number of samples \n",
    "Nsr = 3772\n",
    "\n",
    "# --- parameters for azimuth focusing\n",
    "\n",
    "# azimut resolution, m\n",
    "deltasa = 2/1.33 # 1.5\n",
    "# platform velocity, meters/second\n",
    "vp      = 102.89772    \n",
    "# pixel spacing in meters\n",
    "azsp    = 0.90879266    \n",
    "# number of pixels \n",
    "Nsaz    = 9984\n",
    "# range delay, s <---- NEW !!!\n",
    "rd  = 4.3008000e-05\n",
    "# the range delay is the amount of time between the chirp transmission\n",
    "# and the receipt of the first backscattered signal ==> converted in meters it provides the minimum range\n"
   ]
  },
  {
   "cell_type": "markdown",
   "metadata": {},
   "source": [
    "### Solution"
   ]
  },
  {
   "cell_type": "code",
   "execution_count": 16,
   "metadata": {},
   "outputs": [
    {
     "data": {
      "text/plain": [
       "(9984, 3772)"
      ]
     },
     "execution_count": 16,
     "metadata": {},
     "output_type": "execute_result"
    }
   ],
   "source": [
    "img = rrat('/projects/data/01-sar/raw-img.rat')\n",
    "img.shape"
   ]
  },
  {
   "cell_type": "code",
   "execution_count": 18,
   "metadata": {},
   "outputs": [
    {
     "data": {
      "application/vnd.jupyter.widget-view+json": {
       "model_id": "bd8ba9411c654bdfbe5d01d9f0b77266",
       "version_major": 2,
       "version_minor": 0
      },
      "text/plain": [
       "Canvas(toolbar=Toolbar(toolitems=[('Home', 'Reset original view', 'home', 'home'), ('Back', 'Back to previous …"
      ]
     },
     "metadata": {},
     "output_type": "display_data"
    },
    {
     "data": {
      "application/vnd.jupyter.widget-view+json": {
       "model_id": "6facb4aa95654895befcbe410867923c",
       "version_major": 2,
       "version_minor": 0
      },
      "text/plain": [
       "Canvas(toolbar=Toolbar(toolitems=[('Home', 'Reset original view', 'home', 'home'), ('Back', 'Back to previous …"
      ]
     },
     "metadata": {},
     "output_type": "display_data"
    },
    {
     "data": {
      "text/plain": [
       "Text(0.5, 1.0, 'After range focusing')"
      ]
     },
     "execution_count": 18,
     "metadata": {},
     "output_type": "execute_result"
    }
   ],
   "source": [
    "# --- generate range chirp\n",
    "time_r = np.linspace(0, Nsr-1, Nsr) * rsp / (c0/2)\n",
    "time_r = time_r - np.max(time_r) / 2\n",
    "kr = Wr / T\n",
    "sr_t = np.exp(1j * np.pi * kr * time_r**2) * rect(time_r, T)\n",
    "\n",
    "# --- range focusing\n",
    "hr_t = np.conj(sr_t[::-1])\n",
    "img_r = np.zeros(img.shape, 'complex64')\n",
    "\n",
    "for nn in range(Nsaz) :\n",
    "    \n",
    "    u_fft = fft(img[nn, :]) * fft(hr_t)\n",
    "    img_r[nn, :] = fftshift( ifft(u_fft) )\n",
    "    \n",
    "# --- plot before range focusing\n",
    "plt.figure(figsize = (5, 8))\n",
    "plt.imshow(np.flipud(abs(img)), vmin = 0, vmax = 2*np.mean(abs(img)), cmap = 'gray')\n",
    "plt.xlabel('Range (pixels)')\n",
    "plt.ylabel('Azimuth (pixels)')\n",
    "plt.title('Raw data')\n",
    "\n",
    "# --- plot after range focusing\n",
    "plt.figure(figsize = (5, 8))\n",
    "plt.imshow(np.flipud(abs(img_r)), vmin = 0, vmax = 2*np.mean(abs(img_r)), cmap = 'gray')\n",
    "plt.xlabel('Range (pixels)')\n",
    "plt.ylabel('Azimuth (pixels)')\n",
    "plt.title('After range focusing')\n",
    "\n"
   ]
  },
  {
   "cell_type": "code",
   "execution_count": 19,
   "metadata": {},
   "outputs": [
    {
     "data": {
      "application/vnd.jupyter.widget-view+json": {
       "model_id": "8659914c5c8b4662a4e17891478a2927",
       "version_major": 2,
       "version_minor": 0
      },
      "text/plain": [
       "Canvas(toolbar=Toolbar(toolitems=[('Home', 'Reset original view', 'home', 'home'), ('Back', 'Back to previous …"
      ]
     },
     "metadata": {},
     "output_type": "display_data"
    },
    {
     "data": {
      "text/plain": [
       "Text(0.5, 1.0, 'After range and azimuth focusing')"
      ]
     },
     "execution_count": 19,
     "metadata": {},
     "output_type": "execute_result"
    }
   ],
   "source": [
    "# --- focus in azimuth\n",
    "\n",
    "# calculate time axis\n",
    "time_a = np.linspace(0, Nsaz-1, Nsaz) * azsp / vp\n",
    "time_a = time_a - np.max(time_a) / 2\n",
    "\n",
    "# real antenna aperture\n",
    "da = 2 * deltasa\n",
    "# angular aperture\n",
    "theta = lambda0 / da\n",
    "# synthetic aperture\n",
    "R0 = rd * c0 /2  # first pixel = near range\n",
    "Lsa = theta * R0\n",
    "# illumination time\n",
    "Tsa = Lsa / vp\n",
    "\n",
    "# --- Calculate azimuth chirp rate\n",
    "ka = 2 * vp**2 / lambda0 / R0\n",
    "\n",
    "# --- chirp signal\n",
    "sa_t = np.exp(1j * np.pi * ka * time_a**2) * rect(time_a, Tsa)\n",
    "\n",
    "# --- matched filter\n",
    "ha_t = np.conj(sa_t[::-1])\n",
    "\n",
    "# --- azimuth focusing\n",
    "img_ra = np.zeros(img.shape, 'complex64')\n",
    "\n",
    "for nn in range(Nsr) :\n",
    "    \n",
    "    u_fft = fft(img_r[:, nn]) * fft(ha_t)\n",
    "    img_ra[:, nn] = fftshift( ifft(u_fft) )\n",
    "    \n",
    "# --- plot after azimuth focusing\n",
    "plt.figure(figsize = (5, 8))\n",
    "plt.imshow(np.flipud(abs(img_ra)), vmin = 0, vmax = 2*np.mean(abs(img_ra)), cmap = 'gray')\n",
    "plt.xlabel('Range (pixels)')\n",
    "plt.ylabel('Azimuth (pixels)')\n",
    "plt.title('After range and azimuth focusing')\n"
   ]
  },
  {
   "cell_type": "code",
   "execution_count": null,
   "metadata": {},
   "outputs": [],
   "source": []
  }
 ],
 "metadata": {
  "kernelspec": {
   "display_name": "Python 3",
   "language": "python",
   "name": "python3"
  },
  "language_info": {
   "codemirror_mode": {
    "name": "ipython",
    "version": 3
   },
   "file_extension": ".py",
   "mimetype": "text/x-python",
   "name": "python",
   "nbconvert_exporter": "python",
   "pygments_lexer": "ipython3",
   "version": "3.8.6"
  }
 },
 "nbformat": 4,
 "nbformat_minor": 4
}
