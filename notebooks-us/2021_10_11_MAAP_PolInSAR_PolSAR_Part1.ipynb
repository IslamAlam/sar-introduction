{
 "cells": [
  {
   "cell_type": "markdown",
   "metadata": {},
   "source": [
    "# The PolInSAR Course - October 11, 2021 \n",
    "# SAR Polarimetry (SAR) \n",
    "# Part 1: The scattering matrix"
   ]
  },
  {
   "cell_type": "markdown",
   "metadata": {},
   "source": [
    "**Input data:**\n",
    "\n",
    "- Acquisition: Nkok (Gabon), DLR's F-SAR, L-band\n",
    "\n",
    "- Path to images: /projects/data/02-polsar/\n",
    "\n",
    "- SLC (single-look complex) images:\n",
    "    - HH: slc_16afrisr0107_Lhh_tcal_test.rat\n",
    "    - HV: slc_16afrisr0107_Lhv_tcal_test.rat\n",
    "    - VH: slc_16afrisr0107_Lvh_tcal_test.rat\n",
    "    - VV: slc_16afrisr0107_Lvh_tcal_test.rat\n"
   ]
  },
  {
   "cell_type": "code",
   "execution_count": null,
   "metadata": {},
   "outputs": [],
   "source": [
    "%matplotlib widget\n",
    "\n",
    "# import useful libraries, functions, and modules\n",
    "\n",
    "import sys\n",
    "sys.path.append('/projects/src/')\n",
    "\n",
    "import numpy as np\n",
    "import matplotlib.pyplot as plt\n",
    "from scipy.ndimage import filters\n",
    "from ste_io import *"
   ]
  },
  {
   "cell_type": "markdown",
   "metadata": {},
   "source": [
    "## Exercise 1\n",
    "\n",
    "Create, visualize and compare (where are the same? where are different?) RGB composite images using \n",
    "\n",
    "- Lexicographic basis: R = HH - G = HV - B = VV \n",
    "- Pauli basis:         R = HH-VV - G = 2HV - B = HH+VV\n",
    "\n",
    "Tips:\n",
    "- include multi-look - to be be performed by averaging intensities (abs^2) on a N x N pixels moving window in range - azimuth\n",
    "- focus on a range - azimuth block within pixels [2500, 16000] and [0, 2000], respectively.\n"
   ]
  },
  {
   "cell_type": "code",
   "execution_count": null,
   "metadata": {},
   "outputs": [],
   "source": [
    "\n"
   ]
  },
  {
   "cell_type": "markdown",
   "metadata": {},
   "source": [
    "## Exercise 2"
   ]
  },
  {
   "cell_type": "markdown",
   "metadata": {},
   "source": [
    "Calculate and visualize the alpha angle."
   ]
  },
  {
   "cell_type": "code",
   "execution_count": null,
   "metadata": {},
   "outputs": [],
   "source": []
  }
 ],
 "metadata": {
  "kernelspec": {
   "display_name": "Python 3",
   "language": "python",
   "name": "python3"
  },
  "language_info": {
   "codemirror_mode": {
    "name": "ipython",
    "version": 3
   },
   "file_extension": ".py",
   "mimetype": "text/x-python",
   "name": "python",
   "nbconvert_exporter": "python",
   "pygments_lexer": "ipython3",
   "version": "3.8.6"
  }
 },
 "nbformat": 4,
 "nbformat_minor": 4
}
