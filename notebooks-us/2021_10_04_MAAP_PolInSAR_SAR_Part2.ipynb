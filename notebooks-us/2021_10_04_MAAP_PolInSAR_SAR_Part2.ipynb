{
 "cells": [
  {
   "cell_type": "markdown",
   "metadata": {},
   "source": [
    "# The PolInSAR course - October 4, 2021 \n",
    "# Synthetic Aperture Radar (SAR) \n",
    "# Part 2: Azimuth Resolution"
   ]
  },
  {
   "cell_type": "code",
   "execution_count": null,
   "metadata": {},
   "outputs": [],
   "source": [
    "# --- To get started, we set the ipympl backend, which makes matplotlib plots interactive.\n",
    "# --- We do this using a magic command, starting with %.\n",
    "%matplotlib widget\n",
    "\n",
    "# --- import libraries\n",
    "import sys\n",
    "sys.path.append('/projects/src/')\n",
    "\n",
    "import numpy as np\n",
    "import matplotlib.pyplot as plt\n",
    "from numpy.fft import fft, fftfreq, fftshift, ifft\n",
    "\n",
    "# --- import rat class\n",
    "from ste_io import *\n",
    "\n",
    "# --- Useful functions\n",
    "\n",
    "def rect(t, T0):\n",
    "    # Implements y = rect(t/T0) = 1 if abs(t/T0) <= 0.5, 0 otherwise \n",
    "    # All input / outputs are Numpy arrays\n",
    "    \n",
    "    N = t.shape[0]\n",
    "    y = np.zeros(N, 'float32') \n",
    "    y[np.abs(t/T0) <= 0.5] = 1\n",
    "    \n",
    "    return y\n",
    "\n",
    "# --- Constants\n",
    "\n",
    "# speed of light\n",
    "c0 = 2.9972190e+08\n"
   ]
  },
  {
   "cell_type": "markdown",
   "metadata": {},
   "source": [
    "## Exercise 1\n",
    "\n",
    "A typical P-band acquisition of DLR's F-SAR system is characterized by the following parameters:"
   ]
  },
  {
   "cell_type": "code",
   "execution_count": 1,
   "metadata": {},
   "outputs": [],
   "source": [
    "# --- Input parameters \n",
    "\n",
    "# SAR wavelength\n",
    "lambda0 = 0.68901587\n",
    "# platform velocity, meters/second\n",
    "vp    = 102.89772    \n",
    "# range at closest point\n",
    "R0    = 6445.2197      \n",
    "# pixel spacing in meters\n",
    "azsp  = 0.90879266    \n",
    "# number of pixels \n",
    "Nsaz  = 9984"
   ]
  },
  {
   "cell_type": "markdown",
   "metadata": {},
   "source": [
    "The (unfocused) azimuth signal in */projects/data/01-sar/signal1_ac.npy* refers to 1 point-like scatterer. \n",
    "Which is the correct value for the azimuth resolution among 5 m, 3 m, 2 m, 1.5 m, 1 m ?"
   ]
  },
  {
   "cell_type": "markdown",
   "metadata": {},
   "source": [
    "### Solution"
   ]
  },
  {
   "cell_type": "code",
   "execution_count": null,
   "metadata": {},
   "outputs": [],
   "source": []
  },
  {
   "cell_type": "markdown",
   "metadata": {},
   "source": [
    "## Exercise 2"
   ]
  },
  {
   "cell_type": "markdown",
   "metadata": {},
   "source": [
    "Now load the azimuth signal in */projects/data/01-sar/signal2_ac.npy*, and focus it with the azimuth chirp calculated with the resolution determined in Exercise 1. How many scatterer do you see, and where?"
   ]
  },
  {
   "cell_type": "markdown",
   "metadata": {},
   "source": [
    "### Solution"
   ]
  },
  {
   "cell_type": "code",
   "execution_count": null,
   "metadata": {},
   "outputs": [],
   "source": []
  },
  {
   "cell_type": "markdown",
   "metadata": {},
   "source": [
    "## Exercise 3"
   ]
  },
  {
   "cell_type": "markdown",
   "metadata": {},
   "source": [
    "We are now ready now to focus in both rangea nd azimuth the real F-SAR P-band data already used last week !\n",
    "\n",
    "1. Open the raw data image in the file */projects/data/01-sar/raw-img.rat*, and visualize it (only the amplitude).\n",
    "2. Compress it in range using the chirp parameters provided below using the FFT. What do you see?\n",
    "3. After range focusing, compress the result in azimuth, again using the FFT. What happens if the azimuth chirp is adapted in near range? what happens if the chirp is adapted in far range?\n",
    "\n",
    "Tip:\n",
    "Use the provided rat class to open the data - Example: img = rrat(*filename.rat*)"
   ]
  },
  {
   "cell_type": "code",
   "execution_count": 7,
   "metadata": {},
   "outputs": [],
   "source": [
    "\n",
    "# --- Inputs\n",
    "\n",
    "# SAR wavelength\n",
    "lambda0 = 0.68901587\n",
    "\n",
    "# --- parameters for range focusing\n",
    "\n",
    "# range chirp duration, s\n",
    "T   = 1.0016000e-05\n",
    "# chirp bandwidth, Hz\n",
    "Wr  = 50.0e6\n",
    "# range sampling, m\n",
    "rsp = 1.1988876\n",
    "# number of samples \n",
    "Nsr = 3772\n",
    "# range delay, s <---- NEW !!!\n",
    "rd  = 4.3008000e-05\n",
    "# the range delay is the amount of time between the chirp transmission\n",
    "# and the receipt of the first backscattered signal ==> converted in meters it provides the minimum range\n",
    "\n",
    "# --- parameters for azimuth focusing\n",
    "\n",
    "# azimut resolution, m\n",
    "deltasa = 2/1.33 # 1.5\n",
    "# platform velocity, meters/second\n",
    "vp      = 102.89772    \n",
    "# pixel spacing in meters\n",
    "azsp    = 0.90879266    \n",
    "# number of pixels \n",
    "Nsaz    = 9984\n"
   ]
  },
  {
   "cell_type": "code",
   "execution_count": null,
   "metadata": {},
   "outputs": [],
   "source": []
  },
  {
   "cell_type": "markdown",
   "metadata": {},
   "source": [
    "### Solution"
   ]
  },
  {
   "cell_type": "code",
   "execution_count": null,
   "metadata": {},
   "outputs": [],
   "source": [
    "\n",
    "    "
   ]
  }
 ],
 "metadata": {
  "kernelspec": {
   "display_name": "Python 3",
   "language": "python",
   "name": "python3"
  },
  "language_info": {
   "codemirror_mode": {
    "name": "ipython",
    "version": 3
   },
   "file_extension": ".py",
   "mimetype": "text/x-python",
   "name": "python",
   "nbconvert_exporter": "python",
   "pygments_lexer": "ipython3",
   "version": "3.8.6"
  }
 },
 "nbformat": 4,
 "nbformat_minor": 4
}
