{
 "cells": [
  {
   "cell_type": "markdown",
   "id": "c51c4866",
   "metadata": {},
   "source": [
    "# The PolInSAR Course - November 29, 2021 \n",
    "# Polarimetric SAR Tomography (TomoSAR) \n",
    "# Part 1: Analysis of TomoSAR configurations\n",
    "\n",
    "* Simulated distribution of scatterers\n",
    "* Path: '/projects/data/05-tomosar/simulated/'\n",
    "    * volume scatterers: pos_scatters_layer1.npy\n",
    "    * ground scatterers: pos_scatters_ground.npy\n",
    "\n",
    "Objective:\n",
    "- Evaluate TomoSAR acquisition configurations starting from a distribution of simulated elementary scatterers. \n",
    "\n",
    "Tips:\n",
    "- Create 3 functions: one for simulating the SAR data from the distribution of scatterers, one implementing the TomoSAR reflectivity reconstruction, and one implementing the calculation of the TomoSAR point-spread function."
   ]
  },
  {
   "cell_type": "code",
   "execution_count": null,
   "id": "bdfd2645",
   "metadata": {},
   "outputs": [],
   "source": [
    "# import useful libraries, functions, and modules\n",
    "\n",
    "import sys\n",
    "sys.path.append('/projects/src/')\n",
    "\n",
    "import warnings\n",
    "warnings.filterwarnings(\"ignore\")\n",
    "\n",
    "import numpy as np\n",
    "import matplotlib.pyplot as plt\n",
    "from scipy.ndimage import filters\n",
    "from ste_io import *\n",
    "from tqdm import tqdm\n",
    "import math as ma\n",
    "\n",
    "%matplotlib widget"
   ]
  },
  {
   "cell_type": "code",
   "execution_count": null,
   "id": "99104fd6",
   "metadata": {},
   "outputs": [],
   "source": [
    "def simulate_data(l, R0, d_orth, pos, dimx, dimy) :\n",
    "    \n",
    "    # Simulated a TomoSAR set of images from a distribution of elementary scatterers.\n",
    "    # Inputs :\n",
    "    # R0         - range, assumed constant (m)\n",
    "    # l          - wavelength (m)\n",
    "    # d_orth     - TomoSAR orthogonal displacements\n",
    "    # pos        - x, y, z positions of the N scatterers [3 x N] - z is in (m)\n",
    "    # dimx, dimy - dimensions of the final scene in (x, y)\n",
    "    # Outputs :\n",
    "    # y - TomoSAR images (x, y, d_orth.size)\n",
    "    # !! Achtung !! sub-optimal implementation, fast enough for small scatterer distributions !!\n",
    "    # Uses tqdm()\n",
    "    \n",
    "    "
   ]
  },
  {
   "cell_type": "code",
   "execution_count": null,
   "id": "c1dfe3d9",
   "metadata": {},
   "outputs": [],
   "source": [
    "def TomoSAR_reconstruction(l, R0, d_orth, y, z) : \n",
    "    \n",
    "    # Reconstruct the TomoSAR reflectivity from a data set y\n",
    "    # Inputs :\n",
    "    # R0     - range, assumed constant (m)\n",
    "    # l      - wavelength (m)\n",
    "    # d_orth - TomoSAR orthogonal displacements\n",
    "    # y      - TomoSAR images (x, y, d_orth.size)\n",
    "    # z      - height vector (nz) in (m)\n",
    "    # Outputs :\n",
    "    # P - TomoSAR complex reflectivity (x, y, d_orth.size)\n",
    "    # !! Achtung !! assumes constant d_orth and R0 across the scene !!\n",
    "        \n"
   ]
  },
  {
   "cell_type": "code",
   "execution_count": null,
   "id": "2e693ccc",
   "metadata": {},
   "outputs": [],
   "source": [
    "def calculate_PSF(l, R0, d_orth, z) : \n",
    "    \n",
    "    # Calculate the TomoSAR PSF\n",
    "    # Inputs :\n",
    "    # R0     - range, assumed constant (m)\n",
    "    # l      - wavelength (m)\n",
    "    # d_orth - TomoSAR orthogonal displacements\n",
    "    # y      - TomoSAR images (x, y, d_orth.size)\n",
    "    # z      - height vector (nz) in (m)\n",
    "    # Outputs :\n",
    "    # P - TomoSAR complex reflectivity (x, y, d_orth.size)\n",
    "    # Uses tqdm() \n",
    "    # !! Achtung !! assumes constant d_orth and R0 across the scene !!\n",
    "    \n"
   ]
  },
  {
   "cell_type": "markdown",
   "id": "ce934991",
   "metadata": {},
   "source": [
    "**Input parameters**"
   ]
  },
  {
   "cell_type": "code",
   "execution_count": null,
   "id": "e8f9ffe6",
   "metadata": {},
   "outputs": [],
   "source": [
    "# Path to data\n",
    "path = '/projects/data/Temp/'\n",
    "\n",
    "# range - assumed constant - meters\n",
    "R0 = 5000.\n",
    "# wavelength - meters\n",
    "l = 0.2\n",
    "\n",
    "# scene dimension, x (arbitrary coordinates, positions on file are in the same system)\n",
    "dimx = 51\n",
    "# scene dimension, y (arbitrary coordinates, positions on file are in the same system)\n",
    "dimy = 51\n",
    "\n",
    "# looks\n",
    "looksx = 9\n",
    "looksy = 9\n",
    "\n",
    "# tomographic height axis\n",
    "# ...\n"
   ]
  },
  {
   "cell_type": "markdown",
   "id": "eb621e8e",
   "metadata": {},
   "source": [
    "**Load data and visualize**"
   ]
  },
  {
   "cell_type": "code",
   "execution_count": null,
   "id": "73aa47bf",
   "metadata": {},
   "outputs": [],
   "source": [
    "# Load data\n",
    "\n",
    "pos_layer1 = np.load(path + 'pos_scatters_layer1.npy')\n",
    "pos_ground = np.load(path + 'pos_scatters_ground.npy')\n",
    "\n",
    "# visualize 3d\n",
    "\n",
    "fig = plt.figure( figsize = (10, 10) )\n",
    "ax = plt.axes(projection = '3d')\n",
    "ax.scatter(pos_layer1[0, :], pos_layer1[1, :], pos_layer1[2, :], color = [0.25,0.75,0.25], s = 3)\n",
    "ax.scatter(pos_ground[0, :], pos_ground[1, :], pos_ground[2, :], color = [0.75,0.5,0.25], s = 3)\n",
    "plt.title('3D distribution of points')\n",
    "ax.set_zlabel('Height (m)')\n",
    "ax.view_init(9, -57)\n",
    "\n",
    "# concatenate vectors for simulation\n",
    "pos = np.concatenate([pos_layer1, pos_ground], axis = 1)\n"
   ]
  },
  {
   "cell_type": "markdown",
   "id": "2cc878d2",
   "metadata": {},
   "source": [
    "**Case 1: \"ideal\" acquisition**\n",
    "\n",
    "- Uniform displacements\n",
    "- Height ambiguity-free interval = 80 m \n",
    "- Height resolution = 5 m"
   ]
  },
  {
   "cell_type": "code",
   "execution_count": null,
   "id": "73befbfa",
   "metadata": {},
   "outputs": [],
   "source": []
  },
  {
   "cell_type": "markdown",
   "id": "a050e391",
   "metadata": {},
   "source": [
    "**Case 2: \"ideal\" acquisition**\n",
    "\n",
    "- Uniform displacements\n",
    "- 13 acquisitions\n",
    "- Height resolution = 5 m\n",
    "\n",
    "... and what happens with 7 acquisitions?"
   ]
  },
  {
   "cell_type": "code",
   "execution_count": null,
   "id": "21f94c08",
   "metadata": {},
   "outputs": [],
   "source": []
  },
  {
   "cell_type": "markdown",
   "id": "302db98c",
   "metadata": {},
   "source": [
    "**Case 3: reduced acquisition**\n",
    "\n",
    "- Uniform displacements\n",
    "- 7 acquisitions\n",
    "- Height ambiguity-free interval = 80 m \n"
   ]
  },
  {
   "cell_type": "code",
   "execution_count": null,
   "id": "9b8a29cb",
   "metadata": {},
   "outputs": [],
   "source": []
  },
  {
   "cell_type": "markdown",
   "id": "2bf76f2f",
   "metadata": {},
   "source": [
    "**Case 4: reduced and non-uniform acquisition**\n",
    "\n",
    "- Uniform displacements\n",
    "- 7 acquisitions\n",
    "- Height ambiguity-free interval = 80 m \n",
    "- Height resolution = 5 m \n",
    "\n",
    "... and what happens if we accept a resolution of 7.5?"
   ]
  },
  {
   "cell_type": "code",
   "execution_count": null,
   "id": "ee22e1ac",
   "metadata": {},
   "outputs": [],
   "source": []
  }
 ],
 "metadata": {
  "kernelspec": {
   "display_name": "Python 3",
   "language": "python",
   "name": "python3"
  },
  "language_info": {
   "codemirror_mode": {
    "name": "ipython",
    "version": 3
   },
   "file_extension": ".py",
   "mimetype": "text/x-python",
   "name": "python",
   "nbconvert_exporter": "python",
   "pygments_lexer": "ipython3",
   "version": "3.8.6"
  }
 },
 "nbformat": 4,
 "nbformat_minor": 5
}
