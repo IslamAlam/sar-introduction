{
 "cells": [
  {
   "attachments": {},
   "cell_type": "markdown",
   "metadata": {},
   "source": [
    "# The PolInSAR Course - May 15, 2023\n",
    "\n",
    "# SAR Interferometry (InSAR)\n",
    "\n",
    "# Part 1: The interferometric phase\n"
   ]
  },
  {
   "attachments": {},
   "cell_type": "markdown",
   "metadata": {},
   "source": [
    "- Etna acquisitions\n",
    "- Path: '/projects/data/03-insar/'\n",
    "- SLC: image1, image2\n",
    "\n",
    "Objective:\n",
    "\n",
    "- Implement a full (simplified) processing chain from the SLCs to the interferogram\n",
    "\n",
    "Tips:\n",
    "\n",
    "- Might be worth to perform the multilook operation on a moving window with (looksa x looksr) pixels in range - azimuth\n",
    "- Use fft2 for coregistration\n",
    "- Other useful functions: np.unravel_index(index, dims), np.roll(array, shift, axes)\n"
   ]
  },
  {
   "attachments": {},
   "cell_type": "markdown",
   "metadata": {},
   "source": [
    "\n"
   ]
  },
  {
   "cell_type": "code",
   "execution_count": null,
   "metadata": {},
   "outputs": [],
   "source": [
    "# import useful libraries, functions, and modules\n",
    "\n",
    "import sys\n",
    "sys.path.append('/projects/src/')\n",
    "\n",
    "import numpy as np\n",
    "import matplotlib.pyplot as plt\n",
    "from scipy.ndimage import filters\n",
    "from ste_io import *\n",
    "from numpy.fft import fft2, ifft2\n",
    "\n",
    "%matplotlib widget\n"
   ]
  },
  {
   "cell_type": "code",
   "execution_count": null,
   "metadata": {},
   "outputs": [],
   "source": [
    "def calculate_covariance(im1, im2, looksr, looksa) : \n",
    "    \n",
    "    corr = filters.uniform_filter(np.real(im1*np.conj(im2)), [looksa,looksr]) + 1j* \\\n",
    "                filters.uniform_filter(np.imag(im1*np.conj(im2)), [looksa,looksr])\n",
    "    \n",
    "    return corr"
   ]
  },
  {
   "attachments": {},
   "cell_type": "markdown",
   "metadata": {},
   "source": [
    "**Step 1 : Load data**\n"
   ]
  },
  {
   "cell_type": "code",
   "execution_count": null,
   "metadata": {},
   "outputs": [],
   "source": [
    "# --- input path & images\n",
    "\n",
    "\n",
    "# --- multilook window size\n",
    "\n",
    "\n",
    "# --- load data \n",
    "\n",
    "\n",
    "# --- display\n"
   ]
  },
  {
   "attachments": {},
   "cell_type": "markdown",
   "metadata": {},
   "source": [
    "**Step 2 : Calculate interferogram**\n"
   ]
  },
  {
   "cell_type": "code",
   "execution_count": null,
   "metadata": {},
   "outputs": [],
   "source": []
  },
  {
   "attachments": {},
   "cell_type": "markdown",
   "metadata": {},
   "source": [
    "**Step 3 : Coregistration**\n"
   ]
  },
  {
   "cell_type": "code",
   "execution_count": null,
   "metadata": {},
   "outputs": [],
   "source": []
  },
  {
   "attachments": {},
   "cell_type": "markdown",
   "metadata": {},
   "source": [
    "**Step 4 : Calculation & compensation of flat-earth phase**\n"
   ]
  },
  {
   "cell_type": "code",
   "execution_count": null,
   "metadata": {},
   "outputs": [],
   "source": []
  },
  {
   "attachments": {},
   "cell_type": "markdown",
   "metadata": {},
   "source": [
    "**Step 5 : Calculate Coherence**\n"
   ]
  },
  {
   "cell_type": "code",
   "execution_count": null,
   "metadata": {},
   "outputs": [],
   "source": []
  }
 ],
 "metadata": {
  "kernelspec": {
   "display_name": "Python 3 (ipykernel)",
   "language": "python",
   "name": "python3"
  },
  "language_info": {
   "codemirror_mode": {
    "name": "ipython",
    "version": 3
   },
   "file_extension": ".py",
   "mimetype": "text/x-python",
   "name": "python",
   "nbconvert_exporter": "python",
   "pygments_lexer": "ipython3",
   "version": "3.9.10"
  }
 },
 "nbformat": 4,
 "nbformat_minor": 4
}
