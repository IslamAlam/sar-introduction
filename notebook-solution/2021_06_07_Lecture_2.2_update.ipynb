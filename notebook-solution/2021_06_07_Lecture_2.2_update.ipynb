{
 "cells": [
  {
   "cell_type": "markdown",
   "metadata": {},
   "source": [
    "# Lecture 2 - 07.06.2021 \n",
    "\n",
    "# Exercise: Azimuth compression, part 2"
   ]
  },
  {
   "cell_type": "code",
   "execution_count": 9,
   "metadata": {},
   "outputs": [],
   "source": [
    "# --- To get started, we set the ipympl backend, which makes matplotlib plots interactive.\n",
    "# --- We do this using a magic command, starting with %.\n",
    "%matplotlib widget\n",
    "\n",
    "# --- import libraries\n",
    "\n",
    "import sys\n",
    "sys.path.append('/projects/src/')\n",
    "\n",
    "import numpy as np\n",
    "import matplotlib.pyplot as plt\n",
    "from numpy.fft import fft, fftfreq, fftshift, ifft\n",
    "\n",
    "# --- import rat class\n",
    "from ste_io import *\n",
    "\n",
    "# --- create useful functions\n",
    "\n",
    "def rect(t, T0):\n",
    "    # Implements y = rect(t/T0) = 1 if abs(t/T0) <= 0.5, 0 otherwise \n",
    "    # All input / outputs are Numpy arrays\n",
    "    \n",
    "    N = t.shape[0]\n",
    "    y = np.zeros(N, 'float32') \n",
    "    y[np.abs(t/T0) <= 0.5] = 1\n",
    "    \n",
    "    return y\n",
    "\n"
   ]
  },
  {
   "cell_type": "markdown",
   "metadata": {},
   "source": [
    "\n",
    "Consider the following input parameters (DLR's F-SAR platform, P-band, AfriSAR campaign):\n"
   ]
  },
  {
   "cell_type": "code",
   "execution_count": 10,
   "metadata": {},
   "outputs": [],
   "source": [
    "\n",
    "# --- Inputs\n",
    "\n",
    "# speed of light\n",
    "c0 = 2.9972190e+08\n",
    "# SAR wavelength\n",
    "lambda0 = 0.68901587\n",
    "\n",
    "# --- parameters for range focusing\n",
    "\n",
    "# range chirp duration, s\n",
    "tau = 1.0016000e-05\n",
    "# chirp bandwidth, Hz\n",
    "Wr  = 50.0e6\n",
    "# range sampling, m\n",
    "rsp = 1.1988876\n",
    "# number of samples \n",
    "Nsr = 3772\n",
    "# range delay, s <---- NEW !!!\n",
    "rd  = 4.3008000e-05\n",
    "# the range delay is the amount of time between the chirp transmission\n",
    "# and the receipt of the first backscattered signal\n",
    "\n",
    "# --- parameters for azimuth focusing\n",
    "\n",
    "# azimut resolution, m\n",
    "deltasa = 2/1.33 # 1.5\n",
    "# platform velocity, meters/second\n",
    "vp      = 102.89772    \n",
    "# pixel spacing in meters\n",
    "azsp    = 0.90879266    \n",
    "# number of pixels \n",
    "Nsaz    = 9984\n"
   ]
  },
  {
   "cell_type": "markdown",
   "metadata": {},
   "source": [
    "Consider now the raw data in ./data/01-sar/raw-img.rat :"
   ]
  },
  {
   "cell_type": "code",
   "execution_count": 11,
   "metadata": {},
   "outputs": [
    {
     "name": "stdout",
     "output_type": "stream",
     "text": [
      "(9984, 3772)\n"
     ]
    },
    {
     "data": {
      "application/vnd.jupyter.widget-view+json": {
       "model_id": "362ce3af58174e55ab8268cb36b8e8c0",
       "version_major": 2,
       "version_minor": 0
      },
      "text/plain": [
       "Canvas(toolbar=Toolbar(toolitems=[('Home', 'Reset original view', 'home', 'home'), ('Back', 'Back to previous …"
      ]
     },
     "metadata": {},
     "output_type": "display_data"
    },
    {
     "data": {
      "text/plain": [
       "Text(0.5, 1.0, 'Raw data')"
      ]
     },
     "execution_count": 11,
     "metadata": {},
     "output_type": "execute_result"
    }
   ],
   "source": [
    "\n",
    "img = rrat('./data/01-sar/raw-img.rat')\n",
    "print(img.shape)\n",
    "\n",
    "plt.figure()\n",
    "plt.imshow(abs(img), vmin = 0, vmax = 2*np.mean(np.abs(img)), cmap = 'gray')\n",
    "plt.title('Raw data')\n"
   ]
  },
  {
   "cell_type": "markdown",
   "metadata": {},
   "source": [
    "**Now focus in both range and azimuth !**\n",
    "\n",
    "In both cases, the matched filters in range and azimuth have to be defined, and applied to the data (*for* loops in both the range and azimuth dimensions).\n",
    "\n",
    "* Range focusing : \n"
   ]
  },
  {
   "cell_type": "code",
   "execution_count": 12,
   "metadata": {},
   "outputs": [
    {
     "data": {
      "application/vnd.jupyter.widget-view+json": {
       "model_id": "612bcaea068046bca76a5192bac856e4",
       "version_major": 2,
       "version_minor": 0
      },
      "text/plain": [
       "Canvas(toolbar=Toolbar(toolitems=[('Home', 'Reset original view', 'home', 'home'), ('Back', 'Back to previous …"
      ]
     },
     "metadata": {},
     "output_type": "display_data"
    },
    {
     "data": {
      "application/vnd.jupyter.widget-view+json": {
       "model_id": "7cf2882bf0464744afb7c6e5bb4a5a5c",
       "version_major": 2,
       "version_minor": 0
      },
      "text/plain": [
       "Canvas(toolbar=Toolbar(toolitems=[('Home', 'Reset original view', 'home', 'home'), ('Back', 'Back to previous …"
      ]
     },
     "metadata": {},
     "output_type": "display_data"
    },
    {
     "data": {
      "text/plain": [
       "Text(0.5, 1.0, 'Range chirp')"
      ]
     },
     "execution_count": 12,
     "metadata": {},
     "output_type": "execute_result"
    }
   ],
   "source": [
    "\n",
    "# generation of the range time axis\n",
    "Tdr   = (Nsr - 1) * rsp *2 / c0           # total duration\n",
    "rtime = np.linspace(-Tdr/2, Tdr/2, Nsr)   \n",
    "# chirp rate in range\n",
    "kr = Wr / tau\n",
    "\n",
    "# frequency axis + create hamming ... to make the image nicer !\n",
    "fs = 1/(rtime[1]-rtime[0])\n",
    "rfreq = np.linspace(-fs/2, fs/2, Nsr)\n",
    "iir = np.where(np.abs(rfreq) <= Wr/2 )\n",
    "nel = iir[0].size\n",
    "winwin = np.hamming(nel)\n",
    "\n",
    "# generate chirp\n",
    "rchirp = np.exp(1j*np.pi*kr*(rtime)**2) * rect(rtime, tau)\n",
    "\n",
    "# matched filter\n",
    "matched_filter_r = np.conj(rchirp[::-1])\n",
    "matched_filter_r_spectrum = fft(matched_filter_r)\n",
    "matched_filter_r_spectrum[np.abs(matched_filter_r_spectrum) < 1e-6] = 1e2 / Nsr  # to avoid small numbers ...\n",
    "\n",
    "# focused image in range\n",
    "imgr = np.zeros((img.shape), 'complex64')\n",
    "# image with the range chirp\n",
    "imrchirp = np.zeros((img.shape), 'float32')\n",
    "\n",
    "for nn in range(img.shape[0]):\n",
    "    \n",
    "    imrchirp[nn, :] = np.real(rchirp)\n",
    "    out = fftshift( fft(img[nn, :]) *  matched_filter_r_spectrum )\n",
    "    \n",
    "    # put hamming\n",
    "    out[iir[0]] = out[iir[0]] * winwin  # apply the window to make the image nicer\n",
    "\n",
    "    imgr[nn, :] = fftshift(ifft(fftshift(out, -1)))\n",
    "    \n",
    "    \n",
    "plt.figure()\n",
    "plt.imshow(abs(imgr), vmin = 0, vmax = 2*np.mean(np.abs(imgr)), cmap = 'gray')\n",
    "plt.title('After range focusing')\n",
    "\n",
    "plt.figure()\n",
    "plt.imshow(abs(imrchirp), vmin = 0, vmax = 1, cmap = 'jet')\n",
    "plt.title('Range chirp')\n",
    "\n"
   ]
  },
  {
   "cell_type": "markdown",
   "metadata": {},
   "source": [
    "* Azimuth focusing :\n",
    "\n",
    "Hint: adapt the procedure used last time to a range-varying azimuth illumination time !"
   ]
  },
  {
   "cell_type": "raw",
   "metadata": {},
   "source": [
    "# generation of azimuth time axis\n",
    "ts = azsp / vp                                  # duration of 1 sample\n",
    "Tdaz = (Nsaz-1) * ts                            # total duration\n",
    "aztime = np.linspace(-Tdaz/2, Tdaz/2, Nsaz)\n",
    "\n",
    "# azimuth illumination time\n",
    "da = deltasa*2                   # real antenna aperture\n",
    "theta = lambda0 / da             # angular resolution\n",
    "tsa = theta*R0 / vp              # illumination time (on ground)\n",
    "\n",
    "# azimuth chirp rate\n",
    "azbw = 1 / (deltasa / vp)        # azimuth bandwidth (Hz)\n",
    "kaz = azbw / tsa                 # azimuth chirp rate\n",
    "\n",
    "# Azimuth chirp\n",
    "azchirp = np.exp(1j*np.pi*kaz*(aztime)**2)*rect(aztime, tsa)"
   ]
  },
  {
   "cell_type": "code",
   "execution_count": 13,
   "metadata": {},
   "outputs": [
    {
     "data": {
      "application/vnd.jupyter.widget-view+json": {
       "model_id": "c6bbaedb435f43159ccc990f00db72f5",
       "version_major": 2,
       "version_minor": 0
      },
      "text/plain": [
       "Canvas(toolbar=Toolbar(toolitems=[('Home', 'Reset original view', 'home', 'home'), ('Back', 'Back to previous …"
      ]
     },
     "metadata": {},
     "output_type": "display_data"
    },
    {
     "data": {
      "application/vnd.jupyter.widget-view+json": {
       "model_id": "4c1035407d0e4ca692cdd7ac38f102a4",
       "version_major": 2,
       "version_minor": 0
      },
      "text/plain": [
       "Canvas(toolbar=Toolbar(toolitems=[('Home', 'Reset original view', 'home', 'home'), ('Back', 'Back to previous …"
      ]
     },
     "metadata": {},
     "output_type": "display_data"
    },
    {
     "data": {
      "application/vnd.jupyter.widget-view+json": {
       "model_id": "28613e798f064b5da108de4d4c22a504",
       "version_major": 2,
       "version_minor": 0
      },
      "text/plain": [
       "Canvas(toolbar=Toolbar(toolitems=[('Home', 'Reset original view', 'home', 'home'), ('Back', 'Back to previous …"
      ]
     },
     "metadata": {},
     "output_type": "display_data"
    },
    {
     "data": {
      "text/plain": [
       "Text(0.5, 1.0, 'After range and azimuth focusing')"
      ]
     },
     "execution_count": 13,
     "metadata": {},
     "output_type": "execute_result"
    }
   ],
   "source": [
    "\n",
    "# focused image in range and azimuth\n",
    "imgra = np.zeros((img.shape), 'complex64')\n",
    "# image with the azimuth chirp\n",
    "imgrachirp = np.zeros((img.shape), 'float32')\n",
    "\n",
    "# generation of azimuth time axis\n",
    "ts = azsp / vp                                  # duration of 1 sample\n",
    "Tdaz = (Nsaz-1) * ts                            # total duration\n",
    "aztime = np.linspace(-Tdaz/2, Tdaz/2, Nsaz)\n",
    "\n",
    "# azimuth illumination time\n",
    "da = deltasa*2                   # real antenna aperture\n",
    "theta = lambda0 / da             # angular resolution\n",
    "\n",
    "\n",
    "# frequency axis + create hamming ... to make the image nicer !\n",
    "azbw = 1 / (deltasa / vp)        # azimuth bandwidth (Hz)\n",
    "fs = 1/(aztime[1]-aztime[0])\n",
    "azfreq = np.linspace(-fs/2, fs/2, Nsaz)\n",
    "iia = np.where(np.abs(azfreq) <= azbw/2 )\n",
    "nel = iia[0].size\n",
    "winwin = np.hamming(nel)\n",
    "\n",
    "\n",
    "for nn in range(imgr.shape[1]):\n",
    "    \n",
    "    R0 = rd * c0/2 + nn*rsp\n",
    "    tsa = theta*R0 / vp              # illumination time (on ground)\n",
    "\n",
    "    kaz = azbw / tsa                 # azimuth chirp rate\n",
    "\n",
    "    # Azimuth chirp\n",
    "    azchirp = np.exp(1j*np.pi*kaz*(aztime)**2)*rect(aztime, tsa)\n",
    "    \n",
    "    # matched filter\n",
    "    matched_filter_a = np.conj(azchirp[::-1])\n",
    "    matched_filter_a_spectrum = fft(matched_filter_a)\n",
    "    matched_filter_a_spectrum[np.abs(matched_filter_a_spectrum) < 1e-9] = 1e-9 + 1j*1e-9  # to avoid small numbers ...\n",
    "    \n",
    "    # focus !\n",
    "    imgrachirp[:, nn] = np.real(azchirp)\n",
    "    out = fftshift( fft(imgr[:, nn]) * matched_filter_a_spectrum )\n",
    "    \n",
    "    # put hamming\n",
    "    out[iia[0]] =  out[iia[0]] * winwin    # apply the window to make the image nicer !\n",
    "    \n",
    "    imgra[:, nn] = fftshift(ifft(fftshift(out, -1)))\n",
    "    \n",
    "\n",
    "plt.figure()\n",
    "plt.imshow(abs(imgrachirp), vmin = 0, vmax = 1, cmap = 'jet')\n",
    "plt.title('Azimuth chirp')\n",
    "\n",
    "plt.figure(figsize = (5, 8))\n",
    "plt.imshow(abs(imgra), vmin = 0, vmax = 2.5*np.mean(np.abs(imgra)), cmap = 'gray')\n",
    "plt.title('After range and azimuth focusing')\n",
    "\n",
    "plt.figure(figsize = (5, 8))\n",
    "plt.imshow(np.angle(imgra), cmap = 'jet', interpolation = 'nearest')\n",
    "plt.title('After range and azimuth focusing')\n",
    "    \n",
    "\n"
   ]
  },
  {
   "cell_type": "code",
   "execution_count": 16,
   "metadata": {},
   "outputs": [
    {
     "name": "stdout",
     "output_type": "stream",
     "text": [
      "68.59848000000001\n"
     ]
    }
   ],
   "source": []
  },
  {
   "cell_type": "code",
   "execution_count": 10,
   "metadata": {},
   "outputs": [
    {
     "name": "stdout",
     "output_type": "stream",
     "text": [
      "6034\n"
     ]
    }
   ],
   "source": []
  },
  {
   "cell_type": "code",
   "execution_count": 20,
   "metadata": {},
   "outputs": [
    {
     "data": {
      "application/vnd.jupyter.widget-view+json": {
       "model_id": "544d04b4871143c7861fabe6139d16b4",
       "version_major": 2,
       "version_minor": 0
      },
      "text/plain": [
       "Canvas(toolbar=Toolbar(toolitems=[('Home', 'Reset original view', 'home', 'home'), ('Back', 'Back to previous …"
      ]
     },
     "metadata": {},
     "output_type": "display_data"
    },
    {
     "data": {
      "text/plain": [
       "[<matplotlib.lines.Line2D at 0x7f1a80c63190>]"
      ]
     },
     "execution_count": 20,
     "metadata": {},
     "output_type": "execute_result"
    }
   ],
   "source": []
  },
  {
   "cell_type": "code",
   "execution_count": null,
   "metadata": {},
   "outputs": [],
   "source": []
  }
 ],
 "metadata": {
  "kernelspec": {
   "display_name": "Python 3",
   "language": "python",
   "name": "python3"
  },
  "language_info": {
   "codemirror_mode": {
    "name": "ipython",
    "version": 3
   },
   "file_extension": ".py",
   "mimetype": "text/x-python",
   "name": "python",
   "nbconvert_exporter": "python",
   "pygments_lexer": "ipython3",
   "version": "3.8.6"
  }
 },
 "nbformat": 4,
 "nbformat_minor": 4
}
