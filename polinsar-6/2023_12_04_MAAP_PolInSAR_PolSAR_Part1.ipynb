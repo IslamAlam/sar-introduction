{
 "cells": [
  {
   "cell_type": "markdown",
   "metadata": {},
   "source": [
    "# The PolInSAR Course - December 4, 2023 \n",
    "# SAR Polarimetry (PolSAR) \n",
    "# Part 1: The scattering matrix"
   ]
  },
  {
   "cell_type": "markdown",
   "metadata": {},
   "source": [
    "**Input data:**\n",
    "\n",
    "- Acquisition: Nkok (Gabon), DLR's F-SAR, L-band\n",
    "\n",
    "- Path to images: /projects/data/02-polsar/\n",
    "\n",
    "- SLC (single-look complex) images:\n",
    "    - HH: slc_16afrisr0107_Lhh_tcal_test.rat\n",
    "    - HV: slc_16afrisr0107_Lhv_tcal_test.rat\n",
    "    - VH: slc_16afrisr0107_Lvh_tcal_test.rat\n",
    "    - VV: slc_16afrisr0107_Lvh_tcal_test.rat\n"
   ]
  },
  {
   "cell_type": "code",
   "execution_count": 1,
   "metadata": {},
   "outputs": [
    {
     "name": "stderr",
     "output_type": "stream",
     "text": [
      "/projects/src/ste_io.py:69: UserWarning: Failed to import STEtools.visualisation. write_pixmap will not work.\n",
      "  warnings.warn(\"Failed to import STEtools.visualisation. write_pixmap will not work.\")\n"
     ]
    }
   ],
   "source": [
    "%matplotlib widget\n",
    "\n",
    "# import useful libraries, functions, and modules\n",
    "\n",
    "import sys\n",
    "\n",
    "sys.path.append('/projects/src/')\n",
    "\n",
    "import matplotlib.pyplot as plt\n",
    "import numpy as np\n",
    "from scipy.ndimage import filters\n",
    "\n",
    "from ste_io import rrat"
   ]
  },
  {
   "cell_type": "markdown",
   "metadata": {},
   "source": [
    "**Auxiliary functions**"
   ]
  },
  {
   "cell_type": "code",
   "execution_count": null,
   "metadata": {},
   "outputs": [],
   "source": [
    "def HSV_colormap_to_rgb(colormap, h, s, v):\n",
    "    \"\"\"\n",
    "    Makes an HSV-like RGB representation based on the given colormap instead\n",
    "    of 'hsv' colormap.\n",
    "    \n",
    "    See https://en.wikipedia.org/wiki/HSL_and_HSV\n",
    "\n",
    "    Parameters\n",
    "    ----------\n",
    "    colormap : function\n",
    "        Colormap function. Takes the values in 'h' array and returns an RGBA\n",
    "        value for each point. The ones in matplotlib.cm should be compatible\n",
    "    h : ndarray\n",
    "        Hue values. Usually between 0 and 1.0.\n",
    "    s : ndarray\n",
    "        Saturation values. Between 0 and 1.0.\n",
    "    v : ndarray\n",
    "        Value values. Between 0 and 1.0.\n",
    "\n",
    "    Returns\n",
    "    -------\n",
    "    rgb: ndarray\n",
    "        An array with the same shape as input + (3,) representing the RGB.\n",
    "    \"\"\"\n",
    "    # Generate color between given colormap (colormap(h)) and white (ones)\n",
    "    # according to the given saturation\n",
    "    tmp = (1-s)[..., np.newaxis]*np.ones(3) + s[..., np.newaxis] * colormap(h)[...,:3]\n",
    "    # Scale it by value\n",
    "    return v[..., np.newaxis] * tmp"
   ]
  },
  {
   "cell_type": "markdown",
   "metadata": {},
   "source": [
    "## Exercise 1\n",
    "\n",
    "Create, visualize and compare (where are they the same? where are they different?) RGB composite images using: \n",
    "\n",
    "- Lexicographic basis: \n",
    "    * R = HH\n",
    "    * G = HV\n",
    "    * B = VV \n",
    "- Pauli basis: \n",
    "    * R = HH-VV\n",
    "    * G = 2 * HV (or HV + VH)\n",
    "    * B = HH+VV\n",
    "\n",
    "Tips:\n",
    "- include multi-look - to be be performed by averaging intensities (abs^2) on a N x N pixels moving window in range - azimuth,\n",
    "- focus on a azimuth - range block within pixels [2500, 16000] and [0, 2000], respectively.\n"
   ]
  },
  {
   "cell_type": "markdown",
   "metadata": {},
   "source": [
    "**Input parameters**"
   ]
  },
  {
   "cell_type": "code",
   "execution_count": null,
   "metadata": {},
   "outputs": [],
   "source": []
  },
  {
   "cell_type": "markdown",
   "metadata": {},
   "source": [
    "**Open images, multi-look and visualize**"
   ]
  },
  {
   "cell_type": "code",
   "execution_count": null,
   "metadata": {},
   "outputs": [],
   "source": []
  },
  {
   "cell_type": "code",
   "execution_count": null,
   "metadata": {},
   "outputs": [],
   "source": []
  },
  {
   "cell_type": "code",
   "execution_count": null,
   "metadata": {},
   "outputs": [],
   "source": []
  },
  {
   "cell_type": "markdown",
   "metadata": {},
   "source": [
    "**Lexicographic and Pauli basis representation**"
   ]
  },
  {
   "cell_type": "code",
   "execution_count": null,
   "metadata": {},
   "outputs": [],
   "source": []
  },
  {
   "cell_type": "code",
   "execution_count": null,
   "metadata": {},
   "outputs": [],
   "source": []
  },
  {
   "cell_type": "code",
   "execution_count": null,
   "metadata": {},
   "outputs": [],
   "source": []
  },
  {
   "cell_type": "code",
   "execution_count": null,
   "metadata": {},
   "outputs": [],
   "source": []
  },
  {
   "cell_type": "code",
   "execution_count": null,
   "metadata": {},
   "outputs": [],
   "source": []
  },
  {
   "cell_type": "markdown",
   "metadata": {},
   "source": [
    "## Exercise 2"
   ]
  },
  {
   "cell_type": "markdown",
   "metadata": {},
   "source": [
    "Calculate and visualize the alpha angle."
   ]
  },
  {
   "cell_type": "markdown",
   "metadata": {},
   "source": [
    "**Compute and visualize Alpha**"
   ]
  },
  {
   "cell_type": "code",
   "execution_count": null,
   "metadata": {},
   "outputs": [],
   "source": []
  },
  {
   "cell_type": "code",
   "execution_count": null,
   "metadata": {},
   "outputs": [],
   "source": []
  },
  {
   "cell_type": "markdown",
   "metadata": {},
   "source": [
    "**Compute and visualize Alpha and Intensity**"
   ]
  },
  {
   "cell_type": "code",
   "execution_count": null,
   "metadata": {},
   "outputs": [],
   "source": []
  },
  {
   "cell_type": "code",
   "execution_count": null,
   "metadata": {},
   "outputs": [],
   "source": []
  }
 ],
 "metadata": {
  "kernelspec": {
   "display_name": "Python 3 (ipykernel)",
   "language": "python",
   "name": "python3"
  },
  "language_info": {
   "codemirror_mode": {
    "name": "ipython",
    "version": 3
   },
   "file_extension": ".py",
   "mimetype": "text/x-python",
   "name": "python",
   "nbconvert_exporter": "python",
   "pygments_lexer": "ipython3",
   "version": "3.9.10"
  }
 },
 "nbformat": 4,
 "nbformat_minor": 4
}
