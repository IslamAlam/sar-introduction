{
 "cells": [
  {
   "cell_type": "markdown",
   "metadata": {},
   "source": [
    "# The PolInSAR Course - November 1, 2021\n",
    "\n",
    "# SAR Interferometry (InSAR)\n",
    "\n",
    "# Part 2: The InSAR Coherence & Height Inversion\n",
    "\n",
    "-   TanDEM-X acquisition over Mondah forest (Gabon)\n",
    "-   Path: '/projects/data/03-insar/'\n",
    "-   SLCs: master_HH_Mondah_S_2015_11_11_cut.rat, slave_HH_Mondah_S_2015_11_11_cut.rat\n",
    "-   Flat-earth: flat_earth_Mondah_S_2015_11_11_cut.rat\n",
    "-   Full-waveform Lidar (LVIS) RH100: RH100_Mondah_S_2015_11_11_cut.rat\n",
    "\n",
    "Objective:\n",
    "\n",
    "-   Calculate InSAR coherence with a 20 m resolution, estimate forest height using the provided formulas, and validate the result against lidar\n",
    "\n",
    "Tips:\n",
    "\n",
    "-   Compensate system decorrelation 0.97\n",
    "-   Invalid points in the RH100 are set to -9999\n"
   ]
  },
  {
   "cell_type": "markdown",
   "metadata": {},
   "source": [
    "\n"
   ]
  },
  {
   "cell_type": "code",
   "execution_count": null,
   "metadata": {},
   "outputs": [],
   "source": [
    "# import useful libraries, functions, and modules\n",
    "\n",
    "import sys\n",
    "sys.path.append('/projects/src/')\n",
    "\n",
    "import numpy as np\n",
    "import matplotlib.pyplot as plt\n",
    "from scipy.ndimage import filters\n",
    "from ste_io import *\n",
    "\n",
    "%matplotlib widget\n"
   ]
  },
  {
   "cell_type": "code",
   "execution_count": null,
   "metadata": {},
   "outputs": [],
   "source": [
    "def calculate_covariance(im1, im2, looksr, looksa) : \n",
    "    \n",
    "    corr = filters.uniform_filter(np.real(im1*np.conj(im2)), [looksa,looksr]) + 1j* \\\n",
    "                filters.uniform_filter(np.imag(im1*np.conj(im2)), [looksa,looksr])\n",
    "    \n",
    "    return corr"
   ]
  },
  {
   "cell_type": "markdown",
   "metadata": {},
   "source": [
    "**Input parameters**\n"
   ]
  },
  {
   "cell_type": "code",
   "execution_count": null,
   "metadata": {},
   "outputs": [],
   "source": [
    "# path 2 images\n",
    "path = '/projects/data/03-insar/'\n",
    "\n",
    "# Input TDX pixel spacing, in meters\n",
    "spacrg = 1.36411\n",
    "spacaz = 1.86817\n",
    "\n",
    "# TDX vertical wavenumber, in rad / meters\n",
    "kz = 0.06092195\n",
    "\n",
    "# Output range resolution, in meters\n",
    "resrg = 20.\n",
    "resaz = 20."
   ]
  },
  {
   "cell_type": "markdown",
   "metadata": {},
   "source": [
    "**Step 1: Open images, and visualize**\n"
   ]
  },
  {
   "cell_type": "code",
   "execution_count": null,
   "metadata": {},
   "outputs": [],
   "source": [
    "# --- open images\n",
    "im1 = rrat(path + 'master_HH_Mondah_S_2015_11_11_cut.rat')\n",
    "im2 = rrat(path + 'slave_HH_Mondah_S_2015_11_11_cut.rat')\n",
    "\n",
    "# display\n",
    "amp1 = np.sqrt( np.abs( calculate_covariance(im1, im1, 7, 7) ) )\n",
    "plt.figure(figsize = (10, 5))\n",
    "plt.imshow(amp1, vmin = 0, vmax = 2*np.mean(amp1), aspect = 'auto', cmap = 'gray' )\n",
    "\n"
   ]
  },
  {
   "cell_type": "markdown",
   "metadata": {},
   "source": [
    "**Step 2 : Compensate flat-earth**\n"
   ]
  },
  {
   "cell_type": "code",
   "execution_count": null,
   "metadata": {},
   "outputs": [],
   "source": [
    "# --- calculate number of looks\n",
    "\n",
    "\n",
    "# --- open flat-earth phase\n",
    "\n",
    "\n",
    "# --- compensate\n",
    "\n"
   ]
  },
  {
   "cell_type": "markdown",
   "metadata": {},
   "source": [
    "**Step 3 : Calculate coherence**\n"
   ]
  },
  {
   "cell_type": "code",
   "execution_count": null,
   "metadata": {},
   "outputs": [],
   "source": [
    "# --- calculate coherence\n",
    "\n",
    "\n",
    "# --- display\n",
    "\n"
   ]
  },
  {
   "cell_type": "markdown",
   "metadata": {},
   "source": [
    "**Step 4 : Invert for forest height (closed-form)**\n"
   ]
  },
  {
   "cell_type": "code",
   "execution_count": null,
   "metadata": {},
   "outputs": [],
   "source": [
    "# --- Compensate system decorrelation\n",
    "\n"
   ]
  },
  {
   "cell_type": "code",
   "execution_count": null,
   "metadata": {},
   "outputs": [],
   "source": [
    "# --- height inversion\n",
    "\n",
    "\n",
    "# --- display\n"
   ]
  },
  {
   "cell_type": "markdown",
   "metadata": {},
   "source": [
    "**Step 5 : Validation**\n"
   ]
  },
  {
   "cell_type": "code",
   "execution_count": null,
   "metadata": {},
   "outputs": [],
   "source": []
  }
 ],
 "metadata": {
  "kernelspec": {
   "display_name": "Python 3",
   "language": "python",
   "name": "python3"
  },
  "language_info": {
   "codemirror_mode": {
    "name": "ipython",
    "version": 3
   },
   "file_extension": ".py",
   "mimetype": "text/x-python",
   "name": "python",
   "nbconvert_exporter": "python",
   "pygments_lexer": "ipython3",
   "version": "3.8.6"
  }
 },
 "nbformat": 4,
 "nbformat_minor": 4
}
