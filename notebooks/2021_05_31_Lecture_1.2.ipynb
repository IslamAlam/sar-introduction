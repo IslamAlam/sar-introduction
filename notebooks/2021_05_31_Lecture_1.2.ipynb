{
 "cells": [
  {
   "cell_type": "markdown",
   "metadata": {},
   "source": [
    "# Lecture 1 - 31.05.2021 \n",
    "\n",
    "# Exercise: Range compression"
   ]
  },
  {
   "cell_type": "code",
   "execution_count": 1,
   "metadata": {},
   "outputs": [
    {
     "name": "stderr",
     "output_type": "stream",
     "text": [
      "/projects/src/ste_io.py:69: UserWarning: Failed to import STEtools.visualisation. write_pixmap will not work.\n",
      "  warnings.warn(\"Failed to import STEtools.visualisation. write_pixmap will not work.\")\n"
     ]
    }
   ],
   "source": [
    "# --- To get started, we set the ipympl backend, which makes matplotlib plots interactive.\n",
    "# --- We do this using a magic command, starting with %.\n",
    "%matplotlib widget\n",
    "\n",
    "# --- import libraries\n",
    "\n",
    "import sys\n",
    "sys.path.append('/projects/src/')\n",
    "\n",
    "\n",
    "import numpy as np\n",
    "import matplotlib.pyplot as plt\n",
    "from numpy.fft import fft, fftfreq, fftshift, ifft\n",
    "\n",
    "# --- import rat class\n",
    "from ste_io import *\n"
   ]
  },
  {
   "cell_type": "markdown",
   "metadata": {},
   "source": [
    "## Exercise 1\n",
    "\n",
    "The typical P-band chirp transmitted by the F-SAR system during the AfriSAR campaign is characterized by the following parameters:\n",
    "\n",
    "- Chirp duration: 1.0016000e-05 s,\n",
    "- Chirp bandwidth: 50 MHz.\n",
    "\n",
    "Further, let's assume a range spacing (= range sampling) equal to 1.1988876 m and 3772 range pixels (= samples). \n",
    "\n",
    "1. Which is the expected resolution?\n",
    "2. Generate the chirp signal and calculate its spectrum;\n",
    "3. Plot signal and spectrum.\n",
    "\n",
    "Tips:\n",
    "1. One can work equivalently in the time or the range domain (and the related frequency domains). Just remember that \n",
    "$$range = \\frac{c \\cdot time}{2}$$\n",
    "where c is the speed of light: c=2.9972190e+08 m/s.\n"
   ]
  },
  {
   "cell_type": "markdown",
   "metadata": {},
   "source": [
    "### Solution"
   ]
  },
  {
   "cell_type": "code",
   "execution_count": null,
   "metadata": {},
   "outputs": [],
   "source": [
    "# --- create useful functions\n",
    "\n",
    "def rect(t, T0):\n",
    "    # Implements y = rect(t/T0) = 1 if abs(t/T0) <= 0.5, 0 otherwise \n",
    "    # All input / outputs are Numpy arrays\n",
    "    \n",
    "    N = t.shape[0]\n",
    "    y = np.zeros(N, 'float32') \n",
    "    y[np.abs(t/T0) <= 0.5] = 1\n",
    "    \n",
    "    return y\n",
    "\n",
    "# --- Input parameters\n",
    "\n",
    "# number of samples \n",
    "Ns = 3772\n",
    "# chirp duration, s\n",
    "Tc = 1.0016000e-05\n",
    "# chirp bandwidth, Hz\n",
    "BW = 50.0e6\n",
    "# range sampling, m\n",
    "rs = 1.1988876\n",
    "# speed of light\n",
    "c0 = 2.9972190e+08"
   ]
  },
  {
   "cell_type": "code",
   "execution_count": null,
   "metadata": {},
   "outputs": [],
   "source": [
    "# --- Derived parameters (calculate following parameters)\n",
    "\n",
    "# range resolution\n",
    "\n",
    "# chirp rate\n",
    "\n",
    "# signal duration\n",
    "\n",
    "# sampling in time\n",
    "\n",
    "\n",
    "# max duration for zoom plotting, s\n",
    "Tzoom = 2e-5\n",
    "\n",
    "# Print answer to Question 1...\n",
    "print('The range resolution is ' + str(rres) + ' m.')"
   ]
  },
  {
   "cell_type": "markdown",
   "metadata": {},
   "source": [
    "## Exercise 2"
   ]
  },
  {
   "cell_type": "markdown",
   "metadata": {},
   "source": [
    "The files *./data/01-sar/signal1_rc.npy* and *./data/01-sar/signal2_rc.npy* contain the received signals along two range lines originated by the same range chirp and sampled with the same parameters as in Exercise 1.\n",
    "\n",
    "1. Open the files (use np.load);\n",
    "2. Plot the real part of the signals;\n",
    "3. Focus in range by using a matched filter;\n",
    "4. ... how many scatterers do you see? and at which range?"
   ]
  },
  {
   "cell_type": "markdown",
   "metadata": {},
   "source": [
    "### Solution"
   ]
  },
  {
   "cell_type": "code",
   "execution_count": null,
   "metadata": {},
   "outputs": [],
   "source": []
  },
  {
   "cell_type": "markdown",
   "metadata": {},
   "source": [
    "## Exercise 3"
   ]
  },
  {
   "cell_type": "markdown",
   "metadata": {},
   "source": [
    "We are ready now to focus real F-SAR P-band data !\n",
    "\n",
    "1. Open the raw data image in the file *./data/01-sar/raw-img.rat*, and visualize it (only the amplitude).\n",
    "2. Compress it in range using the same chirp as in the Exercise 1. What do you see?\n",
    "\n",
    "Tips:\n",
    "Use the provided rat class to open the data / or use open_rasterio from xarray simliar to notebook: *00-read-rat-file.ipynb*."
   ]
  },
  {
   "cell_type": "markdown",
   "metadata": {},
   "source": [
    "### Solution"
   ]
  },
  {
   "cell_type": "code",
   "execution_count": null,
   "metadata": {},
   "outputs": [],
   "source": []
  }
 ],
 "metadata": {
  "kernelspec": {
   "display_name": "Python 3",
   "language": "python",
   "name": "python3"
  },
  "language_info": {
   "codemirror_mode": {
    "name": "ipython",
    "version": 3
   },
   "file_extension": ".py",
   "mimetype": "text/x-python",
   "name": "python",
   "nbconvert_exporter": "python",
   "pygments_lexer": "ipython3",
   "version": "3.8.6"
  }
 },
 "nbformat": 4,
 "nbformat_minor": 4
}
