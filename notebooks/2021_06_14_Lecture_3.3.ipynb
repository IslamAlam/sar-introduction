{
 "cells": [
  {
   "cell_type": "markdown",
   "metadata": {},
   "source": [
    "# Lecture 3 - 14.06.2021\n",
    "\n",
    "# Exercise 3: Calculation of the Alpha angle"
   ]
  },
  {
   "cell_type": "markdown",
   "metadata": {},
   "source": [
    "* Acquisition: Nkok (Gabon), DLR's F-SAR, L-band\n",
    "\n",
    "* Path to images: ./data/02-polsar/\n",
    "\n",
    "* SLC (single-look complex) images:\n",
    "    * HH: slc_16afrisr0107_Lhh_tcal_test.rat\n",
    "    * HV: slc_16afrisr0107_Lhv_tcal_test.rat\n",
    "    * VH: slc_16afrisr0107_Lvh_tcal_test.rat\n",
    "    * VV: slc_16afrisr0107_Lvh_tcal_test.rat\n"
   ]
  },
  {
   "cell_type": "code",
   "execution_count": 2,
   "metadata": {},
   "outputs": [
    {
     "name": "stderr",
     "output_type": "stream",
     "text": [
      "/projects/src/ste_io.py:69: UserWarning: Failed to import STEtools.visualisation. write_pixmap will not work.\n",
      "  warnings.warn(\"Failed to import STEtools.visualisation. write_pixmap will not work.\")\n"
     ]
    }
   ],
   "source": [
    "%matplotlib widget\n",
    "\n",
    "# import useful libraries, functions, and modules\n",
    "\n",
    "import sys\n",
    "sys.path.append('/projects/src/')\n",
    "\n",
    "import numpy as np\n",
    "import matplotlib.pyplot as plt\n",
    "from scipy.ndimage import filters\n",
    "from ste_io import *"
   ]
  },
  {
   "cell_type": "markdown",
   "metadata": {},
   "source": [
    "**Calculate Alpha angle**\n"
   ]
  },
  {
   "cell_type": "code",
   "execution_count": 3,
   "metadata": {},
   "outputs": [],
   "source": [
    "# path 2 images\n",
    "path = './data/02-polsar/'\n",
    "\n",
    "# looks\n",
    "looksr = 5\n",
    "looksa = 5\n",
    "\n",
    "# open ...\n",
    "slchh = rrat(path + 'slc_16afrisr0107_Lhh_tcal_test.rat', block = [2500, 16000, 0, 2000])\n",
    "slcvv = rrat(path + 'slc_16afrisr0107_Lvv_tcal_test.rat', block = [2500, 16000, 0, 2000])\n",
    "slchv = rrat(path + 'slc_16afrisr0107_Lhv_tcal_test.rat', block = [2500, 16000, 0, 2000])\n",
    "# slcvh = rrat(path + 'slc_16afrisr0107_Lvh_tcal_test.rat')\n"
   ]
  },
  {
   "cell_type": "code",
   "execution_count": 4,
   "metadata": {},
   "outputs": [
    {
     "data": {
      "application/vnd.jupyter.widget-view+json": {
       "model_id": "48421ad5161740baaaf96a18598df603",
       "version_major": 2,
       "version_minor": 0
      },
      "text/plain": [
       "Canvas(toolbar=Toolbar(toolitems=[('Home', 'Reset original view', 'home', 'home'), ('Back', 'Back to previous …"
      ]
     },
     "metadata": {},
     "output_type": "display_data"
    }
   ],
   "source": [
    "# --- make pauli\n",
    "pauli1 = np.abs(slchh + slcvv)**2\n",
    "pauli1 = np.sqrt(filters.uniform_filter(pauli1, [looksa,looksr]))\n",
    "pauli2 = np.abs(slchh - slcvv)**2\n",
    "pauli2 = np.sqrt(filters.uniform_filter(pauli2, [looksa,looksr]))\n",
    "pauli3 = np.abs(2*slchv)**2\n",
    "pauli3 = np.sqrt(filters.uniform_filter(pauli3, [looksa,looksr]))\n",
    "\n",
    "# Pauli basis - prepare RGB\n",
    "dimaz = slchh.shape[0]\n",
    "dimrg = slchh.shape[1]\n",
    "rgb_pauli = np.zeros((dimaz, dimrg, 3), 'float32')\n",
    "\n",
    "rgb_pauli[:, :, 0] = np.clip(pauli2, 0, 2.5*np.mean(pauli2))     # red\n",
    "rgb_pauli[:, :, 1] = np.clip(pauli3, 0, 2.5*np.mean(pauli3))     # green\n",
    "rgb_pauli[:, :, 2] = np.clip(pauli1, 0, 2.5*np.mean(pauli1))     # blue\n",
    "\n",
    "rgb_pauli[:, :, 0] = rgb_pauli[:, :, 0] / np.max(rgb_pauli[:, :, 0])     # red\n",
    "rgb_pauli[:, :, 1] = rgb_pauli[:, :, 1] / np.max(rgb_pauli[:, :, 1])     # green\n",
    "rgb_pauli[:, :, 2] = rgb_pauli[:, :, 2] / np.max(rgb_pauli[:, :, 2])     # blue\n",
    "\n",
    "# now plot RGB\n",
    "plt.figure( figsize = (12, 12) )\n",
    "\n",
    "plt.subplot(1, 2, 1)\n",
    "plt.imshow(rgb_pauli, aspect = 'auto', interpolation = 'nearest')\n",
    "plt.title('Pauli')\n",
    "\n"
   ]
  },
  {
   "cell_type": "code",
   "execution_count": null,
   "metadata": {},
   "outputs": [],
   "source": []
  },
  {
   "cell_type": "markdown",
   "metadata": {},
   "source": []
  },
  {
   "cell_type": "code",
   "execution_count": null,
   "metadata": {},
   "outputs": [],
   "source": []
  },
  {
   "cell_type": "code",
   "execution_count": null,
   "metadata": {},
   "outputs": [],
   "source": []
  }
 ],
 "metadata": {
  "kernelspec": {
   "display_name": "Python 3",
   "language": "python",
   "name": "python3"
  },
  "language_info": {
   "codemirror_mode": {
    "name": "ipython",
    "version": 3
   },
   "file_extension": ".py",
   "mimetype": "text/x-python",
   "name": "python",
   "nbconvert_exporter": "python",
   "pygments_lexer": "ipython3",
   "version": "3.8.6"
  }
 },
 "nbformat": 4,
 "nbformat_minor": 4
}
