{
 "cells": [
  {
   "cell_type": "markdown",
   "metadata": {},
   "source": [
    "# Lecture 8 - 29.11.2021 \n",
    "# Exercise : Pol-InSAR forest height inversion\n",
    "\n",
    "* DLR's F-SAR acquisition over Traunstein forest (Germany)\n",
    "* Path: '/projects/data/04-polinsar/'\n",
    "* SLCs: \n",
    "    * Acquisition 1 : slc_15tmpsar0302_L { hh, hv, vv, vh } _t01.rat\n",
    "    * Acquisition 2 : slc_15tmpsar0302_15tmpsar0303_L { hh, hv, vv, vh } _t01.rat\n",
    "* Flat-earth: pha_flat_15tmpsar0302_15tmpsar0303_Lhh_t01.rat\n",
    "* Vertical wavenumber (kz) : kz_2d_demc_15tmpsar0302_15tmpsar0303_t01.rat\n",
    "* Lidar: Lida_r1503.rat\n",
    "\n",
    "Objective:\n",
    "- Estimate forest height using the extremes of the dual-pol Pol-InSAR coherence region and model inversion. \n",
    "\n",
    "Tips:\n",
    "- work on the azimuth - range block [21500 - 4000, 21500 + 6000] - [2300, 4500] ;\n",
    "- all the needed functions (including the full calculation of the coherence region) have been already implemented."
   ]
  },
  {
   "cell_type": "code",
   "execution_count": null,
   "metadata": {},
   "outputs": [],
   "source": [
    "# import useful libraries, functions, and modules\n",
    "\n",
    "import sys\n",
    "sys.path.append('/projects/src/')\n",
    "\n",
    "import warnings\n",
    "warnings.filterwarnings(\"ignore\")\n",
    "\n",
    "import numpy as np\n",
    "import matplotlib.pyplot as plt\n",
    "from scipy.ndimage import filters\n",
    "from ste_io import *\n",
    "from tqdm import tqdm\n",
    "\n",
    "%matplotlib widget\n",
    "\n"
   ]
  },
  {
   "cell_type": "code",
   "execution_count": null,
   "metadata": {},
   "outputs": [],
   "source": [
    "def calculate_covariance(im1, im2, looksr, looksa) : \n",
    "    \n",
    "    # ... apply definition\n",
    "    corr = filters.uniform_filter(np.real(im1*np.conj(im2)), [looksa,looksr]) + 1j* \\\n",
    "                filters.uniform_filter(np.imag(im1*np.conj(im2)), [looksa,looksr])\n",
    "    \n",
    "    # ... and back to main\n",
    "    return corr"
   ]
  },
  {
   "cell_type": "code",
   "execution_count": null,
   "metadata": {},
   "outputs": [],
   "source": [
    "def calculate_coh_region(T11, T12, T22, Om_11, Om_12, Om_21, Om_22) : \n",
    "    \n",
    "    # Calculate geometric parameters and extreme coherence of the dual-pol coherence region.\n",
    "    # Inputs: elements of T matrix and Omega matrix.\n",
    "    # Outputs: angular extremes (gamma_plus, gamma_minus)\n",
    "    #          coherence region major axis (a2)\n",
    "    #          coherence region minor axis (b2)\n",
    "    #          coherence region orientation (phi)\n",
    "    #          coherence region center (center)\n",
    "    \n",
    "    # calculate the elements of T**(-1/2)\n",
    "    iT11, iT12, iT21, iT22 = sqrt_inverse(T11, T12, T22)\n",
    "\n",
    "    # free memory\n",
    "    del T11, T12, T22\n",
    "\n",
    "    # whiten ... two 2 x 2 multiplications ==> Matrix P\n",
    "    aux11, aux12, aux21, aux22 = matmul_2(iT11, iT12, iT21, iT22, Om_11, Om_12, Om_21, Om_22)\n",
    "    del Om_11, Om_12, Om_21, Om_22\n",
    "    P11, P12, P21, P22 = matmul_2(aux11, aux12, aux21, aux22, iT11, iT12, iT21, iT22)\n",
    "    del aux11, aux12, aux21, aux22\n",
    "    del iT11, iT12, iT21, iT22\n",
    "\n",
    "    # --- Centering... translate P by 0.5*trace(P) * Identity ==> Matrix O\n",
    "\n",
    "    center = 0.5 * (P11 + P22)  # it is the center of the coherence region !!\n",
    "    O11 = P11 - center\n",
    "    O12 = P12\n",
    "    O21 = P21\n",
    "    O22 = P22 - center\n",
    "\n",
    "    # free memory\n",
    "    del P11, P12, P21, P22\n",
    "    \n",
    "    # ACHTUNG: plus / minus corresponds to the column index of the eigenvectors\n",
    "    # plus => 1, minus => 2\n",
    "\n",
    "    # --- Get eigenvalues and eigenvectors of O\n",
    "\n",
    "    l1, l2, e11, e21, e12, e22 = eigenvalvect_2(O11, O12, O21, O22)\n",
    "    del l1, l2\n",
    "\n",
    "    # --- Get r and s (from off-diagonalization of O through the eigenvectors)\n",
    "\n",
    "    r, s = off_diagonal_2(O11, O12, O21, O22, e11, e21, e12, e22)\n",
    "\n",
    "    # free memory\n",
    "    del e11, e21, e12, e22\n",
    "\n",
    "    # --- finally get geometry\n",
    "\n",
    "    # ... major axis\n",
    "    a2 = np.abs(r) + np.abs(s)\n",
    "    # ... minor axis\n",
    "    b2 = np.abs(np.abs(r) - np.abs(s))\n",
    "    # ... orientation\n",
    "    phi = .5 * (np.angle(r) + np.angle(s))\n",
    "    \n",
    "    # --- extremes in phase - gamma_plus / _minus\n",
    "\n",
    "    gamma_plus = center + a2/2 * np.exp(1j*phi)\n",
    "    gamma_minus = center - a2/2 * np.exp(1j*phi)\n",
    "    \n",
    "    return gamma_plus, gamma_minus, a2, b2, phi, center\n",
    "    \n",
    "    "
   ]
  },
  {
   "cell_type": "code",
   "execution_count": null,
   "metadata": {},
   "outputs": [],
   "source": [
    "def make_pauli(slchh, slchv, slcvv, looksr, looksa) :\n",
    "    \n",
    "    # 1. Uses function calculate_covariance\n",
    "    # 2. Convention (rows x columns): inputs are (az x rg), outputs are (rg x az) \n",
    "    #                                 for better plotting as #rg <#az\n",
    "    \n",
    "    # Calculate T11, T22 and T33\n",
    "    T11 = calculate_covariance(slchh + slcvv, slchh + slcvv, looksr, looksa)\n",
    "    T22 = calculate_covariance(slchh - slcvv, slchh - slcvv, looksr, looksa)\n",
    "    T33 = calculate_covariance(2*slchv, 2*slchv, looksr, looksa)\n",
    "    \n",
    "    # make the pauli rgb (+ tranpose, clipping, normalization)\n",
    "    dimaz = T11.shape[0]\n",
    "    dimrg = T11.shape[1]\n",
    "    rgb_pauli = np.zeros((dimrg, dimaz, 3), 'float32')\n",
    "    rgb_pauli[:, :, 0] = np.transpose( np.clip(np.sqrt(np.abs(T22)), 0, 2.5*np.mean(np.sqrt(np.abs(T22)))) )    # red\n",
    "    rgb_pauli[:, :, 1] = np.transpose( np.clip(np.sqrt(np.abs(T33)), 0, 2.5*np.mean(np.sqrt(np.abs(T33)))) )    # green\n",
    "    rgb_pauli[:, :, 2] = np.transpose( np.clip(np.sqrt(np.abs(T11)), 0, 2.5*np.mean(np.sqrt(np.abs(T11)))) )    # blue\n",
    "    rgb_pauli[:, :, 0] = rgb_pauli[:, :, 0] / np.max(rgb_pauli[:, :, 0])     # red\n",
    "    rgb_pauli[:, :, 1] = rgb_pauli[:, :, 1] / np.max(rgb_pauli[:, :, 1])     # green\n",
    "    rgb_pauli[:, :, 2] = rgb_pauli[:, :, 2] / np.max(rgb_pauli[:, :, 2])     # blue\n",
    "    \n",
    "    # ... and back to main\n",
    "    return rgb_pauli"
   ]
  },
  {
   "cell_type": "code",
   "execution_count": null,
   "metadata": {},
   "outputs": [],
   "source": [
    "def matmul_2(a11, a12, a21, a22, b11, b12, b21, b22) :\n",
    "    \n",
    "    # Implements the multiplication A.B of two 2 x 2 matrices A and B.\n",
    "    # Inputs are the elements of matrices (row-wise). \n",
    "    # Outputs are the elements of the matrix product (row-wise).\n",
    "    \n",
    "    c11 = a11*b11 + a12*b21\n",
    "    c12 = a11*b12 + a12*b22\n",
    "    c21 = a21*b11 + a22*b21 \n",
    "    c22 = a21*b12 + a22*b22\n",
    "    \n",
    "    # ... and back to main\n",
    "    return c11, c12, c21, c22"
   ]
  },
  {
   "cell_type": "code",
   "execution_count": null,
   "metadata": {},
   "outputs": [],
   "source": [
    "def eigenvalvect_2(a11, a12, a21, a22) :\n",
    "    \n",
    "    # Calculates eigenvalues / eigenvectors of a generic complex-valued 2 x 2 matrix.\n",
    "    # Inputs are the matrix elements (row-wise) - NumPy arrays\n",
    "    # Outputs are the eigenvalues (l1, l2), and the eigenvector (E1, E2) elements - NumPy arrays\n",
    "    #                                       E1 = [e11, e21] , U2 = [e12, e22]\n",
    "    \n",
    "    # eigenvalues \n",
    "    l1 = 0.5 * ((a11+a22) + np.sqrt( (a11-a22)**2 + 4*a12*a21 )) \n",
    "    l2 = 0.5 * ((a11+a22) - np.sqrt( (a11-a22)**2 + 4*a12*a21 ))\n",
    "    \n",
    "    # eigenvector 1\n",
    "    e11 = -a12\n",
    "    e21 = a11 - l1\n",
    "    # normalize eigenvector 1\n",
    "    norm_ = np.sqrt( np.abs(e11)**2 + np.abs(e21)**2 )\n",
    "    e11 = e11 / norm_\n",
    "    e21 = e21 / norm_\n",
    "    # eigenvector 2\n",
    "    e12 = a22 - l2\n",
    "    e22 = -a21\n",
    "    # normalize eigenvector 2\n",
    "    norm_ = np.sqrt( np.abs(e12)**2 + np.abs(e22)**2 )\n",
    "    e12 = e12 / norm_\n",
    "    e22 = e22 / norm_\n",
    "    \n",
    "    del norm_\n",
    "    \n",
    "    # ... and back to main\n",
    "    return l1, l2, e11, e21, e12, e22"
   ]
  },
  {
   "cell_type": "code",
   "execution_count": null,
   "metadata": {},
   "outputs": [],
   "source": [
    "def off_diagonal_2(a11, a12, a21, a22, e11, e21, e12, e22) :\n",
    "\n",
    "    # Calculates off-diagonal form a 2 x 2 matrix A given its eigenvalues in E\n",
    "    # Inputs are the matrix elements (row-wise) - NumPy arrays\n",
    "    #        and the eigenvector (E1, E2) elements - NumPy arrays\n",
    "    #                                       E1 = [e11, e21] , U2 = [e12, e22]\n",
    "    # Outputs are the off-diagonal elements: o12, o21\n",
    "    \n",
    "    # rotation angle theta\n",
    "    theta = np.angle( np.conj(e11)*e12 + np.conj(e21)*e22  )\n",
    "    \n",
    "    # first column of the off-diagonalizing matrix (normalized)\n",
    "    u11 = np.exp(1j*theta)*e11 + e12\n",
    "    u21 = np.exp(1j*theta)*e21 + e22\n",
    "    norm_ = np.sqrt( np.abs(u11)**2 + np.abs(u21)**2 )\n",
    "    u11 = u11 / norm_\n",
    "    u21 = u21 / norm_\n",
    "    \n",
    "    # second column of the off-diagonalizing matrix (normalized)\n",
    "    u12 = np.exp(1j*theta)*e11 - e12\n",
    "    u22 = np.exp(1j*theta)*e21 - e22\n",
    "    norm_ = np.sqrt( np.abs(u12)**2 + np.abs(u22)**2 )\n",
    "    u12 = u12 / norm_\n",
    "    u22 = u22 / norm_\n",
    "   \n",
    "    del norm_\n",
    "    \n",
    "    # calculate off-diagonal elements\n",
    "    o12 = a11 * ( np.conj(u11)*u12 - np.conj(u21)*u22 ) +\\\n",
    "          a12 * np.conj(u11) * u22 +\\\n",
    "          a21 * np.conj(u21) * u12\n",
    "    o21 = a11 * ( np.conj(u12)*u11 - np.conj(u22)*u21 ) +\\\n",
    "          a12 * np.conj(u12) * u21 +\\\n",
    "          a21 * np.conj(u22) * u11\n",
    "    \n",
    "    # ... and back to main\n",
    "    return o12, o21"
   ]
  },
  {
   "cell_type": "code",
   "execution_count": null,
   "metadata": {},
   "outputs": [],
   "source": [
    "def sqrt_inverse(a11, a12, a22) :\n",
    "\n",
    "    # Given a 2 x 2 Hermitian matrix A, calculates A**(-1/2) using eigendecomposition\n",
    "    # Inputs are the upper-diagonal matrix elements (row-wise) - NumPy arrays.\n",
    "    # Outputs are the elements of the sqrt inverse matrix.\n",
    "    # Uses function matmul_2.\n",
    "    \n",
    "    # Calculate eigenvalues (l1, l2)\n",
    "    sigma = 0.5 * (a11 + a22)\n",
    "    D = a11*a22 - a12*np.conj(a12)\n",
    "    delta = np.sqrt(sigma**2 - D)\n",
    "    l1 = sigma + delta\n",
    "    l2 = sigma - delta\n",
    "    \n",
    "    # Calculate eigenvector matrix elements (eigenvectors are the columns)\n",
    "    norm_ = np.sqrt( a12*np.conj(a12) + ((a11-a22)/2 - delta)**2 )\n",
    "    v11 = -a12 / norm_\n",
    "    v21 = ((a11-a22)/2 - delta) / norm_\n",
    "    v12 = ((a11-a22)/2 - delta) / norm_\n",
    "    v22 = np.conj(a12) / norm_\n",
    "    \n",
    "    del norm_, delta, D, sigma\n",
    "    \n",
    "    # calculate sqrt inverse matrix elements\n",
    "    zz = np.zeros(l1.shape, 'float32')\n",
    "    aux11, aux12, aux21, aux22 = matmul_2(v11, v12, v21, v22, 1/np.sqrt(l1), zz, zz, 1/np.sqrt(l2))\n",
    "    del l1, l2\n",
    "    i11, i12, i21, i22 = matmul_2(aux11, aux12, aux21, aux22, np.conj(v11), np.conj(v21), np.conj(v12), np.conj(v22))\n",
    "    del aux11, aux12, aux21, aux22\n",
    "    \n",
    "    # ... and back to main\n",
    "    return i11, i12, i21, i22  "
   ]
  },
  {
   "cell_type": "markdown",
   "metadata": {},
   "source": [
    "**Input parameters**"
   ]
  },
  {
   "cell_type": "code",
   "execution_count": null,
   "metadata": {},
   "outputs": [],
   "source": [
    "# --- Inputs\n",
    "\n",
    "# path 2 images\n",
    "path = '/projects/data/04-polinsar/'\n",
    "\n",
    "# Input pixel spacing, in meters\n",
    "spacrg = 0.59941552\n",
    "spacaz = 0.19507939\n",
    "\n",
    "# Output range resolution, in meters\n",
    "resrg = 5.\n",
    "resaz = 5.\n",
    "\n",
    "# Image block for processing\n",
    "minrg = 2300\n",
    "maxrg = 4500\n",
    "minaz = 21500 - 4000\n",
    "maxaz = 21500 + 6000\n"
   ]
  },
  {
   "cell_type": "code",
   "execution_count": null,
   "metadata": {},
   "outputs": [],
   "source": [
    "# --- Calculate number of looks\n",
    "\n",
    "looksr = int( resrg / spacrg )\n",
    "if looksr % 2 == 0 : looksr = looksr +1\n",
    "looksa = int( resaz / spacaz )\n",
    "if looksa % 2 == 0 : looksa = looksa +1\n"
   ]
  },
  {
   "cell_type": "markdown",
   "metadata": {},
   "source": [
    "**Step 1: Open images, and visualize a Pauli**"
   ]
  },
  {
   "cell_type": "code",
   "execution_count": null,
   "metadata": {},
   "outputs": [],
   "source": [
    "# --- Open images\n",
    "\n",
    "# all channels for the first acquisition to make the the Pauli\n",
    "slchh1 = rrat(path + 'slc_15tmpsar0302_Lhh_t01.rat', block = [minaz, maxaz+1, minrg, maxrg+1])\n",
    "slchv1 = rrat(path + 'slc_15tmpsar0302_Lhv_t01.rat', block = [minaz, maxaz+1, minrg, maxrg+1])\n",
    "slcvv1 = rrat(path + 'slc_15tmpsar0302_Lvv_t01.rat', block = [minaz, maxaz+1, minrg, maxrg+1])\n",
    "\n",
    "# only relevant channels for the second acquisition\n",
    "slchh2 = rrat(path + 'slc_coreg_15tmpsar0302_15tmpsar0303_Lhh_t01.rat', block = [minaz, maxaz+1, minrg, maxrg+1])\n",
    "slchv2 = rrat(path + 'slc_coreg_15tmpsar0302_15tmpsar0303_Lhv_t01.rat', block = [minaz, maxaz+1, minrg, maxrg+1])\n",
    "slcvv2 = rrat(path + 'slc_coreg_15tmpsar0302_15tmpsar0303_Lvv_t01.rat', block = [minaz, maxaz+1, minrg, maxrg+1])\n"
   ]
  },
  {
   "cell_type": "markdown",
   "metadata": {},
   "source": [
    "**Step 2 : Compensate flat-earth**"
   ]
  },
  {
   "cell_type": "code",
   "execution_count": null,
   "metadata": {},
   "outputs": [],
   "source": [
    "# --- Open flat-earth phase\n",
    "fe = rrat(path + 'pha_flat_15tmpsar0302_15tmpsar0303_Lhh_t01.rat', block = [minaz, maxaz+1, minrg, maxrg+1])\n",
    "\n",
    "# --- Compensate\n",
    "slchh2 = slchh2 * np.exp(1j * fe)\n",
    "slchv2 = slchv2 * np.exp(1j * fe)\n",
    "slcvv2 = slcvv2 * np.exp(1j * fe)\n",
    "\n",
    "# free memory\n",
    "del fe\n"
   ]
  },
  {
   "cell_type": "markdown",
   "metadata": {},
   "source": [
    "**Step 3 : Calculate the elements of T1, T2, and Omega matrices**"
   ]
  },
  {
   "cell_type": "code",
   "execution_count": null,
   "metadata": {},
   "outputs": [],
   "source": [
    "# --- create channels\n",
    "im1_1 = slchh1 - slcvv1\n",
    "im2_1 = 2*slchv1\n",
    "im1_2 = slchh2 - slcvv2\n",
    "im2_2 = 2*slchv2 \n",
    "\n",
    "# free memory\n",
    "del slchh1, slchv1, slcvv1, slchh2, slchv2, slcvv2\n",
    "\n",
    "# --- T1 \n",
    "T1_11 = calculate_covariance(im1_1, im1_1, looksr, looksa)\n",
    "T1_12 = calculate_covariance(im1_1, im2_1, looksr, looksa)\n",
    "T1_22 = calculate_covariance(im2_1, im2_1, looksr, looksa)\n",
    "\n",
    "# --- T2 \n",
    "T2_11 = calculate_covariance(im1_2, im1_2, looksr, looksa)\n",
    "T2_12 = calculate_covariance(im1_2, im2_2, looksr, looksa)\n",
    "T2_22 = calculate_covariance(im2_2, im2_2, looksr, looksa)\n",
    "\n",
    "# --- Omega\n",
    "Om_11 = calculate_covariance(im1_1, im1_2, looksr, looksa)\n",
    "Om_12 = calculate_covariance(im1_1, im2_2, looksr, looksa)\n",
    "Om_21 = calculate_covariance(im2_1, im1_2, looksr, looksa)\n",
    "Om_22 = calculate_covariance(im2_1, im2_2, looksr, looksa)\n",
    "\n",
    "# free memory\n",
    "del im1_1, im2_1, im1_2, im2_2\n",
    "\n",
    "# --- polarization 1 and polarization 2 InSAR coherences\n",
    "gamma1 = Om_11 / np.sqrt(T1_11) / np.sqrt(T2_11)\n",
    "gamma2 = Om_22 / np.sqrt(T1_22) / np.sqrt(T2_22)\n"
   ]
  },
  {
   "cell_type": "markdown",
   "metadata": {},
   "source": [
    "**Step 4 : Get coherence region parameters (gamma_plus, gamma_minus, geometry)**"
   ]
  },
  {
   "cell_type": "code",
   "execution_count": null,
   "metadata": {},
   "outputs": [],
   "source": [
    "# --- calculate T\n",
    "\n",
    "T11 = 0.5 * (T1_11 + T2_11)\n",
    "T12 = 0.5 * (T1_12 + T2_12)\n",
    "T22 = 0.5 * (T1_22 + T2_22)\n",
    "\n",
    "# free memory\n",
    "del T1_11, T1_12, T1_22, T2_11, T2_12, T2_22\n",
    "\n",
    "# --- compute coherence region paramters\n",
    "gamma_plus, gamma_minus, a2, b2, phi, center = calculate_coh_region(T11, T12, T22, Om_11, Om_12, Om_21, Om_22)\n"
   ]
  },
  {
   "cell_type": "markdown",
   "metadata": {},
   "source": [
    "**Step 5 : Find the volume-only coherence**"
   ]
  },
  {
   "cell_type": "code",
   "execution_count": null,
   "metadata": {},
   "outputs": [],
   "source": []
  },
  {
   "cell_type": "code",
   "execution_count": null,
   "metadata": {},
   "outputs": [],
   "source": []
  },
  {
   "cell_type": "markdown",
   "metadata": {},
   "source": [
    "**Step 6 : Calculate ground phase**"
   ]
  },
  {
   "cell_type": "code",
   "execution_count": null,
   "metadata": {},
   "outputs": [],
   "source": [
    "v = gamma_g - gamma_v\n",
    "x = -np.real( np.conj(v)*gamma_v ) / np.abs(v)**2 + \\\n",
    "            np.sqrt( np.real(np.conj(v)*gamma_v)**2 - (np.abs(gamma_v)**2 - 1)* np.abs(v)**2 ) / np.abs(v)**2\n",
    "cohg = gamma_v + v*x\n",
    "phig  = np.angle(cohg)\n",
    "\n"
   ]
  },
  {
   "cell_type": "markdown",
   "metadata": {},
   "source": [
    "**Step 7 : Visualize coherence region in 1 pixel**"
   ]
  },
  {
   "cell_type": "code",
   "execution_count": null,
   "metadata": {},
   "outputs": [],
   "source": [
    "# --- open lidar height\n",
    "\n",
    "Hl = rrat(path + 'Lida_r1503.rat', block = [minaz, maxaz+1, minrg, maxrg+1])\n",
    "\n",
    "# --- fix rg-az coordinates\n",
    "\n",
    "azp = 276\n",
    "rgp = 1453\n",
    "\n",
    "# --- calculate border of coherence region\n",
    "# ...\n",
    "\n",
    "# - now plot\n",
    "\n",
    "# ... prepare complex plane\n",
    "plt.figure( figsize = (7,7) )\n",
    "for nn in range(6) : plt.plot(nn*.2*np.cos(theta), nn*.2*np.sin(theta), color = 'b', lw = 0.5)\n",
    "plt.plot([-1, 1], [0, 0], color = 'b', linestyle = '--', lw = 0.5)\n",
    "plt.plot([0, 0], [-1, 1],  color = 'b', linestyle = '--', lw = 0.5)\n",
    "plt.xlabel('Real part')\n",
    "plt.ylabel('Imaginary part')\n",
    "\n",
    "# ... plot coherence region before compensating phig\n",
    "# ...\n",
    "\n",
    "# plot coherence region after compensating phig\n",
    "# ...\n"
   ]
  },
  {
   "cell_type": "markdown",
   "metadata": {},
   "source": [
    "**Step 8 : Compensate ground phase** "
   ]
  },
  {
   "cell_type": "code",
   "execution_count": null,
   "metadata": {},
   "outputs": [],
   "source": []
  },
  {
   "cell_type": "markdown",
   "metadata": {},
   "source": [
    "**Step 9 : Plot look-up table for the chosen pixel**"
   ]
  },
  {
   "cell_type": "code",
   "execution_count": null,
   "metadata": {},
   "outputs": [],
   "source": [
    "# --- load incidence angle\n",
    "\n",
    "incang = rrat(path + 'incidence_15tmpsar0302_L_t01.rat', block = [minaz, maxaz+1, minrg, maxrg+1])\n",
    "\n",
    "# --- Define interval of variation of height and extinction\n",
    "\n",
    "H = np.linspace(0, 50, 51)  # height\n",
    "# s = np.linspace(0, 2, 31)   # extinction\n",
    "s = np.tan(np.linspace(0.000001, .99, 31) * np.pi/2) / 30 \n",
    "\n",
    "# make meshgrids\n",
    "Hmat = np.outer(np.ones(s.size, 'float32'), H)\n",
    "smat = np.outer(s, np.ones(H.size, 'float32'))\n",
    "\n",
    "# --- calculate LUT = look-up table = all the coherences for every combination of height and extinction\n",
    "p1 = 2*smat/incang[azp, rgp]\n",
    "p2 = 2*smat/incang[azp, rgp] + 1j*kz[azp, rgp]\n",
    "lut = ( p1 * (np.exp(p2*Hmat)-1) ) / ( p2 * (np.exp(p1*Hmat)-1))\n",
    "lut[Hmat == 0] = 1\n",
    "HH = Hmat[np.logical_and(smat < 1e-6, Hmat !=0)]\n",
    "lut[np.logical_and(smat < 1e-6, Hmat !=0)] = \\\n",
    "        np.sinc(kz[azp, rgp]*Hmat[np.logical_and(smat < 1e-6, Hmat !=0)]/2/np.pi) * \\\n",
    "                        np.exp(1j*kz[azp, rgp]*Hmat[np.logical_and(smat < 1e-6, Hmat !=0)]/2 )\n",
    "\n",
    "# ... display\n",
    "# ... prepare complex plane\n",
    "# ...\n",
    "\n"
   ]
  },
  {
   "cell_type": "markdown",
   "metadata": {},
   "source": [
    "**Step 10 : Forest height inversion & validation**"
   ]
  },
  {
   "cell_type": "code",
   "execution_count": null,
   "metadata": {},
   "outputs": [],
   "source": [
    "# --- process  "
   ]
  },
  {
   "cell_type": "code",
   "execution_count": null,
   "metadata": {},
   "outputs": [],
   "source": [
    "# --- display estimates\n"
   ]
  },
  {
   "cell_type": "code",
   "execution_count": null,
   "metadata": {},
   "outputs": [],
   "source": [
    "# --- validation\n",
    "\n"
   ]
  },
  {
   "cell_type": "code",
   "execution_count": null,
   "metadata": {},
   "outputs": [],
   "source": []
  }
 ],
 "metadata": {
  "kernelspec": {
   "display_name": "Python 3",
   "language": "python",
   "name": "python3"
  },
  "language_info": {
   "codemirror_mode": {
    "name": "ipython",
    "version": 3
   },
   "file_extension": ".py",
   "mimetype": "text/x-python",
   "name": "python",
   "nbconvert_exporter": "python",
   "pygments_lexer": "ipython3",
   "version": "3.8.6"
  }
 },
 "nbformat": 4,
 "nbformat_minor": 4
}
