{
 "cells": [
  {
   "cell_type": "markdown",
   "metadata": {},
   "source": [
    "# Lecture 1 - 31.05.2021 \n",
    "\n",
    "# Example: Generation of a chirp signal, spectral analysis, and matched filter\n"
   ]
  },
  {
   "cell_type": "markdown",
   "metadata": {},
   "source": [
    "A chirp is a signal in which the frequency increases with time following a quadtratic law of time. It can be expressed as:\n",
    "\n",
    "$$y=\\exp ( j\\pi k t^2 ) \\cdot \\text{rect} \\left(\\frac{t}{T_c}\\right) $$\n",
    "\n",
    "where $t$ indicates time and $K$ is the chirp rate. The function $\\text{rect}(\\cdot)$ indicates a rectangular function ('box') which equals 1 for $-T_c/2 \\leqslant t \\leqslant T_c/2$. As a consequence, $T_c$ indicates the total duration of the signal.\n",
    "\n",
    "The objective of this notebook is to generate a chirp signal with:\n",
    "- duration $T_c = 500 \\text{ ms}$ \n",
    "- chirp rate $K = 500 \\text{ s}^{-2}$ \n",
    "- observation time $T_d = 2000 \\text{ ms}$\n",
    "\n",
    "and to calculate its Fourier spectrum. Afterwards, the matched filter is implemented, and applied to the generated chirp in the time and frequency domain."
   ]
  },
  {
   "cell_type": "markdown",
   "metadata": {},
   "source": [
    "## 1. Generation of the chirp signal"
   ]
  },
  {
   "cell_type": "markdown",
   "metadata": {},
   "source": [
    "First of all, we import the necessary modules. Numpy will be enough for the calculations, together with some fft routines, and Matplotlib for plotting:"
   ]
  },
  {
   "cell_type": "code",
   "execution_count": 1,
   "metadata": {},
   "outputs": [],
   "source": [
    "# --- To get started, we set the ipympl backend, which makes matplotlib plots interactive.\n",
    "# --- We do this using a magic command, starting with %.\n",
    "%matplotlib widget\n",
    "\n",
    "# --- import libraries\n",
    "\n",
    "import numpy as np\n",
    "import matplotlib.pyplot as plt\n",
    "from numpy.fft import fft, fftfreq, fftshift, ifft\n"
   ]
  },
  {
   "cell_type": "markdown",
   "metadata": {},
   "source": [
    "For simplicity, we implement the $\\text{rect}(\\cdot)$ as a function:"
   ]
  },
  {
   "cell_type": "code",
   "execution_count": 2,
   "metadata": {},
   "outputs": [],
   "source": [
    "# --- create useful functions\n",
    "\n",
    "def rect(t, T0):\n",
    "    # Implements y = rect(t/T0) = 1 if abs(t/T0) <= 0.5, 0 otherwise \n",
    "    # All input / outputs are Numpy arrays\n",
    "    \n",
    "    N = t.shape[0]\n",
    "    y = np.zeros(N, 'float32') \n",
    "    y[np.abs(t/T0) <= 0.5] = 1\n",
    "    \n",
    "    return y\n"
   ]
  },
  {
   "cell_type": "markdown",
   "metadata": {},
   "source": [
    "And now, the input parameters defined in the beginning:"
   ]
  },
  {
   "cell_type": "code",
   "execution_count": 3,
   "metadata": {},
   "outputs": [],
   "source": [
    "# --- Input parameters\n",
    "\n",
    "# number of samples \n",
    "Ns = 2001\n",
    "# signal duration, s\n",
    "Td = 2\n",
    "# chirp duration, s\n",
    "Tc = .5\n",
    "# chirp rate\n",
    "K = 500\n",
    "# max duration for zoom plotting, s\n",
    "Tzoom = .2\n"
   ]
  },
  {
   "cell_type": "markdown",
   "metadata": {},
   "source": [
    "A couple of notes:\n",
    "\n",
    "- Tzoom is defines a time interval around zero in which to zoom in for visualization purposes;\n",
    "\n",
    "- the number of samples is not random value, but it should be set according to the Nyquist theorem. The (discrete) Fourier transform of a set of signal samples is periodic with period $1/T_s$. According to the Nyquist theorem, the reconstruction of a bandlimited signal is possible if the signal is sampled as twice faster as its largest frequency component. In our case, the largest frequency in the signal is at $K \\cdot T_c /2= 125 \\text{ Hz}$. As a consequence, $1/T_s > 250 \\text{Hz}$, from which $T_s < 4 \\text{ ms}$. It results that the minimum suitable number of samples in $T_d = 2 \\text{ s}$ is 500. \n",
    "\n",
    "\n",
    "\n",
    "We can now generate the chirp signal:"
   ]
  },
  {
   "cell_type": "code",
   "execution_count": 4,
   "metadata": {},
   "outputs": [],
   "source": [
    "# --- Generation of the chirp signal\n",
    "\n",
    "# time axis\n",
    "time = np.linspace(-Td/2, Td/2, Ns)\n",
    "# generate chirp\n",
    "chirp = rect(time, Tc) * np.exp(1j*np.pi*K*time**2)\n"
   ]
  },
  {
   "cell_type": "markdown",
   "metadata": {},
   "source": [
    "We are ready to plot:\n",
    "\n",
    "- the real part: $ R(t) = \\cos(\\pi K t^2 ) \\cdot \\text{rect} \\left(\\frac{t}{T_c}\\right) $\n",
    "- the imaginary part: $ I(t) = \\sin(\\pi K t^2 ) \\cdot \\text{rect} \\left(\\frac{t}{T_c}\\right) $\n",
    "- the amplitude : $ A(t) = \\text{rect} \\left(\\frac{t}{T_c}\\right) $\n",
    "- the phase: $ P(t) = \\pi K t^2 $"
   ]
  },
  {
   "cell_type": "code",
   "execution_count": 5,
   "metadata": {},
   "outputs": [
    {
     "data": {
      "application/vnd.jupyter.widget-view+json": {
       "model_id": "7d2794f4bac64baaa12c896e7bfd48d1",
       "version_major": 2,
       "version_minor": 0
      },
      "text/plain": [
       "Canvas(toolbar=Toolbar(toolitems=[('Home', 'Reset original view', 'home', 'home'), ('Back', 'Back to previous …"
      ]
     },
     "metadata": {},
     "output_type": "display_data"
    },
    {
     "data": {
      "text/plain": [
       "(array([-4., -3., -2., -1.,  0.,  1.,  2.,  3.,  4.]),\n",
       " [Text(0, 0, ''),\n",
       "  Text(0, 0, ''),\n",
       "  Text(0, 0, ''),\n",
       "  Text(0, 0, ''),\n",
       "  Text(0, 0, ''),\n",
       "  Text(0, 0, ''),\n",
       "  Text(0, 0, ''),\n",
       "  Text(0, 0, ''),\n",
       "  Text(0, 0, '')])"
      ]
     },
     "execution_count": 5,
     "metadata": {},
     "output_type": "execute_result"
    }
   ],
   "source": [
    "# --- plot chirp signal\n",
    "\n",
    "# find indices for zoom\n",
    "ii = np.where(np.abs(time) <= Tzoom/2)\n",
    "imin = np.min(ii[0])\n",
    "imax = np.max(ii[0])\n",
    "if imax == Ns-1 : imax = Ns-2\n",
    "  \n",
    "plt.figure(figsize = (10,10))\n",
    "\n",
    "# plot chirp - real part\n",
    "plt.subplot(2, 2, 1)\n",
    "plt.plot(time[imin:imax+1], np.real(chirp[imin:imax+1]), lw = 3)\n",
    "plt.xlabel('Time (s)', fontsize = '12')\n",
    "plt.ylabel('Amplitude', fontsize = '12')\n",
    "plt.title('Chirp signal - Real part', fontsize = '12')\n",
    "plt.axis([time[imin], time[imax+1], -1.2, 1.2])\n",
    "plt.grid(True, linestyle = '--', color = 'k')\n",
    "plt.xticks(fontsize=12)\n",
    "plt.yticks(fontsize=12)\n",
    "\n",
    "# plot chirp - imaginary part\n",
    "plt.subplot(2, 2, 2)\n",
    "plt.plot(time[imin:imax+1], np.imag(chirp[imin:imax+1]), lw = 3)\n",
    "plt.xlabel('Time (s)', fontsize = '12')\n",
    "plt.ylabel('Amplitude', fontsize = '12')\n",
    "plt.title('Chirp signal - Imaginary part', fontsize = '12')\n",
    "plt.axis([time[imin], time[imax+1], -1.2, 1.2])\n",
    "plt.grid(True, linestyle = '--', color = 'k')\n",
    "plt.xticks(fontsize=12)\n",
    "plt.yticks(fontsize=12)\n",
    "\n",
    "# plot chirp - amplitude\n",
    "plt.subplot(2, 2, 3)\n",
    "plt.plot(time[imin:imax+1], np.abs(chirp[imin:imax+1]), lw = 3)\n",
    "plt.xlabel('Time (s)', fontsize = '12')\n",
    "plt.ylabel('Amplitude', fontsize = '12')\n",
    "plt.title('Chirp signal - Amplitude', fontsize = '12')\n",
    "plt.axis([time[imin], time[imax+1], -1.2, 1.2])\n",
    "plt.grid(True, linestyle = '--', color = 'k')\n",
    "plt.xticks(fontsize=12)\n",
    "plt.yticks(fontsize=12)\n",
    "\n",
    "# plot chirp - phase part\n",
    "plt.subplot(2, 2, 4)\n",
    "plt.plot(time[imin:imax+1], rect(time[imin:imax+1], Tc) * np.angle(chirp[imin:imax+1]), lw = 3)\n",
    "plt.xlabel('Time (s)', fontsize = '12')\n",
    "plt.ylabel('Amplitude', fontsize = '12')\n",
    "plt.title('Chirp signal - Phase', fontsize = '12')\n",
    "plt.axis([time[imin], time[imax+1], -np.pi, np.pi])\n",
    "plt.grid(True, linestyle = '--', color = 'k')\n",
    "plt.xticks(fontsize=12)\n",
    "plt.yticks(fontsize=12)\n"
   ]
  },
  {
   "cell_type": "markdown",
   "metadata": {},
   "source": [
    "## 2. Spectrum of the chirp signal"
   ]
  },
  {
   "cell_type": "markdown",
   "metadata": {},
   "source": [
    "The spectrum of the chirp signal generated above is simply calculated by using the function fft(.), which implements the (discrete) Fourier transform. fft(.) provides the spectrum in the interval $[0, 1/T_s]$. However, the spectrum is tipically visualized between $[-1/(2T_s), 1/(2T_s)]$. Remembering that the spectrum is periodic, one can just 'shift' the visulaization window, that is implemented by means of the function fftshift(.)."
   ]
  },
  {
   "cell_type": "markdown",
   "metadata": {},
   "source": [
    "The chirp spectrum is calculated here below:"
   ]
  },
  {
   "cell_type": "code",
   "execution_count": 6,
   "metadata": {},
   "outputs": [],
   "source": [
    "# --- Calculate chirp spectrum\n",
    "\n",
    "# derive time sampling\n",
    "Ts = time[1] - time[0]\n",
    "\n",
    "# make frequency axis ... scaled in Hz\n",
    "frequency = fftshift(fftfreq(Ns)) / Ts\n",
    "\n",
    "# calculate chirp spectrum\n",
    "chirp_spectrum = fftshift(fft(chirp))"
   ]
  },
  {
   "cell_type": "markdown",
   "metadata": {},
   "source": [
    "And we are ready to plot it:"
   ]
  },
  {
   "cell_type": "code",
   "execution_count": 7,
   "metadata": {},
   "outputs": [
    {
     "data": {
      "application/vnd.jupyter.widget-view+json": {
       "model_id": "c082f441cebe4b1fa6cfd56bb6241a7f",
       "version_major": 2,
       "version_minor": 0
      },
      "text/plain": [
       "Canvas(toolbar=Toolbar(toolitems=[('Home', 'Reset original view', 'home', 'home'), ('Back', 'Back to previous …"
      ]
     },
     "metadata": {},
     "output_type": "display_data"
    },
    {
     "data": {
      "text/plain": [
       "(array([-10.,   0.,  10.,  20.,  30.,  40.,  50.,  60.]),\n",
       " [Text(0, 0, ''),\n",
       "  Text(0, 0, ''),\n",
       "  Text(0, 0, ''),\n",
       "  Text(0, 0, ''),\n",
       "  Text(0, 0, ''),\n",
       "  Text(0, 0, ''),\n",
       "  Text(0, 0, ''),\n",
       "  Text(0, 0, '')])"
      ]
     },
     "execution_count": 7,
     "metadata": {},
     "output_type": "execute_result"
    }
   ],
   "source": [
    "# --- plot chirp spectrum\n",
    "\n",
    "plt.figure(figsize = (10,7))\n",
    "plt.plot(frequency, np.abs(chirp_spectrum), lw = 3)\n",
    "plt.xlabel('Frequency (Hz)', fontsize = '14')\n",
    "plt.ylabel('Amplitude', fontsize = '14')\n",
    "plt.title('Chirp signal - Amplitude spectrum', fontsize = '14')\n",
    "plt.axis([np.min(frequency), np.max(frequency), -.1, 1.1*np.max(np.abs(chirp_spectrum))])\n",
    "plt.grid(True, linestyle = '--', color = 'k')\n",
    "plt.xticks(fontsize=14)\n",
    "plt.yticks(fontsize=14)\n"
   ]
  },
  {
   "cell_type": "markdown",
   "metadata": {},
   "source": [
    "The chirp spectrum looks like a rectangular function. We can now measure the bandwidth, and verify if it matches the theoretical expectation.\n",
    "\n",
    "But we now have the tool to answer to the following questions:\n",
    "- ... what happens if $T_s$ increased for the same $T_d$?\n",
    "- ... what happens if $T_d$ increases for the same $T_s$?\n"
   ]
  },
  {
   "cell_type": "markdown",
   "metadata": {},
   "source": [
    "## 3. Matched filter"
   ]
  },
  {
   "cell_type": "markdown",
   "metadata": {},
   "source": [
    "The response of the matched filter in the time domain is a complex conjugate, time-reversed version of the signal to which the filter is adapted.  \n",
    "\n",
    "It can be generated quite simply- both operations can be well recognized:"
   ]
  },
  {
   "cell_type": "code",
   "execution_count": 8,
   "metadata": {},
   "outputs": [],
   "source": [
    "# --- Create matched filter response\n",
    "\n",
    "matfilter = np.conj(chirp[::-1])\n"
   ]
  },
  {
   "cell_type": "markdown",
   "metadata": {},
   "source": [
    "A filtering of a signal can be implemented in the freqeuncy domain (normally preferred for computational reasons). But one has to be careful that non-nul spectral domain are multiplied! In other words, all the shifts of the independent variables have to be taken care of ... also when transforming back from the frequency domain. "
   ]
  },
  {
   "cell_type": "code",
   "execution_count": 9,
   "metadata": {},
   "outputs": [],
   "source": [
    "# --- OPTION 1: filter in the frequency domain\n",
    "\n",
    "# get spectrum of matched filter response\n",
    "matfilter_spectrum = fftshift(fft(matfilter))\n",
    "# get spectrum of output\n",
    "matfilter_output_spectrum = chirp_spectrum * matfilter_spectrum\n",
    "# back in the time domain\n",
    "matfilter_output = fftshift(ifft(fftshift(matfilter_output_spectrum, -1)))\n"
   ]
  },
  {
   "cell_type": "markdown",
   "metadata": {},
   "source": [
    "Alternatively, a filtering can be implemented also in the time domain by means of a convolution operation:"
   ]
  },
  {
   "cell_type": "code",
   "execution_count": 10,
   "metadata": {},
   "outputs": [],
   "source": [
    "# --- OPTION 2: filter in the time domain\n",
    "\n",
    "matfilter_output_conv = np.convolve(chirp, matfilter, mode = 'same')\n"
   ]
  },
  {
   "cell_type": "markdown",
   "metadata": {},
   "source": [
    "The results of both operations can finally be plotted:"
   ]
  },
  {
   "cell_type": "code",
   "execution_count": 11,
   "metadata": {},
   "outputs": [
    {
     "data": {
      "application/vnd.jupyter.widget-view+json": {
       "model_id": "b8c9ee26e5a3489e88ce9ed84ef4cd0d",
       "version_major": 2,
       "version_minor": 0
      },
      "text/plain": [
       "Canvas(toolbar=Toolbar(toolitems=[('Home', 'Reset original view', 'home', 'home'), ('Back', 'Back to previous …"
      ]
     },
     "metadata": {},
     "output_type": "display_data"
    },
    {
     "data": {
      "text/plain": [
       "(array([-0.2,  0. ,  0.2,  0.4,  0.6,  0.8,  1. ,  1.2]),\n",
       " [Text(0, 0, ''),\n",
       "  Text(0, 0, ''),\n",
       "  Text(0, 0, ''),\n",
       "  Text(0, 0, ''),\n",
       "  Text(0, 0, ''),\n",
       "  Text(0, 0, ''),\n",
       "  Text(0, 0, ''),\n",
       "  Text(0, 0, '')])"
      ]
     },
     "execution_count": 11,
     "metadata": {},
     "output_type": "execute_result"
    }
   ],
   "source": [
    "# --- Plot results\n",
    "plt.figure(figsize = (10, 7.5/2))\n",
    "\n",
    "plt.subplot(1,2,1)\n",
    "plt.plot(time[imin:imax+1], np.real(matfilter_output[imin:imax+1])/np.max(np.abs(matfilter_output)), lw = 3)\n",
    "plt.plot(time[imin:imax+1], np.real(matfilter_output_conv[imin:imax+1])/np.max(np.abs(matfilter_output_conv)), lw = 3)\n",
    "plt.xlabel('Time (s)', fontsize = '12')\n",
    "plt.ylabel('Norm. Amplitude', fontsize = '12')\n",
    "plt.title('Compressed chirp signal - Real part', fontsize = '12')\n",
    "plt.axis([time[imin], time[imax+1], -.2, 1.2])\n",
    "plt.grid(True, linestyle = '--', color = 'k')\n",
    "plt.xticks(fontsize=12)\n",
    "plt.yticks(fontsize=12)\n",
    "\n",
    "plt.subplot(1,2,2)\n",
    "plt.plot(time[imin:imax+1], np.imag(matfilter_output[imin:imax+1])/np.max(np.abs(matfilter_output)), lw = 3)\n",
    "plt.plot(time[imin:imax+1], np.imag(matfilter_output_conv[imin:imax+1])/np.max(np.abs(matfilter_output_conv)), lw = 3)\n",
    "plt.xlabel('Time (s)', fontsize = '12')\n",
    "plt.ylabel('Norm. Amplitude', fontsize = '12')\n",
    "plt.title('Compressed chirp signal - Imaginary part', fontsize = '12')\n",
    "plt.axis([time[imin], time[imax+1], -.2, 1.2])\n",
    "plt.grid(True, linestyle = '--', color = 'k')\n",
    "plt.xticks(fontsize=12)\n",
    "plt.yticks(fontsize=12)\n",
    "\n"
   ]
  },
  {
   "cell_type": "code",
   "execution_count": null,
   "metadata": {},
   "outputs": [],
   "source": []
  }
 ],
 "metadata": {
  "kernelspec": {
   "display_name": "Python 3",
   "language": "python",
   "name": "python3"
  },
  "language_info": {
   "codemirror_mode": {
    "name": "ipython",
    "version": 3
   },
   "file_extension": ".py",
   "mimetype": "text/x-python",
   "name": "python",
   "nbconvert_exporter": "python",
   "pygments_lexer": "ipython3",
   "version": "3.8.6"
  }
 },
 "nbformat": 4,
 "nbformat_minor": 4
}
