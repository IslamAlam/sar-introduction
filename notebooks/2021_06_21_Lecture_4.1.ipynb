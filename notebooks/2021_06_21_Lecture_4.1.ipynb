{
 "cells": [
  {
   "cell_type": "markdown",
   "metadata": {},
   "source": [
    "# Lecture 4 - 21.06.2021\n",
    "\n",
    "# Exercise 1: The eigenvalues of the polarimetric coherency matrix, entropy, anisotropy"
   ]
  },
  {
   "cell_type": "markdown",
   "metadata": {},
   "source": [
    "* Acquisition: Nkok (Gabon), DLR's F-SAR, L-band\n",
    "\n",
    "* Path to images: ./data/02-polsar/\n",
    "\n",
    "* SLC (single-look complex) images:\n",
    "    * HH: slc_16afrisr0107_Lhh_tcal_test.rat\n",
    "    * HV: slc_16afrisr0107_Lhv_tcal_test.rat\n",
    "    * VH: slc_16afrisr0107_Lvh_tcal_test.rat\n",
    "    * VV: slc_16afrisr0107_Lvh_tcal_test.rat\n"
   ]
  },
  {
   "cell_type": "code",
   "execution_count": 40,
   "metadata": {},
   "outputs": [],
   "source": [
    "# import useful libraries, functions, and modules\n",
    "\n",
    "import sys\n",
    "sys.path.append('/projects/src/')\n",
    "\n",
    "import numpy as np\n",
    "import matplotlib.pyplot as plt\n",
    "from scipy.ndimage import filters\n",
    "from ste_io import *"
   ]
  },
  {
   "cell_type": "code",
   "execution_count": 41,
   "metadata": {},
   "outputs": [],
   "source": [
    "def calculate_correlation(im1, im2, looksr, looksa) : \n",
    "    \n",
    "    corr = filters.uniform_filter(np.real(im1*np.conj(im2)), [looksa,looksr]) + 1j* \\\n",
    "                filters.uniform_filter(np.imag(im1*np.conj(im2)), [looksa,looksr])\n",
    "    \n",
    "    return corr"
   ]
  },
  {
   "cell_type": "code",
   "execution_count": 42,
   "metadata": {},
   "outputs": [],
   "source": [
    "def calculate_eigenvaues_3(T11, T12, T13, T22, T23, T33):\n",
    "\n",
    "    # Calculate and order (from max to min) the eigenvalues of a 3x3 hermitian matrix in closed-form.\n",
    "    # Inputs can be 2D rg-az.\n",
    "\n",
    "    # get dimensions\n",
    "    dim = T11.shape\n",
    "\n",
    "    # calculate auxiliary quantities\n",
    "    A = T11*T22 + T11*T33 + T22*T33 - T12*np.conj(T12) - T13*np.conj(T13) - T23*np.conj(T23)\n",
    "    B = T11**2 - T11*T22 + T22**2 -T11*T33 -T22*T33 + T33**2 + 3*T12*np.conj(T12) + 3*T13*np.conj(T13) + 3*T23*np.conj(T23)\n",
    "\n",
    "    DET = T11*T22*T33 - T33*T12*np.conj(T12) - T22*T13*np.conj(T13) - T11*T23*np.conj(T23) + T12*np.conj(T13)*T23 + np.conj(T12)*T13*np.conj(T23)  \n",
    "    TR = T11 + T22 + T33 \n",
    "    Z = 27*DET-9*A*TR + 2*TR**3 + np.sqrt((27*DET-9*A*TR + 2*TR**3)**2-4*B**3)\n",
    "    \n",
    "    del DET\n",
    "    \n",
    "    # ... and here they are:\n",
    "    LA = ( 1/3.*TR + 2**(1/3.)*B/(3*Z**(1/3.)) + Z**(1/3.)/(3*2**(1/3.)) )\n",
    "    LB = ( 1/3.*TR - (1+1j*np.sqrt(3))*B/(3*2**(2/3.)*Z**(1/3.)) - (1-1j*np.sqrt(3))*Z**(1/3.)/(6*2**(1/3.)) )\n",
    "    LC = ( 1/3.*TR - (1-1j*np.sqrt(3))*B/(3*2**(2/3.)*Z**(1/3.)) - (1+1j*np.sqrt(3))*Z**(1/3.)/(6*2**(1/3.)) )\n",
    "    \n",
    "    # now order them:\n",
    "    dumm = np.zeros((dim[0], dim[1], 3), 'float32')\n",
    "    dumm [:, :, 0] = np.real(LA)\n",
    "    del LA\n",
    "    dumm [:, :, 1] = np.real(LB)\n",
    "    del LB    \n",
    "    dumm [:, :, 2] = np.real(LC)\n",
    "    del LC  \n",
    "    \n",
    "    L1 = np.max(dumm, axis = 2)\n",
    "    L3 = np.min(dumm, axis = 2)\n",
    "    L2 = np.sum(dumm, axis = 2) - L1 - L3\n",
    "    \n",
    "    del dumm\n",
    "    \n",
    "    return L1, L2, L3\n",
    "    "
   ]
  },
  {
   "cell_type": "code",
   "execution_count": 43,
   "metadata": {},
   "outputs": [],
   "source": [
    "def calculate_eigenvectors_3(T11, T12, T13, T22, T23, T33, L1, L2, L3) :\n",
    "\n",
    "    # Calculate the eigenvectors corresponding to the eigenvalues (L1, L2, L3)\n",
    "    # of a 3x3 matrix \n",
    "    # Inputs can be 2D rg-az.\n",
    "\n",
    "    # get dimension\n",
    "    dim = T11.shape    \n",
    "    \n",
    "    # now calculate the first eigenvector - corresponds to the maximum eigenvalue L1\n",
    "    U1 = np.ones((dim[0], dim[1], 3), 'complex64')\n",
    "    U1[:, :, 0] = (L1 -T33)/np.conj(T13) + (((L1-T33)*np.conj(T12) + np.conj(T13)*T23)*np.conj(T23))/ \\\n",
    "                    (((T22-L1)*np.conj(T13) - np.conj(T12)*np.conj(T23))*np.conj(T13))\n",
    "    U1[:, :, 1] = -((L1-T33)*np.conj(T12)+np.conj(T13)*T23) / ((T22-L1)*np.conj(T13) - np.conj(T12)*np.conj(T23))\n",
    "    \n",
    "    # second eigenvector - corresponds to the eigenvalue L2\n",
    "    U2 = np.ones((dim[0], dim[1], 3), 'complex64')\n",
    "    U2[:, :, 0] = (L2 -T33)/np.conj(T13) + (((L2-T33)*np.conj(T12) + np.conj(T13)*T23)*np.conj(T23))/ \\\n",
    "                    (((T22-L2)*np.conj(T13) - np.conj(T12)*np.conj(T23))*np.conj(T13))\n",
    "    U2[:, :, 1] = -((L2-T33)*np.conj(T12)+np.conj(T13)*T23) / ((T22-L2)*np.conj(T13) - np.conj(T12)*np.conj(T23))\n",
    "    \n",
    "    # third eigenvector - corresponds to the minimum eigenvalue L3\n",
    "    U3 = np.ones((dim[0], dim[1], 3), 'complex64')\n",
    "    U3[:, :, 0] = (L3 -T33)/np.conj(T13) + (((L3-T33)*np.conj(T12) + np.conj(T13)*T23)*np.conj(T23))/ \\\n",
    "                    (((T22-L3)*np.conj(T13) - np.conj(T12)*np.conj(T23))*np.conj(T13))\n",
    "    U3[:, :, 1] = -((L3-T33)*np.conj(T12)+np.conj(T13)*T23) / ((T22-L3)*np.conj(T13) - np.conj(T12)*np.conj(T23))   \n",
    "    \n",
    "    # and finally normalize to get orthonormal eigenvectors\n",
    "    norm1 = np.sqrt( np.abs(U1[:,:,0])**2 + np.abs(U1[:,:,1])**2 + np.abs(U1[:,:,2])**2)\n",
    "    norm2 = np.sqrt( np.abs(U2[:,:,0])**2 + np.abs(U2[:,:,1])**2 + np.abs(U2[:,:,2])**2)    \n",
    "    norm3 = np.sqrt( np.abs(U3[:,:,0])**2 + np.abs(U3[:,:,1])**2 + np.abs(U3[:,:,2])**2)        \n",
    "    for nn in range(3):\n",
    "        U1[:,:,nn] = U1[:,:,nn] / norm1\n",
    "        U2[:,:,nn] = U2[:,:,nn] / norm2\n",
    "        U3[:,:,nn] = U3[:,:,nn] / norm3\n",
    "        \n",
    "    del norm1\n",
    "    del norm2\n",
    "    del norm3     \n",
    "    \n",
    "    return U1, U2, U3\n"
   ]
  },
  {
   "cell_type": "markdown",
   "metadata": {},
   "source": [
    "**Step 1 : Load data**"
   ]
  },
  {
   "cell_type": "code",
   "execution_count": 44,
   "metadata": {},
   "outputs": [],
   "source": [
    "# path 2 images\n",
    "path2i = './data/02-polsar/'\n",
    "# path2i = '//hr-fs02.intra.dlr.de/Pol-InSAR_InfoRetrieval/01_projects/' +\\\n",
    "#            'HR-FS01-F-SAR-Data/AFRISAR/16AFRISR/FL01/PS07/Tcal_test/RGI/RGI-SR/'\n",
    "\n",
    "# path 2 outputs\n",
    "path2o = './Processing_outputs/'\n",
    "\n",
    "# data set name\n",
    "dataname = 'L-band'\n",
    "\n",
    "# looks\n",
    "looksr = 7\n",
    "looksa = 7\n",
    "\n",
    "# open ...\n",
    "slchh = rrat(path2i + 'slc_16afrisr0107_Lhh_tcal_test.rat', block = [5000, 6000, 0, 2000])\n",
    "slcvv = rrat(path2i + 'slc_16afrisr0107_Lvv_tcal_test.rat', block = [5000, 6000, 0, 2000])\n",
    "slchv = rrat(path2i + 'slc_16afrisr0107_Lhv_tcal_test.rat', block = [5000, 6000, 0, 2000])\n"
   ]
  },
  {
   "cell_type": "markdown",
   "metadata": {},
   "source": [
    "**Step 2 : Calculate the necessary elements of the coherency matrix**"
   ]
  },
  {
   "cell_type": "code",
   "execution_count": 45,
   "metadata": {},
   "outputs": [],
   "source": [
    "# Make pauli components\n",
    "p1 = (slchh + slcvv) # / np.sqrt(2)\n",
    "p2 = (slchh - slcvv) # / np.sqrt(2)\n",
    "p3 = 2*slchv # / np.sqrt(2)\n",
    "\n",
    "del slchh\n",
    "del slcvv\n",
    "del slchv\n",
    "\n",
    "# now calculate correlations\n",
    "T11 = calculate_correlation(p1, p1, looksr, looksa)\n",
    "\n",
    "# ... complete with all the rest :-)\n",
    "\n",
    "\n",
    "del p1, p2, p3\n"
   ]
  },
  {
   "cell_type": "markdown",
   "metadata": {},
   "source": [
    "**Step 3 : Calculate eigenvalues**"
   ]
  },
  {
   "cell_type": "code",
   "execution_count": 46,
   "metadata": {},
   "outputs": [],
   "source": [
    "lambda1, lambda2, lambda3 = calculate_eigenvaues_3(T11, T12, T13, T22, T23, T33)"
   ]
  },
  {
   "cell_type": "markdown",
   "metadata": {},
   "source": [
    "**Step 4 : Calculate entropy**"
   ]
  },
  {
   "cell_type": "code",
   "execution_count": 47,
   "metadata": {},
   "outputs": [],
   "source": [
    "# ... simply apply definition ! -> entropy\n",
    "\n"
   ]
  },
  {
   "cell_type": "markdown",
   "metadata": {},
   "source": [
    "**Step 5 : Calculate anisotropy** "
   ]
  },
  {
   "cell_type": "code",
   "execution_count": 48,
   "metadata": {},
   "outputs": [],
   "source": [
    "# ... apply definition again ! -> anisotropy\n",
    "\n"
   ]
  },
  {
   "cell_type": "markdown",
   "metadata": {},
   "source": [
    "**Step 6 : Calculate eigenvectors**"
   ]
  },
  {
   "cell_type": "code",
   "execution_count": null,
   "metadata": {},
   "outputs": [],
   "source": [
    "# ... Use function\n",
    "\n",
    "U1, U2, U3 = calculate_eigenvectors_3(T11, T12, T13, T22, T23, T33, lambda1, lambda2, lambda3)\n",
    "\n",
    "del T12, T13, T23"
   ]
  },
  {
   "cell_type": "markdown",
   "metadata": {},
   "source": [
    "**Step 7 : Calculate mean alpha angle**"
   ]
  },
  {
   "cell_type": "code",
   "execution_count": null,
   "metadata": {},
   "outputs": [],
   "source": [
    "# ... apply definition again! -> alpha (in degrees)\n",
    "\n",
    "\n"
   ]
  },
  {
   "cell_type": "code",
   "execution_count": null,
   "metadata": {},
   "outputs": [],
   "source": [
    "# save outputs for further comparisons ...\n",
    "\n",
    "dumm = srat(path2o + 'entropy_' + dataname + '.rat', entropy)\n",
    "dumm = srat(path2o + 'anisotropy_' + dataname + '.rat', anisotropy)\n",
    "dumm = srat(path2o + 'alpha_' + dataname + '.rat', alpha)\n"
   ]
  },
  {
   "cell_type": "markdown",
   "metadata": {},
   "source": [
    "**Step 8 : Plot**"
   ]
  },
  {
   "cell_type": "code",
   "execution_count": null,
   "metadata": {},
   "outputs": [],
   "source": [
    "# make pauli RGB\n",
    "\n",
    "dimaz = T11.shape[0]\n",
    "dimrg = T11.shape[1]\n",
    "rgb_pauli = np.zeros((dimrg, dimaz, 3), 'float32')\n",
    "\n",
    "rgb_pauli[:, :, 0] = np.transpose( np.clip(np.sqrt(np.abs(T22)), 0, 2.5*np.mean(np.sqrt(np.abs(T22)))) )     # red\n",
    "rgb_pauli[:, :, 1] = np.transpose( np.clip(np.sqrt(np.abs(T33)), 0, 2.5*np.mean(np.sqrt(np.abs(T33)))) )    # green\n",
    "rgb_pauli[:, :, 2] = np.transpose( np.clip(np.sqrt(np.abs(T11)), 0, 2.5*np.mean(np.sqrt(np.abs(T11)))) )    # blue\n",
    "rgb_pauli[:, :, 0] = rgb_pauli[:, :, 0] / np.max(rgb_pauli[:, :, 0])     # red\n",
    "rgb_pauli[:, :, 1] = rgb_pauli[:, :, 1] / np.max(rgb_pauli[:, :, 1])     # green\n",
    "rgb_pauli[:, :, 2] = rgb_pauli[:, :, 2] / np.max(rgb_pauli[:, :, 2])     # blue\n",
    "\n",
    "del T11, T22, T33\n",
    "\n",
    "# not start to plot\n",
    "\n",
    "plt.figure( figsize = (18, 36) )\n",
    "\n",
    "plt.subplot(7, 1, 1)\n",
    "plt.imshow(rgb_pauli, aspect = 'auto', interpolation = 'nearest')\n",
    "plt.title('Pauli')\n",
    "plt.colorbar()\n",
    "\n",
    "plt.subplot(7, 1, 2)\n",
    "plt.imshow(np.transpose(lambda1), aspect = 'auto', vmin = 0, vmax = .5, interpolation = 'nearest', cmap = 'jet')\n",
    "plt.title('1st eigenvalue')\n",
    "plt.colorbar()\n",
    "\n",
    "plt.subplot(7, 1, 3)\n",
    "plt.imshow(np.transpose(lambda2/lambda1), aspect = 'auto', vmin = 0, vmax=1, interpolation = 'nearest', cmap = 'jet')\n",
    "plt.title('2nd eigenvalue / 1st eigenvalue')\n",
    "plt.colorbar()\n",
    "\n",
    "plt.subplot(7, 1, 4)\n",
    "plt.imshow(np.transpose(lambda3/lambda1), aspect = 'auto', vmin=0, vmax=1, interpolation = 'nearest', cmap = 'jet')\n",
    "plt.title('3rd eigenvalue / 1st eigenvalue')\n",
    "plt.colorbar()\n",
    "\n",
    "plt.subplot(7, 1, 5)\n",
    "plt.imshow(np.transpose(entropy), aspect = 'auto', vmin=0, vmax=1, interpolation = 'nearest', cmap = 'jet')\n",
    "plt.title('Entropy')\n",
    "plt.colorbar()\n",
    "\n",
    "plt.subplot(7, 1, 6)\n",
    "plt.imshow(np.transpose(anisotropy), aspect = 'auto', vmin=0, vmax=1, interpolation = 'nearest', cmap = 'jet')\n",
    "plt.title('Anisotropy')\n",
    "plt.colorbar()\n",
    "\n",
    "plt.subplot(7, 1, 7)\n",
    "plt.imshow(np.transpose(alpha), aspect = 'auto', vmin=0, vmax=90, interpolation = 'nearest', cmap = 'jet')\n",
    "plt.title('Alpha')\n",
    "plt.colorbar()\n",
    "\n"
   ]
  },
  {
   "cell_type": "code",
   "execution_count": null,
   "metadata": {},
   "outputs": [],
   "source": []
  },
  {
   "cell_type": "code",
   "execution_count": null,
   "metadata": {},
   "outputs": [],
   "source": []
  },
  {
   "cell_type": "markdown",
   "metadata": {},
   "source": []
  },
  {
   "cell_type": "code",
   "execution_count": null,
   "metadata": {},
   "outputs": [],
   "source": []
  },
  {
   "cell_type": "code",
   "execution_count": null,
   "metadata": {},
   "outputs": [],
   "source": []
  }
 ],
 "metadata": {
  "kernelspec": {
   "display_name": "Python 3",
   "language": "python",
   "name": "python3"
  },
  "language_info": {
   "codemirror_mode": {
    "name": "ipython",
    "version": 3
   },
   "file_extension": ".py",
   "mimetype": "text/x-python",
   "name": "python",
   "nbconvert_exporter": "python",
   "pygments_lexer": "ipython3",
   "version": "3.8.6"
  }
 },
 "nbformat": 4,
 "nbformat_minor": 4
}
