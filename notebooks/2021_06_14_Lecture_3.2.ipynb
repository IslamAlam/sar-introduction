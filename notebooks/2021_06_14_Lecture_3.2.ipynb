{
 "cells": [
  {
   "cell_type": "markdown",
   "id": "37f1e560",
   "metadata": {},
   "source": [
    "# Lecture 3 - 14.06.2021\n",
    "\n",
    "# Exercise 2: Polarimetric coherences & phases"
   ]
  },
  {
   "cell_type": "markdown",
   "id": "f32392e2",
   "metadata": {},
   "source": [
    "* Acquisition: Nkok (Gabon), DLR's F-SAR, L-band\n",
    "\n",
    "* Path to images: ./data/02-polsar/\n",
    "\n",
    "* SLC (single-look complex) images:\n",
    "    * HH: slc_16afrisr0107_Lhh_tcal_test.rat\n",
    "    * HV: slc_16afrisr0107_Lhv_tcal_test.rat\n",
    "    * VH: slc_16afrisr0107_Lvh_tcal_test.rat\n",
    "    * VV: slc_16afrisr0107_Lvh_tcal_test.rat"
   ]
  },
  {
   "cell_type": "code",
   "execution_count": 5,
   "id": "bfc25e66",
   "metadata": {},
   "outputs": [],
   "source": [
    "%matplotlib widget\n",
    "\n",
    "# import useful libraries, functions, and modules\n",
    "\n",
    "import sys\n",
    "sys.path.append('/projects/src/')\n",
    "\n",
    "import numpy as np\n",
    "import matplotlib.pyplot as plt\n",
    "from scipy.ndimage import filters\n",
    "from ste_io import *"
   ]
  },
  {
   "cell_type": "markdown",
   "id": "a7724b77",
   "metadata": {},
   "source": [
    "\n",
    "**Calculate polarimetric coherences and phase differences** between\n",
    "* HH and HV\n",
    "* VV and VH\n",
    "* HH and VV\n"
   ]
  },
  {
   "cell_type": "code",
   "execution_count": 7,
   "id": "55ed6859",
   "metadata": {},
   "outputs": [],
   "source": [
    "# path 2 images\n",
    "path = './data/02-polsar/'\n",
    "\n",
    "# looks\n",
    "looksr = 7\n",
    "looksa = 7\n",
    "\n",
    "# open ...\n",
    "slchh = rrat(path + 'slc_16afrisr0107_Lhh_tcal_test.rat', block = [2500, 16000, 0, 2000])\n",
    "slcvv = rrat(path + 'slc_16afrisr0107_Lvv_tcal_test.rat', block = [2500, 16000, 0, 2000])\n",
    "slchv = rrat(path + 'slc_16afrisr0107_Lhv_tcal_test.rat', block = [2500, 16000, 0, 2000])\n",
    "slcvh = rrat(path + 'slc_16afrisr0107_Lvh_tcal_test.rat', block = [2500, 16000, 0, 2000])"
   ]
  },
  {
   "cell_type": "code",
   "execution_count": 8,
   "id": "b9744735",
   "metadata": {},
   "outputs": [
    {
     "data": {
      "application/vnd.jupyter.widget-view+json": {
       "model_id": "89d12efc244f4d33ab5af66604eea526",
       "version_major": 2,
       "version_minor": 0
      },
      "text/plain": [
       "Canvas(toolbar=Toolbar(toolitems=[('Home', 'Reset original view', 'home', 'home'), ('Back', 'Back to previous …"
      ]
     },
     "metadata": {},
     "output_type": "display_data"
    },
    {
     "data": {
      "text/plain": [
       "<matplotlib.colorbar.Colorbar at 0x7f2ab92596a0>"
      ]
     },
     "execution_count": 8,
     "metadata": {},
     "output_type": "execute_result"
    }
   ],
   "source": [
    "# HH-HV\n",
    "\n",
    "amphh = np.abs(slchh)**2\n",
    "amphh = np.sqrt(filters.uniform_filter(amphh, [looksa,looksr]))\n",
    "\n",
    "amphv = np.abs(slchv)**2\n",
    "amphv = np.sqrt(filters.uniform_filter(amphv, [looksa,looksr]))\n",
    "\n",
    "corrhhhv = filters.uniform_filter(np.real(slchh*np.conj(slchv)), [looksa,looksr]) + 1j* \\\n",
    "                filters.uniform_filter(np.imag(slchh*np.conj(slchv)), [looksa,looksr])\n",
    "\n",
    "gamma_hhhv = corrhhhv / amphh / amphv\n",
    "\n",
    "# now plot coherence\n",
    "plt.figure( figsize = (12, 12) )\n",
    "\n",
    "plt.subplot(1, 2, 1)\n",
    "plt.imshow(np.abs(gamma_hhhv), vmin = 0, vmax = 1, aspect = 'auto', cmap = 'gray', interpolation = 'nearest')\n",
    "plt.title('HH-HV Abs.')\n",
    "\n",
    "plt.subplot(1, 2, 2)\n",
    "plt.imshow(np.angle(gamma_hhhv), vmin = -np.pi, vmax = np.pi, aspect = 'auto', cmap = 'jet', interpolation = 'nearest')\n",
    "plt.title('HH-HV Pha.')\n",
    "plt.colorbar()"
   ]
  },
  {
   "cell_type": "code",
   "execution_count": 9,
   "id": "d0039f3b",
   "metadata": {},
   "outputs": [
    {
     "data": {
      "application/vnd.jupyter.widget-view+json": {
       "model_id": "ca8c5ae050594c8d859cecebaa643c39",
       "version_major": 2,
       "version_minor": 0
      },
      "text/plain": [
       "Canvas(toolbar=Toolbar(toolitems=[('Home', 'Reset original view', 'home', 'home'), ('Back', 'Back to previous …"
      ]
     },
     "metadata": {},
     "output_type": "display_data"
    },
    {
     "data": {
      "text/plain": [
       "<matplotlib.colorbar.Colorbar at 0x7f2ab9161460>"
      ]
     },
     "execution_count": 9,
     "metadata": {},
     "output_type": "execute_result"
    }
   ],
   "source": []
  },
  {
   "cell_type": "code",
   "execution_count": 6,
   "id": "9e26f537",
   "metadata": {},
   "outputs": [
    {
     "data": {
      "application/vnd.jupyter.widget-view+json": {
       "model_id": "1f459565988c4f89b7fefb47ffad1fcf",
       "version_major": 2,
       "version_minor": 0
      },
      "text/plain": [
       "Canvas(toolbar=Toolbar(toolitems=[('Home', 'Reset original view', 'home', 'home'), ('Back', 'Back to previous …"
      ]
     },
     "metadata": {},
     "output_type": "display_data"
    },
    {
     "data": {
      "text/plain": [
       "<matplotlib.colorbar.Colorbar at 0x7f685a741040>"
      ]
     },
     "execution_count": 6,
     "metadata": {},
     "output_type": "execute_result"
    }
   ],
   "source": []
  }
 ],
 "metadata": {
  "kernelspec": {
   "display_name": "Python 3",
   "language": "python",
   "name": "python3"
  },
  "language_info": {
   "codemirror_mode": {
    "name": "ipython",
    "version": 3
   },
   "file_extension": ".py",
   "mimetype": "text/x-python",
   "name": "python",
   "nbconvert_exporter": "python",
   "pygments_lexer": "ipython3",
   "version": "3.8.6"
  }
 },
 "nbformat": 4,
 "nbformat_minor": 5
}
