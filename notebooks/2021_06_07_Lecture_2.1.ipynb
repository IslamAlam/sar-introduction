{
 "cells": [
  {
   "cell_type": "markdown",
   "metadata": {},
   "source": [
    "# Lecture 2 - 07.06.2021 \n",
    "\n",
    "# Exercise: Azimuth compression"
   ]
  },
  {
   "cell_type": "code",
   "execution_count": 7,
   "metadata": {},
   "outputs": [],
   "source": [
    "# --- To get started, we set the ipympl backend, which makes matplotlib plots interactive.\n",
    "# --- We do this using a magic command, starting with %.\n",
    "%matplotlib widget\n",
    "\n",
    "# --- import libraries\n",
    "\n",
    "import sys\n",
    "sys.path.append('/projects/src/')\n",
    "\n",
    "import numpy as np\n",
    "import matplotlib.pyplot as plt\n",
    "from numpy.fft import fft, fftfreq, fftshift, ifft\n",
    "\n",
    "# --- import rat class\n",
    "from ste_io import *\n",
    "\n",
    "# --- create useful functions\n",
    "\n",
    "def rect(t, T0):\n",
    "    # Implements y = rect(t/T0) = 1 if abs(t/T0) <= 0.5, 0 otherwise \n",
    "    # All input / outputs are Numpy arrays\n",
    "    \n",
    "    N = t.shape[0]\n",
    "    y = np.zeros(N, 'float32') \n",
    "    y[np.abs(t/T0) <= 0.5] = 1\n",
    "    \n",
    "    return y\n"
   ]
  },
  {
   "cell_type": "markdown",
   "metadata": {},
   "source": [
    "## Exercise 1\n",
    "\n",
    "One of the acquisition of the AfriSAR campaign was characterized by the following input parameters:\n"
   ]
  },
  {
   "cell_type": "code",
   "execution_count": 8,
   "metadata": {},
   "outputs": [],
   "source": [
    "\n",
    "# --- Input parameters \n",
    "\n",
    "# SAR wavelength\n",
    "wavelength = 0.68901587\n",
    "# platform velocity\n",
    "v0    = 102.89772    \n",
    "# range at closest point\n",
    "r0    = 6445.2197      \n",
    "# pixel spacing in meters\n",
    "azsp  = 0.90879266    \n",
    "# number of pixels \n",
    "Nsaz  = 9984\n"
   ]
  },
  {
   "cell_type": "markdown",
   "metadata": {},
   "source": [
    "The azimuth signal in ./data/01-sar/signal1_ac.npy contain 1 point-like scatterer. Between 5 m and 1.5 m, which is the right azimuth resolution ?"
   ]
  },
  {
   "cell_type": "code",
   "execution_count": null,
   "metadata": {},
   "outputs": [],
   "source": []
  },
  {
   "cell_type": "markdown",
   "metadata": {},
   "source": [
    "## Exercise 2"
   ]
  },
  {
   "cell_type": "markdown",
   "metadata": {},
   "source": [
    "Now load the signal in ./data/01-sar/signal2_ac.npy, and focus it with the azimuth chirp determined in Exercise 1. How many scatterer do you see, and where?"
   ]
  },
  {
   "cell_type": "code",
   "execution_count": null,
   "metadata": {},
   "outputs": [],
   "source": []
  },
  {
   "cell_type": "code",
   "execution_count": null,
   "metadata": {},
   "outputs": [],
   "source": []
  },
  {
   "cell_type": "code",
   "execution_count": null,
   "metadata": {},
   "outputs": [],
   "source": []
  },
  {
   "cell_type": "code",
   "execution_count": null,
   "metadata": {},
   "outputs": [],
   "source": []
  },
  {
   "cell_type": "code",
   "execution_count": null,
   "metadata": {},
   "outputs": [],
   "source": []
  },
  {
   "cell_type": "code",
   "execution_count": null,
   "metadata": {},
   "outputs": [],
   "source": []
  }
 ],
 "metadata": {
  "kernelspec": {
   "display_name": "Python 3",
   "language": "python",
   "name": "python3"
  },
  "language_info": {
   "codemirror_mode": {
    "name": "ipython",
    "version": 3
   },
   "file_extension": ".py",
   "mimetype": "text/x-python",
   "name": "python",
   "nbconvert_exporter": "python",
   "pygments_lexer": "ipython3",
   "version": "3.8.6"
  }
 },
 "nbformat": 4,
 "nbformat_minor": 4
}
