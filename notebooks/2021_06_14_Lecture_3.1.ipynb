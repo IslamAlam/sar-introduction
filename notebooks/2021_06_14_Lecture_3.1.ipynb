{
 "cells": [
  {
   "cell_type": "markdown",
   "metadata": {},
   "source": [
    "# Lecture 3 - 14.06.2021\n",
    "\n",
    "# Exercise: Polarimetric RGB visualization"
   ]
  },
  {
   "cell_type": "markdown",
   "metadata": {},
   "source": [
    "* Acquisition: Nkok (Gabon), DLR's F-SAR, L-band\n",
    "\n",
    "* Path to images: ./data/02-polsar/\n",
    "\n",
    "* SLC (single-look complex) images:\n",
    "    * HH: slc_16afrisr0107_Lhh_tcal_test.rat\n",
    "    * HV: slc_16afrisr0107_Lhv_tcal_test.rat\n",
    "    * VH: slc_16afrisr0107_Lvh_tcal_test.rat\n",
    "    * VV: slc_16afrisr0107_Lvh_tcal_test.rat\n"
   ]
  },
  {
   "cell_type": "code",
   "execution_count": 6,
   "metadata": {},
   "outputs": [],
   "source": [
    "%matplotlib widget\n",
    "\n",
    "# import useful libraries, functions, and modules\n",
    "\n",
    "import sys\n",
    "sys.path.append('/projects/src/')\n",
    "\n",
    "import numpy as np\n",
    "import matplotlib.pyplot as plt\n",
    "from scipy.ndimage import filters\n",
    "from ste_io import *"
   ]
  },
  {
   "cell_type": "markdown",
   "metadata": {},
   "source": [
    "## Exercise 1\n",
    "\n",
    "Create RGB composite images using \n",
    "\n",
    "* Lexicographic basis: R = HH - G = HV - V = VV \n",
    "* Pauli basis:         R = HH-VV - G = 2HV - V = HH+VV"
   ]
  },
  {
   "cell_type": "code",
   "execution_count": 7,
   "metadata": {},
   "outputs": [],
   "source": [
    "# path 2 images\n",
    "path = './data/02-polsar/'\n",
    "\n",
    "# looks\n",
    "looksr = 5\n",
    "looksa = 5\n",
    "\n",
    "# open ...\n",
    "slchh = rrat(path + 'slc_16afrisr0107_Lhh_tcal_test.rat', block = [2500, 16000, 0, 2000])\n",
    "slcvv = rrat(path + 'slc_16afrisr0107_Lvv_tcal_test.rat', block = [2500, 16000, 0, 2000])\n",
    "slchv = rrat(path + 'slc_16afrisr0107_Lhv_tcal_test.rat', block = [2500, 16000, 0, 2000])\n",
    "# slcvh = rrat(path + 'slc_16afrisr0107_Lvh_tcal_test.rat')\n"
   ]
  },
  {
   "cell_type": "code",
   "execution_count": 8,
   "metadata": {},
   "outputs": [
    {
     "data": {
      "application/vnd.jupyter.widget-view+json": {
       "model_id": "8507b89ffe504425a8a18732f1f64d10",
       "version_major": 2,
       "version_minor": 0
      },
      "text/plain": [
       "Canvas(toolbar=Toolbar(toolitems=[('Home', 'Reset original view', 'home', 'home'), ('Back', 'Back to previous …"
      ]
     },
     "metadata": {},
     "output_type": "display_data"
    },
    {
     "data": {
      "text/plain": [
       "Text(0.5, 1.0, 'Multilook')"
      ]
     },
     "execution_count": 8,
     "metadata": {},
     "output_type": "execute_result"
    }
   ],
   "source": [
    "# plot 'single-look'\n",
    "plt.figure( figsize=(15, 15) )\n",
    "\n",
    "plt.subplot(1, 2, 1)\n",
    "plt.imshow(np.abs(slchh), vmin = 0, vmax = 3*np.mean(np.abs(slchh)), cmap = 'gray', aspect = 'auto', interpolation = 'nearest')\n",
    "plt.title('Single-look')\n",
    "\n",
    "# plot 'multi-look'\n",
    "amphh = np.abs(slchh)**2\n",
    "amphh = np.sqrt(filters.uniform_filter(amphh, [looksa,looksr]))\n",
    "\n",
    "plt.subplot(1, 2, 2)\n",
    "plt.imshow(np.abs(amphh), vmin = 0, vmax = 3*np.mean(np.abs(amphh)), cmap = 'gray', aspect = 'auto', interpolation = 'nearest')\n",
    "plt.title('Multilook')\n"
   ]
  },
  {
   "cell_type": "code",
   "execution_count": 9,
   "metadata": {},
   "outputs": [
    {
     "data": {
      "application/vnd.jupyter.widget-view+json": {
       "model_id": "06f5f992931d493babdb19ad225ec2b3",
       "version_major": 2,
       "version_minor": 0
      },
      "text/plain": [
       "Canvas(toolbar=Toolbar(toolitems=[('Home', 'Reset original view', 'home', 'home'), ('Back', 'Back to previous …"
      ]
     },
     "metadata": {},
     "output_type": "display_data"
    },
    {
     "data": {
      "text/plain": [
       "Text(0.5, 1.0, 'Pauli')"
      ]
     },
     "execution_count": 9,
     "metadata": {},
     "output_type": "execute_result"
    }
   ],
   "source": [
    "# Make multilooks for VV and HV\n",
    "\n",
    "ampvv = np.abs(slcvv)**2\n",
    "ampvv = np.sqrt(filters.uniform_filter(ampvv, [looksa,looksr]))\n",
    "\n",
    "amphv = np.abs(slchv)**2\n",
    "amphv = np.sqrt(filters.uniform_filter(amphv, [looksa,looksr]))\n",
    "\n",
    "# Lexicographic basis - prepare RGB\n",
    "dimaz = slchh.shape[0]\n",
    "dimrg = slchh.shape[1]\n",
    "rgb_lex = np.zeros((dimaz, dimrg, 3), 'float32')\n",
    "\n",
    "rgb_lex[:, :, 0] = np.clip(amphh, 0, 2.5*np.mean(amphh))     # red\n",
    "rgb_lex[:, :, 1] = np.clip(amphv, 0, 2.5*np.mean(amphv))     # green\n",
    "rgb_lex[:, :, 2] = np.clip(ampvv, 0, 2.5*np.mean(ampvv))     # blue\n",
    "\n",
    "rgb_lex[:, :, 0] = rgb_lex[:, :, 0] / np.max(rgb_lex[:, :, 0])     # red\n",
    "rgb_lex[:, :, 1] = rgb_lex[:, :, 1] / np.max(rgb_lex[:, :, 1])     # green\n",
    "rgb_lex[:, :, 2] = rgb_lex[:, :, 2] / np.max(rgb_lex[:, :, 2])     # blue\n",
    "\n",
    "# kill variables not needed\n",
    "del amphh\n",
    "del amphv\n",
    "del ampvv\n",
    "\n",
    "# make now multilooks for pauli\n",
    "pauli1 = np.abs(slchh + slcvv)**2\n",
    "pauli1 = np.sqrt(filters.uniform_filter(pauli1, [looksa,looksr]))\n",
    "pauli2 = np.abs(slchh - slcvv)**2\n",
    "pauli2 = np.sqrt(filters.uniform_filter(pauli2, [looksa,looksr]))\n",
    "pauli3 = np.abs(2*slchv)**2\n",
    "pauli3 = np.sqrt(filters.uniform_filter(pauli3, [looksa,looksr]))\n",
    "\n",
    "# Pauli basis - prepare RGB\n",
    "rgb_pauli = np.zeros((dimaz, dimrg, 3), 'float32')\n",
    "\n",
    "rgb_pauli[:, :, 0] = np.clip(pauli2, 0, 2.5*np.mean(pauli2))     # red\n",
    "rgb_pauli[:, :, 1] = np.clip(pauli3, 0, 2.5*np.mean(pauli3))     # green\n",
    "rgb_pauli[:, :, 2] = np.clip(pauli1, 0, 2.5*np.mean(pauli1))     # blue\n",
    "\n",
    "rgb_pauli[:, :, 0] = rgb_pauli[:, :, 0] / np.max(rgb_pauli[:, :, 0])     # red\n",
    "rgb_pauli[:, :, 1] = rgb_pauli[:, :, 1] / np.max(rgb_pauli[:, :, 1])     # green\n",
    "rgb_pauli[:, :, 2] = rgb_pauli[:, :, 2] / np.max(rgb_pauli[:, :, 2])     # blue\n",
    "\n",
    "# kill variables not needed\n",
    "del pauli1\n",
    "del pauli2\n",
    "del pauli3\n",
    "\n",
    "# now plot RGB\n",
    "plt.figure( figsize = (15, 15) )\n",
    "\n",
    "plt.subplot(1, 2, 1)\n",
    "plt.imshow(rgb_lex, aspect = 'auto', interpolation = 'nearest')\n",
    "plt.title('Lexicographic')\n",
    "\n",
    "plt.subplot(1, 2, 2)\n",
    "plt.imshow(rgb_pauli, aspect = 'auto', interpolation = 'nearest')\n",
    "plt.title('Pauli')\n"
   ]
  },
  {
   "cell_type": "markdown",
   "metadata": {},
   "source": [
    "## Exercise 2\n",
    "\n",
    "Calculate polarimetric coherences and phase differences between\n",
    "* HH and HV\n",
    "* VV and VH\n",
    "* HH and VV"
   ]
  },
  {
   "cell_type": "code",
   "execution_count": 10,
   "metadata": {},
   "outputs": [
    {
     "data": {
      "application/vnd.jupyter.widget-view+json": {
       "model_id": "57d31f800df848449e96a24e1287dfde",
       "version_major": 2,
       "version_minor": 0
      },
      "text/plain": [
       "Canvas(toolbar=Toolbar(toolitems=[('Home', 'Reset original view', 'home', 'home'), ('Back', 'Back to previous …"
      ]
     },
     "metadata": {},
     "output_type": "display_data"
    },
    {
     "data": {
      "text/plain": [
       "Text(0.5, 1.0, 'HH-HV Pha.')"
      ]
     },
     "execution_count": 10,
     "metadata": {},
     "output_type": "execute_result"
    }
   ],
   "source": [
    "del rgb_lex\n",
    "del rgb_pauli\n",
    "\n",
    "# HH-HV\n",
    "\n",
    "amphh = np.abs(slchh)**2\n",
    "amphh = np.sqrt(filters.uniform_filter(amphh, [looksa,looksr]))\n",
    "\n",
    "amphv = np.abs(slchv)**2\n",
    "amphv = np.sqrt(filters.uniform_filter(amphv, [looksa,looksr]))\n",
    "\n",
    "corrhhhv = filters.uniform_filter(np.real(slchh*np.conj(slchv)), [looksa,looksr]) + 1j* \\\n",
    "                filters.uniform_filter(np.imag(slchh*np.conj(slchv)), [looksa,looksr])\n",
    "\n",
    "gamma_hhhv = corrhhhv / amphh / amphv\n",
    "\n",
    "# now plot RGB\n",
    "plt.figure( figsize = (15, 15) )\n",
    "\n",
    "plt.subplot(1, 2, 1)\n",
    "plt.imshow(np.abs(gamma_hhhv), vmin = 0, vmax = 1, aspect = 'auto', cmap = 'gray', interpolation = 'nearest')\n",
    "plt.title('HH-HV Abs.')\n",
    "\n",
    "plt.subplot(1, 2, 2)\n",
    "plt.imshow(np.angle(slchh*np.conj(slchv)), vmin = -np.pi, vmax = np.pi, aspect = 'auto', cmap = 'jet', interpolation = 'nearest')\n",
    "plt.title('HH-HV Pha.')\n",
    "\n"
   ]
  },
  {
   "cell_type": "markdown",
   "metadata": {},
   "source": [
    "## To be continued ..."
   ]
  },
  {
   "cell_type": "code",
   "execution_count": null,
   "metadata": {},
   "outputs": [],
   "source": []
  },
  {
   "cell_type": "markdown",
   "metadata": {},
   "source": []
  },
  {
   "cell_type": "code",
   "execution_count": null,
   "metadata": {},
   "outputs": [],
   "source": []
  },
  {
   "cell_type": "code",
   "execution_count": null,
   "metadata": {},
   "outputs": [],
   "source": []
  }
 ],
 "metadata": {
  "kernelspec": {
   "display_name": "Python 3",
   "language": "python",
   "name": "python3"
  },
  "language_info": {
   "codemirror_mode": {
    "name": "ipython",
    "version": 3
   },
   "file_extension": ".py",
   "mimetype": "text/x-python",
   "name": "python",
   "nbconvert_exporter": "python",
   "pygments_lexer": "ipython3",
   "version": "3.8.6"
  }
 },
 "nbformat": 4,
 "nbformat_minor": 4
}
