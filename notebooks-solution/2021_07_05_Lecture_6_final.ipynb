{
 "cells": [
  {
   "cell_type": "markdown",
   "metadata": {},
   "source": [
    "# Lecture 6 - 05.07.2021\n",
    "\n",
    "# Exercise 1: The InSAR Coherence & Height Inversion\n",
    "\n",
    "* TanDEM-X acquisition over Mondah forest (Gabon)\n",
    "* Path: './data/03-insar/'"
   ]
  },
  {
   "cell_type": "markdown",
   "metadata": {},
   "source": [
    "\n"
   ]
  },
  {
   "cell_type": "code",
   "execution_count": 1,
   "metadata": {},
   "outputs": [
    {
     "name": "stderr",
     "output_type": "stream",
     "text": [
      "/projects/src/ste_io.py:69: UserWarning: Failed to import STEtools.visualisation. write_pixmap will not work.\n",
      "  warnings.warn(\"Failed to import STEtools.visualisation. write_pixmap will not work.\")\n"
     ]
    }
   ],
   "source": [
    "# import useful libraries, functions, and modules\n",
    "\n",
    "import sys\n",
    "sys.path.append('/projects/src/')\n",
    "\n",
    "import numpy as np\n",
    "import matplotlib.pyplot as plt\n",
    "from scipy.ndimage import filters\n",
    "from ste_io import *\n",
    "\n",
    "%matplotlib widget\n"
   ]
  },
  {
   "cell_type": "code",
   "execution_count": 2,
   "metadata": {},
   "outputs": [],
   "source": [
    "def calculate_correlation(im1, im2, looksr, looksa) : \n",
    "    \n",
    "    corr = filters.uniform_filter(np.real(im1*np.conj(im2)), [looksa,looksr]) + 1j* \\\n",
    "                filters.uniform_filter(np.imag(im1*np.conj(im2)), [looksa,looksr])\n",
    "    \n",
    "    return corr"
   ]
  },
  {
   "cell_type": "markdown",
   "metadata": {},
   "source": [
    "**Input parameters**"
   ]
  },
  {
   "cell_type": "code",
   "execution_count": 3,
   "metadata": {},
   "outputs": [],
   "source": [
    "# path 2 images\n",
    "path = './data/03-insar/'\n",
    "\n",
    "# Input TDX pixel spacing, in meters\n",
    "spacrg = 1.36411\n",
    "spacaz = 1.86817\n",
    "\n",
    "# TDX vertical wavenumber, in rad / meters\n",
    "kz = 0.06092195\n",
    "\n",
    "# Output range resolution, in meters\n",
    "resrg = 20.\n",
    "resaz = 20.\n",
    "\n"
   ]
  },
  {
   "cell_type": "markdown",
   "metadata": {},
   "source": [
    "**Step 1: Open images, and visualize**"
   ]
  },
  {
   "cell_type": "code",
   "execution_count": 4,
   "metadata": {},
   "outputs": [
    {
     "data": {
      "application/vnd.jupyter.widget-view+json": {
       "model_id": "23c04d4b1ed24572859e73ca93946cf2",
       "version_major": 2,
       "version_minor": 0
      },
      "text/plain": [
       "Canvas(toolbar=Toolbar(toolitems=[('Home', 'Reset original view', 'home', 'home'), ('Back', 'Back to previous …"
      ]
     },
     "metadata": {},
     "output_type": "display_data"
    },
    {
     "data": {
      "text/plain": [
       "Text(0.5, 1.0, 'Amplitude')"
      ]
     },
     "execution_count": 4,
     "metadata": {},
     "output_type": "execute_result"
    }
   ],
   "source": [
    "# --- open images\n",
    "im1 = rrat(path + 'master_HH_Mondah_S_2015_11_11_cut.rat')\n",
    "im2 = rrat(path + 'slave_HH_Mondah_S_2015_11_11_cut.rat')\n",
    "\n",
    "# --- visulize amplitude\n",
    "amp1 = np.sqrt(np.abs(calculate_correlation(im1, im1, 7, 7)))\n",
    "\n",
    "plt.figure( figsize = (10,5) )\n",
    "plt.imshow(amp1, vmin = 0, vmax = 2*np.mean(amp1), aspect = 'auto', cmap = 'gray')\n",
    "plt.title('Amplitude')\n"
   ]
  },
  {
   "cell_type": "markdown",
   "metadata": {},
   "source": [
    "**Step 2 : Compensate flat-earth**"
   ]
  },
  {
   "cell_type": "code",
   "execution_count": 5,
   "metadata": {},
   "outputs": [
    {
     "data": {
      "application/vnd.jupyter.widget-view+json": {
       "model_id": "e013b302488c4136b02edaf80bdb5893",
       "version_major": 2,
       "version_minor": 0
      },
      "text/plain": [
       "Canvas(toolbar=Toolbar(toolitems=[('Home', 'Reset original view', 'home', 'home'), ('Back', 'Back to previous …"
      ]
     },
     "metadata": {},
     "output_type": "display_data"
    },
    {
     "data": {
      "application/vnd.jupyter.widget-view+json": {
       "model_id": "4e1c2ab2ba21443bb829f355081fe07c",
       "version_major": 2,
       "version_minor": 0
      },
      "text/plain": [
       "Canvas(toolbar=Toolbar(toolitems=[('Home', 'Reset original view', 'home', 'home'), ('Back', 'Back to previous …"
      ]
     },
     "metadata": {},
     "output_type": "display_data"
    },
    {
     "data": {
      "text/plain": [
       "<matplotlib.colorbar.Colorbar at 0x7fe966868a60>"
      ]
     },
     "execution_count": 5,
     "metadata": {},
     "output_type": "execute_result"
    }
   ],
   "source": [
    "# --- read fe from file\n",
    "fe = rrat(path + 'flat_earth_Mondah_S_2015_11_11_cut.rat')\n",
    "\n",
    "# --- number of looks\n",
    "looksr = int(resrg / spacrg)\n",
    "if looksr % 2 == 0 : looksr = looksr +1\n",
    "looksa = int(resaz / spacaz)\n",
    "if looksa % 2 == 0 : looksa = looksa +1\n",
    "    \n",
    "# inteferogram\n",
    "interf = np.angle(calculate_correlation(im1, im2, looksa, looksr))\n",
    "\n",
    "plt.figure( figsize = (10,5) )\n",
    "plt.imshow(interf, vmin = -np.pi, vmax = np.pi, aspect = 'auto', cmap = 'jet')\n",
    "plt.title('Interferogram')\n",
    "plt.colorbar()\n",
    "\n",
    "# --- compensate flat earth\n",
    "im2_fe = im2 * np.exp(1j * fe)\n",
    "\n",
    "# inteferogram\n",
    "interf = np.angle(calculate_correlation(im1, im2_fe, looksa, looksr))\n",
    "\n",
    "plt.figure( figsize = (10,5) )\n",
    "plt.imshow(interf, vmin = -np.pi, vmax = np.pi, aspect = 'auto', cmap = 'jet')\n",
    "plt.title('Interferogram after FE')\n",
    "plt.colorbar()\n",
    "\n",
    "    \n",
    "\n"
   ]
  },
  {
   "cell_type": "markdown",
   "metadata": {},
   "source": [
    "**Step 3 : Calculate coherence**"
   ]
  },
  {
   "cell_type": "code",
   "execution_count": 6,
   "metadata": {},
   "outputs": [
    {
     "data": {
      "application/vnd.jupyter.widget-view+json": {
       "model_id": "9b25172b785e473b9ae0b56730c802fa",
       "version_major": 2,
       "version_minor": 0
      },
      "text/plain": [
       "Canvas(toolbar=Toolbar(toolitems=[('Home', 'Reset original view', 'home', 'home'), ('Back', 'Back to previous …"
      ]
     },
     "metadata": {},
     "output_type": "display_data"
    },
    {
     "data": {
      "text/plain": [
       "<matplotlib.colorbar.Colorbar at 0x7fe9667e60a0>"
      ]
     },
     "execution_count": 6,
     "metadata": {},
     "output_type": "execute_result"
    }
   ],
   "source": [
    "# --- Calculate coherence\n",
    "amp1 = np.abs(calculate_correlation(im1, im1, looksa, looksr))\n",
    "amp2 = np.abs(calculate_correlation(im2_fe, im2_fe, looksa, looksr))\n",
    "gamma = calculate_correlation(im1, im2_fe, looksa, looksr)\n",
    "gamma = gamma / np.sqrt(amp1) / np.sqrt(amp2)\n",
    "\n",
    "plt.figure( figsize = (10,5) )\n",
    "plt.imshow(np.abs(gamma), vmin = 0, vmax = 1, aspect = 'auto', cmap = 'gray')\n",
    "plt.title('Coherence')\n",
    "plt.colorbar()\n",
    "\n"
   ]
  },
  {
   "cell_type": "markdown",
   "metadata": {},
   "source": [
    "**Step 4 : Invert for forest height (closed-form)**"
   ]
  },
  {
   "cell_type": "code",
   "execution_count": 7,
   "metadata": {},
   "outputs": [
    {
     "data": {
      "application/vnd.jupyter.widget-view+json": {
       "model_id": "18699847a82c42e084b1c25295bdb427",
       "version_major": 2,
       "version_minor": 0
      },
      "text/plain": [
       "Canvas(toolbar=Toolbar(toolitems=[('Home', 'Reset original view', 'home', 'home'), ('Back', 'Back to previous …"
      ]
     },
     "metadata": {},
     "output_type": "display_data"
    },
    {
     "data": {
      "application/vnd.jupyter.widget-view+json": {
       "model_id": "826be3504aa2425bb286e3ec2c21d291",
       "version_major": 2,
       "version_minor": 0
      },
      "text/plain": [
       "Canvas(toolbar=Toolbar(toolitems=[('Home', 'Reset original view', 'home', 'home'), ('Back', 'Back to previous …"
      ]
     },
     "metadata": {},
     "output_type": "display_data"
    },
    {
     "data": {
      "text/plain": [
       "<matplotlib.colorbar.Colorbar at 0x7fe966755040>"
      ]
     },
     "execution_count": 7,
     "metadata": {},
     "output_type": "execute_result"
    }
   ],
   "source": [
    "# --- compensate system decorrelation\n",
    "gamma = np.abs(gamma) / 0.97\n",
    "gamma[gamma > 1] = 1\n",
    "\n",
    "# --- height inversion, v1\n",
    "hv_1 = np.sqrt( 24 / (kz**2) * (1 - gamma) ) \n",
    "\n",
    "# --- height inversion\n",
    "hv_2 = 2*np.pi/kz * (1-2/np.pi*np.arcsin(gamma**.8))\n",
    "\n",
    "\n",
    "\n",
    "\n",
    "plt.figure( figsize = (10,5) )\n",
    "plt.imshow(hv_1, vmin = 0, vmax = 60, aspect = 'auto', cmap = 'jet')\n",
    "plt.title('Inverted forest height v1')\n",
    "plt.colorbar()\n",
    "\n",
    "plt.figure( figsize = (10,5) )\n",
    "plt.imshow(hv_2, vmin = 0, vmax = 60, aspect = 'auto', cmap = 'jet')\n",
    "plt.title('Inverted forest height v2')\n",
    "plt.colorbar()\n",
    "\n"
   ]
  },
  {
   "cell_type": "markdown",
   "metadata": {},
   "source": [
    "**Step 5 : Validation**"
   ]
  },
  {
   "cell_type": "code",
   "execution_count": 8,
   "metadata": {},
   "outputs": [
    {
     "data": {
      "application/vnd.jupyter.widget-view+json": {
       "model_id": "ec19b09f6dc0431698ab4f28513af001",
       "version_major": 2,
       "version_minor": 0
      },
      "text/plain": [
       "Canvas(toolbar=Toolbar(toolitems=[('Home', 'Reset original view', 'home', 'home'), ('Back', 'Back to previous …"
      ]
     },
     "metadata": {},
     "output_type": "display_data"
    },
    {
     "data": {
      "text/plain": [
       "<matplotlib.colorbar.Colorbar at 0x7fe9666c5490>"
      ]
     },
     "execution_count": 8,
     "metadata": {},
     "output_type": "execute_result"
    }
   ],
   "source": [
    "# --- open lidar top height\n",
    "\n",
    "RH100 = rrat(path + 'RH100_Mondah_S_2015_11_11_cut.rat')\n",
    "\n",
    "plt.figure( figsize = (10,5) )\n",
    "plt.imshow(RH100, vmin = 0, vmax = 60, aspect = 'auto', cmap = 'jet')\n",
    "plt.title('Lidr top height')\n",
    "plt.colorbar()\n"
   ]
  },
  {
   "cell_type": "code",
   "execution_count": 10,
   "metadata": {},
   "outputs": [
    {
     "data": {
      "application/vnd.jupyter.widget-view+json": {
       "model_id": "e7e776edaba04f13b2bf7e2a44f5c1c6",
       "version_major": 2,
       "version_minor": 0
      },
      "text/plain": [
       "Canvas(toolbar=Toolbar(toolitems=[('Home', 'Reset original view', 'home', 'home'), ('Back', 'Back to previous …"
      ]
     },
     "metadata": {},
     "output_type": "display_data"
    },
    {
     "data": {
      "text/plain": [
       "Text(0.5, 1.0, 'Height estimates')"
      ]
     },
     "execution_count": 10,
     "metadata": {},
     "output_type": "execute_result"
    }
   ],
   "source": [
    "# 2-D validation histogram\n",
    "\n",
    "hist2d_hv2 = np.histogram2d(RH100[RH100 > -9999], hv_2[RH100 > -9999], bins = 120, \\\n",
    "                                  range = [[0, 60], [0, 60]])\n",
    "\n",
    "plt.figure( figsize = (8,8))\n",
    "plt.imshow(np.flipud(np.transpose(hist2d_hv2[0])), aspect = 1, \\\n",
    "          extent = [0, 60, 0, 60], cmap = 'jet')\n",
    "plt.plot((0, 60), (0, 60), lw = 2, color = 'w', linestyle = '--')\n",
    "plt.xlabel('Lidar height (m)')\n",
    "plt.ylabel('TDX - v2 (m)')\n",
    "plt.grid(True, linestyle = '--', color = 'w')\n",
    "plt.title('Height estimates')"
   ]
  },
  {
   "cell_type": "code",
   "execution_count": null,
   "metadata": {},
   "outputs": [],
   "source": []
  },
  {
   "cell_type": "code",
   "execution_count": null,
   "metadata": {},
   "outputs": [],
   "source": []
  }
 ],
 "metadata": {
  "kernelspec": {
   "display_name": "Python 3",
   "language": "python",
   "name": "python3"
  },
  "language_info": {
   "codemirror_mode": {
    "name": "ipython",
    "version": 3
   },
   "file_extension": ".py",
   "mimetype": "text/x-python",
   "name": "python",
   "nbconvert_exporter": "python",
   "pygments_lexer": "ipython3",
   "version": "3.8.6"
  }
 },
 "nbformat": 4,
 "nbformat_minor": 4
}
