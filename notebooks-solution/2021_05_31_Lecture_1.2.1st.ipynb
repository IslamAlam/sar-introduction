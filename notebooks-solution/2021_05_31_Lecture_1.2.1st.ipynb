{
 "cells": [
  {
   "cell_type": "markdown",
   "metadata": {},
   "source": [
    "# Lecture 1 - 31.05.2021 \n",
    "\n",
    "# Exercise: Range compression"
   ]
  },
  {
   "cell_type": "code",
   "execution_count": 18,
   "metadata": {},
   "outputs": [],
   "source": [
    "# --- To get started, we set the ipympl backend, which makes matplotlib plots interactive.\n",
    "# --- We do this using a magic command, starting with %.\n",
    "%matplotlib widget\n",
    "\n",
    "# --- import libraries\n",
    "\n",
    "import sys\n",
    "sys.path.append('/projects/src/')\n",
    "\n",
    "\n",
    "import numpy as np\n",
    "import matplotlib.pyplot as plt\n",
    "from numpy.fft import fft, fftfreq, fftshift, ifft\n",
    "\n",
    "# --- import rat class\n",
    "from ste_io import *\n"
   ]
  },
  {
   "cell_type": "markdown",
   "metadata": {},
   "source": [
    "## Exercise 1\n",
    "\n",
    "The typical P-band chirp transmitted by the F-SAR system during the AfriSAR campaign is characterized by the following parameters:\n",
    "\n",
    "- Chirp duration: 1.0016000e-05 s,\n",
    "- Chirp bandwidth: 50 MHz.\n",
    "\n",
    "Further, let's assume a range spacing (= range sampling) equal to 1.1988876 m and 3772 range pixels (= samples). \n",
    "\n",
    "1. Which is the expected resolution?\n",
    "2. Generate the chirp signal and calculate its spectrum;\n",
    "3. Plot signal and spectrum.\n",
    "\n",
    "Tips:\n",
    "1. One can work equivalently in the time or the range domain (and the related frequency domains). Just remember that \n",
    "$$range = \\frac{c \\cdot time}{2}$$\n",
    "where c is the speed of light: c=2.9972190e+08 m/s.\n"
   ]
  },
  {
   "cell_type": "markdown",
   "metadata": {},
   "source": [
    "### Solution"
   ]
  },
  {
   "cell_type": "code",
   "execution_count": 19,
   "metadata": {},
   "outputs": [],
   "source": [
    "# --- create useful functions\n",
    "\n",
    "def rect(t, T0):\n",
    "    # Implements y = rect(t/T0) = 1 if abs(t/T0) <= 0.5, 0 otherwise \n",
    "    # All input / outputs are Numpy arrays\n",
    "    \n",
    "    N = t.shape[0]\n",
    "    y = np.zeros(N, 'float32') \n",
    "    y[np.abs(t/T0) <= 0.5] = 1\n",
    "    \n",
    "    return y\n",
    "\n",
    "# --- Input parameters\n",
    "\n",
    "# number of samples \n",
    "Ns = 3772\n",
    "# chirp duration, s\n",
    "Tc = 1.0016000e-05\n",
    "# chirp bandwidth, Hz\n",
    "BW = 50.0e6\n",
    "# range sampling, m\n",
    "rs = 1.1988876\n",
    "# speed of light\n",
    "c0 = 2.9972190e+08"
   ]
  },
  {
   "cell_type": "code",
   "execution_count": 31,
   "metadata": {},
   "outputs": [
    {
     "name": "stdout",
     "output_type": "stream",
     "text": [
      "The range resolution is 2.997219 m.\n",
      "-1.5084e-05\n",
      "1.5084e-05\n"
     ]
    },
    {
     "data": {
      "application/vnd.jupyter.widget-view+json": {
       "model_id": "7e968c22359749078b9ef4cc338a2d6b",
       "version_major": 2,
       "version_minor": 0
      },
      "text/plain": [
       "Canvas(toolbar=Toolbar(toolitems=[('Home', 'Reset original view', 'home', 'home'), ('Back', 'Back to previous …"
      ]
     },
     "metadata": {},
     "output_type": "display_data"
    },
    {
     "name": "stdout",
     "output_type": "stream",
     "text": [
      "-62.50000000000001\n",
      "62.50000000000001\n"
     ]
    },
    {
     "data": {
      "application/vnd.jupyter.widget-view+json": {
       "model_id": "0b91cdc287144a84ad19ac87583b1e6f",
       "version_major": 2,
       "version_minor": 0
      },
      "text/plain": [
       "Canvas(toolbar=Toolbar(toolitems=[('Home', 'Reset original view', 'home', 'home'), ('Back', 'Back to previous …"
      ]
     },
     "metadata": {},
     "output_type": "display_data"
    },
    {
     "data": {
      "text/plain": [
       "[<matplotlib.lines.Line2D at 0x7f6bbde97220>]"
      ]
     },
     "execution_count": 31,
     "metadata": {},
     "output_type": "execute_result"
    }
   ],
   "source": [
    "# --- Derived parameters (calculate following parameters)\n",
    "\n",
    "# range resolution\n",
    "rres = c0 / 2 / BW\n",
    "# chirp rate\n",
    "k = BW / Tc\n",
    "# signal duration\n",
    "Td = (Ns - 1)*rs*2/c0\n",
    "# sampling in time\n",
    "Ts = rs *2/c0\n",
    "\n",
    "# max duration for zoom plotting, s\n",
    "Tzoom = 2e-5\n",
    "\n",
    "# Print answer to Question 1...\n",
    "print('The range resolution is ' + str(rres) + ' m.')\n",
    "\n",
    "# time axis\n",
    "time = np.linspace(-Td/2, Td/2, Ns)\n",
    "print(time[0])\n",
    "print(time[Ns-1])\n",
    "\n",
    "# chirp generation\n",
    "chirp = np.exp(1j*np.pi*k*(time)**2) * rect(time, Tc)\n",
    "\n",
    "plt.figure()\n",
    "plt.plot(time, np.real(chirp), lw = 3)\n",
    "\n",
    "# spectrum\n",
    "frequency = np.linspace(-1/Ts/2, 1/Ts/2, Ns)/1e6\n",
    "print(frequency[0]) \n",
    "print(frequency[Ns-1]) \n",
    "chirp_spectrum = fftshift(fft(chirp))\n",
    "\n",
    "plt.figure()\n",
    "plt.plot(frequency, np.abs(chirp_spectrum))"
   ]
  },
  {
   "cell_type": "markdown",
   "metadata": {},
   "source": [
    "## Exercise 2"
   ]
  },
  {
   "cell_type": "markdown",
   "metadata": {},
   "source": [
    "The files *./data/01-sar/signal1_rc.npy* and *./data/01-sar/signal2_rc.npy* contain the received signals along two range lines originated by the same range chirp and sampled with the same parameters as in Exercise 1.\n",
    "\n",
    "1. Open the files (use np.load);\n",
    "2. Plot the real part of the signals;\n",
    "3. Focus in range by using a matched filter;\n",
    "4. ... how many scatterers do you see? and at which range?"
   ]
  },
  {
   "cell_type": "markdown",
   "metadata": {},
   "source": [
    "### Solution"
   ]
  },
  {
   "cell_type": "code",
   "execution_count": 41,
   "metadata": {},
   "outputs": [
    {
     "data": {
      "application/vnd.jupyter.widget-view+json": {
       "model_id": "709be168fdcd4025b41205f0560f84f9",
       "version_major": 2,
       "version_minor": 0
      },
      "text/plain": [
       "Canvas(toolbar=Toolbar(toolitems=[('Home', 'Reset original view', 'home', 'home'), ('Back', 'Back to previous …"
      ]
     },
     "metadata": {},
     "output_type": "display_data"
    },
    {
     "data": {
      "application/vnd.jupyter.widget-view+json": {
       "model_id": "1a8f600c103940a3b0c04c8231457945",
       "version_major": 2,
       "version_minor": 0
      },
      "text/plain": [
       "Canvas(toolbar=Toolbar(toolitems=[('Home', 'Reset original view', 'home', 'home'), ('Back', 'Back to previous …"
      ]
     },
     "metadata": {},
     "output_type": "display_data"
    },
    {
     "data": {
      "application/vnd.jupyter.widget-view+json": {
       "model_id": "86badd20f2e44e9c845a86e501cfa656",
       "version_major": 2,
       "version_minor": 0
      },
      "text/plain": [
       "Canvas(toolbar=Toolbar(toolitems=[('Home', 'Reset original view', 'home', 'home'), ('Back', 'Back to previous …"
      ]
     },
     "metadata": {},
     "output_type": "display_data"
    },
    {
     "data": {
      "application/vnd.jupyter.widget-view+json": {
       "model_id": "82509d39ec744c3bba1d7c9365d5a1b7",
       "version_major": 2,
       "version_minor": 0
      },
      "text/plain": [
       "Canvas(toolbar=Toolbar(toolitems=[('Home', 'Reset original view', 'home', 'home'), ('Back', 'Back to previous …"
      ]
     },
     "metadata": {},
     "output_type": "display_data"
    },
    {
     "data": {
      "application/vnd.jupyter.widget-view+json": {
       "model_id": "b104cbcbfded47f883c40fc4a95ac957",
       "version_major": 2,
       "version_minor": 0
      },
      "text/plain": [
       "Canvas(toolbar=Toolbar(toolitems=[('Home', 'Reset original view', 'home', 'home'), ('Back', 'Back to previous …"
      ]
     },
     "metadata": {},
     "output_type": "display_data"
    },
    {
     "data": {
      "text/plain": [
       "[<matplotlib.lines.Line2D at 0x7f6bbdfd77f0>]"
      ]
     },
     "execution_count": 41,
     "metadata": {},
     "output_type": "execute_result"
    }
   ],
   "source": [
    "\n",
    "# generate impulse response of matched filter\n",
    "matched_filter = np.conj(chirp[::-1])\n",
    "\n",
    "# open signal 1\n",
    "signal1 = np.load('./data/01-sar/signal1_rc.npy') \n",
    "\n",
    "# focus\n",
    "output1 = np.convolve(signal1, matched_filter, 'same')\n",
    "\n",
    "# plot\n",
    "plt.figure()\n",
    "plt.plot(time, np.real(signal1))\n",
    "plt.figure()\n",
    "plt.plot(time, np.real(output1))\n",
    "\n",
    "# open signal 2\n",
    "signal2 = np.load('./data/01-sar/signal2_rc.npy')\n",
    "\n",
    "# focus\n",
    "output2 = np.convolve(signal2, matched_filter, 'same')\n",
    "\n",
    "# plot\n",
    "plt.figure()\n",
    "plt.plot(time, np.real(signal2))\n",
    "plt.figure()\n",
    "plt.plot(time*c0/2, np.real(output2))\n",
    "\n",
    "# spectrum of filter response\n",
    "signal2_spectrum = fft(signal2)\n",
    "matched_filter_spectrum = fft(matched_filter)\n",
    "output2_spectrum = matched_filter_spectrum * signal2_spectrum\n",
    "output2_2 = fftshift(ifft(output2_spectrum))\n",
    "\n",
    "plt.figure()\n",
    "plt.plot(time,np.real(output2_2))\n",
    "\n",
    "\n",
    "\n",
    "\n",
    "\n"
   ]
  },
  {
   "cell_type": "markdown",
   "metadata": {},
   "source": [
    "## Exercise 3"
   ]
  },
  {
   "cell_type": "markdown",
   "metadata": {},
   "source": [
    "We are ready now to focus real F-SAR P-band data !\n",
    "\n",
    "1. Open the raw data image in the file *./data/01-sar/raw-img.rat*, and visualize it (only the amplitude).\n",
    "2. Compress it in range using the same chirp as in the Exercise 1. What do you see?\n",
    "\n",
    "Tips:\n",
    "Use the provided rat class to open the data / or use open_rasterio from xarray simliar to notebook: *00-read-rat-file.ipynb*."
   ]
  },
  {
   "cell_type": "markdown",
   "metadata": {},
   "source": [
    "### Solution"
   ]
  },
  {
   "cell_type": "code",
   "execution_count": 46,
   "metadata": {},
   "outputs": [
    {
     "name": "stdout",
     "output_type": "stream",
     "text": [
      "(9984, 3772)\n"
     ]
    },
    {
     "data": {
      "text/plain": [
       "dtype('complex64')"
      ]
     },
     "execution_count": 46,
     "metadata": {},
     "output_type": "execute_result"
    }
   ],
   "source": [
    "im = rrat('./data/01-sar/raw-img.rat')\n",
    "\n",
    "print(im.shape)\n",
    "im.dtype"
   ]
  },
  {
   "cell_type": "code",
   "execution_count": 47,
   "metadata": {},
   "outputs": [
    {
     "data": {
      "application/vnd.jupyter.widget-view+json": {
       "model_id": "4b7c8ba4eada4d15af27567307c6aae5",
       "version_major": 2,
       "version_minor": 0
      },
      "text/plain": [
       "Canvas(toolbar=Toolbar(toolitems=[('Home', 'Reset original view', 'home', 'home'), ('Back', 'Back to previous …"
      ]
     },
     "metadata": {},
     "output_type": "display_data"
    },
    {
     "data": {
      "text/plain": [
       "<matplotlib.image.AxesImage at 0x7f6bbd138610>"
      ]
     },
     "execution_count": 47,
     "metadata": {},
     "output_type": "execute_result"
    }
   ],
   "source": [
    "plt.figure()\n",
    "plt.imshow(np.abs(im), vmin = 0, vmax = np.mean(abs(im)), cmap = 'gray')"
   ]
  },
  {
   "cell_type": "code",
   "execution_count": null,
   "metadata": {},
   "outputs": [],
   "source": []
  },
  {
   "cell_type": "code",
   "execution_count": null,
   "metadata": {},
   "outputs": [],
   "source": []
  },
  {
   "cell_type": "code",
   "execution_count": null,
   "metadata": {},
   "outputs": [],
   "source": []
  }
 ],
 "metadata": {
  "kernelspec": {
   "display_name": "Python 3",
   "language": "python",
   "name": "python3"
  },
  "language_info": {
   "codemirror_mode": {
    "name": "ipython",
    "version": 3
   },
   "file_extension": ".py",
   "mimetype": "text/x-python",
   "name": "python",
   "nbconvert_exporter": "python",
   "pygments_lexer": "ipython3",
   "version": "3.8.6"
  }
 },
 "nbformat": 4,
 "nbformat_minor": 4
}
